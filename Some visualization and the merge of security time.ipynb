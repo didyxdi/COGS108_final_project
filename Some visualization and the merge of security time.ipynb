{
 "cells": [
  {
   "cell_type": "code",
   "execution_count": null,
   "metadata": {},
   "outputs": [],
   "source": []
  },
  {
   "cell_type": "code",
   "execution_count": 1,
   "metadata": {},
   "outputs": [],
   "source": [
    "import numpy as np\n",
    "import pandas as pd\n",
    "import matplotlib.pyplot as plt\n",
    "\n",
    "import seaborn as sns\n",
    "sns.set()\n",
    "sns.set_context('talk')\n",
    "\n",
    "import warnings\n",
    "warnings.filterwarnings('ignore')\n",
    "\n",
    "import patsy\n",
    "import statsmodels.api as sm\n",
    "import scipy.stats as stats\n",
    "from scipy.stats import ttest_ind, chisquare, normaltest"
   ]
  },
  {
   "cell_type": "code",
   "execution_count": 2,
   "metadata": {},
   "outputs": [],
   "source": [
    "df = pd.read_csv(\"merge_with_security_time\")"
   ]
  },
  {
   "cell_type": "code",
   "execution_count": 3,
   "metadata": {},
   "outputs": [
    {
     "data": {
      "text/html": [
       "<div>\n",
       "<style scoped>\n",
       "    .dataframe tbody tr th:only-of-type {\n",
       "        vertical-align: middle;\n",
       "    }\n",
       "\n",
       "    .dataframe tbody tr th {\n",
       "        vertical-align: top;\n",
       "    }\n",
       "\n",
       "    .dataframe thead th {\n",
       "        text-align: right;\n",
       "    }\n",
       "</style>\n",
       "<table border=\"1\" class=\"dataframe\">\n",
       "  <thead>\n",
       "    <tr style=\"text-align: right;\">\n",
       "      <th></th>\n",
       "      <th>Unnamed: 0</th>\n",
       "      <th>Code</th>\n",
       "      <th>city_name</th>\n",
       "      <th>code4</th>\n",
       "      <th>latitude</th>\n",
       "      <th>longitude</th>\n",
       "      <th>altitude_ft</th>\n",
       "      <th>city_id</th>\n",
       "      <th>fips</th>\n",
       "      <th>temp_avg</th>\n",
       "      <th>pcp_avg</th>\n",
       "      <th>strike_avg</th>\n",
       "      <th>damage_avg</th>\n",
       "      <th>city_population</th>\n",
       "      <th>enplanements</th>\n",
       "      <th>length_ft_sum</th>\n",
       "      <th>width_ft_avg</th>\n",
       "      <th>security_avg</th>\n",
       "    </tr>\n",
       "  </thead>\n",
       "  <tbody>\n",
       "    <tr>\n",
       "      <th>0</th>\n",
       "      <td>0</td>\n",
       "      <td>ABE</td>\n",
       "      <td>allentown</td>\n",
       "      <td>KABE</td>\n",
       "      <td>40.652100</td>\n",
       "      <td>-75.440804</td>\n",
       "      <td>393.0</td>\n",
       "      <td>10988</td>\n",
       "      <td>42077</td>\n",
       "      <td>51.902490</td>\n",
       "      <td>4.161037</td>\n",
       "      <td>5.250000</td>\n",
       "      <td>0.166667</td>\n",
       "      <td>682899.0</td>\n",
       "      <td>517148.0</td>\n",
       "      <td>13397.0</td>\n",
       "      <td>150.000000</td>\n",
       "      <td>2.450000</td>\n",
       "    </tr>\n",
       "    <tr>\n",
       "      <th>1</th>\n",
       "      <td>1</td>\n",
       "      <td>ABI</td>\n",
       "      <td>abilene</td>\n",
       "      <td>KABI</td>\n",
       "      <td>32.411301</td>\n",
       "      <td>-99.681900</td>\n",
       "      <td>1791.0</td>\n",
       "      <td>5333</td>\n",
       "      <td>48441</td>\n",
       "      <td>64.488797</td>\n",
       "      <td>2.131411</td>\n",
       "      <td>0.750000</td>\n",
       "      <td>0.083333</td>\n",
       "      <td>114964.0</td>\n",
       "      <td>123699.5</td>\n",
       "      <td>18078.0</td>\n",
       "      <td>133.333333</td>\n",
       "      <td>1.416667</td>\n",
       "    </tr>\n",
       "    <tr>\n",
       "      <th>2</th>\n",
       "      <td>2</td>\n",
       "      <td>ABQ</td>\n",
       "      <td>albuquerque</td>\n",
       "      <td>KABQ</td>\n",
       "      <td>35.040199</td>\n",
       "      <td>-106.609001</td>\n",
       "      <td>5355.0</td>\n",
       "      <td>3742</td>\n",
       "      <td>35001</td>\n",
       "      <td>54.316598</td>\n",
       "      <td>0.928465</td>\n",
       "      <td>6.833333</td>\n",
       "      <td>0.250000</td>\n",
       "      <td>758523.0</td>\n",
       "      <td>3735962.5</td>\n",
       "      <td>39793.0</td>\n",
       "      <td>150.000000</td>\n",
       "      <td>2.974359</td>\n",
       "    </tr>\n",
       "    <tr>\n",
       "      <th>3</th>\n",
       "      <td>3</td>\n",
       "      <td>ABY</td>\n",
       "      <td>albany</td>\n",
       "      <td>KABY</td>\n",
       "      <td>31.535500</td>\n",
       "      <td>-84.194504</td>\n",
       "      <td>197.0</td>\n",
       "      <td>17309</td>\n",
       "      <td>13095</td>\n",
       "      <td>66.578008</td>\n",
       "      <td>4.069336</td>\n",
       "      <td>0.416667</td>\n",
       "      <td>0.083333</td>\n",
       "      <td>90515.0</td>\n",
       "      <td>57631.0</td>\n",
       "      <td>11801.0</td>\n",
       "      <td>150.000000</td>\n",
       "      <td>1.583333</td>\n",
       "    </tr>\n",
       "    <tr>\n",
       "      <th>4</th>\n",
       "      <td>4</td>\n",
       "      <td>ACK</td>\n",
       "      <td>nantucket</td>\n",
       "      <td>KACK</td>\n",
       "      <td>41.253101</td>\n",
       "      <td>-70.060204</td>\n",
       "      <td>47.0</td>\n",
       "      <td>19193</td>\n",
       "      <td>25019</td>\n",
       "      <td>50.793361</td>\n",
       "      <td>3.703195</td>\n",
       "      <td>0.583333</td>\n",
       "      <td>0.083333</td>\n",
       "      <td>201.0</td>\n",
       "      <td>176314.0</td>\n",
       "      <td>12999.0</td>\n",
       "      <td>100.000000</td>\n",
       "      <td>1.500000</td>\n",
       "    </tr>\n",
       "    <tr>\n",
       "      <th>...</th>\n",
       "      <td>...</td>\n",
       "      <td>...</td>\n",
       "      <td>...</td>\n",
       "      <td>...</td>\n",
       "      <td>...</td>\n",
       "      <td>...</td>\n",
       "      <td>...</td>\n",
       "      <td>...</td>\n",
       "      <td>...</td>\n",
       "      <td>...</td>\n",
       "      <td>...</td>\n",
       "      <td>...</td>\n",
       "      <td>...</td>\n",
       "      <td>...</td>\n",
       "      <td>...</td>\n",
       "      <td>...</td>\n",
       "      <td>...</td>\n",
       "      <td>...</td>\n",
       "    </tr>\n",
       "    <tr>\n",
       "      <th>248</th>\n",
       "      <td>248</td>\n",
       "      <td>TYS</td>\n",
       "      <td>knoxville</td>\n",
       "      <td>KTYS</td>\n",
       "      <td>35.811001</td>\n",
       "      <td>-83.994003</td>\n",
       "      <td>981.0</td>\n",
       "      <td>8569</td>\n",
       "      <td>47093</td>\n",
       "      <td>58.838589</td>\n",
       "      <td>4.469751</td>\n",
       "      <td>3.416667</td>\n",
       "      <td>0.166667</td>\n",
       "      <td>585249.0</td>\n",
       "      <td>1498534.5</td>\n",
       "      <td>18005.0</td>\n",
       "      <td>150.000000</td>\n",
       "      <td>2.588235</td>\n",
       "    </tr>\n",
       "    <tr>\n",
       "      <th>249</th>\n",
       "      <td>249</td>\n",
       "      <td>VLD</td>\n",
       "      <td>valdosta</td>\n",
       "      <td>KVLD</td>\n",
       "      <td>30.782499</td>\n",
       "      <td>-83.276703</td>\n",
       "      <td>203.0</td>\n",
       "      <td>17227</td>\n",
       "      <td>13185</td>\n",
       "      <td>66.983817</td>\n",
       "      <td>4.138382</td>\n",
       "      <td>0.250000</td>\n",
       "      <td>0.166667</td>\n",
       "      <td>79294.0</td>\n",
       "      <td>66042.5</td>\n",
       "      <td>17236.0</td>\n",
       "      <td>108.333333</td>\n",
       "      <td>1.000000</td>\n",
       "    </tr>\n",
       "    <tr>\n",
       "      <th>250</th>\n",
       "      <td>250</td>\n",
       "      <td>VPS</td>\n",
       "      <td>valparaiso</td>\n",
       "      <td>KVPS</td>\n",
       "      <td>30.483200</td>\n",
       "      <td>-86.525398</td>\n",
       "      <td>87.0</td>\n",
       "      <td>2510</td>\n",
       "      <td>12091</td>\n",
       "      <td>67.168050</td>\n",
       "      <td>5.020456</td>\n",
       "      <td>0.000000</td>\n",
       "      <td>0.000000</td>\n",
       "      <td>4946.0</td>\n",
       "      <td>909512.5</td>\n",
       "      <td>22017.0</td>\n",
       "      <td>300.000000</td>\n",
       "      <td>3.033333</td>\n",
       "    </tr>\n",
       "    <tr>\n",
       "      <th>251</th>\n",
       "      <td>251</td>\n",
       "      <td>WYS</td>\n",
       "      <td>yellowstone</td>\n",
       "      <td>KWYS</td>\n",
       "      <td>44.688400</td>\n",
       "      <td>-111.117996</td>\n",
       "      <td>6649.0</td>\n",
       "      <td>26356</td>\n",
       "      <td>30031</td>\n",
       "      <td>40.186307</td>\n",
       "      <td>2.004440</td>\n",
       "      <td>0.000000</td>\n",
       "      <td>0.000000</td>\n",
       "      <td>1365.0</td>\n",
       "      <td>12886.0</td>\n",
       "      <td>8399.0</td>\n",
       "      <td>150.000000</td>\n",
       "      <td>3.428571</td>\n",
       "    </tr>\n",
       "    <tr>\n",
       "      <th>252</th>\n",
       "      <td>252</td>\n",
       "      <td>XNA</td>\n",
       "      <td>bentonville</td>\n",
       "      <td>KXNA</td>\n",
       "      <td>36.281898</td>\n",
       "      <td>-94.306801</td>\n",
       "      <td>1287.0</td>\n",
       "      <td>15451</td>\n",
       "      <td>5007</td>\n",
       "      <td>58.123651</td>\n",
       "      <td>3.907842</td>\n",
       "      <td>0.000000</td>\n",
       "      <td>0.000000</td>\n",
       "      <td>49298.0</td>\n",
       "      <td>1077820.5</td>\n",
       "      <td>8800.0</td>\n",
       "      <td>150.000000</td>\n",
       "      <td>1.555556</td>\n",
       "    </tr>\n",
       "  </tbody>\n",
       "</table>\n",
       "<p>253 rows × 18 columns</p>\n",
       "</div>"
      ],
      "text/plain": [
       "     Unnamed: 0 Code    city_name code4   latitude   longitude  altitude_ft  \\\n",
       "0             0  ABE    allentown  KABE  40.652100  -75.440804        393.0   \n",
       "1             1  ABI      abilene  KABI  32.411301  -99.681900       1791.0   \n",
       "2             2  ABQ  albuquerque  KABQ  35.040199 -106.609001       5355.0   \n",
       "3             3  ABY       albany  KABY  31.535500  -84.194504        197.0   \n",
       "4             4  ACK    nantucket  KACK  41.253101  -70.060204         47.0   \n",
       "..          ...  ...          ...   ...        ...         ...          ...   \n",
       "248         248  TYS    knoxville  KTYS  35.811001  -83.994003        981.0   \n",
       "249         249  VLD     valdosta  KVLD  30.782499  -83.276703        203.0   \n",
       "250         250  VPS   valparaiso  KVPS  30.483200  -86.525398         87.0   \n",
       "251         251  WYS  yellowstone  KWYS  44.688400 -111.117996       6649.0   \n",
       "252         252  XNA  bentonville  KXNA  36.281898  -94.306801       1287.0   \n",
       "\n",
       "     city_id   fips   temp_avg   pcp_avg  strike_avg  damage_avg  \\\n",
       "0      10988  42077  51.902490  4.161037    5.250000    0.166667   \n",
       "1       5333  48441  64.488797  2.131411    0.750000    0.083333   \n",
       "2       3742  35001  54.316598  0.928465    6.833333    0.250000   \n",
       "3      17309  13095  66.578008  4.069336    0.416667    0.083333   \n",
       "4      19193  25019  50.793361  3.703195    0.583333    0.083333   \n",
       "..       ...    ...        ...       ...         ...         ...   \n",
       "248     8569  47093  58.838589  4.469751    3.416667    0.166667   \n",
       "249    17227  13185  66.983817  4.138382    0.250000    0.166667   \n",
       "250     2510  12091  67.168050  5.020456    0.000000    0.000000   \n",
       "251    26356  30031  40.186307  2.004440    0.000000    0.000000   \n",
       "252    15451   5007  58.123651  3.907842    0.000000    0.000000   \n",
       "\n",
       "     city_population  enplanements  length_ft_sum  width_ft_avg  security_avg  \n",
       "0           682899.0      517148.0        13397.0    150.000000      2.450000  \n",
       "1           114964.0      123699.5        18078.0    133.333333      1.416667  \n",
       "2           758523.0     3735962.5        39793.0    150.000000      2.974359  \n",
       "3            90515.0       57631.0        11801.0    150.000000      1.583333  \n",
       "4              201.0      176314.0        12999.0    100.000000      1.500000  \n",
       "..               ...           ...            ...           ...           ...  \n",
       "248         585249.0     1498534.5        18005.0    150.000000      2.588235  \n",
       "249          79294.0       66042.5        17236.0    108.333333      1.000000  \n",
       "250           4946.0      909512.5        22017.0    300.000000      3.033333  \n",
       "251           1365.0       12886.0         8399.0    150.000000      3.428571  \n",
       "252          49298.0     1077820.5         8800.0    150.000000      1.555556  \n",
       "\n",
       "[253 rows x 18 columns]"
      ]
     },
     "execution_count": 3,
     "metadata": {},
     "output_type": "execute_result"
    }
   ],
   "source": [
    "df"
   ]
  },
  {
   "cell_type": "markdown",
   "metadata": {},
   "source": [
    "Now we want to know whether the distribution of each variable is reasonalbe or not.\n",
    "We want to use box plots to check the outliers and use histogram to check the distributions."
   ]
  },
  {
   "cell_type": "markdown",
   "metadata": {},
   "source": [
    "1. The column \"temp_avg\""
   ]
  },
  {
   "cell_type": "code",
   "execution_count": 4,
   "metadata": {},
   "outputs": [
    {
     "data": {
      "text/plain": [
       "count    253.000000\n",
       "mean      55.955817\n",
       "std        9.688768\n",
       "min       35.578008\n",
       "25%       48.169295\n",
       "50%       55.254772\n",
       "75%       64.004564\n",
       "max       76.737344\n",
       "Name: temp_avg, dtype: float64"
      ]
     },
     "execution_count": 4,
     "metadata": {},
     "output_type": "execute_result"
    }
   ],
   "source": [
    "df['temp_avg'].describe()"
   ]
  },
  {
   "cell_type": "code",
   "execution_count": 5,
   "metadata": {},
   "outputs": [
    {
     "data": {
      "image/png": "[encoded data removed]",
      "text/plain": [
       "<Figure size 432x288 with 1 Axes>"
      ]
     },
     "metadata": {
      "needs_background": "light"
     },
     "output_type": "display_data"
    }
   ],
   "source": [
    "df.boxplot(column = ['temp_avg'])\n",
    "f1 = plt.gcf()"
   ]
  },
  {
   "cell_type": "markdown",
   "metadata": {},
   "source": [
    "There is no outlier or extreme outlier in the dataset. The maximum temperature is about 76.73 and the minimum temperature is about 35.58. It statisfies our normal cognition about the distribution of temperature in U.S."
   ]
  },
  {
   "cell_type": "code",
   "execution_count": 6,
   "metadata": {},
   "outputs": [
    {
     "data": {
      "image/png": "[encoded data removed]",
      "text/plain": [
       "<Figure size 432x288 with 1 Axes>"
      ]
     },
     "metadata": {
      "needs_background": "light"
     },
     "output_type": "display_data"
    }
   ],
   "source": [
    "sns.distplot(df['temp_avg'],kde = False, bins = 25)\n",
    "f3 = plt.gcf()"
   ]
  },
  {
   "cell_type": "markdown",
   "metadata": {},
   "source": [
    "There distribution of temperature is not normal distribution. This makes sense because the cities in U.S are almost uniform distributed"
   ]
  },
  {
   "cell_type": "markdown",
   "metadata": {},
   "source": [
    "2. The column \"pcp_avg\", which is precipitation average"
   ]
  },
  {
   "cell_type": "code",
   "execution_count": 7,
   "metadata": {},
   "outputs": [
    {
     "data": {
      "text/plain": [
       "count    253.000000\n",
       "mean       3.113606\n",
       "std        1.305792\n",
       "min        0.235270\n",
       "25%        1.907344\n",
       "50%        3.303568\n",
       "75%        4.095851\n",
       "max        6.287635\n",
       "Name: pcp_avg, dtype: float64"
      ]
     },
     "execution_count": 7,
     "metadata": {},
     "output_type": "execute_result"
    }
   ],
   "source": [
    "df['pcp_avg'].describe()"
   ]
  },
  {
   "cell_type": "code",
   "execution_count": 8,
   "metadata": {},
   "outputs": [
    {
     "data": {
      "image/png": "[encoded data removed]",
      "text/plain": [
       "<Figure size 432x288 with 1 Axes>"
      ]
     },
     "metadata": {
      "needs_background": "light"
     },
     "output_type": "display_data"
    }
   ],
   "source": [
    "df.boxplot(column = ['pcp_avg'])\n",
    "f2 = plt.gcf()"
   ]
  },
  {
   "cell_type": "markdown",
   "metadata": {},
   "source": [
    "There is no outlier or extreme outlier in the dataset. The maximum temperature is about 6.29 and the minimum temperature is about 0.24. It statisfies our normal cognition about the distribution of precipitation in U.S. The cities on the coastline will have apparently high precipitation, and cities in the middle part of U.S will have very low precipitation."
   ]
  },
  {
   "cell_type": "code",
   "execution_count": 9,
   "metadata": {},
   "outputs": [
    {
     "data": {
      "image/png": "[encoded data removed]",
      "text/plain": [
       "<Figure size 432x288 with 1 Axes>"
      ]
     },
     "metadata": {
      "needs_background": "light"
     },
     "output_type": "display_data"
    }
   ],
   "source": [
    "sns.distplot(df['pcp_avg'],kde = False, bins = 25)\n",
    "f3 = plt.gcf()"
   ]
  },
  {
   "cell_type": "markdown",
   "metadata": {},
   "source": [
    "The distribution of average of precipitation is reasonable. According to geography, the cities in the southwest of U.S have the lowest precipitation because of mediterranean climate, and the cities in the northwest of U.S have the highest precipitation because of temperate marine climate. Then because of American Cordillera, the vapour cannot go to the middle part of U.S. The precipitation of middle and east of U.S will decrease progressively from east to west. According to the geographic analysis, we find out that the distribution is just like what we know. "
   ]
  },
  {
   "cell_type": "code",
   "execution_count": 10,
   "metadata": {},
   "outputs": [
    {
     "data": {
      "text/plain": [
       "count    142.000000\n",
       "mean       7.492958\n",
       "std       11.365994\n",
       "min        0.083333\n",
       "25%        0.666667\n",
       "50%        2.666667\n",
       "75%       10.395833\n",
       "max       66.916667\n",
       "Name: strike_avg, dtype: float64"
      ]
     },
     "execution_count": 10,
     "metadata": {},
     "output_type": "execute_result"
    }
   ],
   "source": [
    "df_strike_not0 = df[df['strike_avg'] != 0]\n",
    "df_strike_not0['strike_avg'].describe()"
   ]
  },
  {
   "cell_type": "code",
   "execution_count": 11,
   "metadata": {},
   "outputs": [
    {
     "data": {
      "image/png": "[encoded data removed]",
      "text/plain": [
       "<Figure size 360x360 with 1 Axes>"
      ]
     },
     "metadata": {
      "needs_background": "light"
     },
     "output_type": "display_data"
    }
   ],
   "source": [
    "df_strike_not0.boxplot(column = ['strike_avg'],figsize = (5,5))\n",
    "f4 = plt.gcf()"
   ]
  },
  {
   "cell_type": "markdown",
   "metadata": {},
   "source": [
    "5% of the data is outlier"
   ]
  },
  {
   "cell_type": "markdown",
   "metadata": {},
   "source": [
    "Calculating the pairwise correlations among city_population, enplanement, length of runway, avg width of runway and avg security waiting"
   ]
  },
  {
   "cell_type": "code",
   "execution_count": 26,
   "metadata": {},
   "outputs": [
    {
     "data": {
      "text/html": [
       "<div>\n",
       "<style scoped>\n",
       "    .dataframe tbody tr th:only-of-type {\n",
       "        vertical-align: middle;\n",
       "    }\n",
       "\n",
       "    .dataframe tbody tr th {\n",
       "        vertical-align: top;\n",
       "    }\n",
       "\n",
       "    .dataframe thead th {\n",
       "        text-align: right;\n",
       "    }\n",
       "</style>\n",
       "<table border=\"1\" class=\"dataframe\">\n",
       "  <thead>\n",
       "    <tr style=\"text-align: right;\">\n",
       "      <th></th>\n",
       "      <th>city_population</th>\n",
       "      <th>enplanements</th>\n",
       "      <th>length_ft_sum</th>\n",
       "      <th>width_ft_avg</th>\n",
       "      <th>security_avg</th>\n",
       "    </tr>\n",
       "  </thead>\n",
       "  <tbody>\n",
       "    <tr>\n",
       "      <th>city_population</th>\n",
       "      <td>1.000000</td>\n",
       "      <td>0.615097</td>\n",
       "      <td>0.418047</td>\n",
       "      <td>0.173813</td>\n",
       "      <td>0.311009</td>\n",
       "    </tr>\n",
       "    <tr>\n",
       "      <th>enplanements</th>\n",
       "      <td>0.615097</td>\n",
       "      <td>1.000000</td>\n",
       "      <td>0.756220</td>\n",
       "      <td>0.302122</td>\n",
       "      <td>0.429995</td>\n",
       "    </tr>\n",
       "    <tr>\n",
       "      <th>length_ft_sum</th>\n",
       "      <td>0.418047</td>\n",
       "      <td>0.756220</td>\n",
       "      <td>1.000000</td>\n",
       "      <td>0.258532</td>\n",
       "      <td>0.302839</td>\n",
       "    </tr>\n",
       "    <tr>\n",
       "      <th>width_ft_avg</th>\n",
       "      <td>0.173813</td>\n",
       "      <td>0.302122</td>\n",
       "      <td>0.258532</td>\n",
       "      <td>1.000000</td>\n",
       "      <td>0.248840</td>\n",
       "    </tr>\n",
       "    <tr>\n",
       "      <th>security_avg</th>\n",
       "      <td>0.311009</td>\n",
       "      <td>0.429995</td>\n",
       "      <td>0.302839</td>\n",
       "      <td>0.248840</td>\n",
       "      <td>1.000000</td>\n",
       "    </tr>\n",
       "  </tbody>\n",
       "</table>\n",
       "</div>"
      ],
      "text/plain": [
       "                 city_population  enplanements  length_ft_sum  width_ft_avg  \\\n",
       "city_population         1.000000      0.615097       0.418047      0.173813   \n",
       "enplanements            0.615097      1.000000       0.756220      0.302122   \n",
       "length_ft_sum           0.418047      0.756220       1.000000      0.258532   \n",
       "width_ft_avg            0.173813      0.302122       0.258532      1.000000   \n",
       "security_avg            0.311009      0.429995       0.302839      0.248840   \n",
       "\n",
       "                 security_avg  \n",
       "city_population      0.311009  \n",
       "enplanements         0.429995  \n",
       "length_ft_sum        0.302839  \n",
       "width_ft_avg         0.248840  \n",
       "security_avg         1.000000  "
      ]
     },
     "execution_count": 26,
     "metadata": {},
     "output_type": "execute_result"
    }
   ],
   "source": [
    "df[['city_population','enplanements','length_ft_sum','width_ft_avg','security_avg']].corr() "
   ]
  },
  {
   "cell_type": "markdown",
   "metadata": {},
   "source": [
    "enplanements is most correlated with city_population"
   ]
  },
  {
   "cell_type": "markdown",
   "metadata": {},
   "source": [
    "length_ft_sum is most correlated with enplanements"
   ]
  },
  {
   "cell_type": "markdown",
   "metadata": {},
   "source": [
    "enplanements is most correlated with with length_ft_sum"
   ]
  },
  {
   "cell_type": "markdown",
   "metadata": {},
   "source": [
    "enplanements is most correlated with width_ft_avg"
   ]
  },
  {
   "cell_type": "markdown",
   "metadata": {},
   "source": [
    "enplanements is most correlated with security_avg "
   ]
  },
  {
   "cell_type": "markdown",
   "metadata": {},
   "source": [
    "It seems that all of city population, length_ft_sum, width_ft_avg and security_avg are most relative with enplanement"
   ]
  },
  {
   "cell_type": "code",
   "execution_count": null,
   "metadata": {},
   "outputs": [],
   "source": []
  },
  {
   "cell_type": "code",
   "execution_count": null,
   "metadata": {},
   "outputs": [],
   "source": [
    "scatter_matrix = pd.plotting.scatter_matrix(df.loc[:,['city_population','enplanements','length_ft_sum','width_ft_avg','security_avg']],figsize = (16,16))\n",
    "f5 = plt.gcf()"
   ]
  },
  {
   "cell_type": "markdown",
   "metadata": {},
   "source": [
    "# enplanements"
   ]
  },
  {
   "cell_type": "code",
   "execution_count": 80,
   "metadata": {},
   "outputs": [
    {
     "data": {
      "image/png": "[encoded data removed]",
      "text/plain": [
       "<Figure size 432x288 with 1 Axes>"
      ]
     },
     "metadata": {
      "needs_background": "light"
     },
     "output_type": "display_data"
    }
   ],
   "source": [
    "df_enplanements_not0 = df[df['enplanements'] != 0]\n",
    "df_enplanements_not0.boxplot(column = ['enplanements'])\n",
    "f6 = plt.gcf()"
   ]
  },
  {
   "cell_type": "markdown",
   "metadata": {},
   "source": [
    "There are lots of outlier, so the data set is not appropriate. \n",
    "The distribution of enplanements data is extremely skewed to the left.\n",
    "We have a look at the data which is larger than the 75% of the dataset."
   ]
  },
  {
   "cell_type": "code",
   "execution_count": 16,
   "metadata": {},
   "outputs": [
    {
     "data": {
      "text/html": [
       "<div>\n",
       "<style scoped>\n",
       "    .dataframe tbody tr th:only-of-type {\n",
       "        vertical-align: middle;\n",
       "    }\n",
       "\n",
       "    .dataframe tbody tr th {\n",
       "        vertical-align: top;\n",
       "    }\n",
       "\n",
       "    .dataframe thead th {\n",
       "        text-align: right;\n",
       "    }\n",
       "</style>\n",
       "<table border=\"1\" class=\"dataframe\">\n",
       "  <thead>\n",
       "    <tr style=\"text-align: right;\">\n",
       "      <th></th>\n",
       "      <th>enplanements</th>\n",
       "    </tr>\n",
       "  </thead>\n",
       "  <tbody>\n",
       "    <tr>\n",
       "      <th>count</th>\n",
       "      <td>2.530000e+02</td>\n",
       "    </tr>\n",
       "    <tr>\n",
       "      <th>mean</th>\n",
       "      <td>4.930340e+06</td>\n",
       "    </tr>\n",
       "    <tr>\n",
       "      <th>std</th>\n",
       "      <td>1.119427e+07</td>\n",
       "    </tr>\n",
       "    <tr>\n",
       "      <th>min</th>\n",
       "      <td>9.460000e+03</td>\n",
       "    </tr>\n",
       "    <tr>\n",
       "      <th>25%</th>\n",
       "      <td>1.615725e+05</td>\n",
       "    </tr>\n",
       "    <tr>\n",
       "      <th>50%</th>\n",
       "      <td>5.456730e+05</td>\n",
       "    </tr>\n",
       "    <tr>\n",
       "      <th>75%</th>\n",
       "      <td>2.785062e+06</td>\n",
       "    </tr>\n",
       "    <tr>\n",
       "      <th>max</th>\n",
       "      <td>7.618486e+07</td>\n",
       "    </tr>\n",
       "  </tbody>\n",
       "</table>\n",
       "</div>"
      ],
      "text/plain": [
       "       enplanements\n",
       "count  2.530000e+02\n",
       "mean   4.930340e+06\n",
       "std    1.119427e+07\n",
       "min    9.460000e+03\n",
       "25%    1.615725e+05\n",
       "50%    5.456730e+05\n",
       "75%    2.785062e+06\n",
       "max    7.618486e+07"
      ]
     },
     "execution_count": 16,
     "metadata": {},
     "output_type": "execute_result"
    }
   ],
   "source": [
    "df_enplanements_not0 = df_enplanements_not0['enplanements'].to_frame()\n",
    "df_enplanements_not0.describe()"
   ]
  },
  {
   "cell_type": "code",
   "execution_count": 17,
   "metadata": {},
   "outputs": [
    {
     "data": {
      "text/html": [
       "<div>\n",
       "<style scoped>\n",
       "    .dataframe tbody tr th:only-of-type {\n",
       "        vertical-align: middle;\n",
       "    }\n",
       "\n",
       "    .dataframe tbody tr th {\n",
       "        vertical-align: top;\n",
       "    }\n",
       "\n",
       "    .dataframe thead th {\n",
       "        text-align: right;\n",
       "    }\n",
       "</style>\n",
       "<table border=\"1\" class=\"dataframe\">\n",
       "  <thead>\n",
       "    <tr style=\"text-align: right;\">\n",
       "      <th></th>\n",
       "      <th>enplanements</th>\n",
       "    </tr>\n",
       "  </thead>\n",
       "  <tbody>\n",
       "    <tr>\n",
       "      <th>count</th>\n",
       "      <td>6.400000e+01</td>\n",
       "    </tr>\n",
       "    <tr>\n",
       "      <th>mean</th>\n",
       "      <td>1.786442e+07</td>\n",
       "    </tr>\n",
       "    <tr>\n",
       "      <th>std</th>\n",
       "      <td>1.651052e+07</td>\n",
       "    </tr>\n",
       "    <tr>\n",
       "      <th>min</th>\n",
       "      <td>2.785062e+06</td>\n",
       "    </tr>\n",
       "    <tr>\n",
       "      <th>25%</th>\n",
       "      <td>5.549120e+06</td>\n",
       "    </tr>\n",
       "    <tr>\n",
       "      <th>50%</th>\n",
       "      <td>1.079093e+07</td>\n",
       "    </tr>\n",
       "    <tr>\n",
       "      <th>75%</th>\n",
       "      <td>2.788376e+07</td>\n",
       "    </tr>\n",
       "    <tr>\n",
       "      <th>max</th>\n",
       "      <td>7.618486e+07</td>\n",
       "    </tr>\n",
       "  </tbody>\n",
       "</table>\n",
       "</div>"
      ],
      "text/plain": [
       "       enplanements\n",
       "count  6.400000e+01\n",
       "mean   1.786442e+07\n",
       "std    1.651052e+07\n",
       "min    2.785062e+06\n",
       "25%    5.549120e+06\n",
       "50%    1.079093e+07\n",
       "75%    2.788376e+07\n",
       "max    7.618486e+07"
      ]
     },
     "execution_count": 17,
     "metadata": {},
     "output_type": "execute_result"
    }
   ],
   "source": [
    "df_enplanements_75 = df_enplanements_not0[df_enplanements_not0['enplanements'] > 2.785062e+06] # 2.785062e+06 is the value of the 75% of dataset\n",
    "df_enplanements_75.describe()"
   ]
  },
  {
   "cell_type": "code",
   "execution_count": 81,
   "metadata": {},
   "outputs": [
    {
     "data": {
      "image/png": "[encoded data removed]",
      "text/plain": [
       "<Figure size 360x360 with 1 Axes>"
      ]
     },
     "metadata": {
      "needs_background": "light"
     },
     "output_type": "display_data"
    }
   ],
   "source": [
    "df_enplanements_75.boxplot(column = ['enplanements'],figsize = [5,5])\n",
    "f7 = plt.gcf()"
   ]
  },
  {
   "cell_type": "code",
   "execution_count": 98,
   "metadata": {},
   "outputs": [
    {
     "data": {
      "image/png": "[encoded data removed]",
      "text/plain": [
       "<Figure size 432x288 with 1 Axes>"
      ]
     },
     "metadata": {
      "needs_background": "light"
     },
     "output_type": "display_data"
    }
   ],
   "source": [
    "sns.distplot(df['enplanements'],kde = False, bins = 25)\n",
    "f11 = plt.gcf()"
   ]
  },
  {
   "cell_type": "markdown",
   "metadata": {},
   "source": [
    "The distribution is extremely skewed to the left. It makes sense because the amount of super large scale airports is very small in U.S. Most of the airports are in middle and small scale."
   ]
  },
  {
   "cell_type": "markdown",
   "metadata": {},
   "source": [
    "# city population"
   ]
  },
  {
   "cell_type": "code",
   "execution_count": 19,
   "metadata": {},
   "outputs": [
    {
     "data": {
      "text/plain": [
       "count    2.530000e+02\n",
       "mean     7.011998e+05\n",
       "std      1.844147e+06\n",
       "min      1.320000e+02\n",
       "25%      5.061700e+04\n",
       "50%      1.607420e+05\n",
       "75%      4.678940e+05\n",
       "max      1.935492e+07\n",
       "Name: city_population, dtype: float64"
      ]
     },
     "execution_count": 19,
     "metadata": {},
     "output_type": "execute_result"
    }
   ],
   "source": [
    "df['city_population'].describe()"
   ]
  },
  {
   "cell_type": "code",
   "execution_count": 82,
   "metadata": {},
   "outputs": [
    {
     "data": {
      "image/png": "[encoded data removed]",
      "text/plain": [
       "<Figure size 432x288 with 1 Axes>"
      ]
     },
     "metadata": {
      "needs_background": "light"
     },
     "output_type": "display_data"
    }
   ],
   "source": [
    "df.boxplot(column = ['city_population'])\n",
    "f8 = plt.gcf()"
   ]
  },
  {
   "cell_type": "code",
   "execution_count": 101,
   "metadata": {},
   "outputs": [
    {
     "data": {
      "image/png": "[encoded data removed]",
      "text/plain": [
       "<Figure size 432x288 with 1 Axes>"
      ]
     },
     "metadata": {
      "needs_background": "light"
     },
     "output_type": "display_data"
    }
   ],
   "source": [
    "sns.distplot(df['city_population'],kde = False, bins = 25)\n",
    "f12 = plt.gcf()"
   ]
  },
  {
   "cell_type": "markdown",
   "metadata": {},
   "source": [
    "The distribution is extremely skewed to the left. It makes sense because the amount of super large scale cities like New York is very small in U.S. Most of the cities are in middle and small scale."
   ]
  },
  {
   "cell_type": "markdown",
   "metadata": {},
   "source": [
    "# Sum of length of runway in feet"
   ]
  },
  {
   "cell_type": "code",
   "execution_count": 21,
   "metadata": {},
   "outputs": [
    {
     "data": {
      "text/plain": [
       "count      253.000000\n",
       "mean     19481.430830\n",
       "std      11379.818371\n",
       "min       4801.000000\n",
       "25%      12400.000000\n",
       "50%      16353.000000\n",
       "75%      22392.000000\n",
       "max      80403.000000\n",
       "Name: length_ft_sum, dtype: float64"
      ]
     },
     "execution_count": 21,
     "metadata": {},
     "output_type": "execute_result"
    }
   ],
   "source": [
    "df['length_ft_sum'].describe()"
   ]
  },
  {
   "cell_type": "code",
   "execution_count": 83,
   "metadata": {},
   "outputs": [
    {
     "data": {
      "image/png": "[encoded data removed]",
      "text/plain": [
       "<Figure size 432x288 with 1 Axes>"
      ]
     },
     "metadata": {
      "needs_background": "light"
     },
     "output_type": "display_data"
    }
   ],
   "source": [
    "df.boxplot(column = ['length_ft_sum'])\n",
    "f9 = plt.gcf()"
   ]
  },
  {
   "cell_type": "markdown",
   "metadata": {},
   "source": [
    "# Average security waiting time"
   ]
  },
  {
   "cell_type": "code",
   "execution_count": 23,
   "metadata": {},
   "outputs": [
    {
     "data": {
      "text/plain": [
       "count    249.000000\n",
       "mean       5.751651\n",
       "std        6.289760\n",
       "min        1.000000\n",
       "25%        2.000000\n",
       "50%        3.333333\n",
       "75%        6.419355\n",
       "max       51.687500\n",
       "Name: security_avg, dtype: float64"
      ]
     },
     "execution_count": 23,
     "metadata": {},
     "output_type": "execute_result"
    }
   ],
   "source": [
    "df['security_avg'].describe()"
   ]
  },
  {
   "cell_type": "code",
   "execution_count": 84,
   "metadata": {},
   "outputs": [
    {
     "data": {
      "image/png": "[encoded data removed]",
      "text/plain": [
       "<Figure size 432x288 with 1 Axes>"
      ]
     },
     "metadata": {
      "needs_background": "light"
     },
     "output_type": "display_data"
    }
   ],
   "source": [
    "df.boxplot(column = ['security_avg'])\n",
    "f10 = plt.gcf()"
   ]
  },
  {
   "cell_type": "markdown",
   "metadata": {},
   "source": [
    "From the pairwise correlation form, we find that 'enplanements', 'city_population', 'length_feet_sum', 'width_feet_avg' and 'security_avg'\n",
    "have very closed correlation. Hence the number of cities always decreases with the increasing of the scale of city, \n",
    "it makes sense that the distribution of 'city_population' extremely skew to the left. And this is why \n",
    "the distribution of 'enplanements' and 'length_feet_sum' are quite similar with the distribution of 'city_population'."
   ]
  },
  {
   "cell_type": "markdown",
   "metadata": {},
   "source": [
    "# Analysis about the relationship between the independent varaibles and the flight delay dataset"
   ]
  },
  {
   "cell_type": "code",
   "execution_count": 29,
   "metadata": {},
   "outputs": [],
   "source": [
    "df_delay = pd.read_csv(\"delay_2018.csv\")"
   ]
  },
  {
   "cell_type": "code",
   "execution_count": 41,
   "metadata": {},
   "outputs": [],
   "source": [
    "df_delay = df_delay.rename(columns = {\"airport_code\":\"Code\"})"
   ]
  },
  {
   "cell_type": "code",
   "execution_count": 43,
   "metadata": {},
   "outputs": [],
   "source": [
    "df = df.merge(df_delay, how = \"left\")"
   ]
  },
  {
   "cell_type": "markdown",
   "metadata": {},
   "source": [
    "We choose to analysis the delay data by the average of departure delay and arrival delay."
   ]
  },
  {
   "cell_type": "code",
   "execution_count": 48,
   "metadata": {},
   "outputs": [],
   "source": [
    "df['average_delay'] = (df['average_departure_delay']+df['average_arrival_delay'])/2"
   ]
  },
  {
   "cell_type": "markdown",
   "metadata": {},
   "source": [
    "Then we analysis the relationship between each independent variable and the average delay time."
   ]
  },
  {
   "cell_type": "code",
   "execution_count": 70,
   "metadata": {},
   "outputs": [],
   "source": [
    "(outcome_1,predictors_1) = patsy.dmatrices('average_delay ~ latitude',df)\n",
    "mod_1 = sm.OLS(outcome_1,predictors_1)\n",
    "res_1 = mod_1.fit()"
   ]
  },
  {
   "cell_type": "code",
   "execution_count": 72,
   "metadata": {},
   "outputs": [
    {
     "name": "stdout",
     "output_type": "stream",
     "text": [
      "                            OLS Regression Results                            \n",
      "==============================================================================\n",
      "Dep. Variable:          average_delay   R-squared:                       0.011\n",
      "Model:                            OLS   Adj. R-squared:                  0.007\n",
      "Method:                 Least Squares   F-statistic:                     2.667\n",
      "Date:                Thu, 12 Mar 2020   Prob (F-statistic):              0.104\n",
      "Time:                        18:04:50   Log-Likelihood:                -676.36\n",
      "No. Observations:                 250   AIC:                             1357.\n",
      "Df Residuals:                     248   BIC:                             1364.\n",
      "Df Model:                           1                                         \n",
      "Covariance Type:            nonrobust                                         \n",
      "==============================================================================\n",
      "                 coef    std err          t      P>|t|      [0.025      0.975]\n",
      "------------------------------------------------------------------------------\n",
      "Intercept     10.0222      1.586      6.318      0.000       6.898      13.146\n",
      "latitude      -0.0677      0.041     -1.633      0.104      -0.149       0.014\n",
      "==============================================================================\n",
      "Omnibus:                       51.515   Durbin-Watson:                   2.152\n",
      "Prob(Omnibus):                  0.000   Jarque-Bera (JB):              250.549\n",
      "Skew:                           0.698   Prob(JB):                     3.93e-55\n",
      "Kurtosis:                       7.701   Cond. No.                         264.\n",
      "==============================================================================\n",
      "\n",
      "Warnings:\n",
      "[1] Standard Errors assume that the covariance matrix of the errors is correctly specified.\n"
     ]
    }
   ],
   "source": [
    "# Print out the summary results of the model fitting\n",
    "print(res_1.summary())"
   ]
  },
  {
   "cell_type": "markdown",
   "metadata": {},
   "source": [
    "The p-value of latitude over average delay is 0.104"
   ]
  },
  {
   "cell_type": "markdown",
   "metadata": {},
   "source": [
    "Conclusion: Latitude can significantly predict average_delay"
   ]
  },
  {
   "cell_type": "code",
   "execution_count": 73,
   "metadata": {},
   "outputs": [],
   "source": [
    "(outcome_2,predictors_2) = patsy.dmatrices('average_delay ~ longitude',df)\n",
    "mod_2 = sm.OLS(outcome_2,predictors_2)\n",
    "res_2 = mod_2.fit()"
   ]
  },
  {
   "cell_type": "code",
   "execution_count": 74,
   "metadata": {},
   "outputs": [
    {
     "name": "stdout",
     "output_type": "stream",
     "text": [
      "                            OLS Regression Results                            \n",
      "==============================================================================\n",
      "Dep. Variable:          average_delay   R-squared:                       0.132\n",
      "Model:                            OLS   Adj. R-squared:                  0.128\n",
      "Method:                 Least Squares   F-statistic:                     37.61\n",
      "Date:                Thu, 12 Mar 2020   Prob (F-statistic):           3.38e-09\n",
      "Time:                        18:04:53   Log-Likelihood:                -660.04\n",
      "No. Observations:                 250   AIC:                             1324.\n",
      "Df Residuals:                     248   BIC:                             1331.\n",
      "Df Model:                           1                                         \n",
      "Covariance Type:            nonrobust                                         \n",
      "==============================================================================\n",
      "                 coef    std err          t      P>|t|      [0.025      0.975]\n",
      "------------------------------------------------------------------------------\n",
      "Intercept     15.8646      1.387     11.435      0.000      13.132      18.597\n",
      "longitude      0.0895      0.015      6.133      0.000       0.061       0.118\n",
      "==============================================================================\n",
      "Omnibus:                       86.776   Durbin-Watson:                   2.142\n",
      "Prob(Omnibus):                  0.000   Jarque-Bera (JB):              573.431\n",
      "Skew:                           1.198   Prob(JB):                    3.03e-125\n",
      "Kurtosis:                      10.022   Cond. No.                         613.\n",
      "==============================================================================\n",
      "\n",
      "Warnings:\n",
      "[1] Standard Errors assume that the covariance matrix of the errors is correctly specified.\n"
     ]
    }
   ],
   "source": [
    "print(res_2.summary())"
   ]
  },
  {
   "cell_type": "markdown",
   "metadata": {},
   "source": [
    "The p-value of longitude over average delay is 0.000"
   ]
  },
  {
   "cell_type": "markdown",
   "metadata": {},
   "source": [
    "Conclusion: Longitude cannot significantly predict average_delay"
   ]
  },
  {
   "cell_type": "code",
   "execution_count": 76,
   "metadata": {},
   "outputs": [
    {
     "name": "stdout",
     "output_type": "stream",
     "text": [
      "                            OLS Regression Results                            \n",
      "==============================================================================\n",
      "Dep. Variable:          average_delay   R-squared:                       0.061\n",
      "Model:                            OLS   Adj. R-squared:                  0.057\n",
      "Method:                 Least Squares   F-statistic:                     16.05\n",
      "Date:                Thu, 12 Mar 2020   Prob (F-statistic):           8.16e-05\n",
      "Time:                        18:06:10   Log-Likelihood:                -669.85\n",
      "No. Observations:                 250   AIC:                             1344.\n",
      "Df Residuals:                     248   BIC:                             1351.\n",
      "Df Model:                           1                                         \n",
      "Covariance Type:            nonrobust                                         \n",
      "===============================================================================\n",
      "                  coef    std err          t      P>|t|      [0.025      0.975]\n",
      "-------------------------------------------------------------------------------\n",
      "Intercept       8.1140      0.277     29.265      0.000       7.568       8.660\n",
      "altitude_ft    -0.0005      0.000     -4.006      0.000      -0.001      -0.000\n",
      "==============================================================================\n",
      "Omnibus:                       59.352   Durbin-Watson:                   2.157\n",
      "Prob(Omnibus):                  0.000   Jarque-Bera (JB):              242.367\n",
      "Skew:                           0.898   Prob(JB):                     2.35e-53\n",
      "Kurtosis:                       7.477   Cond. No.                     2.73e+03\n",
      "==============================================================================\n",
      "\n",
      "Warnings:\n",
      "[1] Standard Errors assume that the covariance matrix of the errors is correctly specified.\n",
      "[2] The condition number is large, 2.73e+03. This might indicate that there are\n",
      "strong multicollinearity or other numerical problems.\n"
     ]
    }
   ],
   "source": [
    "(outcome_3,predictors_3) = patsy.dmatrices('average_delay ~ altitude_ft',df)\n",
    "mod_3 = sm.OLS(outcome_3,predictors_3)\n",
    "res_3 = mod_3.fit()\n",
    "print(res_3.summary())"
   ]
  },
  {
   "cell_type": "markdown",
   "metadata": {},
   "source": [
    "The p-value of Altitude over average delay is 0.000"
   ]
  },
  {
   "cell_type": "markdown",
   "metadata": {},
   "source": [
    "Conclusion: Altitude_ft cannot significantly predict average_delay"
   ]
  },
  {
   "cell_type": "code",
   "execution_count": 78,
   "metadata": {},
   "outputs": [
    {
     "name": "stdout",
     "output_type": "stream",
     "text": [
      "                            OLS Regression Results                            \n",
      "==============================================================================\n",
      "Dep. Variable:          average_delay   R-squared:                       0.007\n",
      "Model:                            OLS   Adj. R-squared:                  0.003\n",
      "Method:                 Least Squares   F-statistic:                     1.676\n",
      "Date:                Thu, 12 Mar 2020   Prob (F-statistic):              0.197\n",
      "Time:                        18:07:44   Log-Likelihood:                -676.85\n",
      "No. Observations:                 250   AIC:                             1358.\n",
      "Df Residuals:                     248   BIC:                             1365.\n",
      "Df Model:                           1                                         \n",
      "Covariance Type:            nonrobust                                         \n",
      "==============================================================================\n",
      "                 coef    std err          t      P>|t|      [0.025      0.975]\n",
      "------------------------------------------------------------------------------\n",
      "Intercept      5.7285      1.357      4.222      0.000       3.056       8.401\n",
      "temp_avg       0.0309      0.024      1.294      0.197      -0.016       0.078\n",
      "==============================================================================\n",
      "Omnibus:                       48.741   Durbin-Watson:                   2.158\n",
      "Prob(Omnibus):                  0.000   Jarque-Bera (JB):              233.015\n",
      "Skew:                           0.654   Prob(JB):                     2.52e-51\n",
      "Kurtosis:                       7.545   Cond. No.                         334.\n",
      "==============================================================================\n",
      "\n",
      "Warnings:\n",
      "[1] Standard Errors assume that the covariance matrix of the errors is correctly specified.\n"
     ]
    }
   ],
   "source": [
    "(outcome_4,predictors_4) = patsy.dmatrices('average_delay ~ temp_avg',df)\n",
    "mod_4 = sm.OLS(outcome_4,predictors_4)\n",
    "res_4 = mod_4.fit()\n",
    "print(res_4.summary())"
   ]
  },
  {
   "cell_type": "markdown",
   "metadata": {},
   "source": [
    "The p-value of average temperature over average delay is 0.197"
   ]
  },
  {
   "cell_type": "markdown",
   "metadata": {},
   "source": [
    "Conclusion: Average temperature cannot significantly predict average_delay"
   ]
  },
  {
   "cell_type": "code",
   "execution_count": 79,
   "metadata": {},
   "outputs": [
    {
     "name": "stdout",
     "output_type": "stream",
     "text": [
      "                            OLS Regression Results                            \n",
      "==============================================================================\n",
      "Dep. Variable:          average_delay   R-squared:                       0.120\n",
      "Model:                            OLS   Adj. R-squared:                  0.116\n",
      "Method:                 Least Squares   F-statistic:                     33.82\n",
      "Date:                Thu, 12 Mar 2020   Prob (F-statistic):           1.86e-08\n",
      "Time:                        18:08:36   Log-Likelihood:                -661.72\n",
      "No. Observations:                 250   AIC:                             1327.\n",
      "Df Residuals:                     248   BIC:                             1334.\n",
      "Df Model:                           1                                         \n",
      "Covariance Type:            nonrobust                                         \n",
      "==============================================================================\n",
      "                 coef    std err          t      P>|t|      [0.025      0.975]\n",
      "------------------------------------------------------------------------------\n",
      "Intercept      4.3852      0.571      7.675      0.000       3.260       5.511\n",
      "pcp_avg        0.9857      0.170      5.815      0.000       0.652       1.320\n",
      "==============================================================================\n",
      "Omnibus:                       45.868   Durbin-Watson:                   2.154\n",
      "Prob(Omnibus):                  0.000   Jarque-Bera (JB):              191.615\n",
      "Skew:                           0.651   Prob(JB):                     2.46e-42\n",
      "Kurtosis:                       7.086   Cond. No.                         9.56\n",
      "==============================================================================\n",
      "\n",
      "Warnings:\n",
      "[1] Standard Errors assume that the covariance matrix of the errors is correctly specified.\n"
     ]
    }
   ],
   "source": [
    "(outcome_5,predictors_5) = patsy.dmatrices('average_delay ~ pcp_avg',df)\n",
    "mod_5 = sm.OLS(outcome_5,predictors_5)\n",
    "res_5 = mod_5.fit()\n",
    "print(res_5.summary())"
   ]
  },
  {
   "cell_type": "markdown",
   "metadata": {},
   "source": [
    "The p-value of average precipitation over average delay is 0.000"
   ]
  },
  {
   "cell_type": "markdown",
   "metadata": {},
   "source": [
    "Conclusion: Average precipitation cannot significantly predict average_delay"
   ]
  },
  {
   "cell_type": "code",
   "execution_count": 86,
   "metadata": {},
   "outputs": [
    {
     "name": "stdout",
     "output_type": "stream",
     "text": [
      "                            OLS Regression Results                            \n",
      "==============================================================================\n",
      "Dep. Variable:          average_delay   R-squared:                       0.000\n",
      "Model:                            OLS   Adj. R-squared:                 -0.004\n",
      "Method:                 Least Squares   F-statistic:                  0.004535\n",
      "Date:                Thu, 12 Mar 2020   Prob (F-statistic):              0.946\n",
      "Time:                        20:31:09   Log-Likelihood:                -677.69\n",
      "No. Observations:                 250   AIC:                             1359.\n",
      "Df Residuals:                     248   BIC:                             1366.\n",
      "Df Model:                           1                                         \n",
      "Covariance Type:            nonrobust                                         \n",
      "==============================================================================\n",
      "                 coef    std err          t      P>|t|      [0.025      0.975]\n",
      "------------------------------------------------------------------------------\n",
      "Intercept      7.4522      0.254     29.328      0.000       6.952       7.953\n",
      "strike_avg     0.0017      0.025      0.067      0.946      -0.047       0.051\n",
      "==============================================================================\n",
      "Omnibus:                       42.379   Durbin-Watson:                   2.153\n",
      "Prob(Omnibus):                  0.000   Jarque-Bera (JB):              213.775\n",
      "Skew:                           0.513   Prob(JB):                     3.80e-47\n",
      "Kurtosis:                       7.412   Cond. No.                         11.3\n",
      "==============================================================================\n",
      "\n",
      "Warnings:\n",
      "[1] Standard Errors assume that the covariance matrix of the errors is correctly specified.\n"
     ]
    }
   ],
   "source": [
    "(outcome_6,predictors_6) = patsy.dmatrices('average_delay ~ strike_avg',df)\n",
    "mod_6 = sm.OLS(outcome_6,predictors_6)\n",
    "res_6 = mod_6.fit()\n",
    "print(res_6.summary())"
   ]
  },
  {
   "cell_type": "markdown",
   "metadata": {},
   "source": [
    "The p-value of average bird strike over average delay is 0.946"
   ]
  },
  {
   "cell_type": "markdown",
   "metadata": {},
   "source": [
    "Conclusion: Average bird strike can extremely significantly predict average_delay"
   ]
  },
  {
   "cell_type": "code",
   "execution_count": 88,
   "metadata": {},
   "outputs": [
    {
     "name": "stdout",
     "output_type": "stream",
     "text": [
      "                            OLS Regression Results                            \n",
      "==============================================================================\n",
      "Dep. Variable:          average_delay   R-squared:                       0.000\n",
      "Model:                            OLS   Adj. R-squared:                 -0.004\n",
      "Method:                 Least Squares   F-statistic:                  0.005720\n",
      "Date:                Thu, 12 Mar 2020   Prob (F-statistic):              0.940\n",
      "Time:                        20:59:22   Log-Likelihood:                -677.69\n",
      "No. Observations:                 250   AIC:                             1359.\n",
      "Df Residuals:                     248   BIC:                             1366.\n",
      "Df Model:                           1                                         \n",
      "Covariance Type:            nonrobust                                         \n",
      "==============================================================================\n",
      "                 coef    std err          t      P>|t|      [0.025      0.975]\n",
      "------------------------------------------------------------------------------\n",
      "Intercept      7.4665      0.250     29.885      0.000       6.974       7.959\n",
      "damage_avg    -0.0207      0.274     -0.076      0.940      -0.561       0.520\n",
      "==============================================================================\n",
      "Omnibus:                       42.098   Durbin-Watson:                   2.153\n",
      "Prob(Omnibus):                  0.000   Jarque-Bera (JB):              213.039\n",
      "Skew:                           0.506   Prob(JB):                     5.48e-47\n",
      "Kurtosis:                       7.408   Cond. No.                         1.51\n",
      "==============================================================================\n",
      "\n",
      "Warnings:\n",
      "[1] Standard Errors assume that the covariance matrix of the errors is correctly specified.\n"
     ]
    }
   ],
   "source": [
    "(outcome_7,predictors_7) = patsy.dmatrices('average_delay ~ damage_avg',df)\n",
    "mod_7 = sm.OLS(outcome_7,predictors_7)\n",
    "res_7 = mod_7.fit()\n",
    "print(res_7.summary())"
   ]
  },
  {
   "cell_type": "markdown",
   "metadata": {},
   "source": [
    "The p-value of average damage caused by bird strike over average delay is 0.940"
   ]
  },
  {
   "cell_type": "markdown",
   "metadata": {},
   "source": [
    "Conclusion: Average damage caused by bird strike can extremely significantly predict average_delay"
   ]
  },
  {
   "cell_type": "code",
   "execution_count": 89,
   "metadata": {},
   "outputs": [
    {
     "name": "stdout",
     "output_type": "stream",
     "text": [
      "                            OLS Regression Results                            \n",
      "==============================================================================\n",
      "Dep. Variable:          average_delay   R-squared:                       0.002\n",
      "Model:                            OLS   Adj. R-squared:                 -0.003\n",
      "Method:                 Least Squares   F-statistic:                    0.3766\n",
      "Date:                Thu, 12 Mar 2020   Prob (F-statistic):              0.540\n",
      "Time:                        21:03:59   Log-Likelihood:                -677.50\n",
      "No. Observations:                 250   AIC:                             1359.\n",
      "Df Residuals:                     248   BIC:                             1366.\n",
      "Df Model:                           1                                         \n",
      "Covariance Type:            nonrobust                                         \n",
      "===================================================================================\n",
      "                      coef    std err          t      P>|t|      [0.025      0.975]\n",
      "-----------------------------------------------------------------------------------\n",
      "Intercept           7.4049      0.247     29.940      0.000       6.918       7.892\n",
      "city_population   7.66e-08   1.25e-07      0.614      0.540   -1.69e-07    3.22e-07\n",
      "==============================================================================\n",
      "Omnibus:                       43.594   Durbin-Watson:                   2.153\n",
      "Prob(Omnibus):                  0.000   Jarque-Bera (JB):              219.475\n",
      "Skew:                           0.538   Prob(JB):                     2.20e-48\n",
      "Kurtosis:                       7.462   Cond. No.                     2.12e+06\n",
      "==============================================================================\n",
      "\n",
      "Warnings:\n",
      "[1] Standard Errors assume that the covariance matrix of the errors is correctly specified.\n",
      "[2] The condition number is large, 2.12e+06. This might indicate that there are\n",
      "strong multicollinearity or other numerical problems.\n"
     ]
    }
   ],
   "source": [
    "(outcome_8,predictors_8) = patsy.dmatrices('average_delay ~ city_population',df)\n",
    "mod_8 = sm.OLS(outcome_8,predictors_8)\n",
    "res_8 = mod_8.fit()\n",
    "print(res_8.summary())"
   ]
  },
  {
   "cell_type": "markdown",
   "metadata": {},
   "source": [
    "The p-value of city population over average delay is 0.540"
   ]
  },
  {
   "cell_type": "markdown",
   "metadata": {},
   "source": [
    "Conclusion: City population can significantly predict average_delay"
   ]
  },
  {
   "cell_type": "code",
   "execution_count": 91,
   "metadata": {},
   "outputs": [
    {
     "name": "stdout",
     "output_type": "stream",
     "text": [
      "                            OLS Regression Results                            \n",
      "==============================================================================\n",
      "Dep. Variable:          average_delay   R-squared:                       0.001\n",
      "Model:                            OLS   Adj. R-squared:                 -0.003\n",
      "Method:                 Least Squares   F-statistic:                    0.1577\n",
      "Date:                Thu, 12 Mar 2020   Prob (F-statistic):              0.692\n",
      "Time:                        21:08:35   Log-Likelihood:                -677.61\n",
      "No. Observations:                 250   AIC:                             1359.\n",
      "Df Residuals:                     248   BIC:                             1366.\n",
      "Df Model:                           1                                         \n",
      "Covariance Type:            nonrobust                                         \n",
      "================================================================================\n",
      "                   coef    std err          t      P>|t|      [0.025      0.975]\n",
      "--------------------------------------------------------------------------------\n",
      "Intercept        7.4185      0.253     29.343      0.000       6.921       7.916\n",
      "enplanements  8.172e-09   2.06e-08      0.397      0.692   -3.24e-08    4.87e-08\n",
      "==============================================================================\n",
      "Omnibus:                       43.028   Durbin-Watson:                   2.157\n",
      "Prob(Omnibus):                  0.000   Jarque-Bera (JB):              216.004\n",
      "Skew:                           0.528   Prob(JB):                     1.25e-47\n",
      "Kurtosis:                       7.430   Cond. No.                     1.34e+07\n",
      "==============================================================================\n",
      "\n",
      "Warnings:\n",
      "[1] Standard Errors assume that the covariance matrix of the errors is correctly specified.\n",
      "[2] The condition number is large, 1.34e+07. This might indicate that there are\n",
      "strong multicollinearity or other numerical problems.\n"
     ]
    }
   ],
   "source": [
    "(outcome_9,predictors_9) = patsy.dmatrices('average_delay ~ enplanements',df)\n",
    "mod_9 = sm.OLS(outcome_9,predictors_9)\n",
    "res_9 = mod_9.fit()\n",
    "print(res_9.summary())"
   ]
  },
  {
   "cell_type": "markdown",
   "metadata": {},
   "source": [
    "The p-value of enplanements over average delay is 0.692"
   ]
  },
  {
   "cell_type": "markdown",
   "metadata": {},
   "source": [
    "Conclusion: Enplanements can significantly predict average_delay"
   ]
  },
  {
   "cell_type": "code",
   "execution_count": 92,
   "metadata": {},
   "outputs": [
    {
     "name": "stdout",
     "output_type": "stream",
     "text": [
      "                            OLS Regression Results                            \n",
      "==============================================================================\n",
      "Dep. Variable:          average_delay   R-squared:                       0.003\n",
      "Model:                            OLS   Adj. R-squared:                 -0.001\n",
      "Method:                 Least Squares   F-statistic:                    0.6396\n",
      "Date:                Thu, 12 Mar 2020   Prob (F-statistic):              0.425\n",
      "Time:                        21:10:07   Log-Likelihood:                -677.37\n",
      "No. Observations:                 250   AIC:                             1359.\n",
      "Df Residuals:                     248   BIC:                             1366.\n",
      "Df Model:                           1                                         \n",
      "Covariance Type:            nonrobust                                         \n",
      "=================================================================================\n",
      "                    coef    std err          t      P>|t|      [0.025      0.975]\n",
      "---------------------------------------------------------------------------------\n",
      "Intercept         7.7767      0.459     16.938      0.000       6.872       8.681\n",
      "length_ft_sum -1.621e-05   2.03e-05     -0.800      0.425   -5.61e-05    2.37e-05\n",
      "==============================================================================\n",
      "Omnibus:                       39.763   Durbin-Watson:                   2.149\n",
      "Prob(Omnibus):                  0.000   Jarque-Bera (JB):              202.948\n",
      "Skew:                           0.455   Prob(JB):                     8.52e-45\n",
      "Kurtosis:                       7.319   Cond. No.                     4.51e+04\n",
      "==============================================================================\n",
      "\n",
      "Warnings:\n",
      "[1] Standard Errors assume that the covariance matrix of the errors is correctly specified.\n",
      "[2] The condition number is large, 4.51e+04. This might indicate that there are\n",
      "strong multicollinearity or other numerical problems.\n"
     ]
    }
   ],
   "source": [
    "(outcome_10,predictors_10) = patsy.dmatrices('average_delay ~ length_ft_sum',df)\n",
    "mod_10 = sm.OLS(outcome_10,predictors_10)\n",
    "res_10 = mod_10.fit()\n",
    "print(res_10.summary())"
   ]
  },
  {
   "cell_type": "markdown",
   "metadata": {},
   "source": [
    "The p-value of sum of length of runways over average delay is 0.425"
   ]
  },
  {
   "cell_type": "markdown",
   "metadata": {},
   "source": [
    "Conclusion: Sum of length of runways can significantly predict average_delay"
   ]
  },
  {
   "cell_type": "code",
   "execution_count": 93,
   "metadata": {},
   "outputs": [
    {
     "name": "stdout",
     "output_type": "stream",
     "text": [
      "                            OLS Regression Results                            \n",
      "==============================================================================\n",
      "Dep. Variable:          average_delay   R-squared:                       0.002\n",
      "Model:                            OLS   Adj. R-squared:                 -0.002\n",
      "Method:                 Least Squares   F-statistic:                    0.5187\n",
      "Date:                Thu, 12 Mar 2020   Prob (F-statistic):              0.472\n",
      "Time:                        21:11:31   Log-Likelihood:                -677.43\n",
      "No. Observations:                 250   AIC:                             1359.\n",
      "Df Residuals:                     248   BIC:                             1366.\n",
      "Df Model:                           1                                         \n",
      "Covariance Type:            nonrobust                                         \n",
      "================================================================================\n",
      "                   coef    std err          t      P>|t|      [0.025      0.975]\n",
      "--------------------------------------------------------------------------------\n",
      "Intercept        6.8237      0.912      7.480      0.000       5.027       8.620\n",
      "width_ft_avg     0.0044      0.006      0.720      0.472      -0.008       0.017\n",
      "==============================================================================\n",
      "Omnibus:                       43.477   Durbin-Watson:                   2.150\n",
      "Prob(Omnibus):                  0.000   Jarque-Bera (JB):              211.928\n",
      "Skew:                           0.548   Prob(JB):                     9.56e-47\n",
      "Kurtosis:                       7.375   Cond. No.                         587.\n",
      "==============================================================================\n",
      "\n",
      "Warnings:\n",
      "[1] Standard Errors assume that the covariance matrix of the errors is correctly specified.\n"
     ]
    }
   ],
   "source": [
    "(outcome_11,predictors_11) = patsy.dmatrices('average_delay ~ width_ft_avg',df)\n",
    "mod_11 = sm.OLS(outcome_11,predictors_11)\n",
    "res_11 = mod_11.fit()\n",
    "print(res_11.summary())"
   ]
  },
  {
   "cell_type": "markdown",
   "metadata": {},
   "source": [
    "The p-value of average of width of runways over average delay is 0.472"
   ]
  },
  {
   "cell_type": "markdown",
   "metadata": {},
   "source": [
    "Conclusion: Average of width of runways can significantly predict average_delay"
   ]
  },
  {
   "cell_type": "code",
   "execution_count": 95,
   "metadata": {},
   "outputs": [
    {
     "name": "stdout",
     "output_type": "stream",
     "text": [
      "                            OLS Regression Results                            \n",
      "==============================================================================\n",
      "Dep. Variable:          average_delay   R-squared:                       0.000\n",
      "Model:                            OLS   Adj. R-squared:                 -0.004\n",
      "Method:                 Least Squares   F-statistic:                   0.03811\n",
      "Date:                Thu, 12 Mar 2020   Prob (F-statistic):              0.845\n",
      "Time:                        21:12:55   Log-Likelihood:                -660.71\n",
      "No. Observations:                 246   AIC:                             1325.\n",
      "Df Residuals:                     244   BIC:                             1332.\n",
      "Df Model:                           1                                         \n",
      "Covariance Type:            nonrobust                                         \n",
      "================================================================================\n",
      "                   coef    std err          t      P>|t|      [0.025      0.975]\n",
      "--------------------------------------------------------------------------------\n",
      "Intercept        7.4590      0.309     24.155      0.000       6.851       8.067\n",
      "security_avg     0.0070      0.036      0.195      0.845      -0.064       0.078\n",
      "==============================================================================\n",
      "Omnibus:                       49.152   Durbin-Watson:                   2.063\n",
      "Prob(Omnibus):                  0.000   Jarque-Bera (JB):              249.439\n",
      "Skew:                           0.651   Prob(JB):                     6.84e-55\n",
      "Kurtosis:                       7.758   Cond. No.                         11.7\n",
      "==============================================================================\n",
      "\n",
      "Warnings:\n",
      "[1] Standard Errors assume that the covariance matrix of the errors is correctly specified.\n"
     ]
    }
   ],
   "source": [
    "(outcome_12,predictors_12) = patsy.dmatrices('average_delay ~ security_avg',df)\n",
    "mod_12 = sm.OLS(outcome_12,predictors_12)\n",
    "res_12 = mod_12.fit()\n",
    "print(res_12.summary())"
   ]
  },
  {
   "cell_type": "markdown",
   "metadata": {},
   "source": [
    "The p-value of average of security waiting time over average delay is 0.845"
   ]
  },
  {
   "cell_type": "markdown",
   "metadata": {},
   "source": [
    "Conclusion: Average of security waiting time can significantly predict average_delay"
   ]
  },
  {
   "cell_type": "code",
   "execution_count": null,
   "metadata": {},
   "outputs": [],
   "source": []
  },
  {
   "cell_type": "code",
   "execution_count": null,
   "metadata": {},
   "outputs": [],
   "source": []
  },
  {
   "cell_type": "code",
   "execution_count": null,
   "metadata": {},
   "outputs": [],
   "source": []
  }
 ],
 "metadata": {
  "kernelspec": {
   "display_name": "Python 3",
   "language": "python",
   "name": "python3"
  },
  "language_info": {
   "codemirror_mode": {
    "name": "ipython",
    "version": 3
   },
   "file_extension": ".py",
   "mimetype": "text/x-python",
   "name": "python",
   "nbconvert_exporter": "python",
   "pygments_lexer": "ipython3",
   "version": "3.6.7"
  }
 },
 "nbformat": 4,
 "nbformat_minor": 2
}
