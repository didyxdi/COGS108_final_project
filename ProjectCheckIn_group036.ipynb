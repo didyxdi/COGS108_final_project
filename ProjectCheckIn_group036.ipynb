{
 "cells": [
  {
   "cell_type": "markdown",
   "metadata": {},
   "source": [
    "# COGS 108 Final Project Check-In"
   ]
  },
  {
   "cell_type": "markdown",
   "metadata": {},
   "source": [
    "# Names\n",
    "\n",
    "- Ivan Jin\n",
    "- Hongsheng Xie\n",
    "- Tong Wang\n",
    "- Yinxuan Du\n",
    "- Yuchen Zhang"
   ]
  },
  {
   "cell_type": "markdown",
   "metadata": {},
   "source": [
    "# Group Members IDs\n",
    "\n",
    "- A14880280\n",
    "- A14794772\n",
    "- A13713688\n",
    "- A15873678\n",
    "- A16151373"
   ]
  },
  {
   "cell_type": "markdown",
   "metadata": {},
   "source": [
    "# Accomplishments"
   ]
  },
  {
   "cell_type": "markdown",
   "metadata": {},
   "source": [
    "We encountered major issue when collecting datasets for our origional topic - what feature of cities are corrolated to tourism? We indeed found datasets for individual cities (LV, Hawaii),but we cannot find a apporate dataset on number of travlers that spans sufficient US cities. Therefore, we decided to change our topic. \n",
    "\n",
    "The new topic is \"Common factor of US airports that gives unpleasant flight experience.\" We will investigate the corrolation between undesired experience (flight crash, flight delay) and the features of airports(both origin and destination), including the city the airport is located. \n",
    "\n",
    "We have collected essential datasets enough for cleaning, EDA and analysis. We have detailed outline for Data Cleaning and Data Visualization parts. We have verified entries of our collected dataset is sufficient."
   ]
  },
  {
   "cell_type": "markdown",
   "metadata": {},
   "source": [
    "# Going Well"
   ]
  },
  {
   "cell_type": "markdown",
   "metadata": {},
   "source": [
    "We have found all datasets which can help explore the relationship among factors in the research question: \n",
    "1. dataset describing plane crash information(date, take off airport); 2002 - 2020\n",
    "2. dataset describing plane delay information(date, delay time, take off airport); 2009 - 2018\n",
    "3. dataset describing airport infomation (latitude, longitude, airport name); \n",
    "4. dataset describing US cities(latitude, longitude, GDP). GDP: 2015 - 2018\n",
    "\n",
    "We are doing Data Cleaning by excluding unrelated columns and combining useful information to make data better to access."
   ]
  },
  {
   "cell_type": "markdown",
   "metadata": {},
   "source": [
    "# Struggles"
   ]
  },
  {
   "cell_type": "markdown",
   "metadata": {},
   "source": [
    "We are trying to add more datasets that may influence unpleasent flight experience.\n",
    "\n",
    "We still need to collect the following datasets:\n",
    "1. dataset describing weather (temp, humidity, precipitation, fog) of US cities from 2009 - 2018\n",
    "2. dataset describing Living condition (GDP, population, income...) of US cities from 2009 - 2018\n",
    "\n",
    "We haven't found a way to combine plane crash and delay time to form a metric to describe unpleasant flight experience.\n",
    "\n",
    "Part of our teammates are inactive for data collecting. "
   ]
  },
  {
   "cell_type": "markdown",
   "metadata": {},
   "source": [
    "## Plan Forward"
   ]
  },
  {
   "cell_type": "markdown",
   "metadata": {},
   "source": [
    "1. Keep cleaning the data.\n",
    "2. Synthesis rows in the delay dataset (flights) for each city. Form a df with cities as indices and unpleasant experience such as crash_rate, cancel_rate, average_delay as columns.\n",
    "2. Achieve data visualization by making figures easy to understand.\n",
    "3. Do EDA and conclude relationships we find."
   ]
  }
 ],
 "metadata": {
  "kernelspec": {
   "display_name": "Python 3",
   "language": "python",
   "name": "python3"
  },
  "language_info": {
   "codemirror_mode": {
    "name": "ipython",
    "version": 3
   },
   "file_extension": ".py",
   "mimetype": "text/x-python",
   "name": "python",
   "nbconvert_exporter": "python",
   "pygments_lexer": "ipython3",
   "version": "3.7.1"
  }
 },
 "nbformat": 4,
 "nbformat_minor": 2
}
