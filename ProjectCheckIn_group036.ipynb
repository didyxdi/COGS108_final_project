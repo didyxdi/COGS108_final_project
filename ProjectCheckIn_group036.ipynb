{
 "cells": [
  {
   "cell_type": "markdown",
   "metadata": {},
   "source": [
    "# COGS 108 Final Project Check-In"
   ]
  },
  {
   "cell_type": "markdown",
   "metadata": {},
   "source": [
    "# Names\n",
    "\n",
    "- Ivan Jin\n",
    "- Hongsheng Xie\n",
    "- Tong Wang\n",
    "- Yinxuan Du\n",
    "- Yuchen Zhang"
   ]
  },
  {
   "cell_type": "markdown",
   "metadata": {},
   "source": [
    "# Group Members IDs\n",
    "\n",
    "- A14880280\n",
    "- A14794772\n",
    "- A13713688\n",
    "- A15873678\n",
    "- A16151373"
   ]
  },
  {
   "cell_type": "markdown",
   "metadata": {},
   "source": [
    "# Accomplishments"
   ]
  },
  {
   "cell_type": "markdown",
   "metadata": {},
   "source": [
    "We have changed our research question more targeted, pointing out what specific characteristics between flight safety and US cities we want to analyze with. We have collected appropriate datasets enough for research. We have detailed outline for Data Cleaning and Data Visualization parts. We have done EDA with some of our datasets."
   ]
  },
  {
   "cell_type": "markdown",
   "metadata": {},
   "source": [
    "# Going Well"
   ]
  },
  {
   "cell_type": "markdown",
   "metadata": {},
   "source": [
    "We have found all datasets which can help explore the relationship among factors in the research question: \n",
    "1. dataset describing plane crash information(date, take off airport); *what time period??*\n",
    "2. dataset describing plane delay information(date, delay time, take off airport); *what time period??*\n",
    "3. dataset describing airport infomation (latitude, longitude, airport name); \n",
    "4. dataset describing US cities(latitude, longitude, GDP, humidity).\n",
    "\n",
    "We have done Data Cleaning by excluding unrelated columns and combining useful information to make data better to access."
   ]
  },
  {
   "cell_type": "markdown",
   "metadata": {},
   "source": [
    "# Struggles"
   ]
  },
  {
   "cell_type": "markdown",
   "metadata": {},
   "source": [
    "We have not figured out what type of figures we use to better describe the relationship between delay time and city info. We haven't found references which exhibit how to balance weighing factors of plane crash and delay time to precisely express safety degree of each flight(city)."
   ]
  },
  {
   "cell_type": "markdown",
   "metadata": {},
   "source": [
    "# Plan Forward"
   ]
  },
  {
   "cell_type": "markdown",
   "metadata": {},
   "source": [
    "1. Keep cleaning the data. Make it as precise as possible.\n",
    "2. Achieve data visualization by making figures easy to understand.\n",
    "3. Do EDA and conclude relationships we find."
   ]
  }
 ],
 "metadata": {
  "kernelspec": {
   "display_name": "Python 3",
   "language": "python",
   "name": "python3"
  },
  "language_info": {
   "codemirror_mode": {
    "name": "ipython",
    "version": 3
   },
   "file_extension": ".py",
   "mimetype": "text/x-python",
   "name": "python",
   "nbconvert_exporter": "python",
   "pygments_lexer": "ipython3",
   "version": "3.7.4"
  }
 },
 "nbformat": 4,
 "nbformat_minor": 2
}
