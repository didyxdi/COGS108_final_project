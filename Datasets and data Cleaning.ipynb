{
 "cells": [
  {
   "cell_type": "markdown",
   "metadata": {},
   "source": [
    "# Dataset retrieving and cleaning"
   ]
  },
  {
   "cell_type": "markdown",
   "metadata": {},
   "source": [
    "## 1. Total number of tourists - TODO!"
   ]
  },
  {
   "cell_type": "markdown",
   "metadata": {},
   "source": [
    "## 2. Traffic expense"
   ]
  },
  {
   "cell_type": "code",
   "execution_count": 1,
   "metadata": {},
   "outputs": [],
   "source": [
    "# Dataset collection                                                       NAME                    RANGE             CORASE         FORMAT\n",
    "\n",
    "CLIMATE_URL = \"https://en.tutiempo.net/climate/united-states/1/\" \n",
    "AVERAGE_FLIGHT_FARE_URL = \"https://transtats.bts.gov/AIRFARES/\" # annual average flight fare  1995 - 2019           1/4  YEAR          CSV\n",
    "ROAD_CONGESTION_URL = \"https://www.bts.gov/content/annual-roadway-congestion-index\"#          1982 - 2011           1    YEAR          XLS  \n",
    "FLIGHT_INBOUND_URL = \"https://www.transtats.bts.gov/Data_Elements.aspx?Data=1\"#               2002 - 2019           1/12 YEAR          XLS\n",
    "FLIGHT_DELAY_URL = \"https://www.kaggle.com/yuanyuwendymu/airline-delay-and-cancellation-data-2009-2018#2011.csv\"\n",
    "AIR QUALITY_URL = \"https://www.kaggle.com/epa/epa-historical-air-quality\"\n",
    "CITY_TRANSPORT_URL = \"https://www.kaggle.com/citylines/city-lines\"\n",
    "CRIME_RATE_URL = \"https://www.ucrdatatool.gov/\" # need scraping, until 2014.\n",
    "US_CRIME_RATE = \"https://www.kaggle.com/christophercorrea/prisoners-and-crime-in-united-states\" # by state!"
   ]
  },
  {
   "cell_type": "markdown",
   "metadata": {},
   "source": [
    "## Living condition / Life quality"
   ]
  },
  {
   "cell_type": "code",
   "execution_count": 2,
   "metadata": {},
   "outputs": [],
   "source": [
    "# US Minimum Wage by State from 1968 to 2017 Equivalent Dollars\n",
    "INCOME_URL = \"https://www.kaggle.com/lislejoem/us-minimum-wage-by-state-from-1968-to-2017\"\n",
    "\n",
    "# Food Environment Atlas in US\n",
    "FOOD_ENVIORNMENT_URL = \"https://data.world/adamhelsinger/food-environment-atlas\"\n",
    "\n",
    "# locations and attributes of Hotels, created as part of the DC Geographic Information System\n",
    "HOTEL_DC_URL = \"https://data.world/codefordc/hotel-locations\""
   ]
  },
  {
   "cell_type": "code",
   "execution_count": null,
   "metadata": {},
   "outputs": [],
   "source": []
  }
 ],
 "metadata": {
  "kernelspec": {
   "display_name": "Python 3",
   "language": "python",
   "name": "python3"
  },
  "language_info": {
   "codemirror_mode": {
    "name": "ipython",
    "version": 3
   },
   "file_extension": ".py",
   "mimetype": "text/x-python",
   "name": "python",
   "nbconvert_exporter": "python",
   "pygments_lexer": "ipython3",
   "version": "3.7.1"
  }
 },
 "nbformat": 4,
 "nbformat_minor": 2
}
