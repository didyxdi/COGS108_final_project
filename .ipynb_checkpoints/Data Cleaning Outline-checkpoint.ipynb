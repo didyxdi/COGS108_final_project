{
 "cells": [
  {
   "cell_type": "markdown",
   "metadata": {},
   "source": [
    "# Research Question/ Background/ Hypothesis"
   ]
  },
  {
   "cell_type": "code",
   "execution_count": null,
   "metadata": {},
   "outputs": [],
   "source": []
  },
  {
   "cell_type": "markdown",
   "metadata": {},
   "source": [
    "# Data Descriptions"
   ]
  },
  {
   "cell_type": "code",
   "execution_count": null,
   "metadata": {},
   "outputs": [],
   "source": []
  },
  {
   "cell_type": "markdown",
   "metadata": {},
   "source": [
    "============================================================"
   ]
  },
  {
   "cell_type": "markdown",
   "metadata": {},
   "source": [
    "# Data Cleaning #"
   ]
  },
  {
   "cell_type": "markdown",
   "metadata": {},
   "source": [
    "### Outline ###\n",
    "    \n",
    "1. Import datasets\n",
    "\n",
    "2. Data cleaning + export cleaned datasets to `datasets/cleaned` (Note: index column name should always be \"airport_code\")\n",
    "\n",
    "    2.1 Clean `datasets/original/crash` (unfinished data1)\n",
    "    \n",
    "    2.2 Clean `datasets/original/delay/2009.csv`. Export `unpleasant_2009.csv` and `unpleasant_airport_code.csv`.\n",
    "    \n",
    "    2.3 Clean `datasets/original/airport/airport-extended.csv`. Generate `airport_loc_df` with column names city_name, latitude, longitude, altitude_ft. Export `airport_loc.csv`.\n",
    "    \n",
    "    2.4 Clean `datasets/original/city/uscities.csv`.\n",
    "    \n",
    "    2.5 Merge `unpleasant_airport_code` and `airport_loc_df` to get pre-`airport_prop_df`. Drop rows whose city_name isn't included in `us_cities_df`. Scrape pcp data with datasets in `datasets/original/weather`. Then we get `airport_prop_df`. Export `airport_prop.csv`.\n",
    "    \n",
    "    2.6 Clean `datasets/original/airports/Bird Strikes.xlsx`. Merge `bird_strike_avg_df` and `unpleasant_airport_code_df` to get `bird_strike_final_df`. Export it as `bird_strike.csv`.\n",
    "    \n",
    "    2.7 Generate population data with `airport_prop_df` and `datasets/original/city/uscities.csv`. Generate `city_population_df`. Export `city_population.csv'\n",
    "    \n",
    "    2.8 Clean `runways.csv`. Generate `runway_final_df`. Export it as `airport_runway.csv`.\n",
    "    \n",
    "    2.9 Clean `datasets/original/city/commercial_service_enplanements.xlsx`. Generate `enplanements_df`\n",
    "   \n",
    "   \n",
    "3. Merging. Get merged_X and merged_Y. (unfinished)\n",
    "\n",
    "    3.1 Get X.Export `merged_X.csv` (unfinished)\n",
    "    \n",
    "    3.2 Get Y.(unfinished)\n"
   ]
  },
  {
   "cell_type": "markdown",
   "metadata": {},
   "source": [
    "#### Note: ####\n",
    "- 2.1 ~ 2.5 are from `A Pleasant Flight.ipynb` (data visualization part has not been added)\n",
    "- 2.6 is from `Bird_Strike_Cleaning.ipynb`\n",
    "- 2.7 is from `Population_Clean.ipynb`\n",
    "- 2.8 is from `Runway_airport_processed_activation.ipynb`\n",
    "- 2.9 is from `merge_X.ipynb`\n"
   ]
  },
  {
   "cell_type": "markdown",
   "metadata": {},
   "source": [
    "### X column names(3.1):\n",
    "\n",
    "- city_name (airport_prop_df)\n",
    "- code4 (runway_final_df)\n",
    "- city_id (airport_prop_df)\n",
    "- latitude (airport_prop_df)\n",
    "- longitude (airport_prop_df)\n",
    "- altitude_ft (airport_prop_df)\n",
    "- temp_avg (airport_prop_df)\n",
    "- pcp_avg (airport_prop_df)\n",
    "- strike_avg (bird_strike_final_df)\n",
    "- damage_avg (bird_strike_final_df)\n",
    "- city_population (city_population_df)\n",
    "- enplanements (enplanements_df)\n",
    "- length_ft_sum (runway_final_df)\n",
    "- width_ft_avg (runway_final_df)\n",
    "- fips (????)"
   ]
  },
  {
   "cell_type": "markdown",
   "metadata": {},
   "source": [
    "# EDA & Data Visualization"
   ]
  },
  {
   "cell_type": "markdown",
   "metadata": {},
   "source": [
    "(to be continued)"
   ]
  }
 ],
 "metadata": {
  "kernelspec": {
   "display_name": "Python 3",
   "language": "python",
   "name": "python3"
  },
  "language_info": {
   "codemirror_mode": {
    "name": "ipython",
    "version": 3
   },
   "file_extension": ".py",
   "mimetype": "text/x-python",
   "name": "python",
   "nbconvert_exporter": "python",
   "pygments_lexer": "ipython3",
   "version": "3.7.4"
  }
 },
 "nbformat": 4,
 "nbformat_minor": 2
}
