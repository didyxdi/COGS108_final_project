{
 "cells": [
  {
   "cell_type": "markdown",
   "metadata": {},
   "source": [
    "# Title"
   ]
  },
  {
   "cell_type": "markdown",
   "metadata": {},
   "source": [
    "# Overview"
   ]
  },
  {
   "cell_type": "markdown",
   "metadata": {},
   "source": [
    "Overview here"
   ]
  },
  {
   "cell_type": "markdown",
   "metadata": {},
   "source": [
    "# Group Members"
   ]
  },
  {
   "cell_type": "markdown",
   "metadata": {},
   "source": [
    " - Ivan Jin (A14880280)\n",
    " - Hongsheng Xie (A14794772)\n",
    " - Tong Wang (A13713688)\n",
    " - Yinxuan Du (A15873678)\n",
    " - Yuchen Zhang (A16151373)"
   ]
  },
  {
   "cell_type": "markdown",
   "metadata": {},
   "source": [
    "# Research Question"
   ]
  },
  {
   "cell_type": "markdown",
   "metadata": {},
   "source": [
    "Research Question Here"
   ]
  },
  {
   "cell_type": "markdown",
   "metadata": {},
   "source": [
    "# Background & Prior Work"
   ]
  },
  {
   "cell_type": "markdown",
   "metadata": {},
   "source": [
    "BG + Prior work here"
   ]
  },
  {
   "cell_type": "markdown",
   "metadata": {},
   "source": [
    "# Hypothesis"
   ]
  },
  {
   "cell_type": "markdown",
   "metadata": {},
   "source": [
    "Hypothesis here"
   ]
  },
  {
   "cell_type": "markdown",
   "metadata": {},
   "source": [
    "# Datasets"
   ]
  },
  {
   "cell_type": "markdown",
   "metadata": {},
   "source": [
    "### 1. Airline Delay and Cancellation Data, 2009 - 2018\n",
    "- Content: US domestic flight delay data\n",
    "- Columns of interest: \n",
    "- \\# of observations: 6429338 rows for year 2009\n",
    "- Source: https://www.kaggle.com/yuanyuwendymu/airline-delay-and-cancellation-data-2009-2018\n",
    "- Function: main outcome variable\n",
    "\n",
    "### 2. FILL ME ACCORDING TO OUR DATASET!\n",
    "- Content:\n",
    "- Columns of interest: \n",
    "- \\# of observations: \n",
    "- Source: \n",
    "- Function:"
   ]
  },
  {
   "cell_type": "markdown",
   "metadata": {},
   "source": [
    "# Setup"
   ]
  },
  {
   "cell_type": "code",
   "execution_count": 1,
   "metadata": {},
   "outputs": [],
   "source": [
    "import pandas as pd\n",
    "import numpy as np\n",
    "from numpy import nan as Nan\n",
    "import matplotlib.pyplot as plt\n",
    "import requests\n",
    "from string import digits\n",
    "import wget \n",
    "import glob\n",
    "import time\n",
    "\n",
    "import plotly.graph_objects as go\n",
    "import pandas as pd\n",
    "import plotly.figure_factory as ff\n",
    "import xml.etree.ElementTree as ET # to read one dataset in XML format"
   ]
  },
  {
   "cell_type": "markdown",
   "metadata": {},
   "source": [
    "# Data Cleaning"
   ]
  },
  {
   "cell_type": "markdown",
   "metadata": {},
   "source": [
    "### Overview"
   ]
  },
  {
   "cell_type": "markdown",
   "metadata": {},
   "source": [
    "To answer our question, we need to clean and aggregate our main outcome variable (delay, crash) and our predictors by airports. The goal of data cleaning is to get two dataframes that have airport code as index:\n",
    " - 1.Y \n",
    "     - columns\n",
    "         - average_departure_delay - average delay of all flights originated from this airport \n",
    "         - average_arrival_delay - average delay of all flights arriving at this airport\n",
    "         - average_cancelled - average cancel rate of all flights originated from this airport\n",
    "         - average_diverted - average diverted rate of all flights arriving at this airport\n",
    " - 2.X \n",
    "     - columns\n",
    "         - code4 - 4 digit airport code\n",
    "         - city_name - name of the city that located near the airport\n",
    "         - city_id - index of this city in uscities_df\n",
    "         - latitude - latitude of the airport\n",
    "         - longitude - longitude of the airport\n",
    "         - altitude_ft - altitude of the airport\n",
    "         - temp_avg - 2018-2019 average tempreature of the county contining the airport\n",
    "         - pcp_avg - 2018-2019 average precipitation of the county contining the airport\n",
    "         - strike_avg - year-average number bird strike (may not caused damage)\n",
    "         - damage_avg - year-average number of bird strike that caused damage\n",
    "         - city_population - population the city that located near the airport\n",
    "         - enplanements - enplanements of the city that located near the airport\n",
    "         - length_ft_sum - sum of length of all runways\n",
    "         - width_ft_avg - average width of all runways\n",
    "         - num_runways - number of runways"
   ]
  },
  {
   "cell_type": "markdown",
   "metadata": {},
   "source": [
    "### Cleaning - Y "
   ]
  },
  {
   "cell_type": "markdown",
   "metadata": {},
   "source": [
    "#### 2.1 Delay dataset - departure/ arrival delay + cancel / divert rate \n",
    "From `A Pleasant Flight.ipynb` (now in the folder `previous_codes`)"
   ]
  },
  {
   "cell_type": "code",
   "execution_count": 2,
   "metadata": {},
   "outputs": [],
   "source": [
    "delay_2018_df = pd.read_csv(\"datasets/original/delay/2018.csv\")\n",
    "delay_2018_df = delay_2018_df[[\"ORIGIN\",\"DEST\",\"DEP_DELAY\",\"TAXI_OUT\",\"CANCELLED\",\"DISTANCE\",\"ARR_DELAY\",\"TAXI_IN\",\"DIVERTED\"]] # columns of interest"
   ]
  },
  {
   "cell_type": "code",
   "execution_count": 3,
   "metadata": {},
   "outputs": [
    {
     "data": {
      "text/html": [
       "<div>\n",
       "<style scoped>\n",
       "    .dataframe tbody tr th:only-of-type {\n",
       "        vertical-align: middle;\n",
       "    }\n",
       "\n",
       "    .dataframe tbody tr th {\n",
       "        vertical-align: top;\n",
       "    }\n",
       "\n",
       "    .dataframe thead th {\n",
       "        text-align: right;\n",
       "    }\n",
       "</style>\n",
       "<table border=\"1\" class=\"dataframe\">\n",
       "  <thead>\n",
       "    <tr style=\"text-align: right;\">\n",
       "      <th></th>\n",
       "      <th>ORIGIN</th>\n",
       "      <th>DEST</th>\n",
       "      <th>DEP_DELAY</th>\n",
       "      <th>TAXI_OUT</th>\n",
       "      <th>CANCELLED</th>\n",
       "      <th>DISTANCE</th>\n",
       "      <th>ARR_DELAY</th>\n",
       "      <th>TAXI_IN</th>\n",
       "      <th>DIVERTED</th>\n",
       "    </tr>\n",
       "  </thead>\n",
       "  <tbody>\n",
       "    <tr>\n",
       "      <td>0</td>\n",
       "      <td>EWR</td>\n",
       "      <td>DEN</td>\n",
       "      <td>-5.0</td>\n",
       "      <td>15.0</td>\n",
       "      <td>0.0</td>\n",
       "      <td>1605.0</td>\n",
       "      <td>-23.0</td>\n",
       "      <td>10.0</td>\n",
       "      <td>0.0</td>\n",
       "    </tr>\n",
       "    <tr>\n",
       "      <td>1</td>\n",
       "      <td>LAS</td>\n",
       "      <td>SFO</td>\n",
       "      <td>-8.0</td>\n",
       "      <td>11.0</td>\n",
       "      <td>0.0</td>\n",
       "      <td>414.0</td>\n",
       "      <td>-24.0</td>\n",
       "      <td>7.0</td>\n",
       "      <td>0.0</td>\n",
       "    </tr>\n",
       "    <tr>\n",
       "      <td>2</td>\n",
       "      <td>SNA</td>\n",
       "      <td>DEN</td>\n",
       "      <td>-5.0</td>\n",
       "      <td>15.0</td>\n",
       "      <td>0.0</td>\n",
       "      <td>846.0</td>\n",
       "      <td>-13.0</td>\n",
       "      <td>5.0</td>\n",
       "      <td>0.0</td>\n",
       "    </tr>\n",
       "    <tr>\n",
       "      <td>3</td>\n",
       "      <td>RSW</td>\n",
       "      <td>ORD</td>\n",
       "      <td>6.0</td>\n",
       "      <td>19.0</td>\n",
       "      <td>0.0</td>\n",
       "      <td>1120.0</td>\n",
       "      <td>-2.0</td>\n",
       "      <td>6.0</td>\n",
       "      <td>0.0</td>\n",
       "    </tr>\n",
       "    <tr>\n",
       "      <td>4</td>\n",
       "      <td>ORD</td>\n",
       "      <td>ALB</td>\n",
       "      <td>20.0</td>\n",
       "      <td>13.0</td>\n",
       "      <td>0.0</td>\n",
       "      <td>723.0</td>\n",
       "      <td>14.0</td>\n",
       "      <td>10.0</td>\n",
       "      <td>0.0</td>\n",
       "    </tr>\n",
       "  </tbody>\n",
       "</table>\n",
       "</div>"
      ],
      "text/plain": [
       "  ORIGIN DEST  DEP_DELAY  TAXI_OUT  CANCELLED  DISTANCE  ARR_DELAY  TAXI_IN  \\\n",
       "0    EWR  DEN       -5.0      15.0        0.0    1605.0      -23.0     10.0   \n",
       "1    LAS  SFO       -8.0      11.0        0.0     414.0      -24.0      7.0   \n",
       "2    SNA  DEN       -5.0      15.0        0.0     846.0      -13.0      5.0   \n",
       "3    RSW  ORD        6.0      19.0        0.0    1120.0       -2.0      6.0   \n",
       "4    ORD  ALB       20.0      13.0        0.0     723.0       14.0     10.0   \n",
       "\n",
       "   DIVERTED  \n",
       "0       0.0  \n",
       "1       0.0  \n",
       "2       0.0  \n",
       "3       0.0  \n",
       "4       0.0  "
      ]
     },
     "execution_count": 3,
     "metadata": {},
     "output_type": "execute_result"
    }
   ],
   "source": [
    "delay_2018_df.head()"
   ]
  },
  {
   "cell_type": "markdown",
   "metadata": {},
   "source": [
    "First,we check the distribution of missing values:"
   ]
  },
  {
   "cell_type": "code",
   "execution_count": 4,
   "metadata": {},
   "outputs": [
    {
     "data": {
      "text/plain": [
       "ORIGIN            0\n",
       "DEST              0\n",
       "DEP_DELAY    117234\n",
       "TAXI_OUT     115830\n",
       "CANCELLED         0\n",
       "DISTANCE          0\n",
       "ARR_DELAY    137040\n",
       "TAXI_IN      119246\n",
       "DIVERTED          0\n",
       "dtype: int64"
      ]
     },
     "execution_count": 4,
     "metadata": {},
     "output_type": "execute_result"
    }
   ],
   "source": [
    "delay_2018_df.isna().sum()"
   ]
  },
  {
   "cell_type": "markdown",
   "metadata": {},
   "source": [
    "There are missing values for delay columns. However, we discovered that 95% of the missing value have \"CANCALLED\" == 1. It is logical to have missing delay value when the flight is never done. For these flight have already contributed to the cancel rate feature, thus should not have a effect on the delay. Since we are using the .mean() function, which will ignore all nan values, we left these rows unchanged. Same for diverted, when there shouldn't be a arrival delay because the flight is not arriving at the scheduled airport. We kept them because we can have a more accurate total departure/arrival number. In this way we have only 4000 rows that we can't explain the reason behind missing value. Since we have 7213446 rows in total, 4000 is a acceptable amount of missing. We also kept it for accurate total departure/arrival number.\n",
    "We then calculated departure_delay, arrival_delay and other columns of interest. "
   ]
  },
  {
   "cell_type": "code",
   "execution_count": 5,
   "metadata": {},
   "outputs": [],
   "source": [
    "# DEPARTURE\n",
    "unpleasant_2018_departure = pd.DataFrame()\n",
    "unpleasant_2018_departure['total_departure'] = delay_2018_df.loc[:,[\"ORIGIN\"]].groupby('ORIGIN').size()\n",
    "unpleasant_2018_departure[[\"average_departure_delay\",\"average_departure_taxi\"]] = delay_2018_df.loc[:,[\"ORIGIN\",\"DEP_DELAY\",\"TAXI_OUT\"]].groupby('ORIGIN').mean()\n",
    "unpleasant_2018_departure['average_departure_cancelled'] = delay_2018_df.loc[:,[\"ORIGIN\",\"CANCELLED\"]].groupby('ORIGIN').mean()\n",
    "unpleasant_2018_departure['averge_departure_distance'] = delay_2018_df.loc[:,[\"ORIGIN\",\"DISTANCE\"]].groupby('ORIGIN').mean()\n",
    "    \n",
    "#ARRIVAL\n",
    "unpleasant_2018_arrival = pd.DataFrame()\n",
    "unpleasant_2018_arrival['total_arrival'] = delay_2018_df.loc[:,[\"DEST\"]].groupby('DEST').size()\n",
    "unpleasant_2018_arrival[[\"average_arrival_delay\",\"average_arrival_taxi\"]] = delay_2018_df.loc[:,[\"DEST\",\"ARR_DELAY\",\"TAXI_IN\"]].groupby('DEST').mean()\n",
    "unpleasant_2018_arrival['average_arrival_diverted'] = delay_2018_df.loc[:,[\"DEST\",\"DIVERTED\"]].groupby('DEST').mean()\n",
    "unpleasant_2018_arrival['averge_arrival_distance'] = delay_2018_df.loc[:,[\"DEST\",\"DISTANCE\"]].groupby('DEST').mean()\n",
    "\n",
    "#Add log to total_departure and total_arrival \n",
    "unpleasant_2018_departure['total_departure_lg10'] = unpleasant_2018_departure['total_departure'].apply(np.log10)\n",
    "unpleasant_2018_arrival['total_arrival_lg10'] = unpleasant_2018_arrival['total_arrival'].apply(np.log10)\n",
    "\n",
    "#Merge departure and arrival\n",
    "delay_2018_df = unpleasant_2018_departure.merge(unpleasant_2018_arrival,left_index=True,right_index=True)\n",
    "delay_2018_df.index.names = [\"airport_code\"]\n",
    "\n",
    "# Main outcome variable\n",
    "Y = delay_2018_df.loc[:,[\"average_departure_delay\",\"average_arrival_delay\",\"average_departure_cancelled\",\"average_arrival_diverted\"]]\n",
    "\n",
    "#\n",
    "delay_airport_code_df = delay_2018_df[[]]"
   ]
  },
  {
   "cell_type": "code",
   "execution_count": 6,
   "metadata": {
    "scrolled": true
   },
   "outputs": [
    {
     "data": {
      "text/html": [
       "<div>\n",
       "<style scoped>\n",
       "    .dataframe tbody tr th:only-of-type {\n",
       "        vertical-align: middle;\n",
       "    }\n",
       "\n",
       "    .dataframe tbody tr th {\n",
       "        vertical-align: top;\n",
       "    }\n",
       "\n",
       "    .dataframe thead th {\n",
       "        text-align: right;\n",
       "    }\n",
       "</style>\n",
       "<table border=\"1\" class=\"dataframe\">\n",
       "  <thead>\n",
       "    <tr style=\"text-align: right;\">\n",
       "      <th></th>\n",
       "      <th>total_departure</th>\n",
       "      <th>average_departure_delay</th>\n",
       "      <th>average_departure_taxi</th>\n",
       "      <th>average_departure_cancelled</th>\n",
       "      <th>averge_departure_distance</th>\n",
       "      <th>total_departure_lg10</th>\n",
       "      <th>total_arrival</th>\n",
       "      <th>average_arrival_delay</th>\n",
       "      <th>average_arrival_taxi</th>\n",
       "      <th>average_arrival_diverted</th>\n",
       "      <th>averge_arrival_distance</th>\n",
       "      <th>total_arrival_lg10</th>\n",
       "    </tr>\n",
       "    <tr>\n",
       "      <th>airport_code</th>\n",
       "      <th></th>\n",
       "      <th></th>\n",
       "      <th></th>\n",
       "      <th></th>\n",
       "      <th></th>\n",
       "      <th></th>\n",
       "      <th></th>\n",
       "      <th></th>\n",
       "      <th></th>\n",
       "      <th></th>\n",
       "      <th></th>\n",
       "      <th></th>\n",
       "    </tr>\n",
       "  </thead>\n",
       "  <tbody>\n",
       "    <tr>\n",
       "      <td>ABE</td>\n",
       "      <td>4168</td>\n",
       "      <td>11.945071</td>\n",
       "      <td>15.095051</td>\n",
       "      <td>0.020873</td>\n",
       "      <td>619.573417</td>\n",
       "      <td>3.619928</td>\n",
       "      <td>4165</td>\n",
       "      <td>5.558260</td>\n",
       "      <td>5.037680</td>\n",
       "      <td>0.004562</td>\n",
       "      <td>619.518367</td>\n",
       "      <td>3.619615</td>\n",
       "    </tr>\n",
       "    <tr>\n",
       "      <td>ABI</td>\n",
       "      <td>2022</td>\n",
       "      <td>8.027259</td>\n",
       "      <td>13.506310</td>\n",
       "      <td>0.020277</td>\n",
       "      <td>158.000000</td>\n",
       "      <td>3.305781</td>\n",
       "      <td>2022</td>\n",
       "      <td>5.784016</td>\n",
       "      <td>3.747347</td>\n",
       "      <td>0.000989</td>\n",
       "      <td>158.000000</td>\n",
       "      <td>3.305781</td>\n",
       "    </tr>\n",
       "    <tr>\n",
       "      <td>ABQ</td>\n",
       "      <td>24047</td>\n",
       "      <td>8.635997</td>\n",
       "      <td>12.688534</td>\n",
       "      <td>0.009897</td>\n",
       "      <td>678.490456</td>\n",
       "      <td>4.381061</td>\n",
       "      <td>24048</td>\n",
       "      <td>5.599697</td>\n",
       "      <td>5.385894</td>\n",
       "      <td>0.001747</td>\n",
       "      <td>678.586452</td>\n",
       "      <td>4.381079</td>\n",
       "    </tr>\n",
       "    <tr>\n",
       "      <td>ABR</td>\n",
       "      <td>745</td>\n",
       "      <td>7.742198</td>\n",
       "      <td>19.377205</td>\n",
       "      <td>0.010738</td>\n",
       "      <td>257.000000</td>\n",
       "      <td>2.872156</td>\n",
       "      <td>745</td>\n",
       "      <td>3.716621</td>\n",
       "      <td>4.771739</td>\n",
       "      <td>0.002685</td>\n",
       "      <td>257.000000</td>\n",
       "      <td>2.872156</td>\n",
       "    </tr>\n",
       "    <tr>\n",
       "      <td>ABY</td>\n",
       "      <td>1018</td>\n",
       "      <td>15.052261</td>\n",
       "      <td>15.779543</td>\n",
       "      <td>0.010806</td>\n",
       "      <td>145.000000</td>\n",
       "      <td>3.007748</td>\n",
       "      <td>1018</td>\n",
       "      <td>10.642137</td>\n",
       "      <td>3.673287</td>\n",
       "      <td>0.006876</td>\n",
       "      <td>145.000000</td>\n",
       "      <td>3.007748</td>\n",
       "    </tr>\n",
       "  </tbody>\n",
       "</table>\n",
       "</div>"
      ],
      "text/plain": [
       "              total_departure  average_departure_delay  \\\n",
       "airport_code                                             \n",
       "ABE                      4168                11.945071   \n",
       "ABI                      2022                 8.027259   \n",
       "ABQ                     24047                 8.635997   \n",
       "ABR                       745                 7.742198   \n",
       "ABY                      1018                15.052261   \n",
       "\n",
       "              average_departure_taxi  average_departure_cancelled  \\\n",
       "airport_code                                                        \n",
       "ABE                        15.095051                     0.020873   \n",
       "ABI                        13.506310                     0.020277   \n",
       "ABQ                        12.688534                     0.009897   \n",
       "ABR                        19.377205                     0.010738   \n",
       "ABY                        15.779543                     0.010806   \n",
       "\n",
       "              averge_departure_distance  total_departure_lg10  total_arrival  \\\n",
       "airport_code                                                                   \n",
       "ABE                          619.573417              3.619928           4165   \n",
       "ABI                          158.000000              3.305781           2022   \n",
       "ABQ                          678.490456              4.381061          24048   \n",
       "ABR                          257.000000              2.872156            745   \n",
       "ABY                          145.000000              3.007748           1018   \n",
       "\n",
       "              average_arrival_delay  average_arrival_taxi  \\\n",
       "airport_code                                                \n",
       "ABE                        5.558260              5.037680   \n",
       "ABI                        5.784016              3.747347   \n",
       "ABQ                        5.599697              5.385894   \n",
       "ABR                        3.716621              4.771739   \n",
       "ABY                       10.642137              3.673287   \n",
       "\n",
       "              average_arrival_diverted  averge_arrival_distance  \\\n",
       "airport_code                                                      \n",
       "ABE                           0.004562               619.518367   \n",
       "ABI                           0.000989               158.000000   \n",
       "ABQ                           0.001747               678.586452   \n",
       "ABR                           0.002685               257.000000   \n",
       "ABY                           0.006876               145.000000   \n",
       "\n",
       "              total_arrival_lg10  \n",
       "airport_code                      \n",
       "ABE                     3.619615  \n",
       "ABI                     3.305781  \n",
       "ABQ                     4.381079  \n",
       "ABR                     2.872156  \n",
       "ABY                     3.007748  "
      ]
     },
     "execution_count": 6,
     "metadata": {},
     "output_type": "execute_result"
    }
   ],
   "source": [
    "delay_2018_df.head()"
   ]
  },
  {
   "cell_type": "code",
   "execution_count": 7,
   "metadata": {},
   "outputs": [
    {
     "data": {
      "text/plain": [
       "358"
      ]
     },
     "execution_count": 7,
     "metadata": {},
     "output_type": "execute_result"
    }
   ],
   "source": [
    "len(delay_airport_code_df)"
   ]
  },
  {
   "cell_type": "code",
   "execution_count": 8,
   "metadata": {},
   "outputs": [],
   "source": [
    "delay_2018_df.to_csv(\"datasets/cleaned/delay_2018.csv\")\n",
    "delay_airport_code_df.to_csv(\"datasets/cleaned/delay_airport_code.csv\")"
   ]
  },
  {
   "cell_type": "markdown",
   "metadata": {},
   "source": [
    "### Cleaning - X"
   ]
  },
  {
   "cell_type": "markdown",
   "metadata": {},
   "source": [
    "#### 2.2 Delay dataset - total arrival / departure + average departure / arrival distance + departure / arrival taxi time\n",
    "From `A Pleasant Flight.ipynb` (now in the folder `previous_codes`), Cleaned above"
   ]
  },
  {
   "cell_type": "code",
   "execution_count": 9,
   "metadata": {},
   "outputs": [],
   "source": [
    "# extract X features\n",
    "X = pd.DataFrame()\n",
    "X[[\"total_departure\",\"total_arrival\",\"averge_departure_distance\",\"averge_arrival_distance\",\"average_departure_taxi\",\"average_arrival_taxi\"]] \\\n",
    "= delay_2018_df.loc[:,[\"total_departure\",\"total_arrival\",\"averge_departure_distance\",\"averge_arrival_distance\",\"average_departure_taxi\",\"average_arrival_taxi\"]] "
   ]
  },
  {
   "cell_type": "code",
   "execution_count": 10,
   "metadata": {},
   "outputs": [
    {
     "data": {
      "text/html": [
       "<div>\n",
       "<style scoped>\n",
       "    .dataframe tbody tr th:only-of-type {\n",
       "        vertical-align: middle;\n",
       "    }\n",
       "\n",
       "    .dataframe tbody tr th {\n",
       "        vertical-align: top;\n",
       "    }\n",
       "\n",
       "    .dataframe thead th {\n",
       "        text-align: right;\n",
       "    }\n",
       "</style>\n",
       "<table border=\"1\" class=\"dataframe\">\n",
       "  <thead>\n",
       "    <tr style=\"text-align: right;\">\n",
       "      <th></th>\n",
       "      <th>total_departure</th>\n",
       "      <th>total_arrival</th>\n",
       "      <th>averge_departure_distance</th>\n",
       "      <th>averge_arrival_distance</th>\n",
       "      <th>average_departure_taxi</th>\n",
       "      <th>average_arrival_taxi</th>\n",
       "    </tr>\n",
       "    <tr>\n",
       "      <th>airport_code</th>\n",
       "      <th></th>\n",
       "      <th></th>\n",
       "      <th></th>\n",
       "      <th></th>\n",
       "      <th></th>\n",
       "      <th></th>\n",
       "    </tr>\n",
       "  </thead>\n",
       "  <tbody>\n",
       "    <tr>\n",
       "      <td>ABE</td>\n",
       "      <td>4168</td>\n",
       "      <td>4165</td>\n",
       "      <td>619.573417</td>\n",
       "      <td>619.518367</td>\n",
       "      <td>15.095051</td>\n",
       "      <td>5.037680</td>\n",
       "    </tr>\n",
       "    <tr>\n",
       "      <td>ABI</td>\n",
       "      <td>2022</td>\n",
       "      <td>2022</td>\n",
       "      <td>158.000000</td>\n",
       "      <td>158.000000</td>\n",
       "      <td>13.506310</td>\n",
       "      <td>3.747347</td>\n",
       "    </tr>\n",
       "    <tr>\n",
       "      <td>ABQ</td>\n",
       "      <td>24047</td>\n",
       "      <td>24048</td>\n",
       "      <td>678.490456</td>\n",
       "      <td>678.586452</td>\n",
       "      <td>12.688534</td>\n",
       "      <td>5.385894</td>\n",
       "    </tr>\n",
       "    <tr>\n",
       "      <td>ABR</td>\n",
       "      <td>745</td>\n",
       "      <td>745</td>\n",
       "      <td>257.000000</td>\n",
       "      <td>257.000000</td>\n",
       "      <td>19.377205</td>\n",
       "      <td>4.771739</td>\n",
       "    </tr>\n",
       "    <tr>\n",
       "      <td>ABY</td>\n",
       "      <td>1018</td>\n",
       "      <td>1018</td>\n",
       "      <td>145.000000</td>\n",
       "      <td>145.000000</td>\n",
       "      <td>15.779543</td>\n",
       "      <td>3.673287</td>\n",
       "    </tr>\n",
       "  </tbody>\n",
       "</table>\n",
       "</div>"
      ],
      "text/plain": [
       "              total_departure  total_arrival  averge_departure_distance  \\\n",
       "airport_code                                                              \n",
       "ABE                      4168           4165                 619.573417   \n",
       "ABI                      2022           2022                 158.000000   \n",
       "ABQ                     24047          24048                 678.490456   \n",
       "ABR                       745            745                 257.000000   \n",
       "ABY                      1018           1018                 145.000000   \n",
       "\n",
       "              averge_arrival_distance  average_departure_taxi  \\\n",
       "airport_code                                                    \n",
       "ABE                        619.518367               15.095051   \n",
       "ABI                        158.000000               13.506310   \n",
       "ABQ                        678.586452               12.688534   \n",
       "ABR                        257.000000               19.377205   \n",
       "ABY                        145.000000               15.779543   \n",
       "\n",
       "              average_arrival_taxi  \n",
       "airport_code                        \n",
       "ABE                       5.037680  \n",
       "ABI                       3.747347  \n",
       "ABQ                       5.385894  \n",
       "ABR                       4.771739  \n",
       "ABY                       3.673287  "
      ]
     },
     "execution_count": 10,
     "metadata": {},
     "output_type": "execute_result"
    }
   ],
   "source": [
    "X.head()"
   ]
  },
  {
   "cell_type": "markdown",
   "metadata": {},
   "source": [
    "#### 2.3 U.S. Airport dataset - city name, latitude, longitude, altitude\n",
    "From `A Pleasant Flight.ipynb` (now in the folder `previous_codes`).\n",
    "\n",
    "Clean `datasets/original/airport/airport-extended.csv`. Generate `airport_loc_df` with column names city_name, latitude, longitude, altitude_ft. Export `airport_loc.csv`."
   ]
  },
  {
   "cell_type": "code",
   "execution_count": 11,
   "metadata": {},
   "outputs": [],
   "source": [
    "airport_loc_df = pd.read_csv(\"datasets/original/airport/airports-extended.csv\", names = [\"ID\",\"name\",\"city_name\",\"country\",\"airport_code\",\"code4\",\"latitude\",\"longitude\",\"altitude_ft\",\"UTC_offset\",\"DST\",\"timezone\",\"type\",\"information_source\"])"
   ]
  },
  {
   "cell_type": "code",
   "execution_count": 12,
   "metadata": {},
   "outputs": [
    {
     "data": {
      "text/html": [
       "<div>\n",
       "<style scoped>\n",
       "    .dataframe tbody tr th:only-of-type {\n",
       "        vertical-align: middle;\n",
       "    }\n",
       "\n",
       "    .dataframe tbody tr th {\n",
       "        vertical-align: top;\n",
       "    }\n",
       "\n",
       "    .dataframe thead th {\n",
       "        text-align: right;\n",
       "    }\n",
       "</style>\n",
       "<table border=\"1\" class=\"dataframe\">\n",
       "  <thead>\n",
       "    <tr style=\"text-align: right;\">\n",
       "      <th></th>\n",
       "      <th>ID</th>\n",
       "      <th>name</th>\n",
       "      <th>city_name</th>\n",
       "      <th>country</th>\n",
       "      <th>airport_code</th>\n",
       "      <th>code4</th>\n",
       "      <th>latitude</th>\n",
       "      <th>longitude</th>\n",
       "      <th>altitude_ft</th>\n",
       "      <th>UTC_offset</th>\n",
       "      <th>DST</th>\n",
       "      <th>timezone</th>\n",
       "      <th>type</th>\n",
       "      <th>information_source</th>\n",
       "    </tr>\n",
       "  </thead>\n",
       "  <tbody>\n",
       "    <tr>\n",
       "      <td>0</td>\n",
       "      <td>1</td>\n",
       "      <td>Goroka Airport</td>\n",
       "      <td>Goroka</td>\n",
       "      <td>Papua New Guinea</td>\n",
       "      <td>GKA</td>\n",
       "      <td>AYGA</td>\n",
       "      <td>-6.081690</td>\n",
       "      <td>145.391998</td>\n",
       "      <td>5282</td>\n",
       "      <td>10</td>\n",
       "      <td>U</td>\n",
       "      <td>Pacific/Port_Moresby</td>\n",
       "      <td>airport</td>\n",
       "      <td>OurAirports</td>\n",
       "    </tr>\n",
       "    <tr>\n",
       "      <td>1</td>\n",
       "      <td>2</td>\n",
       "      <td>Madang Airport</td>\n",
       "      <td>Madang</td>\n",
       "      <td>Papua New Guinea</td>\n",
       "      <td>MAG</td>\n",
       "      <td>AYMD</td>\n",
       "      <td>-5.207080</td>\n",
       "      <td>145.789001</td>\n",
       "      <td>20</td>\n",
       "      <td>10</td>\n",
       "      <td>U</td>\n",
       "      <td>Pacific/Port_Moresby</td>\n",
       "      <td>airport</td>\n",
       "      <td>OurAirports</td>\n",
       "    </tr>\n",
       "    <tr>\n",
       "      <td>2</td>\n",
       "      <td>3</td>\n",
       "      <td>Mount Hagen Kagamuga Airport</td>\n",
       "      <td>Mount Hagen</td>\n",
       "      <td>Papua New Guinea</td>\n",
       "      <td>HGU</td>\n",
       "      <td>AYMH</td>\n",
       "      <td>-5.826790</td>\n",
       "      <td>144.296005</td>\n",
       "      <td>5388</td>\n",
       "      <td>10</td>\n",
       "      <td>U</td>\n",
       "      <td>Pacific/Port_Moresby</td>\n",
       "      <td>airport</td>\n",
       "      <td>OurAirports</td>\n",
       "    </tr>\n",
       "    <tr>\n",
       "      <td>3</td>\n",
       "      <td>4</td>\n",
       "      <td>Nadzab Airport</td>\n",
       "      <td>Nadzab</td>\n",
       "      <td>Papua New Guinea</td>\n",
       "      <td>LAE</td>\n",
       "      <td>AYNZ</td>\n",
       "      <td>-6.569803</td>\n",
       "      <td>146.725977</td>\n",
       "      <td>239</td>\n",
       "      <td>10</td>\n",
       "      <td>U</td>\n",
       "      <td>Pacific/Port_Moresby</td>\n",
       "      <td>airport</td>\n",
       "      <td>OurAirports</td>\n",
       "    </tr>\n",
       "    <tr>\n",
       "      <td>4</td>\n",
       "      <td>5</td>\n",
       "      <td>Port Moresby Jacksons International Airport</td>\n",
       "      <td>Port Moresby</td>\n",
       "      <td>Papua New Guinea</td>\n",
       "      <td>POM</td>\n",
       "      <td>AYPY</td>\n",
       "      <td>-9.443380</td>\n",
       "      <td>147.220001</td>\n",
       "      <td>146</td>\n",
       "      <td>10</td>\n",
       "      <td>U</td>\n",
       "      <td>Pacific/Port_Moresby</td>\n",
       "      <td>airport</td>\n",
       "      <td>OurAirports</td>\n",
       "    </tr>\n",
       "  </tbody>\n",
       "</table>\n",
       "</div>"
      ],
      "text/plain": [
       "   ID                                         name     city_name  \\\n",
       "0   1                               Goroka Airport        Goroka   \n",
       "1   2                               Madang Airport        Madang   \n",
       "2   3                 Mount Hagen Kagamuga Airport   Mount Hagen   \n",
       "3   4                               Nadzab Airport        Nadzab   \n",
       "4   5  Port Moresby Jacksons International Airport  Port Moresby   \n",
       "\n",
       "            country airport_code code4  latitude   longitude  altitude_ft  \\\n",
       "0  Papua New Guinea          GKA  AYGA -6.081690  145.391998         5282   \n",
       "1  Papua New Guinea          MAG  AYMD -5.207080  145.789001           20   \n",
       "2  Papua New Guinea          HGU  AYMH -5.826790  144.296005         5388   \n",
       "3  Papua New Guinea          LAE  AYNZ -6.569803  146.725977          239   \n",
       "4  Papua New Guinea          POM  AYPY -9.443380  147.220001          146   \n",
       "\n",
       "  UTC_offset DST              timezone     type information_source  \n",
       "0         10   U  Pacific/Port_Moresby  airport        OurAirports  \n",
       "1         10   U  Pacific/Port_Moresby  airport        OurAirports  \n",
       "2         10   U  Pacific/Port_Moresby  airport        OurAirports  \n",
       "3         10   U  Pacific/Port_Moresby  airport        OurAirports  \n",
       "4         10   U  Pacific/Port_Moresby  airport        OurAirports  "
      ]
     },
     "execution_count": 12,
     "metadata": {},
     "output_type": "execute_result"
    }
   ],
   "source": [
    "airport_loc_df.head()"
   ]
  },
  {
   "cell_type": "code",
   "execution_count": 13,
   "metadata": {},
   "outputs": [],
   "source": [
    "def clean_city_name(input_city):\n",
    "    original = input_city\n",
    "    input_city = str(input_city)\n",
    "    input_city = input_city.strip()\n",
    "    input_city = input_city.lower()\n",
    "    \n",
    "    input_city = input_city.replace(\".\",\"\")\n",
    "    input_city = input_city.replace(\"\\\\\\\\\",\"\")\n",
    "    input_city = input_city.replace(\"-\",\" \")\n",
    "    input_city = input_city.replace(\" - \",\" \")\n",
    "    input_city = input_city.replace(\"saint \",\"st\")\n",
    "    input_city = input_city.replace(\"east \",\"\")\n",
    "    input_city = input_city.replace(\"west \",\"\")\n",
    "    \n",
    "    input_city = input_city.translate({ord(k): None for k in digits})\n",
    "    \n",
    "    if ('/' in input_city):\n",
    "        input_city = input_city[:input_city.find('/')] # in case city have muitiple names like \"cityname1/cityname2\"\n",
    "    if ('(' in input_city):\n",
    "        input_city = input_city[:input_city.find('(')] # Same as above\n",
    "    if (',' in input_city):\n",
    "        input_city = input_city[:input_city.find(',')] \n",
    "    input_city = input_city.strip()   \n",
    "    if (' ' in input_city):\n",
    "        temp=input_city.find(' ')\n",
    "        if (temp > 2):\n",
    "            input_city = input_city[:input_city.find(' ')]\n",
    "        else:\n",
    "            if (input_city.find(' ',temp+1) != -1):\n",
    "                input_city = input_city[temp+1:input_city.find(' ',temp+1)]\n",
    "            else:\n",
    "                input_city = input_city[temp+1:]\n",
    "    input_city = input_city.strip()\n",
    "    try:\n",
    "        assert len(input_city) > 2\n",
    "        assert input_city.replace(\" \",\"\").replace(\"'\",\"\").isalpha()\n",
    "    except:\n",
    "        #print(\"This city name is prehaps incorrect: \",original,input_city,len(original))\n",
    "        1+1\n",
    "    return input_city"
   ]
  },
  {
   "cell_type": "code",
   "execution_count": 14,
   "metadata": {},
   "outputs": [],
   "source": [
    "airport_loc_df.columns = [\"ID\",\"name\",\"city_name\",\"country\",\"airport_code\",\"code4\",\"latitude\",\"longitude\",\"altitude_ft\",\"UTC_offset\",\"DST\",\"timezone\",\"type\",\"information_source\"]\n",
    "airport_loc_df = airport_loc_df.loc[:,[\"city_name\",\"country\",\"airport_code\",\"code4\", \"latitude\",\"longitude\",\"altitude_ft\"]] # add code4 since we need to use it to get runways data --YD 03/05\n",
    "airport_loc_df = airport_loc_df[airport_loc_df[\"country\"]==\"United States\"] # reduce dataframe size\n",
    "airport_loc_df = airport_loc_df.loc[:,[\"city_name\",\"airport_code\",\"code4\", \"latitude\",\"longitude\",\"altitude_ft\"]]# We don't need the country column again\n",
    "airport_loc_df = airport_loc_df[airport_loc_df[\"airport_code\"]!=\"\\\\N\"] # remove NAN in index\n",
    "airport_loc_df = airport_loc_df.set_index(\"airport_code\")\n",
    "airport_loc_df[\"city_name\"] = airport_loc_df[\"city_name\"].apply(clean_city_name)# clean city name"
   ]
  },
  {
   "cell_type": "code",
   "execution_count": 15,
   "metadata": {},
   "outputs": [
    {
     "data": {
      "text/html": [
       "<div>\n",
       "<style scoped>\n",
       "    .dataframe tbody tr th:only-of-type {\n",
       "        vertical-align: middle;\n",
       "    }\n",
       "\n",
       "    .dataframe tbody tr th {\n",
       "        vertical-align: top;\n",
       "    }\n",
       "\n",
       "    .dataframe thead th {\n",
       "        text-align: right;\n",
       "    }\n",
       "</style>\n",
       "<table border=\"1\" class=\"dataframe\">\n",
       "  <thead>\n",
       "    <tr style=\"text-align: right;\">\n",
       "      <th></th>\n",
       "      <th>city_name</th>\n",
       "      <th>code4</th>\n",
       "      <th>latitude</th>\n",
       "      <th>longitude</th>\n",
       "      <th>altitude_ft</th>\n",
       "    </tr>\n",
       "    <tr>\n",
       "      <th>airport_code</th>\n",
       "      <th></th>\n",
       "      <th></th>\n",
       "      <th></th>\n",
       "      <th></th>\n",
       "      <th></th>\n",
       "    </tr>\n",
       "  </thead>\n",
       "  <tbody>\n",
       "    <tr>\n",
       "      <td>BTI</td>\n",
       "      <td>barter</td>\n",
       "      <td>PABA</td>\n",
       "      <td>70.134003</td>\n",
       "      <td>-143.582001</td>\n",
       "      <td>2</td>\n",
       "    </tr>\n",
       "    <tr>\n",
       "      <td>K03</td>\n",
       "      <td>fort</td>\n",
       "      <td>PAWT</td>\n",
       "      <td>70.613403</td>\n",
       "      <td>-159.860001</td>\n",
       "      <td>35</td>\n",
       "    </tr>\n",
       "    <tr>\n",
       "      <td>LUR</td>\n",
       "      <td>cape</td>\n",
       "      <td>PALU</td>\n",
       "      <td>68.875099</td>\n",
       "      <td>-166.110001</td>\n",
       "      <td>16</td>\n",
       "    </tr>\n",
       "    <tr>\n",
       "      <td>PIZ</td>\n",
       "      <td>point</td>\n",
       "      <td>PPIZ</td>\n",
       "      <td>69.732903</td>\n",
       "      <td>-163.005005</td>\n",
       "      <td>22</td>\n",
       "    </tr>\n",
       "    <tr>\n",
       "      <td>ITO</td>\n",
       "      <td>hilo</td>\n",
       "      <td>PHTO</td>\n",
       "      <td>19.721399</td>\n",
       "      <td>-155.048004</td>\n",
       "      <td>38</td>\n",
       "    </tr>\n",
       "  </tbody>\n",
       "</table>\n",
       "</div>"
      ],
      "text/plain": [
       "             city_name code4   latitude   longitude  altitude_ft\n",
       "airport_code                                                    \n",
       "BTI             barter  PABA  70.134003 -143.582001            2\n",
       "K03               fort  PAWT  70.613403 -159.860001           35\n",
       "LUR               cape  PALU  68.875099 -166.110001           16\n",
       "PIZ              point  PPIZ  69.732903 -163.005005           22\n",
       "ITO               hilo  PHTO  19.721399 -155.048004           38"
      ]
     },
     "execution_count": 15,
     "metadata": {},
     "output_type": "execute_result"
    }
   ],
   "source": [
    "airport_loc_df.head()"
   ]
  },
  {
   "cell_type": "code",
   "execution_count": 16,
   "metadata": {},
   "outputs": [
    {
     "data": {
      "text/plain": [
       "1648"
      ]
     },
     "execution_count": 16,
     "metadata": {},
     "output_type": "execute_result"
    }
   ],
   "source": [
    "len(airport_loc_df)"
   ]
  },
  {
   "cell_type": "code",
   "execution_count": 17,
   "metadata": {},
   "outputs": [],
   "source": [
    "# store cleaned data\n",
    "airport_loc_df.to_csv(\"datasets/cleaned/airport_loc.csv\")"
   ]
  },
  {
   "cell_type": "markdown",
   "metadata": {},
   "source": [
    "#### 2.4 U.S. Cities dataset - city name, FIPS, population\n",
    "Clean `datasets/original/city/uscities.csv`."
   ]
  },
  {
   "cell_type": "code",
   "execution_count": 18,
   "metadata": {},
   "outputs": [],
   "source": [
    "us_cities_df = pd.read_csv(\"datasets/original/city/uscities.csv\")\n",
    "\n",
    "# Kept latitude and longitude to differentiate cities with same name\n",
    "us_cities_df = us_cities_df[[\"city\",\"state_id\",\"county_fips\",\"county_name\",\"population\",\"lat\",\"lng\"]] \n",
    "us_cities_df = us_cities_df.rename(columns = {\"city\":\"city_name\"})                                              \n",
    "us_cities_df[\"fips\"] = us_cities_df[\"county_fips\"]\n",
    "\n",
    "def get_county_code(input_county):\n",
    "    return int(input_county) % 1000\n",
    "\n",
    "us_cities_df[\"county_fips\"] = us_cities_df[\"county_fips\"].apply(get_county_code)\n",
    "us_cities_df[\"city_name\"] = us_cities_df[\"city_name\"].apply(clean_city_name)"
   ]
  },
  {
   "cell_type": "code",
   "execution_count": 19,
   "metadata": {},
   "outputs": [
    {
     "data": {
      "text/html": [
       "<div>\n",
       "<style scoped>\n",
       "    .dataframe tbody tr th:only-of-type {\n",
       "        vertical-align: middle;\n",
       "    }\n",
       "\n",
       "    .dataframe tbody tr th {\n",
       "        vertical-align: top;\n",
       "    }\n",
       "\n",
       "    .dataframe thead th {\n",
       "        text-align: right;\n",
       "    }\n",
       "</style>\n",
       "<table border=\"1\" class=\"dataframe\">\n",
       "  <thead>\n",
       "    <tr style=\"text-align: right;\">\n",
       "      <th></th>\n",
       "      <th>city_name</th>\n",
       "      <th>state_id</th>\n",
       "      <th>county_fips</th>\n",
       "      <th>county_name</th>\n",
       "      <th>population</th>\n",
       "      <th>lat</th>\n",
       "      <th>lng</th>\n",
       "      <th>fips</th>\n",
       "    </tr>\n",
       "  </thead>\n",
       "  <tbody>\n",
       "    <tr>\n",
       "      <td>0</td>\n",
       "      <td>south</td>\n",
       "      <td>WA</td>\n",
       "      <td>53</td>\n",
       "      <td>Pierce</td>\n",
       "      <td>2500</td>\n",
       "      <td>46.9994</td>\n",
       "      <td>-122.3921</td>\n",
       "      <td>53053</td>\n",
       "    </tr>\n",
       "    <tr>\n",
       "      <td>1</td>\n",
       "      <td>roslyn</td>\n",
       "      <td>WA</td>\n",
       "      <td>37</td>\n",
       "      <td>Kittitas</td>\n",
       "      <td>947</td>\n",
       "      <td>47.2507</td>\n",
       "      <td>-121.0989</td>\n",
       "      <td>53037</td>\n",
       "    </tr>\n",
       "    <tr>\n",
       "      <td>2</td>\n",
       "      <td>sprague</td>\n",
       "      <td>WA</td>\n",
       "      <td>43</td>\n",
       "      <td>Lincoln</td>\n",
       "      <td>441</td>\n",
       "      <td>47.3048</td>\n",
       "      <td>-117.9713</td>\n",
       "      <td>53043</td>\n",
       "    </tr>\n",
       "    <tr>\n",
       "      <td>3</td>\n",
       "      <td>gig</td>\n",
       "      <td>WA</td>\n",
       "      <td>53</td>\n",
       "      <td>Pierce</td>\n",
       "      <td>9507</td>\n",
       "      <td>47.3352</td>\n",
       "      <td>-122.5968</td>\n",
       "      <td>53053</td>\n",
       "    </tr>\n",
       "    <tr>\n",
       "      <td>4</td>\n",
       "      <td>lake</td>\n",
       "      <td>WA</td>\n",
       "      <td>61</td>\n",
       "      <td>Snohomish</td>\n",
       "      <td>3591</td>\n",
       "      <td>48.0639</td>\n",
       "      <td>-122.0920</td>\n",
       "      <td>53061</td>\n",
       "    </tr>\n",
       "  </tbody>\n",
       "</table>\n",
       "</div>"
      ],
      "text/plain": [
       "  city_name state_id  county_fips county_name  population      lat       lng  \\\n",
       "0     south       WA           53      Pierce        2500  46.9994 -122.3921   \n",
       "1    roslyn       WA           37    Kittitas         947  47.2507 -121.0989   \n",
       "2   sprague       WA           43     Lincoln         441  47.3048 -117.9713   \n",
       "3       gig       WA           53      Pierce        9507  47.3352 -122.5968   \n",
       "4      lake       WA           61   Snohomish        3591  48.0639 -122.0920   \n",
       "\n",
       "    fips  \n",
       "0  53053  \n",
       "1  53037  \n",
       "2  53043  \n",
       "3  53053  \n",
       "4  53061  "
      ]
     },
     "execution_count": 19,
     "metadata": {},
     "output_type": "execute_result"
    }
   ],
   "source": [
    "us_cities_df.head()"
   ]
  },
  {
   "cell_type": "code",
   "execution_count": 20,
   "metadata": {},
   "outputs": [
    {
     "data": {
      "text/plain": [
       "28889"
      ]
     },
     "execution_count": 20,
     "metadata": {},
     "output_type": "execute_result"
    }
   ],
   "source": [
    "len(us_cities_df)"
   ]
  },
  {
   "cell_type": "markdown",
   "metadata": {},
   "source": [
    "#### 2.5 Merge step 2.2 - 2.4\n",
    "Merge `unpleasant_airport_code_df`(empty dataframe with only `airport_code` as index) and `airport_loc_df` by `airport_code` to select the airport we need. Then merge it with `us_cities_df` by `city_name`. Rank duplicaited city name by abs(delta_latitude) + abs(delta_longitude), assert the number is < 1.5 deg and select the city with smallest error.\n",
    "\n",
    "Generate `city_search_df` for scraping climate data."
   ]
  },
  {
   "cell_type": "code",
   "execution_count": 21,
   "metadata": {},
   "outputs": [
    {
     "data": {
      "text/html": [
       "<div>\n",
       "<style scoped>\n",
       "    .dataframe tbody tr th:only-of-type {\n",
       "        vertical-align: middle;\n",
       "    }\n",
       "\n",
       "    .dataframe tbody tr th {\n",
       "        vertical-align: top;\n",
       "    }\n",
       "\n",
       "    .dataframe thead th {\n",
       "        text-align: right;\n",
       "    }\n",
       "</style>\n",
       "<table border=\"1\" class=\"dataframe\">\n",
       "  <thead>\n",
       "    <tr style=\"text-align: right;\">\n",
       "      <th></th>\n",
       "      <th>city_name</th>\n",
       "      <th>code4</th>\n",
       "      <th>latitude</th>\n",
       "      <th>longitude</th>\n",
       "      <th>altitude_ft</th>\n",
       "    </tr>\n",
       "    <tr>\n",
       "      <th>airport_code</th>\n",
       "      <th></th>\n",
       "      <th></th>\n",
       "      <th></th>\n",
       "      <th></th>\n",
       "      <th></th>\n",
       "    </tr>\n",
       "  </thead>\n",
       "  <tbody>\n",
       "    <tr>\n",
       "      <td>ABE</td>\n",
       "      <td>allentown</td>\n",
       "      <td>KABE</td>\n",
       "      <td>40.652100</td>\n",
       "      <td>-75.440804</td>\n",
       "      <td>393</td>\n",
       "    </tr>\n",
       "    <tr>\n",
       "      <td>ABI</td>\n",
       "      <td>abilene</td>\n",
       "      <td>KABI</td>\n",
       "      <td>32.411301</td>\n",
       "      <td>-99.681900</td>\n",
       "      <td>1791</td>\n",
       "    </tr>\n",
       "    <tr>\n",
       "      <td>ABQ</td>\n",
       "      <td>albuquerque</td>\n",
       "      <td>KABQ</td>\n",
       "      <td>35.040199</td>\n",
       "      <td>-106.609001</td>\n",
       "      <td>5355</td>\n",
       "    </tr>\n",
       "    <tr>\n",
       "      <td>ABR</td>\n",
       "      <td>aberdeen</td>\n",
       "      <td>KABR</td>\n",
       "      <td>45.449100</td>\n",
       "      <td>-98.421799</td>\n",
       "      <td>1302</td>\n",
       "    </tr>\n",
       "    <tr>\n",
       "      <td>ABY</td>\n",
       "      <td>albany</td>\n",
       "      <td>KABY</td>\n",
       "      <td>31.535500</td>\n",
       "      <td>-84.194504</td>\n",
       "      <td>197</td>\n",
       "    </tr>\n",
       "    <tr>\n",
       "      <td>...</td>\n",
       "      <td>...</td>\n",
       "      <td>...</td>\n",
       "      <td>...</td>\n",
       "      <td>...</td>\n",
       "      <td>...</td>\n",
       "    </tr>\n",
       "    <tr>\n",
       "      <td>WYS</td>\n",
       "      <td>yellowstone</td>\n",
       "      <td>KWYS</td>\n",
       "      <td>44.688400</td>\n",
       "      <td>-111.117996</td>\n",
       "      <td>6649</td>\n",
       "    </tr>\n",
       "    <tr>\n",
       "      <td>XNA</td>\n",
       "      <td>bentonville</td>\n",
       "      <td>KXNA</td>\n",
       "      <td>36.281898</td>\n",
       "      <td>-94.306801</td>\n",
       "      <td>1287</td>\n",
       "    </tr>\n",
       "    <tr>\n",
       "      <td>YAK</td>\n",
       "      <td>yakutat</td>\n",
       "      <td>PAYA</td>\n",
       "      <td>59.503300</td>\n",
       "      <td>-139.660004</td>\n",
       "      <td>33</td>\n",
       "    </tr>\n",
       "    <tr>\n",
       "      <td>YNG</td>\n",
       "      <td>youngstown</td>\n",
       "      <td>KYNG</td>\n",
       "      <td>41.260700</td>\n",
       "      <td>-80.679100</td>\n",
       "      <td>1192</td>\n",
       "    </tr>\n",
       "    <tr>\n",
       "      <td>YUM</td>\n",
       "      <td>yuma</td>\n",
       "      <td>KNYL</td>\n",
       "      <td>32.656601</td>\n",
       "      <td>-114.606003</td>\n",
       "      <td>213</td>\n",
       "    </tr>\n",
       "  </tbody>\n",
       "</table>\n",
       "<p>348 rows × 5 columns</p>\n",
       "</div>"
      ],
      "text/plain": [
       "                city_name code4   latitude   longitude  altitude_ft\n",
       "airport_code                                                       \n",
       "ABE             allentown  KABE  40.652100  -75.440804          393\n",
       "ABI               abilene  KABI  32.411301  -99.681900         1791\n",
       "ABQ           albuquerque  KABQ  35.040199 -106.609001         5355\n",
       "ABR              aberdeen  KABR  45.449100  -98.421799         1302\n",
       "ABY                albany  KABY  31.535500  -84.194504          197\n",
       "...                   ...   ...        ...         ...          ...\n",
       "WYS           yellowstone  KWYS  44.688400 -111.117996         6649\n",
       "XNA           bentonville  KXNA  36.281898  -94.306801         1287\n",
       "YAK               yakutat  PAYA  59.503300 -139.660004           33\n",
       "YNG            youngstown  KYNG  41.260700  -80.679100         1192\n",
       "YUM                  yuma  KNYL  32.656601 -114.606003          213\n",
       "\n",
       "[348 rows x 5 columns]"
      ]
     },
     "execution_count": 21,
     "metadata": {},
     "output_type": "execute_result"
    }
   ],
   "source": [
    "airport_prop_df = delay_airport_code_df.merge(airport_loc_df,how='inner',left_index=True,right_index=True)\n",
    "airport_prop_df"
   ]
  },
  {
   "cell_type": "code",
   "execution_count": 22,
   "metadata": {},
   "outputs": [],
   "source": [
    "city_search_df = pd.DataFrame(columns=[\"airport_code\",\"state_id\",\"county_id\",\"city_id\",\"fips\",\"population\"])\n",
    "for ind,row in airport_prop_df.iterrows():\n",
    "    city = row[\"city_name\"]\n",
    "    target_lat = row[\"latitude\"]\n",
    "    target_lng = row[\"longitude\"]\n",
    "    try:      \n",
    "        target_cities = us_cities_df[us_cities_df[\"city_name\"]==city]\n",
    "        \n",
    "        if not (target_cities.shape[0] == 1): # If there are multiple city with same name\n",
    "            def calc_dis(input_):\n",
    "                err = abs(target_lat - input_[\"lat\"]) + abs(target_lng - input_[\"lng\"])\n",
    "                return err\n",
    "            target_cities.loc[:,\"error\"] = (target_cities.apply(calc_dis,axis=1))\n",
    "            target_city = target_cities.sort_values(by=\"error\").iloc[0]\n",
    "            \n",
    "            assert target_city[\"error\"] < 1.5 # assert the error should be <1.5 degs ~ 40 miles.\n",
    "            \n",
    "            target_city = target_city.drop([\"error\"])\n",
    "        elif (target_cities.shape[0] >= 1):\n",
    "            target_city = target_cities.iloc[0]\n",
    "        \n",
    "        county = str(target_city[\"county_fips\"])\n",
    "        if (len(county)==1):\n",
    "            county = \"00\" + county\n",
    "        elif (len(county)==2):\n",
    "            county = \"0\" + county\n",
    "\n",
    "        city_search_df = city_search_df.append({\"airport_code\":ind,\"state_id\":target_city[\"state_id\"],\"county_id\":county,\"city_id\":target_city.name,\"fips\":target_city[\"fips\"],\"population\":target_city[\"population\"]},ignore_index=True)        \n",
    "    except:\n",
    "        try:\n",
    "            def calc_dis(input_):\n",
    "                err = abs(target_lat - input_[\"lat\"]) + abs(target_lng - input_[\"lng\"])\n",
    "                return err\n",
    "            us_cities_df_copy = us_cities_df\n",
    "            us_cities_df_copy.loc[:,\"error\"] = (us_cities_df.apply(calc_dis,axis=1))\n",
    "            target_city = us_cities_df_copy.sort_values(by=\"error\").iloc[0]\n",
    "            assert target_city[\"error\"] < 1.5\n",
    "            county = str(target_city[\"county_fips\"])\n",
    "            if (len(county)==1):\n",
    "                county = \"00\" + county\n",
    "            elif (len(county)==2):\n",
    "                county = \"0\" + county\n",
    "            city_search_df = city_search_df.append({\"airport_code\":ind,\"state_id\":target_city[\"state_id\"],\"county_id\":county,\"city_id\":target_city.name,\"fips\":target_city[\"fips\"],\"population\":target_city[\"population\"]},ignore_index=True)\n",
    "        except:\n",
    "            print(\"No data for \",city)\n",
    "            city_search_df = city_search_df.append({\"airport_code\":ind,\"state_id\":np.nan,\"county_id\":np.nan,\"city_id\":np.nan,\"fips\":np.nan,\"population\":np.nan},ignore_index=True)\n",
    "\n",
    "#special case for DC\n",
    "for ind,row in city_search_df.iterrows():\n",
    "    if (row[\"airport_code\"]==\"DCA\"):\n",
    "        city_search_df.iloc[ind][\"state_id\"]=\"MD\"\n",
    "        city_search_df.iloc[ind][\"county_id\"]=\"511\"\n",
    "\n",
    "# Remove Hawaii and Alaska\n",
    "city_search_df = city_search_df[(city_search_df[\"state_id\"]!=\"HI\") & (city_search_df[\"state_id\"]!=\"AK\")]\n",
    "airport_prop_df = airport_prop_df.merge(city_search_df.set_index(\"airport_code\").loc[:,[\"city_id\",\"fips\",\"population\"]],left_index=True,right_index=True)"
   ]
  },
  {
   "cell_type": "code",
   "execution_count": 23,
   "metadata": {},
   "outputs": [
    {
     "data": {
      "text/html": [
       "<div>\n",
       "<style scoped>\n",
       "    .dataframe tbody tr th:only-of-type {\n",
       "        vertical-align: middle;\n",
       "    }\n",
       "\n",
       "    .dataframe tbody tr th {\n",
       "        vertical-align: top;\n",
       "    }\n",
       "\n",
       "    .dataframe thead th {\n",
       "        text-align: right;\n",
       "    }\n",
       "</style>\n",
       "<table border=\"1\" class=\"dataframe\">\n",
       "  <thead>\n",
       "    <tr style=\"text-align: right;\">\n",
       "      <th></th>\n",
       "      <th>city_name</th>\n",
       "      <th>code4</th>\n",
       "      <th>latitude</th>\n",
       "      <th>longitude</th>\n",
       "      <th>altitude_ft</th>\n",
       "      <th>city_id</th>\n",
       "      <th>fips</th>\n",
       "      <th>population</th>\n",
       "    </tr>\n",
       "    <tr>\n",
       "      <th>airport_code</th>\n",
       "      <th></th>\n",
       "      <th></th>\n",
       "      <th></th>\n",
       "      <th></th>\n",
       "      <th></th>\n",
       "      <th></th>\n",
       "      <th></th>\n",
       "      <th></th>\n",
       "    </tr>\n",
       "  </thead>\n",
       "  <tbody>\n",
       "    <tr>\n",
       "      <td>ABE</td>\n",
       "      <td>allentown</td>\n",
       "      <td>KABE</td>\n",
       "      <td>40.652100</td>\n",
       "      <td>-75.440804</td>\n",
       "      <td>393</td>\n",
       "      <td>10988</td>\n",
       "      <td>42077</td>\n",
       "      <td>682899</td>\n",
       "    </tr>\n",
       "    <tr>\n",
       "      <td>ABI</td>\n",
       "      <td>abilene</td>\n",
       "      <td>KABI</td>\n",
       "      <td>32.411301</td>\n",
       "      <td>-99.681900</td>\n",
       "      <td>1791</td>\n",
       "      <td>5333</td>\n",
       "      <td>48441</td>\n",
       "      <td>114964</td>\n",
       "    </tr>\n",
       "    <tr>\n",
       "      <td>ABQ</td>\n",
       "      <td>albuquerque</td>\n",
       "      <td>KABQ</td>\n",
       "      <td>35.040199</td>\n",
       "      <td>-106.609001</td>\n",
       "      <td>5355</td>\n",
       "      <td>3742</td>\n",
       "      <td>35001</td>\n",
       "      <td>758523</td>\n",
       "    </tr>\n",
       "    <tr>\n",
       "      <td>ABR</td>\n",
       "      <td>aberdeen</td>\n",
       "      <td>KABR</td>\n",
       "      <td>45.449100</td>\n",
       "      <td>-98.421799</td>\n",
       "      <td>1302</td>\n",
       "      <td>28674</td>\n",
       "      <td>46013</td>\n",
       "      <td>28264</td>\n",
       "    </tr>\n",
       "    <tr>\n",
       "      <td>ABY</td>\n",
       "      <td>albany</td>\n",
       "      <td>KABY</td>\n",
       "      <td>31.535500</td>\n",
       "      <td>-84.194504</td>\n",
       "      <td>197</td>\n",
       "      <td>17309</td>\n",
       "      <td>13095</td>\n",
       "      <td>90515</td>\n",
       "    </tr>\n",
       "    <tr>\n",
       "      <td>...</td>\n",
       "      <td>...</td>\n",
       "      <td>...</td>\n",
       "      <td>...</td>\n",
       "      <td>...</td>\n",
       "      <td>...</td>\n",
       "      <td>...</td>\n",
       "      <td>...</td>\n",
       "      <td>...</td>\n",
       "    </tr>\n",
       "    <tr>\n",
       "      <td>VPS</td>\n",
       "      <td>valparaiso</td>\n",
       "      <td>KVPS</td>\n",
       "      <td>30.483200</td>\n",
       "      <td>-86.525398</td>\n",
       "      <td>87</td>\n",
       "      <td>2510</td>\n",
       "      <td>12091</td>\n",
       "      <td>4946</td>\n",
       "    </tr>\n",
       "    <tr>\n",
       "      <td>WYS</td>\n",
       "      <td>yellowstone</td>\n",
       "      <td>KWYS</td>\n",
       "      <td>44.688400</td>\n",
       "      <td>-111.117996</td>\n",
       "      <td>6649</td>\n",
       "      <td>26356</td>\n",
       "      <td>30031</td>\n",
       "      <td>1365</td>\n",
       "    </tr>\n",
       "    <tr>\n",
       "      <td>XNA</td>\n",
       "      <td>bentonville</td>\n",
       "      <td>KXNA</td>\n",
       "      <td>36.281898</td>\n",
       "      <td>-94.306801</td>\n",
       "      <td>1287</td>\n",
       "      <td>15451</td>\n",
       "      <td>5007</td>\n",
       "      <td>49298</td>\n",
       "    </tr>\n",
       "    <tr>\n",
       "      <td>YNG</td>\n",
       "      <td>youngstown</td>\n",
       "      <td>KYNG</td>\n",
       "      <td>41.260700</td>\n",
       "      <td>-80.679100</td>\n",
       "      <td>1192</td>\n",
       "      <td>21828</td>\n",
       "      <td>39099</td>\n",
       "      <td>373728</td>\n",
       "    </tr>\n",
       "    <tr>\n",
       "      <td>YUM</td>\n",
       "      <td>yuma</td>\n",
       "      <td>KNYL</td>\n",
       "      <td>32.656601</td>\n",
       "      <td>-114.606003</td>\n",
       "      <td>213</td>\n",
       "      <td>19512</td>\n",
       "      <td>4027</td>\n",
       "      <td>138802</td>\n",
       "    </tr>\n",
       "  </tbody>\n",
       "</table>\n",
       "<p>324 rows × 8 columns</p>\n",
       "</div>"
      ],
      "text/plain": [
       "                city_name code4   latitude   longitude  altitude_ft city_id  \\\n",
       "airport_code                                                                  \n",
       "ABE             allentown  KABE  40.652100  -75.440804          393   10988   \n",
       "ABI               abilene  KABI  32.411301  -99.681900         1791    5333   \n",
       "ABQ           albuquerque  KABQ  35.040199 -106.609001         5355    3742   \n",
       "ABR              aberdeen  KABR  45.449100  -98.421799         1302   28674   \n",
       "ABY                albany  KABY  31.535500  -84.194504          197   17309   \n",
       "...                   ...   ...        ...         ...          ...     ...   \n",
       "VPS            valparaiso  KVPS  30.483200  -86.525398           87    2510   \n",
       "WYS           yellowstone  KWYS  44.688400 -111.117996         6649   26356   \n",
       "XNA           bentonville  KXNA  36.281898  -94.306801         1287   15451   \n",
       "YNG            youngstown  KYNG  41.260700  -80.679100         1192   21828   \n",
       "YUM                  yuma  KNYL  32.656601 -114.606003          213   19512   \n",
       "\n",
       "               fips population  \n",
       "airport_code                    \n",
       "ABE           42077     682899  \n",
       "ABI           48441     114964  \n",
       "ABQ           35001     758523  \n",
       "ABR           46013      28264  \n",
       "ABY           13095      90515  \n",
       "...             ...        ...  \n",
       "VPS           12091       4946  \n",
       "WYS           30031       1365  \n",
       "XNA            5007      49298  \n",
       "YNG           39099     373728  \n",
       "YUM            4027     138802  \n",
       "\n",
       "[324 rows x 8 columns]"
      ]
     },
     "execution_count": 23,
     "metadata": {},
     "output_type": "execute_result"
    }
   ],
   "source": [
    "airport_prop_df"
   ]
  },
  {
   "cell_type": "markdown",
   "metadata": {},
   "source": [
    "#### 2.6 Download and process temperature and precipitation data\n",
    "From https://www.ncdc.noaa.gov"
   ]
  },
  {
   "cell_type": "code",
   "execution_count": 24,
   "metadata": {},
   "outputs": [],
   "source": [
    "def download_climate_data(state,county,year):\n",
    "    save_path = \"datasets/original/weather/\"\n",
    "    fname = state + county + \"_\" + str(year) + \".csv\"\n",
    "    if (len(glob.glob(save_path + fname))==0):\n",
    "        URL = \"https://www.ncdc.noaa.gov/cag/county/time-series/{}-{}-{}-all-1-2000-2020.csv?base_prd=true&begbaseyear=1901&endbaseyear=2000\".format(state,county,\"tavg\")\n",
    "        r = requests.get(URL)\n",
    "        file = wget.download(URL,out=save_path + \"tavg/tavg_\" + fname)\n",
    "        URL = \"https://www.ncdc.noaa.gov/cag/county/time-series/{}-{}-{}-all-1-2000-2020.csv?base_prd=true&begbaseyear=1901&endbaseyear=2000\".format(state,county,\"pcp\")\n",
    "        r = requests.get(URL)\n",
    "        file = wget.download(URL,out=save_path + \"pcp/pcp_\" + fname)\n",
    "\n",
    "        tavg_df = pd.read_csv(save_path + \"tavg/tavg_\" + fname).iloc[4:]\n",
    "        tavg_df.columns=[\"date\",\"tavg\",\"comp\"]\n",
    "        tavg = tavg_df.set_index(\"date\")[\"tavg\"]\n",
    "\n",
    "        pcp_df = pd.read_csv(save_path + \"pcp/pcp_\" + fname).iloc[4:]\n",
    "        pcp_df.columns=[\"date\",\"pcp\",\"comp\"]\n",
    "        pcp = pcp_df.set_index(\"date\")[\"pcp\"]\n",
    "\n",
    "        pd.concat([tavg, pcp], axis=1).to_csv(save_path + fname)\n",
    "        time.sleep(1) # not requesting too frequently"
   ]
  },
  {
   "cell_type": "code",
   "execution_count": 25,
   "metadata": {},
   "outputs": [
    {
     "data": {
      "text/html": [
       "<div>\n",
       "<style scoped>\n",
       "    .dataframe tbody tr th:only-of-type {\n",
       "        vertical-align: middle;\n",
       "    }\n",
       "\n",
       "    .dataframe tbody tr th {\n",
       "        vertical-align: top;\n",
       "    }\n",
       "\n",
       "    .dataframe thead th {\n",
       "        text-align: right;\n",
       "    }\n",
       "</style>\n",
       "<table border=\"1\" class=\"dataframe\">\n",
       "  <thead>\n",
       "    <tr style=\"text-align: right;\">\n",
       "      <th></th>\n",
       "      <th>airport_code</th>\n",
       "      <th>state_id</th>\n",
       "      <th>county_id</th>\n",
       "      <th>city_id</th>\n",
       "      <th>fips</th>\n",
       "      <th>population</th>\n",
       "    </tr>\n",
       "  </thead>\n",
       "  <tbody>\n",
       "    <tr>\n",
       "      <td>0</td>\n",
       "      <td>ABE</td>\n",
       "      <td>PA</td>\n",
       "      <td>077</td>\n",
       "      <td>10988</td>\n",
       "      <td>42077</td>\n",
       "      <td>682899</td>\n",
       "    </tr>\n",
       "    <tr>\n",
       "      <td>1</td>\n",
       "      <td>ABI</td>\n",
       "      <td>TX</td>\n",
       "      <td>441</td>\n",
       "      <td>5333</td>\n",
       "      <td>48441</td>\n",
       "      <td>114964</td>\n",
       "    </tr>\n",
       "    <tr>\n",
       "      <td>2</td>\n",
       "      <td>ABQ</td>\n",
       "      <td>NM</td>\n",
       "      <td>001</td>\n",
       "      <td>3742</td>\n",
       "      <td>35001</td>\n",
       "      <td>758523</td>\n",
       "    </tr>\n",
       "    <tr>\n",
       "      <td>3</td>\n",
       "      <td>ABR</td>\n",
       "      <td>SD</td>\n",
       "      <td>013</td>\n",
       "      <td>28674</td>\n",
       "      <td>46013</td>\n",
       "      <td>28264</td>\n",
       "    </tr>\n",
       "    <tr>\n",
       "      <td>4</td>\n",
       "      <td>ABY</td>\n",
       "      <td>GA</td>\n",
       "      <td>095</td>\n",
       "      <td>17309</td>\n",
       "      <td>13095</td>\n",
       "      <td>90515</td>\n",
       "    </tr>\n",
       "  </tbody>\n",
       "</table>\n",
       "</div>"
      ],
      "text/plain": [
       "  airport_code state_id county_id city_id   fips population\n",
       "0          ABE       PA       077   10988  42077     682899\n",
       "1          ABI       TX       441    5333  48441     114964\n",
       "2          ABQ       NM       001    3742  35001     758523\n",
       "3          ABR       SD       013   28674  46013      28264\n",
       "4          ABY       GA       095   17309  13095      90515"
      ]
     },
     "execution_count": 25,
     "metadata": {},
     "output_type": "execute_result"
    }
   ],
   "source": [
    "city_search_df.head()"
   ]
  },
  {
   "cell_type": "code",
   "execution_count": 26,
   "metadata": {},
   "outputs": [
    {
     "name": "stdout",
     "output_type": "stream",
     "text": [
      "progress: 100.00%   Just done: YUM\r"
     ]
    }
   ],
   "source": [
    "counter = 0\n",
    "# Download data according to city_search_df\n",
    "for ind,row in city_search_df.iterrows():\n",
    "    try:\n",
    "        download_climate_data(row[\"state_id\"],row[\"county_id\"],2018)\n",
    "#        download_climate_data(row[\"state_id\"],row[\"county_id\"],2019)\n",
    "    except:\n",
    "        print(row)\n",
    "    counter+=1\n",
    "    print(\"progress: {:.2f}%   Just done: {}\".format(100 * counter / city_search_df.shape[0],row[\"airport_code\"]),end=\"\\r\")\n",
    "\n",
    "# Process downloaded data\n",
    "temp_pcp_df = pd.DataFrame(columns=[\"airport_code\",\"temp_avg\",\"pcp_avg\"])\n",
    "for ind,row in city_search_df.iterrows():\n",
    "    state = row[\"state_id\"]\n",
    "    county = row[\"county_id\"]\n",
    "    save_path = \"datasets/original/weather/\"\n",
    "    \n",
    "    try:\n",
    "        fname = state + county + \"_2018.csv\" # change it to 2018 only --YD\n",
    "        temp_pcp = pd.read_csv(save_path + fname)\n",
    "        tavg = temp_pcp.mean()[\"tavg\"]\n",
    "        pcp = temp_pcp.mean()[\"pcp\"]\n",
    "        \n",
    "        temp_pcp_df = temp_pcp_df.append({\"airport_code\":row[\"airport_code\"],\"temp_avg\":tavg,\"pcp_avg\":pcp},ignore_index=True)\n",
    "        \n",
    "    except:\n",
    "        temp_pcp_df = temp_pcp_df.append({\"airport_code\":row[\"airport_code\"],\"temp_avg\":np.nan,\"pcp_avg\":np.nan},ignore_index=True)"
   ]
  },
  {
   "cell_type": "code",
   "execution_count": 27,
   "metadata": {},
   "outputs": [
    {
     "data": {
      "text/html": [
       "<div>\n",
       "<style scoped>\n",
       "    .dataframe tbody tr th:only-of-type {\n",
       "        vertical-align: middle;\n",
       "    }\n",
       "\n",
       "    .dataframe tbody tr th {\n",
       "        vertical-align: top;\n",
       "    }\n",
       "\n",
       "    .dataframe thead th {\n",
       "        text-align: right;\n",
       "    }\n",
       "</style>\n",
       "<table border=\"1\" class=\"dataframe\">\n",
       "  <thead>\n",
       "    <tr style=\"text-align: right;\">\n",
       "      <th></th>\n",
       "      <th>city_name</th>\n",
       "      <th>code4</th>\n",
       "      <th>latitude</th>\n",
       "      <th>longitude</th>\n",
       "      <th>altitude_ft</th>\n",
       "      <th>city_id</th>\n",
       "      <th>fips</th>\n",
       "      <th>population</th>\n",
       "      <th>temp_avg</th>\n",
       "      <th>pcp_avg</th>\n",
       "    </tr>\n",
       "    <tr>\n",
       "      <th>airport_code</th>\n",
       "      <th></th>\n",
       "      <th></th>\n",
       "      <th></th>\n",
       "      <th></th>\n",
       "      <th></th>\n",
       "      <th></th>\n",
       "      <th></th>\n",
       "      <th></th>\n",
       "      <th></th>\n",
       "      <th></th>\n",
       "    </tr>\n",
       "  </thead>\n",
       "  <tbody>\n",
       "    <tr>\n",
       "      <td>ABE</td>\n",
       "      <td>allentown</td>\n",
       "      <td>KABE</td>\n",
       "      <td>40.652100</td>\n",
       "      <td>-75.440804</td>\n",
       "      <td>393</td>\n",
       "      <td>10988</td>\n",
       "      <td>42077</td>\n",
       "      <td>682899</td>\n",
       "      <td>51.902490</td>\n",
       "      <td>4.161037</td>\n",
       "    </tr>\n",
       "    <tr>\n",
       "      <td>ABI</td>\n",
       "      <td>abilene</td>\n",
       "      <td>KABI</td>\n",
       "      <td>32.411301</td>\n",
       "      <td>-99.681900</td>\n",
       "      <td>1791</td>\n",
       "      <td>5333</td>\n",
       "      <td>48441</td>\n",
       "      <td>114964</td>\n",
       "      <td>64.488797</td>\n",
       "      <td>2.131411</td>\n",
       "    </tr>\n",
       "    <tr>\n",
       "      <td>ABQ</td>\n",
       "      <td>albuquerque</td>\n",
       "      <td>KABQ</td>\n",
       "      <td>35.040199</td>\n",
       "      <td>-106.609001</td>\n",
       "      <td>5355</td>\n",
       "      <td>3742</td>\n",
       "      <td>35001</td>\n",
       "      <td>758523</td>\n",
       "      <td>54.316598</td>\n",
       "      <td>0.928465</td>\n",
       "    </tr>\n",
       "    <tr>\n",
       "      <td>ABR</td>\n",
       "      <td>aberdeen</td>\n",
       "      <td>KABR</td>\n",
       "      <td>45.449100</td>\n",
       "      <td>-98.421799</td>\n",
       "      <td>1302</td>\n",
       "      <td>28674</td>\n",
       "      <td>46013</td>\n",
       "      <td>28264</td>\n",
       "      <td>43.304149</td>\n",
       "      <td>1.796141</td>\n",
       "    </tr>\n",
       "    <tr>\n",
       "      <td>ABY</td>\n",
       "      <td>albany</td>\n",
       "      <td>KABY</td>\n",
       "      <td>31.535500</td>\n",
       "      <td>-84.194504</td>\n",
       "      <td>197</td>\n",
       "      <td>17309</td>\n",
       "      <td>13095</td>\n",
       "      <td>90515</td>\n",
       "      <td>66.578008</td>\n",
       "      <td>4.069336</td>\n",
       "    </tr>\n",
       "  </tbody>\n",
       "</table>\n",
       "</div>"
      ],
      "text/plain": [
       "                city_name code4   latitude   longitude  altitude_ft city_id  \\\n",
       "airport_code                                                                  \n",
       "ABE             allentown  KABE  40.652100  -75.440804          393   10988   \n",
       "ABI               abilene  KABI  32.411301  -99.681900         1791    5333   \n",
       "ABQ           albuquerque  KABQ  35.040199 -106.609001         5355    3742   \n",
       "ABR              aberdeen  KABR  45.449100  -98.421799         1302   28674   \n",
       "ABY                albany  KABY  31.535500  -84.194504          197   17309   \n",
       "\n",
       "               fips population   temp_avg   pcp_avg  \n",
       "airport_code                                         \n",
       "ABE           42077     682899  51.902490  4.161037  \n",
       "ABI           48441     114964  64.488797  2.131411  \n",
       "ABQ           35001     758523  54.316598  0.928465  \n",
       "ABR           46013      28264  43.304149  1.796141  \n",
       "ABY           13095      90515  66.578008  4.069336  "
      ]
     },
     "execution_count": 27,
     "metadata": {},
     "output_type": "execute_result"
    }
   ],
   "source": [
    "airport_prop_df = airport_prop_df.merge(temp_pcp_df.set_index(\"airport_code\"),left_index=True,right_index=True)\n",
    "airport_prop_df.head()"
   ]
  },
  {
   "cell_type": "markdown",
   "metadata": {},
   "source": [
    "#### 2.7 Bird Strike dataset - strike_average, damage_average\n",
    "Clean `datasets/original/airports/Bird Strikes.xlsx`. Merge `bird_strike_avg_df` and `unpleasant_airport_code_df` to get `bird_strike_final_df`. Export it as `bird_strike.csv`.There's no airport code in `Bird Strikes.xlsx`, so additional dataset that contains airport name and airport code is used to link them."
   ]
  },
  {
   "cell_type": "markdown",
   "metadata": {},
   "source": [
    "https://data.world/hhaveliw/data-visualization-bird-strike"
   ]
  },
  {
   "cell_type": "code",
   "execution_count": 28,
   "metadata": {},
   "outputs": [],
   "source": [
    "bird_strike_df = pd.read_excel(\"datasets/original/airport/Bird Strikes.xlsx\") #data6\n",
    "airport_name_df = pd.read_excel(\"datasets/original/airport/airportcode.xlsx\") #data7 "
   ]
  },
  {
   "cell_type": "code",
   "execution_count": 29,
   "metadata": {},
   "outputs": [
    {
     "data": {
      "text/html": [
       "<div>\n",
       "<style scoped>\n",
       "    .dataframe tbody tr th:only-of-type {\n",
       "        vertical-align: middle;\n",
       "    }\n",
       "\n",
       "    .dataframe tbody tr th {\n",
       "        vertical-align: top;\n",
       "    }\n",
       "\n",
       "    .dataframe thead th {\n",
       "        text-align: right;\n",
       "    }\n",
       "</style>\n",
       "<table border=\"1\" class=\"dataframe\">\n",
       "  <thead>\n",
       "    <tr style=\"text-align: right;\">\n",
       "      <th></th>\n",
       "      <th>Record ID</th>\n",
       "      <th>Aircraft: Type</th>\n",
       "      <th>Airport: Name</th>\n",
       "      <th>Altitude bin</th>\n",
       "      <th>Aircraft: Make/Model</th>\n",
       "      <th>Wildlife: Number struck</th>\n",
       "      <th>Wildlife: Number Struck Actual</th>\n",
       "      <th>Effect: Impact to flight</th>\n",
       "      <th>FlightDate</th>\n",
       "      <th>Effect: Indicated Damage</th>\n",
       "      <th>...</th>\n",
       "      <th>Remains of wildlife sent to Smithsonian</th>\n",
       "      <th>Remarks</th>\n",
       "      <th>Wildlife: Size</th>\n",
       "      <th>Conditions: Sky</th>\n",
       "      <th>Wildlife: Species</th>\n",
       "      <th>Pilot warned of birds or wildlife?</th>\n",
       "      <th>Cost: Total $</th>\n",
       "      <th>Feet above ground</th>\n",
       "      <th>Number of people injured</th>\n",
       "      <th>Is Aircraft Large?</th>\n",
       "    </tr>\n",
       "  </thead>\n",
       "  <tbody>\n",
       "    <tr>\n",
       "      <td>0</td>\n",
       "      <td>202152</td>\n",
       "      <td>Airplane</td>\n",
       "      <td>LAGUARDIA NY</td>\n",
       "      <td>&gt; 1000 ft</td>\n",
       "      <td>B-737-400</td>\n",
       "      <td>Over 100</td>\n",
       "      <td>859</td>\n",
       "      <td>Engine Shut Down</td>\n",
       "      <td>2000-11-23</td>\n",
       "      <td>Caused damage</td>\n",
       "      <td>...</td>\n",
       "      <td>False</td>\n",
       "      <td>FLT 753. PILOT REPTD A HUNDRED BIRDS ON UNKN T...</td>\n",
       "      <td>Medium</td>\n",
       "      <td>No Cloud</td>\n",
       "      <td>Unknown bird - medium</td>\n",
       "      <td>N</td>\n",
       "      <td>30736</td>\n",
       "      <td>1500.0</td>\n",
       "      <td>0</td>\n",
       "      <td>Yes</td>\n",
       "    </tr>\n",
       "    <tr>\n",
       "      <td>1</td>\n",
       "      <td>208159</td>\n",
       "      <td>Airplane</td>\n",
       "      <td>DALLAS/FORT WORTH INTL ARPT</td>\n",
       "      <td>&lt; 1000 ft</td>\n",
       "      <td>MD-80</td>\n",
       "      <td>Over 100</td>\n",
       "      <td>424</td>\n",
       "      <td>None</td>\n",
       "      <td>2001-07-25</td>\n",
       "      <td>Caused damage</td>\n",
       "      <td>...</td>\n",
       "      <td>False</td>\n",
       "      <td>102 CARCASSES FOUND. 1 LDG LIGHT ON NOSE GEAR ...</td>\n",
       "      <td>Small</td>\n",
       "      <td>Some Cloud</td>\n",
       "      <td>Rock pigeon</td>\n",
       "      <td>Y</td>\n",
       "      <td>0</td>\n",
       "      <td>0.0</td>\n",
       "      <td>0</td>\n",
       "      <td>No</td>\n",
       "    </tr>\n",
       "    <tr>\n",
       "      <td>2</td>\n",
       "      <td>207601</td>\n",
       "      <td>Airplane</td>\n",
       "      <td>LAKEFRONT AIRPORT</td>\n",
       "      <td>&lt; 1000 ft</td>\n",
       "      <td>C-500</td>\n",
       "      <td>Over 100</td>\n",
       "      <td>261</td>\n",
       "      <td>None</td>\n",
       "      <td>2001-09-14</td>\n",
       "      <td>No damage</td>\n",
       "      <td>...</td>\n",
       "      <td>False</td>\n",
       "      <td>FLEW UNDER A VERY LARGE FLOCK OF BIRDS OVER AP...</td>\n",
       "      <td>Small</td>\n",
       "      <td>No Cloud</td>\n",
       "      <td>European starling</td>\n",
       "      <td>N</td>\n",
       "      <td>0</td>\n",
       "      <td>50.0</td>\n",
       "      <td>0</td>\n",
       "      <td>No</td>\n",
       "    </tr>\n",
       "    <tr>\n",
       "      <td>3</td>\n",
       "      <td>215953</td>\n",
       "      <td>Airplane</td>\n",
       "      <td>SEATTLE-TACOMA INTL</td>\n",
       "      <td>&lt; 1000 ft</td>\n",
       "      <td>B-737-400</td>\n",
       "      <td>Over 100</td>\n",
       "      <td>806</td>\n",
       "      <td>Precautionary Landing</td>\n",
       "      <td>2002-09-05</td>\n",
       "      <td>No damage</td>\n",
       "      <td>...</td>\n",
       "      <td>False</td>\n",
       "      <td>NOTAM WARNING. 26 BIRDS HIT THE A/C, FORCING A...</td>\n",
       "      <td>Small</td>\n",
       "      <td>Some Cloud</td>\n",
       "      <td>European starling</td>\n",
       "      <td>Y</td>\n",
       "      <td>0</td>\n",
       "      <td>50.0</td>\n",
       "      <td>0</td>\n",
       "      <td>Yes</td>\n",
       "    </tr>\n",
       "    <tr>\n",
       "      <td>4</td>\n",
       "      <td>219878</td>\n",
       "      <td>Airplane</td>\n",
       "      <td>NORFOLK INTL</td>\n",
       "      <td>&lt; 1000 ft</td>\n",
       "      <td>CL-RJ100/200</td>\n",
       "      <td>Over 100</td>\n",
       "      <td>942</td>\n",
       "      <td>None</td>\n",
       "      <td>2003-06-23</td>\n",
       "      <td>No damage</td>\n",
       "      <td>...</td>\n",
       "      <td>False</td>\n",
       "      <td>NO DMG REPTD.</td>\n",
       "      <td>Small</td>\n",
       "      <td>No Cloud</td>\n",
       "      <td>European starling</td>\n",
       "      <td>N</td>\n",
       "      <td>0</td>\n",
       "      <td>50.0</td>\n",
       "      <td>0</td>\n",
       "      <td>No</td>\n",
       "    </tr>\n",
       "    <tr>\n",
       "      <td>...</td>\n",
       "      <td>...</td>\n",
       "      <td>...</td>\n",
       "      <td>...</td>\n",
       "      <td>...</td>\n",
       "      <td>...</td>\n",
       "      <td>...</td>\n",
       "      <td>...</td>\n",
       "      <td>...</td>\n",
       "      <td>...</td>\n",
       "      <td>...</td>\n",
       "      <td>...</td>\n",
       "      <td>...</td>\n",
       "      <td>...</td>\n",
       "      <td>...</td>\n",
       "      <td>...</td>\n",
       "      <td>...</td>\n",
       "      <td>...</td>\n",
       "      <td>...</td>\n",
       "      <td>...</td>\n",
       "      <td>...</td>\n",
       "      <td>...</td>\n",
       "    </tr>\n",
       "    <tr>\n",
       "      <td>25553</td>\n",
       "      <td>321151</td>\n",
       "      <td>Airplane</td>\n",
       "      <td>REDDING MUNICIPAL</td>\n",
       "      <td>&gt; 1000 ft</td>\n",
       "      <td>EMB-120</td>\n",
       "      <td>1</td>\n",
       "      <td>1</td>\n",
       "      <td>None</td>\n",
       "      <td>2011-12-30</td>\n",
       "      <td>No damage</td>\n",
       "      <td>...</td>\n",
       "      <td>False</td>\n",
       "      <td>DUCK? NO DMG REPTD.</td>\n",
       "      <td>Large</td>\n",
       "      <td>Overcast</td>\n",
       "      <td>Unknown bird - large</td>\n",
       "      <td>N</td>\n",
       "      <td>0</td>\n",
       "      <td>1500.0</td>\n",
       "      <td>0</td>\n",
       "      <td>No</td>\n",
       "    </tr>\n",
       "    <tr>\n",
       "      <td>25554</td>\n",
       "      <td>319677</td>\n",
       "      <td>Airplane</td>\n",
       "      <td>ORLANDO INTL</td>\n",
       "      <td>&lt; 1000 ft</td>\n",
       "      <td>A-321</td>\n",
       "      <td>1</td>\n",
       "      <td>1</td>\n",
       "      <td>None</td>\n",
       "      <td>2011-12-30</td>\n",
       "      <td>No damage</td>\n",
       "      <td>...</td>\n",
       "      <td>False</td>\n",
       "      <td>NaN</td>\n",
       "      <td>Small</td>\n",
       "      <td>Some Cloud</td>\n",
       "      <td>Tree swallow</td>\n",
       "      <td>Y</td>\n",
       "      <td>0</td>\n",
       "      <td>0.0</td>\n",
       "      <td>0</td>\n",
       "      <td>No</td>\n",
       "    </tr>\n",
       "    <tr>\n",
       "      <td>25555</td>\n",
       "      <td>319680</td>\n",
       "      <td>NaN</td>\n",
       "      <td>NaN</td>\n",
       "      <td>NaN</td>\n",
       "      <td>EC-135</td>\n",
       "      <td>NaN</td>\n",
       "      <td>1</td>\n",
       "      <td>NaN</td>\n",
       "      <td>NaT</td>\n",
       "      <td>No damage</td>\n",
       "      <td>...</td>\n",
       "      <td>False</td>\n",
       "      <td>STRUCK BIRD ON RT FRONT DURING T/O. BIRD REPTD...</td>\n",
       "      <td>NaN</td>\n",
       "      <td>No Cloud</td>\n",
       "      <td>Unknown bird - small</td>\n",
       "      <td>NaN</td>\n",
       "      <td>0</td>\n",
       "      <td>NaN</td>\n",
       "      <td>0</td>\n",
       "      <td>NaN</td>\n",
       "    </tr>\n",
       "    <tr>\n",
       "      <td>25556</td>\n",
       "      <td>319679</td>\n",
       "      <td>Airplane</td>\n",
       "      <td>DETROIT METRO WAYNE COUNTY ARPT</td>\n",
       "      <td>&lt; 1000 ft</td>\n",
       "      <td>B-757-200</td>\n",
       "      <td>1</td>\n",
       "      <td>1</td>\n",
       "      <td>None</td>\n",
       "      <td>2011-12-31</td>\n",
       "      <td>No damage</td>\n",
       "      <td>...</td>\n",
       "      <td>False</td>\n",
       "      <td>PILOTS REPORT STRIKING UNKNOWN BIRD ON RWY 21L...</td>\n",
       "      <td>Medium</td>\n",
       "      <td>Some Cloud</td>\n",
       "      <td>Unknown bird - medium</td>\n",
       "      <td>Y</td>\n",
       "      <td>0</td>\n",
       "      <td>0.0</td>\n",
       "      <td>0</td>\n",
       "      <td>Yes</td>\n",
       "    </tr>\n",
       "    <tr>\n",
       "      <td>25557</td>\n",
       "      <td>319593</td>\n",
       "      <td>Airplane</td>\n",
       "      <td>ABRAHAM LINCOLN CAPITAL ARPT</td>\n",
       "      <td>&lt; 1000 ft</td>\n",
       "      <td>B-737-400</td>\n",
       "      <td>1</td>\n",
       "      <td>1</td>\n",
       "      <td>None</td>\n",
       "      <td>2011-12-31</td>\n",
       "      <td>Caused damage</td>\n",
       "      <td>...</td>\n",
       "      <td>False</td>\n",
       "      <td>HIT CENTER OF RADOME, CAVING IN ABOUT 12\". RAD...</td>\n",
       "      <td>Medium</td>\n",
       "      <td>No Cloud</td>\n",
       "      <td>Red-tailed hawk</td>\n",
       "      <td>N</td>\n",
       "      <td>0</td>\n",
       "      <td>0.0</td>\n",
       "      <td>0</td>\n",
       "      <td>Yes</td>\n",
       "    </tr>\n",
       "  </tbody>\n",
       "</table>\n",
       "<p>25558 rows × 26 columns</p>\n",
       "</div>"
      ],
      "text/plain": [
       "       Record ID Aircraft: Type                    Airport: Name Altitude bin  \\\n",
       "0         202152       Airplane                     LAGUARDIA NY    > 1000 ft   \n",
       "1         208159       Airplane      DALLAS/FORT WORTH INTL ARPT    < 1000 ft   \n",
       "2         207601       Airplane                LAKEFRONT AIRPORT    < 1000 ft   \n",
       "3         215953       Airplane              SEATTLE-TACOMA INTL    < 1000 ft   \n",
       "4         219878       Airplane                     NORFOLK INTL    < 1000 ft   \n",
       "...          ...            ...                              ...          ...   \n",
       "25553     321151       Airplane                REDDING MUNICIPAL    > 1000 ft   \n",
       "25554     319677       Airplane                     ORLANDO INTL    < 1000 ft   \n",
       "25555     319680            NaN                              NaN          NaN   \n",
       "25556     319679       Airplane  DETROIT METRO WAYNE COUNTY ARPT    < 1000 ft   \n",
       "25557     319593       Airplane     ABRAHAM LINCOLN CAPITAL ARPT    < 1000 ft   \n",
       "\n",
       "      Aircraft: Make/Model Wildlife: Number struck  \\\n",
       "0                B-737-400                Over 100   \n",
       "1                    MD-80                Over 100   \n",
       "2                    C-500                Over 100   \n",
       "3                B-737-400                Over 100   \n",
       "4             CL-RJ100/200                Over 100   \n",
       "...                    ...                     ...   \n",
       "25553              EMB-120                       1   \n",
       "25554                A-321                       1   \n",
       "25555               EC-135                     NaN   \n",
       "25556            B-757-200                       1   \n",
       "25557            B-737-400                       1   \n",
       "\n",
       "       Wildlife: Number Struck Actual Effect: Impact to flight FlightDate  \\\n",
       "0                                 859         Engine Shut Down 2000-11-23   \n",
       "1                                 424                     None 2001-07-25   \n",
       "2                                 261                     None 2001-09-14   \n",
       "3                                 806    Precautionary Landing 2002-09-05   \n",
       "4                                 942                     None 2003-06-23   \n",
       "...                               ...                      ...        ...   \n",
       "25553                               1                     None 2011-12-30   \n",
       "25554                               1                     None 2011-12-30   \n",
       "25555                               1                      NaN        NaT   \n",
       "25556                               1                     None 2011-12-31   \n",
       "25557                               1                     None 2011-12-31   \n",
       "\n",
       "      Effect: Indicated Damage  ... Remains of wildlife sent to Smithsonian  \\\n",
       "0                Caused damage  ...                                   False   \n",
       "1                Caused damage  ...                                   False   \n",
       "2                    No damage  ...                                   False   \n",
       "3                    No damage  ...                                   False   \n",
       "4                    No damage  ...                                   False   \n",
       "...                        ...  ...                                     ...   \n",
       "25553                No damage  ...                                   False   \n",
       "25554                No damage  ...                                   False   \n",
       "25555                No damage  ...                                   False   \n",
       "25556                No damage  ...                                   False   \n",
       "25557            Caused damage  ...                                   False   \n",
       "\n",
       "                                                 Remarks Wildlife: Size  \\\n",
       "0      FLT 753. PILOT REPTD A HUNDRED BIRDS ON UNKN T...         Medium   \n",
       "1      102 CARCASSES FOUND. 1 LDG LIGHT ON NOSE GEAR ...          Small   \n",
       "2      FLEW UNDER A VERY LARGE FLOCK OF BIRDS OVER AP...          Small   \n",
       "3      NOTAM WARNING. 26 BIRDS HIT THE A/C, FORCING A...          Small   \n",
       "4                                          NO DMG REPTD.          Small   \n",
       "...                                                  ...            ...   \n",
       "25553                                DUCK? NO DMG REPTD.          Large   \n",
       "25554                                                NaN          Small   \n",
       "25555  STRUCK BIRD ON RT FRONT DURING T/O. BIRD REPTD...            NaN   \n",
       "25556  PILOTS REPORT STRIKING UNKNOWN BIRD ON RWY 21L...         Medium   \n",
       "25557  HIT CENTER OF RADOME, CAVING IN ABOUT 12\". RAD...         Medium   \n",
       "\n",
       "      Conditions: Sky      Wildlife: Species  \\\n",
       "0            No Cloud  Unknown bird - medium   \n",
       "1          Some Cloud            Rock pigeon   \n",
       "2            No Cloud      European starling   \n",
       "3          Some Cloud      European starling   \n",
       "4            No Cloud      European starling   \n",
       "...               ...                    ...   \n",
       "25553        Overcast   Unknown bird - large   \n",
       "25554      Some Cloud           Tree swallow   \n",
       "25555        No Cloud   Unknown bird - small   \n",
       "25556      Some Cloud  Unknown bird - medium   \n",
       "25557        No Cloud        Red-tailed hawk   \n",
       "\n",
       "       Pilot warned of birds or wildlife?  Cost: Total $ Feet above ground  \\\n",
       "0                                       N          30736            1500.0   \n",
       "1                                       Y              0               0.0   \n",
       "2                                       N              0              50.0   \n",
       "3                                       Y              0              50.0   \n",
       "4                                       N              0              50.0   \n",
       "...                                   ...            ...               ...   \n",
       "25553                                   N              0            1500.0   \n",
       "25554                                   Y              0               0.0   \n",
       "25555                                 NaN              0               NaN   \n",
       "25556                                   Y              0               0.0   \n",
       "25557                                   N              0               0.0   \n",
       "\n",
       "      Number of people injured Is Aircraft Large?  \n",
       "0                            0                Yes  \n",
       "1                            0                 No  \n",
       "2                            0                 No  \n",
       "3                            0                Yes  \n",
       "4                            0                 No  \n",
       "...                        ...                ...  \n",
       "25553                        0                 No  \n",
       "25554                        0                 No  \n",
       "25555                        0                NaN  \n",
       "25556                        0                Yes  \n",
       "25557                        0                Yes  \n",
       "\n",
       "[25558 rows x 26 columns]"
      ]
     },
     "execution_count": 29,
     "metadata": {},
     "output_type": "execute_result"
    }
   ],
   "source": [
    "bird_strike_df"
   ]
  },
  {
   "cell_type": "code",
   "execution_count": 30,
   "metadata": {},
   "outputs": [
    {
     "data": {
      "text/html": [
       "<div>\n",
       "<style scoped>\n",
       "    .dataframe tbody tr th:only-of-type {\n",
       "        vertical-align: middle;\n",
       "    }\n",
       "\n",
       "    .dataframe tbody tr th {\n",
       "        vertical-align: top;\n",
       "    }\n",
       "\n",
       "    .dataframe thead th {\n",
       "        text-align: right;\n",
       "    }\n",
       "</style>\n",
       "<table border=\"1\" class=\"dataframe\">\n",
       "  <thead>\n",
       "    <tr style=\"text-align: right;\">\n",
       "      <th></th>\n",
       "      <th>airport_code</th>\n",
       "      <th>airport_name</th>\n",
       "    </tr>\n",
       "  </thead>\n",
       "  <tbody>\n",
       "    <tr>\n",
       "      <td>0</td>\n",
       "      <td>ABE</td>\n",
       "      <td>Lehigh Valley International</td>\n",
       "    </tr>\n",
       "    <tr>\n",
       "      <td>1</td>\n",
       "      <td>ABI</td>\n",
       "      <td>Abilene Regional Airport</td>\n",
       "    </tr>\n",
       "    <tr>\n",
       "      <td>2</td>\n",
       "      <td>ABQ</td>\n",
       "      <td>Albuquerque International Sunport</td>\n",
       "    </tr>\n",
       "    <tr>\n",
       "      <td>3</td>\n",
       "      <td>ABY</td>\n",
       "      <td>Southwest Georgia Regional</td>\n",
       "    </tr>\n",
       "    <tr>\n",
       "      <td>4</td>\n",
       "      <td>ACK</td>\n",
       "      <td>Nantucket Memorial</td>\n",
       "    </tr>\n",
       "    <tr>\n",
       "      <td>...</td>\n",
       "      <td>...</td>\n",
       "      <td>...</td>\n",
       "    </tr>\n",
       "    <tr>\n",
       "      <td>754</td>\n",
       "      <td>WYS</td>\n",
       "      <td>West Yellowstone</td>\n",
       "    </tr>\n",
       "    <tr>\n",
       "      <td>755</td>\n",
       "      <td>XNA</td>\n",
       "      <td>Northwest Arkansas Regional</td>\n",
       "    </tr>\n",
       "    <tr>\n",
       "      <td>756</td>\n",
       "      <td>YAK</td>\n",
       "      <td>Yakutat</td>\n",
       "    </tr>\n",
       "    <tr>\n",
       "      <td>757</td>\n",
       "      <td>YKM</td>\n",
       "      <td>Yakima Air Terminal</td>\n",
       "    </tr>\n",
       "    <tr>\n",
       "      <td>758</td>\n",
       "      <td>YNG</td>\n",
       "      <td>Youngstown-Warren Regional</td>\n",
       "    </tr>\n",
       "  </tbody>\n",
       "</table>\n",
       "<p>759 rows × 2 columns</p>\n",
       "</div>"
      ],
      "text/plain": [
       "    airport_code                       airport_name\n",
       "0            ABE        Lehigh Valley International\n",
       "1            ABI           Abilene Regional Airport\n",
       "2            ABQ  Albuquerque International Sunport\n",
       "3            ABY         Southwest Georgia Regional\n",
       "4            ACK                 Nantucket Memorial\n",
       "..           ...                                ...\n",
       "754          WYS                   West Yellowstone\n",
       "755          XNA        Northwest Arkansas Regional\n",
       "756          YAK                            Yakutat\n",
       "757          YKM                Yakima Air Terminal\n",
       "758          YNG         Youngstown-Warren Regional\n",
       "\n",
       "[759 rows x 2 columns]"
      ]
     },
     "execution_count": 30,
     "metadata": {},
     "output_type": "execute_result"
    }
   ],
   "source": [
    "airport_name_df"
   ]
  },
  {
   "cell_type": "code",
   "execution_count": 31,
   "metadata": {},
   "outputs": [],
   "source": [
    "bird_strike_df = bird_strike_df[[\"Airport: Name\", \"Effect: Indicated Damage\"]]\n",
    "bird_strike_df = bird_strike_df.rename(columns = {\"Airport: Name\": \"airport_name\", \"Effect: Indicated Damage\":\"bird_strike_effect\"})\n",
    "bird_strike_df = bird_strike_df.dropna()\n",
    "bird_strike_df = bird_strike_df.reset_index(drop = True)"
   ]
  },
  {
   "cell_type": "code",
   "execution_count": 32,
   "metadata": {},
   "outputs": [
    {
     "data": {
      "text/html": [
       "<div>\n",
       "<style scoped>\n",
       "    .dataframe tbody tr th:only-of-type {\n",
       "        vertical-align: middle;\n",
       "    }\n",
       "\n",
       "    .dataframe tbody tr th {\n",
       "        vertical-align: top;\n",
       "    }\n",
       "\n",
       "    .dataframe thead th {\n",
       "        text-align: right;\n",
       "    }\n",
       "</style>\n",
       "<table border=\"1\" class=\"dataframe\">\n",
       "  <thead>\n",
       "    <tr style=\"text-align: right;\">\n",
       "      <th></th>\n",
       "      <th>airport_name</th>\n",
       "      <th>bird_strike_effect</th>\n",
       "    </tr>\n",
       "  </thead>\n",
       "  <tbody>\n",
       "    <tr>\n",
       "      <td>0</td>\n",
       "      <td>LAGUARDIA NY</td>\n",
       "      <td>Caused damage</td>\n",
       "    </tr>\n",
       "    <tr>\n",
       "      <td>1</td>\n",
       "      <td>DALLAS/FORT WORTH INTL ARPT</td>\n",
       "      <td>Caused damage</td>\n",
       "    </tr>\n",
       "    <tr>\n",
       "      <td>2</td>\n",
       "      <td>LAKEFRONT AIRPORT</td>\n",
       "      <td>No damage</td>\n",
       "    </tr>\n",
       "    <tr>\n",
       "      <td>3</td>\n",
       "      <td>SEATTLE-TACOMA INTL</td>\n",
       "      <td>No damage</td>\n",
       "    </tr>\n",
       "    <tr>\n",
       "      <td>4</td>\n",
       "      <td>NORFOLK INTL</td>\n",
       "      <td>No damage</td>\n",
       "    </tr>\n",
       "  </tbody>\n",
       "</table>\n",
       "</div>"
      ],
      "text/plain": [
       "                  airport_name bird_strike_effect\n",
       "0                 LAGUARDIA NY      Caused damage\n",
       "1  DALLAS/FORT WORTH INTL ARPT      Caused damage\n",
       "2            LAKEFRONT AIRPORT          No damage\n",
       "3          SEATTLE-TACOMA INTL          No damage\n",
       "4                 NORFOLK INTL          No damage"
      ]
     },
     "execution_count": 32,
     "metadata": {},
     "output_type": "execute_result"
    }
   ],
   "source": [
    "bird_strike_df.head()"
   ]
  },
  {
   "cell_type": "code",
   "execution_count": 33,
   "metadata": {},
   "outputs": [
    {
     "data": {
      "text/plain": [
       "25429"
      ]
     },
     "execution_count": 33,
     "metadata": {},
     "output_type": "execute_result"
    }
   ],
   "source": [
    "len(bird_strike_df)"
   ]
  },
  {
   "cell_type": "code",
   "execution_count": 34,
   "metadata": {},
   "outputs": [
    {
     "data": {
      "text/html": [
       "<div>\n",
       "<style scoped>\n",
       "    .dataframe tbody tr th:only-of-type {\n",
       "        vertical-align: middle;\n",
       "    }\n",
       "\n",
       "    .dataframe tbody tr th {\n",
       "        vertical-align: top;\n",
       "    }\n",
       "\n",
       "    .dataframe thead th {\n",
       "        text-align: right;\n",
       "    }\n",
       "</style>\n",
       "<table border=\"1\" class=\"dataframe\">\n",
       "  <thead>\n",
       "    <tr style=\"text-align: right;\">\n",
       "      <th></th>\n",
       "      <th>airport_code</th>\n",
       "      <th>airport_name</th>\n",
       "    </tr>\n",
       "  </thead>\n",
       "  <tbody>\n",
       "    <tr>\n",
       "      <td>0</td>\n",
       "      <td>ABE</td>\n",
       "      <td>Lehigh Valley International</td>\n",
       "    </tr>\n",
       "    <tr>\n",
       "      <td>1</td>\n",
       "      <td>ABI</td>\n",
       "      <td>Abilene Regional Airport</td>\n",
       "    </tr>\n",
       "    <tr>\n",
       "      <td>2</td>\n",
       "      <td>ABQ</td>\n",
       "      <td>Albuquerque International Sunport</td>\n",
       "    </tr>\n",
       "    <tr>\n",
       "      <td>3</td>\n",
       "      <td>ABY</td>\n",
       "      <td>Southwest Georgia Regional</td>\n",
       "    </tr>\n",
       "    <tr>\n",
       "      <td>4</td>\n",
       "      <td>ACK</td>\n",
       "      <td>Nantucket Memorial</td>\n",
       "    </tr>\n",
       "  </tbody>\n",
       "</table>\n",
       "</div>"
      ],
      "text/plain": [
       "  airport_code                       airport_name\n",
       "0          ABE        Lehigh Valley International\n",
       "1          ABI           Abilene Regional Airport\n",
       "2          ABQ  Albuquerque International Sunport\n",
       "3          ABY         Southwest Georgia Regional\n",
       "4          ACK                 Nantucket Memorial"
      ]
     },
     "execution_count": 34,
     "metadata": {},
     "output_type": "execute_result"
    }
   ],
   "source": [
    "airport_name_df = airport_name_df.dropna()\n",
    "airport_name_df = airport_name_df.reset_index(drop = True)\n",
    "airport_name_df.head()"
   ]
  },
  {
   "cell_type": "code",
   "execution_count": 35,
   "metadata": {},
   "outputs": [],
   "source": [
    "def standardize_airport_name(string):\n",
    "    \n",
    "    string = string.lower()\n",
    "    string = string.strip()\n",
    "    if 'intl' in string:\n",
    "        string = string.replace('intl', '')\n",
    "    if 'arpt' in string:\n",
    "        string = string.replace('arpt', '')\n",
    "    if 'regional' in string:\n",
    "        string = string.replace('regional', '')\n",
    "    if 'airport' in string:\n",
    "        string = string.replace('airport', '')\n",
    "    if 'sunport' in string:\n",
    "        string = string.replace('sunport', '')\n",
    "    if 'international' in string:\n",
    "        string = string.replace('international', '')\n",
    "    if 'intercontinental' in string:\n",
    "        string = string.replace('intercontinental', '')\n",
    "    else:\n",
    "        output = string\n",
    "        \n",
    "    string = string = string.strip()\n",
    "    \n",
    "    return string"
   ]
  },
  {
   "cell_type": "code",
   "execution_count": 36,
   "metadata": {},
   "outputs": [
    {
     "data": {
      "text/html": [
       "<div>\n",
       "<style scoped>\n",
       "    .dataframe tbody tr th:only-of-type {\n",
       "        vertical-align: middle;\n",
       "    }\n",
       "\n",
       "    .dataframe tbody tr th {\n",
       "        vertical-align: top;\n",
       "    }\n",
       "\n",
       "    .dataframe thead th {\n",
       "        text-align: right;\n",
       "    }\n",
       "</style>\n",
       "<table border=\"1\" class=\"dataframe\">\n",
       "  <thead>\n",
       "    <tr style=\"text-align: right;\">\n",
       "      <th></th>\n",
       "      <th>airport_name</th>\n",
       "      <th>bird_strike_effect</th>\n",
       "      <th>strike</th>\n",
       "      <th>damage</th>\n",
       "    </tr>\n",
       "  </thead>\n",
       "  <tbody>\n",
       "    <tr>\n",
       "      <td>0</td>\n",
       "      <td>laguardia ny</td>\n",
       "      <td>Caused damage</td>\n",
       "      <td>1</td>\n",
       "      <td>1</td>\n",
       "    </tr>\n",
       "    <tr>\n",
       "      <td>1</td>\n",
       "      <td>dallas/fort worth</td>\n",
       "      <td>Caused damage</td>\n",
       "      <td>1</td>\n",
       "      <td>1</td>\n",
       "    </tr>\n",
       "    <tr>\n",
       "      <td>2</td>\n",
       "      <td>lakefront</td>\n",
       "      <td>No damage</td>\n",
       "      <td>1</td>\n",
       "      <td>0</td>\n",
       "    </tr>\n",
       "    <tr>\n",
       "      <td>3</td>\n",
       "      <td>seattle-tacoma</td>\n",
       "      <td>No damage</td>\n",
       "      <td>1</td>\n",
       "      <td>0</td>\n",
       "    </tr>\n",
       "    <tr>\n",
       "      <td>4</td>\n",
       "      <td>norfolk</td>\n",
       "      <td>No damage</td>\n",
       "      <td>1</td>\n",
       "      <td>0</td>\n",
       "    </tr>\n",
       "  </tbody>\n",
       "</table>\n",
       "</div>"
      ],
      "text/plain": [
       "        airport_name bird_strike_effect  strike  damage\n",
       "0       laguardia ny      Caused damage       1       1\n",
       "1  dallas/fort worth      Caused damage       1       1\n",
       "2          lakefront          No damage       1       0\n",
       "3     seattle-tacoma          No damage       1       0\n",
       "4            norfolk          No damage       1       0"
      ]
     },
     "execution_count": 36,
     "metadata": {},
     "output_type": "execute_result"
    }
   ],
   "source": [
    "bird_strike_df['airport_name'] = bird_strike_df['airport_name'].apply(standardize_airport_name)\n",
    "airport_name_df['airport_name'] = airport_name_df['airport_name'].apply(standardize_airport_name)\n",
    "\n",
    "def check_strike (string):\n",
    "    return 1\n",
    "\n",
    "def check_damage (string):\n",
    "    if 'Caused' in string:\n",
    "        output = 1\n",
    "    else:\n",
    "        output = 0\n",
    "    return output\n",
    "\n",
    "bird_strike_df['strike'] = bird_strike_df['bird_strike_effect'].apply(check_strike)\n",
    "bird_strike_df['damage'] = bird_strike_df['bird_strike_effect'].apply(check_damage)\n",
    "bird_strike_df.head()"
   ]
  },
  {
   "cell_type": "code",
   "execution_count": 37,
   "metadata": {},
   "outputs": [
    {
     "data": {
      "text/html": [
       "<div>\n",
       "<style scoped>\n",
       "    .dataframe tbody tr th:only-of-type {\n",
       "        vertical-align: middle;\n",
       "    }\n",
       "\n",
       "    .dataframe tbody tr th {\n",
       "        vertical-align: top;\n",
       "    }\n",
       "\n",
       "    .dataframe thead th {\n",
       "        text-align: right;\n",
       "    }\n",
       "</style>\n",
       "<table border=\"1\" class=\"dataframe\">\n",
       "  <thead>\n",
       "    <tr style=\"text-align: right;\">\n",
       "      <th></th>\n",
       "      <th>airport_code</th>\n",
       "      <th>strike_avg</th>\n",
       "      <th>damage_avg</th>\n",
       "    </tr>\n",
       "  </thead>\n",
       "  <tbody>\n",
       "    <tr>\n",
       "      <td>0</td>\n",
       "      <td>ABE</td>\n",
       "      <td>5.250000</td>\n",
       "      <td>0.166667</td>\n",
       "    </tr>\n",
       "    <tr>\n",
       "      <td>1</td>\n",
       "      <td>ABI</td>\n",
       "      <td>0.750000</td>\n",
       "      <td>0.083333</td>\n",
       "    </tr>\n",
       "    <tr>\n",
       "      <td>2</td>\n",
       "      <td>ABQ</td>\n",
       "      <td>6.833333</td>\n",
       "      <td>0.250000</td>\n",
       "    </tr>\n",
       "    <tr>\n",
       "      <td>3</td>\n",
       "      <td>ABY</td>\n",
       "      <td>0.416667</td>\n",
       "      <td>0.083333</td>\n",
       "    </tr>\n",
       "    <tr>\n",
       "      <td>4</td>\n",
       "      <td>ACK</td>\n",
       "      <td>0.583333</td>\n",
       "      <td>0.083333</td>\n",
       "    </tr>\n",
       "  </tbody>\n",
       "</table>\n",
       "</div>"
      ],
      "text/plain": [
       "  airport_code  strike_avg  damage_avg\n",
       "0          ABE    5.250000    0.166667\n",
       "1          ABI    0.750000    0.083333\n",
       "2          ABQ    6.833333    0.250000\n",
       "3          ABY    0.416667    0.083333\n",
       "4          ACK    0.583333    0.083333"
      ]
     },
     "execution_count": 37,
     "metadata": {},
     "output_type": "execute_result"
    }
   ],
   "source": [
    "grouped_strike = bird_strike_df.groupby('airport_name').agg({'strike':['sum']})\n",
    "grouped_strike = grouped_strike.reset_index()\n",
    "grouped_damage = bird_strike_df.groupby('airport_name').agg({'damage':['sum']})\n",
    "\n",
    "bird_strike_sum_df = pd.merge(grouped_strike, grouped_damage, on='airport_name')\n",
    "bird_strike_sum_df.columns = ['airport_name', 'strike_sum','damage_sum']\n",
    "\n",
    "bird_strike_avg_df = pd.merge(airport_name_df, bird_strike_sum_df, on='airport_name')\n",
    "\n",
    "def average_sum(input):\n",
    "    output = input/(2011 - 2000 + 1)\n",
    "    return output\n",
    "\n",
    "bird_strike_avg_df['strike_avg'] = bird_strike_avg_df['strike_sum'].apply(average_sum)\n",
    "bird_strike_avg_df['damage_avg'] = bird_strike_avg_df['damage_sum'].apply(average_sum)\n",
    "bird_strike_avg_df = bird_strike_avg_df.drop(columns = ['strike_sum', 'damage_sum'])\n",
    "\n",
    "bird_strike_avg_df= bird_strike_avg_df.drop(columns = [\"airport_name\"])\n",
    "bird_strike_avg_df.head()"
   ]
  },
  {
   "cell_type": "markdown",
   "metadata": {},
   "source": [
    "We later need to merge this dataframe to `airport_prop_df`. However, not all airports have bird strike. Therefore, we used a right merge(that kept all rows from `airport_prop_df`) and filled nan with 0. "
   ]
  },
  {
   "cell_type": "code",
   "execution_count": 38,
   "metadata": {},
   "outputs": [
    {
     "data": {
      "text/html": [
       "<div>\n",
       "<style scoped>\n",
       "    .dataframe tbody tr th:only-of-type {\n",
       "        vertical-align: middle;\n",
       "    }\n",
       "\n",
       "    .dataframe tbody tr th {\n",
       "        vertical-align: top;\n",
       "    }\n",
       "\n",
       "    .dataframe thead th {\n",
       "        text-align: right;\n",
       "    }\n",
       "</style>\n",
       "<table border=\"1\" class=\"dataframe\">\n",
       "  <thead>\n",
       "    <tr style=\"text-align: right;\">\n",
       "      <th></th>\n",
       "      <th>strike_avg</th>\n",
       "      <th>damage_avg</th>\n",
       "    </tr>\n",
       "    <tr>\n",
       "      <th>airport_code</th>\n",
       "      <th></th>\n",
       "      <th></th>\n",
       "    </tr>\n",
       "  </thead>\n",
       "  <tbody>\n",
       "    <tr>\n",
       "      <td>ABE</td>\n",
       "      <td>5.250000</td>\n",
       "      <td>0.166667</td>\n",
       "    </tr>\n",
       "    <tr>\n",
       "      <td>ABI</td>\n",
       "      <td>0.750000</td>\n",
       "      <td>0.083333</td>\n",
       "    </tr>\n",
       "    <tr>\n",
       "      <td>ABQ</td>\n",
       "      <td>6.833333</td>\n",
       "      <td>0.250000</td>\n",
       "    </tr>\n",
       "    <tr>\n",
       "      <td>ABY</td>\n",
       "      <td>0.416667</td>\n",
       "      <td>0.083333</td>\n",
       "    </tr>\n",
       "    <tr>\n",
       "      <td>ACK</td>\n",
       "      <td>0.583333</td>\n",
       "      <td>0.083333</td>\n",
       "    </tr>\n",
       "  </tbody>\n",
       "</table>\n",
       "</div>"
      ],
      "text/plain": [
       "              strike_avg  damage_avg\n",
       "airport_code                        \n",
       "ABE             5.250000    0.166667\n",
       "ABI             0.750000    0.083333\n",
       "ABQ             6.833333    0.250000\n",
       "ABY             0.416667    0.083333\n",
       "ACK             0.583333    0.083333"
      ]
     },
     "execution_count": 38,
     "metadata": {},
     "output_type": "execute_result"
    }
   ],
   "source": [
    "bird_strike_final_df = pd.merge(bird_strike_avg_df, delay_airport_code_df.reset_index(), how='right')\n",
    "# unpleasant_airport_code_df have the same index as airport_prop_df\n",
    "bird_strike_final_df = bird_strike_final_df.fillna(0)\n",
    "bird_strike_final_df = bird_strike_final_df.set_index(\"airport_code\")\n",
    "bird_strike_final_df.head()"
   ]
  },
  {
   "cell_type": "markdown",
   "metadata": {},
   "source": [
    "#### 2.8 Runways dataset - runway length, width, count\n",
    "Clean `datasets/original/airport/runways.csv`."
   ]
  },
  {
   "cell_type": "code",
   "execution_count": 39,
   "metadata": {},
   "outputs": [
    {
     "data": {
      "text/html": [
       "<div>\n",
       "<style scoped>\n",
       "    .dataframe tbody tr th:only-of-type {\n",
       "        vertical-align: middle;\n",
       "    }\n",
       "\n",
       "    .dataframe tbody tr th {\n",
       "        vertical-align: top;\n",
       "    }\n",
       "\n",
       "    .dataframe thead th {\n",
       "        text-align: right;\n",
       "    }\n",
       "</style>\n",
       "<table border=\"1\" class=\"dataframe\">\n",
       "  <thead>\n",
       "    <tr style=\"text-align: right;\">\n",
       "      <th></th>\n",
       "      <th>code4</th>\n",
       "      <th>airport_code</th>\n",
       "      <th>length_ft</th>\n",
       "      <th>width_ft</th>\n",
       "    </tr>\n",
       "  </thead>\n",
       "  <tbody>\n",
       "    <tr>\n",
       "      <td>0</td>\n",
       "      <td>07FA</td>\n",
       "      <td>OCA</td>\n",
       "      <td>4500.0</td>\n",
       "      <td>70.0</td>\n",
       "    </tr>\n",
       "    <tr>\n",
       "      <td>1</td>\n",
       "      <td>5A8</td>\n",
       "      <td>WKK</td>\n",
       "      <td>2040.0</td>\n",
       "      <td>80.0</td>\n",
       "    </tr>\n",
       "    <tr>\n",
       "      <td>2</td>\n",
       "      <td>HI07</td>\n",
       "      <td>WKL</td>\n",
       "      <td>26.0</td>\n",
       "      <td>26.0</td>\n",
       "    </tr>\n",
       "    <tr>\n",
       "      <td>3</td>\n",
       "      <td>K0V4</td>\n",
       "      <td>0V4</td>\n",
       "      <td>3798.0</td>\n",
       "      <td>60.0</td>\n",
       "    </tr>\n",
       "    <tr>\n",
       "      <td>4</td>\n",
       "      <td>K19S</td>\n",
       "      <td>19S</td>\n",
       "      <td>2300.0</td>\n",
       "      <td>100.0</td>\n",
       "    </tr>\n",
       "  </tbody>\n",
       "</table>\n",
       "</div>"
      ],
      "text/plain": [
       "  code4 airport_code  length_ft  width_ft\n",
       "0  07FA          OCA     4500.0      70.0\n",
       "1   5A8          WKK     2040.0      80.0\n",
       "2  HI07          WKL       26.0      26.0\n",
       "3  K0V4          0V4     3798.0      60.0\n",
       "4  K19S          19S     2300.0     100.0"
      ]
     },
     "execution_count": 39,
     "metadata": {},
     "output_type": "execute_result"
    }
   ],
   "source": [
    "airport_runways_df=pd.read_csv(\"datasets/original/airport/runways.csv\")\n",
    "airport_runways_df = airport_runways_df.rename(columns = {\"airport_ident\":\"code4\"})\n",
    "airport_runways_df = pd.merge(airport_runways_df, airport_loc_df.reset_index(), how = 'inner', on = 'code4')\n",
    "airport_runways_df = airport_runways_df[[\"code4\", \"airport_code\", \"length_ft\", \"width_ft\"]]\n",
    "airport_runways_df.head()"
   ]
  },
  {
   "cell_type": "code",
   "execution_count": 40,
   "metadata": {},
   "outputs": [
    {
     "data": {
      "text/html": [
       "<div>\n",
       "<style scoped>\n",
       "    .dataframe tbody tr th:only-of-type {\n",
       "        vertical-align: middle;\n",
       "    }\n",
       "\n",
       "    .dataframe tbody tr th {\n",
       "        vertical-align: top;\n",
       "    }\n",
       "\n",
       "    .dataframe thead th {\n",
       "        text-align: right;\n",
       "    }\n",
       "</style>\n",
       "<table border=\"1\" class=\"dataframe\">\n",
       "  <thead>\n",
       "    <tr style=\"text-align: right;\">\n",
       "      <th></th>\n",
       "      <th>length_ft_sum</th>\n",
       "      <th>width_ft_avg</th>\n",
       "      <th>runway_count</th>\n",
       "    </tr>\n",
       "    <tr>\n",
       "      <th>airport_code</th>\n",
       "      <th></th>\n",
       "      <th></th>\n",
       "      <th></th>\n",
       "    </tr>\n",
       "  </thead>\n",
       "  <tbody>\n",
       "    <tr>\n",
       "      <td>0V4</td>\n",
       "      <td>3798.0</td>\n",
       "      <td>60.000000</td>\n",
       "      <td>1</td>\n",
       "    </tr>\n",
       "    <tr>\n",
       "      <td>19S</td>\n",
       "      <td>6800.0</td>\n",
       "      <td>80.000000</td>\n",
       "      <td>2</td>\n",
       "    </tr>\n",
       "    <tr>\n",
       "      <td>23M</td>\n",
       "      <td>3200.0</td>\n",
       "      <td>60.000000</td>\n",
       "      <td>1</td>\n",
       "    </tr>\n",
       "    <tr>\n",
       "      <td>2A5</td>\n",
       "      <td>3800.0</td>\n",
       "      <td>40.000000</td>\n",
       "      <td>1</td>\n",
       "    </tr>\n",
       "    <tr>\n",
       "      <td>2H0</td>\n",
       "      <td>9948.0</td>\n",
       "      <td>158.333333</td>\n",
       "      <td>3</td>\n",
       "    </tr>\n",
       "  </tbody>\n",
       "</table>\n",
       "</div>"
      ],
      "text/plain": [
       "              length_ft_sum  width_ft_avg  runway_count\n",
       "airport_code                                           \n",
       "0V4                  3798.0     60.000000             1\n",
       "19S                  6800.0     80.000000             2\n",
       "23M                  3200.0     60.000000             1\n",
       "2A5                  3800.0     40.000000             1\n",
       "2H0                  9948.0    158.333333             3"
      ]
     },
     "execution_count": 40,
     "metadata": {},
     "output_type": "execute_result"
    }
   ],
   "source": [
    "runways_sum_df = airport_runways_df.groupby(['airport_code']).sum()\n",
    "runways_mean_df = airport_runways_df.groupby(['airport_code']).mean()\n",
    "runways_count_df = airport_runways_df.groupby(['airport_code']).count()\n",
    "runway_final_df = runways_sum_df[\"length_ft\"].to_frame().join(runways_mean_df[\"width_ft\"].to_frame())\n",
    "runway_final_df[\"count\"] = runways_count_df[\"length_ft\"]\n",
    "runway_final_df.columns = [\"length_ft_sum\", \"width_ft_avg\",\"runway_count\"]\n",
    "\n",
    "runway_final_df.head()"
   ]
  },
  {
   "cell_type": "markdown",
   "metadata": {},
   "source": [
    "#### 2.9 enplanements dataset - enplanements\n",
    "Clean `commercial_service_enplanements.xlsx`."
   ]
  },
  {
   "cell_type": "code",
   "execution_count": 41,
   "metadata": {},
   "outputs": [],
   "source": [
    "enplanements_df = pd.read_excel('datasets/original/city/commercial_service_enplanements.xlsx')"
   ]
  },
  {
   "cell_type": "code",
   "execution_count": 42,
   "metadata": {},
   "outputs": [
    {
     "data": {
      "text/html": [
       "<div>\n",
       "<style scoped>\n",
       "    .dataframe tbody tr th:only-of-type {\n",
       "        vertical-align: middle;\n",
       "    }\n",
       "\n",
       "    .dataframe tbody tr th {\n",
       "        vertical-align: top;\n",
       "    }\n",
       "\n",
       "    .dataframe thead th {\n",
       "        text-align: right;\n",
       "    }\n",
       "</style>\n",
       "<table border=\"1\" class=\"dataframe\">\n",
       "  <thead>\n",
       "    <tr style=\"text-align: right;\">\n",
       "      <th></th>\n",
       "      <th>Rank</th>\n",
       "      <th>RO</th>\n",
       "      <th>ST</th>\n",
       "      <th>Locid</th>\n",
       "      <th>City</th>\n",
       "      <th>Airport Name</th>\n",
       "      <th>S/L</th>\n",
       "      <th>Hub</th>\n",
       "      <th>CY 18 Enplanements</th>\n",
       "      <th>CY 17 Enplanements</th>\n",
       "      <th>% Change</th>\n",
       "    </tr>\n",
       "  </thead>\n",
       "  <tbody>\n",
       "    <tr>\n",
       "      <td>0</td>\n",
       "      <td>1.0</td>\n",
       "      <td>SO</td>\n",
       "      <td>GA</td>\n",
       "      <td>ATL</td>\n",
       "      <td>Atlanta</td>\n",
       "      <td>Hartsfield - Jackson Atlanta International</td>\n",
       "      <td>P</td>\n",
       "      <td>L</td>\n",
       "      <td>51865797.0</td>\n",
       "      <td>50251964.0</td>\n",
       "      <td>0.0321</td>\n",
       "    </tr>\n",
       "    <tr>\n",
       "      <td>1</td>\n",
       "      <td>2.0</td>\n",
       "      <td>WP</td>\n",
       "      <td>CA</td>\n",
       "      <td>LAX</td>\n",
       "      <td>Los Angeles</td>\n",
       "      <td>Los Angeles International</td>\n",
       "      <td>P</td>\n",
       "      <td>L</td>\n",
       "      <td>42624050.0</td>\n",
       "      <td>41232432.0</td>\n",
       "      <td>0.0338</td>\n",
       "    </tr>\n",
       "    <tr>\n",
       "      <td>2</td>\n",
       "      <td>3.0</td>\n",
       "      <td>GL</td>\n",
       "      <td>IL</td>\n",
       "      <td>ORD</td>\n",
       "      <td>Chicago</td>\n",
       "      <td>Chicago O'Hare International</td>\n",
       "      <td>P</td>\n",
       "      <td>L</td>\n",
       "      <td>39873927.0</td>\n",
       "      <td>38593028.0</td>\n",
       "      <td>0.0332</td>\n",
       "    </tr>\n",
       "    <tr>\n",
       "      <td>3</td>\n",
       "      <td>4.0</td>\n",
       "      <td>SW</td>\n",
       "      <td>TX</td>\n",
       "      <td>DFW</td>\n",
       "      <td>Fort Worth</td>\n",
       "      <td>Dallas-Fort Worth International</td>\n",
       "      <td>P</td>\n",
       "      <td>L</td>\n",
       "      <td>32821799.0</td>\n",
       "      <td>31816933.0</td>\n",
       "      <td>0.0316</td>\n",
       "    </tr>\n",
       "    <tr>\n",
       "      <td>4</td>\n",
       "      <td>5.0</td>\n",
       "      <td>NM</td>\n",
       "      <td>CO</td>\n",
       "      <td>DEN</td>\n",
       "      <td>Denver</td>\n",
       "      <td>Denver International</td>\n",
       "      <td>P</td>\n",
       "      <td>L</td>\n",
       "      <td>31362941.0</td>\n",
       "      <td>29809097.0</td>\n",
       "      <td>0.0521</td>\n",
       "    </tr>\n",
       "    <tr>\n",
       "      <td>...</td>\n",
       "      <td>...</td>\n",
       "      <td>...</td>\n",
       "      <td>...</td>\n",
       "      <td>...</td>\n",
       "      <td>...</td>\n",
       "      <td>...</td>\n",
       "      <td>...</td>\n",
       "      <td>...</td>\n",
       "      <td>...</td>\n",
       "      <td>...</td>\n",
       "      <td>...</td>\n",
       "    </tr>\n",
       "    <tr>\n",
       "      <td>520</td>\n",
       "      <td>561.0</td>\n",
       "      <td>AL</td>\n",
       "      <td>AK</td>\n",
       "      <td>AKI</td>\n",
       "      <td>Akiak</td>\n",
       "      <td>Akiak</td>\n",
       "      <td>CS</td>\n",
       "      <td>None</td>\n",
       "      <td>2525.0</td>\n",
       "      <td>1966.0</td>\n",
       "      <td>0.2843</td>\n",
       "    </tr>\n",
       "    <tr>\n",
       "      <td>521</td>\n",
       "      <td>562.0</td>\n",
       "      <td>AL</td>\n",
       "      <td>AK</td>\n",
       "      <td>RSH</td>\n",
       "      <td>Russian Mission</td>\n",
       "      <td>Russian Mission</td>\n",
       "      <td>CS</td>\n",
       "      <td>None</td>\n",
       "      <td>2506.0</td>\n",
       "      <td>2132.0</td>\n",
       "      <td>0.1754</td>\n",
       "    </tr>\n",
       "    <tr>\n",
       "      <td>522</td>\n",
       "      <td>563.0</td>\n",
       "      <td>AL</td>\n",
       "      <td>AK</td>\n",
       "      <td>AFM</td>\n",
       "      <td>Ambler</td>\n",
       "      <td>Ambler</td>\n",
       "      <td>CS</td>\n",
       "      <td>None</td>\n",
       "      <td>2501.0</td>\n",
       "      <td>2175.0</td>\n",
       "      <td>0.1499</td>\n",
       "    </tr>\n",
       "    <tr>\n",
       "      <td>523</td>\n",
       "      <td>NaN</td>\n",
       "      <td>NaN</td>\n",
       "      <td>NaN</td>\n",
       "      <td>123</td>\n",
       "      <td>NaN</td>\n",
       "      <td>Nonhub Primary, Commercial Service</td>\n",
       "      <td>NaN</td>\n",
       "      <td>NaN</td>\n",
       "      <td>NaN</td>\n",
       "      <td>NaN</td>\n",
       "      <td>NaN</td>\n",
       "    </tr>\n",
       "    <tr>\n",
       "      <td>524</td>\n",
       "      <td>NaN</td>\n",
       "      <td>NaN</td>\n",
       "      <td>NaN</td>\n",
       "      <td>519</td>\n",
       "      <td>NaN</td>\n",
       "      <td>Total Commercial Service</td>\n",
       "      <td>NaN</td>\n",
       "      <td>NaN</td>\n",
       "      <td>NaN</td>\n",
       "      <td>NaN</td>\n",
       "      <td>NaN</td>\n",
       "    </tr>\n",
       "  </tbody>\n",
       "</table>\n",
       "<p>525 rows × 11 columns</p>\n",
       "</div>"
      ],
      "text/plain": [
       "      Rank   RO   ST Locid             City  \\\n",
       "0      1.0   SO   GA   ATL          Atlanta   \n",
       "1      2.0   WP   CA   LAX      Los Angeles   \n",
       "2      3.0   GL   IL   ORD          Chicago   \n",
       "3      4.0   SW   TX   DFW       Fort Worth   \n",
       "4      5.0   NM   CO   DEN           Denver   \n",
       "..     ...  ...  ...   ...              ...   \n",
       "520  561.0   AL   AK   AKI            Akiak   \n",
       "521  562.0   AL   AK   RSH  Russian Mission   \n",
       "522  563.0   AL   AK   AFM           Ambler   \n",
       "523    NaN  NaN  NaN   123              NaN   \n",
       "524    NaN  NaN  NaN   519              NaN   \n",
       "\n",
       "                                   Airport Name  S/L   Hub  \\\n",
       "0    Hartsfield - Jackson Atlanta International    P     L   \n",
       "1                     Los Angeles International    P     L   \n",
       "2                  Chicago O'Hare International    P     L   \n",
       "3               Dallas-Fort Worth International    P     L   \n",
       "4                          Denver International    P     L   \n",
       "..                                          ...  ...   ...   \n",
       "520                                       Akiak   CS  None   \n",
       "521                             Russian Mission   CS  None   \n",
       "522                                      Ambler   CS  None   \n",
       "523          Nonhub Primary, Commercial Service  NaN   NaN   \n",
       "524                   Total Commercial Service   NaN   NaN   \n",
       "\n",
       "     CY 18 Enplanements  CY 17 Enplanements  % Change  \n",
       "0            51865797.0          50251964.0    0.0321  \n",
       "1            42624050.0          41232432.0    0.0338  \n",
       "2            39873927.0          38593028.0    0.0332  \n",
       "3            32821799.0          31816933.0    0.0316  \n",
       "4            31362941.0          29809097.0    0.0521  \n",
       "..                  ...                 ...       ...  \n",
       "520              2525.0              1966.0    0.2843  \n",
       "521              2506.0              2132.0    0.1754  \n",
       "522              2501.0              2175.0    0.1499  \n",
       "523                 NaN                 NaN       NaN  \n",
       "524                 NaN                 NaN       NaN  \n",
       "\n",
       "[525 rows x 11 columns]"
      ]
     },
     "execution_count": 42,
     "metadata": {},
     "output_type": "execute_result"
    }
   ],
   "source": [
    "enplanements_df"
   ]
  },
  {
   "cell_type": "code",
   "execution_count": 43,
   "metadata": {},
   "outputs": [
    {
     "data": {
      "text/html": [
       "<div>\n",
       "<style scoped>\n",
       "    .dataframe tbody tr th:only-of-type {\n",
       "        vertical-align: middle;\n",
       "    }\n",
       "\n",
       "    .dataframe tbody tr th {\n",
       "        vertical-align: top;\n",
       "    }\n",
       "\n",
       "    .dataframe thead th {\n",
       "        text-align: right;\n",
       "    }\n",
       "</style>\n",
       "<table border=\"1\" class=\"dataframe\">\n",
       "  <thead>\n",
       "    <tr style=\"text-align: right;\">\n",
       "      <th></th>\n",
       "      <th>enplanements</th>\n",
       "    </tr>\n",
       "    <tr>\n",
       "      <th>airport_code</th>\n",
       "      <th></th>\n",
       "    </tr>\n",
       "  </thead>\n",
       "  <tbody>\n",
       "    <tr>\n",
       "      <td>ATL</td>\n",
       "      <td>51865797.0</td>\n",
       "    </tr>\n",
       "    <tr>\n",
       "      <td>LAX</td>\n",
       "      <td>42624050.0</td>\n",
       "    </tr>\n",
       "    <tr>\n",
       "      <td>ORD</td>\n",
       "      <td>39873927.0</td>\n",
       "    </tr>\n",
       "    <tr>\n",
       "      <td>DFW</td>\n",
       "      <td>32821799.0</td>\n",
       "    </tr>\n",
       "    <tr>\n",
       "      <td>DEN</td>\n",
       "      <td>31362941.0</td>\n",
       "    </tr>\n",
       "  </tbody>\n",
       "</table>\n",
       "</div>"
      ],
      "text/plain": [
       "              enplanements\n",
       "airport_code              \n",
       "ATL             51865797.0\n",
       "LAX             42624050.0\n",
       "ORD             39873927.0\n",
       "DFW             32821799.0\n",
       "DEN             31362941.0"
      ]
     },
     "execution_count": 43,
     "metadata": {},
     "output_type": "execute_result"
    }
   ],
   "source": [
    "enplanements_df = enplanements_df.rename(columns = {\"Locid\":\"airport_code\",\"CY 18 Enplanements\":\"enplanements\"})\n",
    "enplanements_df = enplanements_df.set_index(\"airport_code\")\n",
    "enplanements_df = enplanements_df[[\"enplanements\"]] # change it to only 2018 --YD\n",
    "\n",
    "enplanements_df.head()"
   ]
  },
  {
   "cell_type": "markdown",
   "metadata": {},
   "source": [
    "### Final Cleaning step: merging all dataframes together to get X and Y."
   ]
  },
  {
   "cell_type": "code",
   "execution_count": 44,
   "metadata": {},
   "outputs": [
    {
     "data": {
      "text/html": [
       "<div>\n",
       "<style scoped>\n",
       "    .dataframe tbody tr th:only-of-type {\n",
       "        vertical-align: middle;\n",
       "    }\n",
       "\n",
       "    .dataframe tbody tr th {\n",
       "        vertical-align: top;\n",
       "    }\n",
       "\n",
       "    .dataframe thead th {\n",
       "        text-align: right;\n",
       "    }\n",
       "</style>\n",
       "<table border=\"1\" class=\"dataframe\">\n",
       "  <thead>\n",
       "    <tr style=\"text-align: right;\">\n",
       "      <th></th>\n",
       "      <th>total_departure</th>\n",
       "      <th>total_arrival</th>\n",
       "      <th>averge_departure_distance</th>\n",
       "      <th>averge_arrival_distance</th>\n",
       "      <th>average_departure_taxi</th>\n",
       "      <th>average_arrival_taxi</th>\n",
       "      <th>city_name</th>\n",
       "      <th>code4</th>\n",
       "      <th>latitude</th>\n",
       "      <th>longitude</th>\n",
       "      <th>...</th>\n",
       "      <th>fips</th>\n",
       "      <th>population</th>\n",
       "      <th>temp_avg</th>\n",
       "      <th>pcp_avg</th>\n",
       "      <th>strike_avg</th>\n",
       "      <th>damage_avg</th>\n",
       "      <th>enplanements</th>\n",
       "      <th>length_ft_sum</th>\n",
       "      <th>width_ft_avg</th>\n",
       "      <th>runway_count</th>\n",
       "    </tr>\n",
       "  </thead>\n",
       "  <tbody>\n",
       "    <tr>\n",
       "      <td>ABE</td>\n",
       "      <td>4168.0</td>\n",
       "      <td>4165.0</td>\n",
       "      <td>619.573417</td>\n",
       "      <td>619.518367</td>\n",
       "      <td>15.095051</td>\n",
       "      <td>5.037680</td>\n",
       "      <td>allentown</td>\n",
       "      <td>KABE</td>\n",
       "      <td>40.652100</td>\n",
       "      <td>-75.440804</td>\n",
       "      <td>...</td>\n",
       "      <td>42077</td>\n",
       "      <td>682899</td>\n",
       "      <td>51.902490</td>\n",
       "      <td>4.161037</td>\n",
       "      <td>5.250000</td>\n",
       "      <td>0.166667</td>\n",
       "      <td>376468.0</td>\n",
       "      <td>13397.0</td>\n",
       "      <td>150.000000</td>\n",
       "      <td>2.0</td>\n",
       "    </tr>\n",
       "    <tr>\n",
       "      <td>ABI</td>\n",
       "      <td>2022.0</td>\n",
       "      <td>2022.0</td>\n",
       "      <td>158.000000</td>\n",
       "      <td>158.000000</td>\n",
       "      <td>13.506310</td>\n",
       "      <td>3.747347</td>\n",
       "      <td>abilene</td>\n",
       "      <td>KABI</td>\n",
       "      <td>32.411301</td>\n",
       "      <td>-99.681900</td>\n",
       "      <td>...</td>\n",
       "      <td>48441</td>\n",
       "      <td>114964</td>\n",
       "      <td>64.488797</td>\n",
       "      <td>2.131411</td>\n",
       "      <td>0.750000</td>\n",
       "      <td>0.083333</td>\n",
       "      <td>77229.0</td>\n",
       "      <td>18078.0</td>\n",
       "      <td>133.333333</td>\n",
       "      <td>3.0</td>\n",
       "    </tr>\n",
       "    <tr>\n",
       "      <td>ABQ</td>\n",
       "      <td>24047.0</td>\n",
       "      <td>24048.0</td>\n",
       "      <td>678.490456</td>\n",
       "      <td>678.586452</td>\n",
       "      <td>12.688534</td>\n",
       "      <td>5.385894</td>\n",
       "      <td>albuquerque</td>\n",
       "      <td>KABQ</td>\n",
       "      <td>35.040199</td>\n",
       "      <td>-106.609001</td>\n",
       "      <td>...</td>\n",
       "      <td>35001</td>\n",
       "      <td>758523</td>\n",
       "      <td>54.316598</td>\n",
       "      <td>0.928465</td>\n",
       "      <td>6.833333</td>\n",
       "      <td>0.250000</td>\n",
       "      <td>2647269.0</td>\n",
       "      <td>39793.0</td>\n",
       "      <td>150.000000</td>\n",
       "      <td>4.0</td>\n",
       "    </tr>\n",
       "    <tr>\n",
       "      <td>ABR</td>\n",
       "      <td>745.0</td>\n",
       "      <td>745.0</td>\n",
       "      <td>257.000000</td>\n",
       "      <td>257.000000</td>\n",
       "      <td>19.377205</td>\n",
       "      <td>4.771739</td>\n",
       "      <td>aberdeen</td>\n",
       "      <td>KABR</td>\n",
       "      <td>45.449100</td>\n",
       "      <td>-98.421799</td>\n",
       "      <td>...</td>\n",
       "      <td>46013</td>\n",
       "      <td>28264</td>\n",
       "      <td>43.304149</td>\n",
       "      <td>1.796141</td>\n",
       "      <td>0.000000</td>\n",
       "      <td>0.000000</td>\n",
       "      <td>28404.0</td>\n",
       "      <td>12401.0</td>\n",
       "      <td>100.000000</td>\n",
       "      <td>2.0</td>\n",
       "    </tr>\n",
       "    <tr>\n",
       "      <td>ABY</td>\n",
       "      <td>1018.0</td>\n",
       "      <td>1018.0</td>\n",
       "      <td>145.000000</td>\n",
       "      <td>145.000000</td>\n",
       "      <td>15.779543</td>\n",
       "      <td>3.673287</td>\n",
       "      <td>albany</td>\n",
       "      <td>KABY</td>\n",
       "      <td>31.535500</td>\n",
       "      <td>-84.194504</td>\n",
       "      <td>...</td>\n",
       "      <td>13095</td>\n",
       "      <td>90515</td>\n",
       "      <td>66.578008</td>\n",
       "      <td>4.069336</td>\n",
       "      <td>0.416667</td>\n",
       "      <td>0.083333</td>\n",
       "      <td>39422.0</td>\n",
       "      <td>11801.0</td>\n",
       "      <td>150.000000</td>\n",
       "      <td>2.0</td>\n",
       "    </tr>\n",
       "    <tr>\n",
       "      <td>...</td>\n",
       "      <td>...</td>\n",
       "      <td>...</td>\n",
       "      <td>...</td>\n",
       "      <td>...</td>\n",
       "      <td>...</td>\n",
       "      <td>...</td>\n",
       "      <td>...</td>\n",
       "      <td>...</td>\n",
       "      <td>...</td>\n",
       "      <td>...</td>\n",
       "      <td>...</td>\n",
       "      <td>...</td>\n",
       "      <td>...</td>\n",
       "      <td>...</td>\n",
       "      <td>...</td>\n",
       "      <td>...</td>\n",
       "      <td>...</td>\n",
       "      <td>...</td>\n",
       "      <td>...</td>\n",
       "      <td>...</td>\n",
       "      <td>...</td>\n",
       "    </tr>\n",
       "    <tr>\n",
       "      <td>VLD</td>\n",
       "      <td>1039.0</td>\n",
       "      <td>1039.0</td>\n",
       "      <td>208.000000</td>\n",
       "      <td>208.000000</td>\n",
       "      <td>16.580583</td>\n",
       "      <td>4.134951</td>\n",
       "      <td>valdosta</td>\n",
       "      <td>KVLD</td>\n",
       "      <td>30.782499</td>\n",
       "      <td>-83.276703</td>\n",
       "      <td>...</td>\n",
       "      <td>13185</td>\n",
       "      <td>79294</td>\n",
       "      <td>66.983817</td>\n",
       "      <td>4.138382</td>\n",
       "      <td>0.250000</td>\n",
       "      <td>0.166667</td>\n",
       "      <td>44609.0</td>\n",
       "      <td>17236.0</td>\n",
       "      <td>108.333333</td>\n",
       "      <td>3.0</td>\n",
       "    </tr>\n",
       "    <tr>\n",
       "      <td>VPS</td>\n",
       "      <td>7830.0</td>\n",
       "      <td>7831.0</td>\n",
       "      <td>487.504981</td>\n",
       "      <td>487.547823</td>\n",
       "      <td>14.938339</td>\n",
       "      <td>8.221585</td>\n",
       "      <td>valparaiso</td>\n",
       "      <td>KVPS</td>\n",
       "      <td>30.483200</td>\n",
       "      <td>-86.525398</td>\n",
       "      <td>...</td>\n",
       "      <td>12091</td>\n",
       "      <td>4946</td>\n",
       "      <td>67.168050</td>\n",
       "      <td>5.020456</td>\n",
       "      <td>0.000000</td>\n",
       "      <td>0.000000</td>\n",
       "      <td>683759.0</td>\n",
       "      <td>22017.0</td>\n",
       "      <td>300.000000</td>\n",
       "      <td>2.0</td>\n",
       "    </tr>\n",
       "    <tr>\n",
       "      <td>WYS</td>\n",
       "      <td>239.0</td>\n",
       "      <td>239.0</td>\n",
       "      <td>273.000000</td>\n",
       "      <td>273.000000</td>\n",
       "      <td>14.945607</td>\n",
       "      <td>4.037657</td>\n",
       "      <td>yellowstone</td>\n",
       "      <td>KWYS</td>\n",
       "      <td>44.688400</td>\n",
       "      <td>-111.117996</td>\n",
       "      <td>...</td>\n",
       "      <td>30031</td>\n",
       "      <td>1365</td>\n",
       "      <td>40.186307</td>\n",
       "      <td>2.004440</td>\n",
       "      <td>0.000000</td>\n",
       "      <td>0.000000</td>\n",
       "      <td>8200.0</td>\n",
       "      <td>8399.0</td>\n",
       "      <td>150.000000</td>\n",
       "      <td>1.0</td>\n",
       "    </tr>\n",
       "    <tr>\n",
       "      <td>XNA</td>\n",
       "      <td>12571.0</td>\n",
       "      <td>12574.0</td>\n",
       "      <td>603.077003</td>\n",
       "      <td>604.126929</td>\n",
       "      <td>15.636135</td>\n",
       "      <td>6.605621</td>\n",
       "      <td>bentonville</td>\n",
       "      <td>KXNA</td>\n",
       "      <td>36.281898</td>\n",
       "      <td>-94.306801</td>\n",
       "      <td>...</td>\n",
       "      <td>5007</td>\n",
       "      <td>49298</td>\n",
       "      <td>58.123651</td>\n",
       "      <td>3.907842</td>\n",
       "      <td>0.000000</td>\n",
       "      <td>0.000000</td>\n",
       "      <td>759127.0</td>\n",
       "      <td>8800.0</td>\n",
       "      <td>150.000000</td>\n",
       "      <td>1.0</td>\n",
       "    </tr>\n",
       "    <tr>\n",
       "      <td>YNG</td>\n",
       "      <td>2.0</td>\n",
       "      <td>2.0</td>\n",
       "      <td>894.000000</td>\n",
       "      <td>894.000000</td>\n",
       "      <td>38.500000</td>\n",
       "      <td>11.500000</td>\n",
       "      <td>youngstown</td>\n",
       "      <td>KYNG</td>\n",
       "      <td>41.260700</td>\n",
       "      <td>-80.679100</td>\n",
       "      <td>...</td>\n",
       "      <td>39099</td>\n",
       "      <td>373728</td>\n",
       "      <td>50.026971</td>\n",
       "      <td>3.509461</td>\n",
       "      <td>0.000000</td>\n",
       "      <td>0.000000</td>\n",
       "      <td>2636.0</td>\n",
       "      <td>17505.0</td>\n",
       "      <td>120.000000</td>\n",
       "      <td>3.0</td>\n",
       "    </tr>\n",
       "  </tbody>\n",
       "</table>\n",
       "<p>313 rows × 22 columns</p>\n",
       "</div>"
      ],
      "text/plain": [
       "     total_departure  total_arrival  averge_departure_distance  \\\n",
       "ABE           4168.0         4165.0                 619.573417   \n",
       "ABI           2022.0         2022.0                 158.000000   \n",
       "ABQ          24047.0        24048.0                 678.490456   \n",
       "ABR            745.0          745.0                 257.000000   \n",
       "ABY           1018.0         1018.0                 145.000000   \n",
       "..               ...            ...                        ...   \n",
       "VLD           1039.0         1039.0                 208.000000   \n",
       "VPS           7830.0         7831.0                 487.504981   \n",
       "WYS            239.0          239.0                 273.000000   \n",
       "XNA          12571.0        12574.0                 603.077003   \n",
       "YNG              2.0            2.0                 894.000000   \n",
       "\n",
       "     averge_arrival_distance  average_departure_taxi  average_arrival_taxi  \\\n",
       "ABE               619.518367               15.095051              5.037680   \n",
       "ABI               158.000000               13.506310              3.747347   \n",
       "ABQ               678.586452               12.688534              5.385894   \n",
       "ABR               257.000000               19.377205              4.771739   \n",
       "ABY               145.000000               15.779543              3.673287   \n",
       "..                       ...                     ...                   ...   \n",
       "VLD               208.000000               16.580583              4.134951   \n",
       "VPS               487.547823               14.938339              8.221585   \n",
       "WYS               273.000000               14.945607              4.037657   \n",
       "XNA               604.126929               15.636135              6.605621   \n",
       "YNG               894.000000               38.500000             11.500000   \n",
       "\n",
       "       city_name code4   latitude   longitude  ...   fips population  \\\n",
       "ABE    allentown  KABE  40.652100  -75.440804  ...  42077     682899   \n",
       "ABI      abilene  KABI  32.411301  -99.681900  ...  48441     114964   \n",
       "ABQ  albuquerque  KABQ  35.040199 -106.609001  ...  35001     758523   \n",
       "ABR     aberdeen  KABR  45.449100  -98.421799  ...  46013      28264   \n",
       "ABY       albany  KABY  31.535500  -84.194504  ...  13095      90515   \n",
       "..           ...   ...        ...         ...  ...    ...        ...   \n",
       "VLD     valdosta  KVLD  30.782499  -83.276703  ...  13185      79294   \n",
       "VPS   valparaiso  KVPS  30.483200  -86.525398  ...  12091       4946   \n",
       "WYS  yellowstone  KWYS  44.688400 -111.117996  ...  30031       1365   \n",
       "XNA  bentonville  KXNA  36.281898  -94.306801  ...   5007      49298   \n",
       "YNG   youngstown  KYNG  41.260700  -80.679100  ...  39099     373728   \n",
       "\n",
       "      temp_avg   pcp_avg  strike_avg  damage_avg  enplanements  length_ft_sum  \\\n",
       "ABE  51.902490  4.161037    5.250000    0.166667      376468.0        13397.0   \n",
       "ABI  64.488797  2.131411    0.750000    0.083333       77229.0        18078.0   \n",
       "ABQ  54.316598  0.928465    6.833333    0.250000     2647269.0        39793.0   \n",
       "ABR  43.304149  1.796141    0.000000    0.000000       28404.0        12401.0   \n",
       "ABY  66.578008  4.069336    0.416667    0.083333       39422.0        11801.0   \n",
       "..         ...       ...         ...         ...           ...            ...   \n",
       "VLD  66.983817  4.138382    0.250000    0.166667       44609.0        17236.0   \n",
       "VPS  67.168050  5.020456    0.000000    0.000000      683759.0        22017.0   \n",
       "WYS  40.186307  2.004440    0.000000    0.000000        8200.0         8399.0   \n",
       "XNA  58.123651  3.907842    0.000000    0.000000      759127.0         8800.0   \n",
       "YNG  50.026971  3.509461    0.000000    0.000000        2636.0        17505.0   \n",
       "\n",
       "     width_ft_avg  runway_count  \n",
       "ABE    150.000000           2.0  \n",
       "ABI    133.333333           3.0  \n",
       "ABQ    150.000000           4.0  \n",
       "ABR    100.000000           2.0  \n",
       "ABY    150.000000           2.0  \n",
       "..            ...           ...  \n",
       "VLD    108.333333           3.0  \n",
       "VPS    300.000000           2.0  \n",
       "WYS    150.000000           1.0  \n",
       "XNA    150.000000           1.0  \n",
       "YNG    120.000000           3.0  \n",
       "\n",
       "[313 rows x 22 columns]"
      ]
     },
     "execution_count": 44,
     "metadata": {},
     "output_type": "execute_result"
    }
   ],
   "source": [
    "merged_X_df = pd.concat([X,airport_prop_df, bird_strike_final_df, enplanements_df, runway_final_df], axis=1, sort=False)\n",
    "merged_X_df = merged_X_df.dropna()\n",
    "merged_X_df"
   ]
  },
  {
   "cell_type": "code",
   "execution_count": 45,
   "metadata": {},
   "outputs": [
    {
     "data": {
      "text/html": [
       "<div>\n",
       "<style scoped>\n",
       "    .dataframe tbody tr th:only-of-type {\n",
       "        vertical-align: middle;\n",
       "    }\n",
       "\n",
       "    .dataframe tbody tr th {\n",
       "        vertical-align: top;\n",
       "    }\n",
       "\n",
       "    .dataframe thead th {\n",
       "        text-align: right;\n",
       "    }\n",
       "</style>\n",
       "<table border=\"1\" class=\"dataframe\">\n",
       "  <thead>\n",
       "    <tr style=\"text-align: right;\">\n",
       "      <th></th>\n",
       "      <th>average_departure_delay</th>\n",
       "      <th>average_arrival_delay</th>\n",
       "      <th>average_departure_cancelled</th>\n",
       "      <th>average_arrival_diverted</th>\n",
       "    </tr>\n",
       "    <tr>\n",
       "      <th>airport_code</th>\n",
       "      <th></th>\n",
       "      <th></th>\n",
       "      <th></th>\n",
       "      <th></th>\n",
       "    </tr>\n",
       "  </thead>\n",
       "  <tbody>\n",
       "    <tr>\n",
       "      <td>ABE</td>\n",
       "      <td>11.945071</td>\n",
       "      <td>5.558260</td>\n",
       "      <td>0.020873</td>\n",
       "      <td>0.004562</td>\n",
       "    </tr>\n",
       "    <tr>\n",
       "      <td>ABI</td>\n",
       "      <td>8.027259</td>\n",
       "      <td>5.784016</td>\n",
       "      <td>0.020277</td>\n",
       "      <td>0.000989</td>\n",
       "    </tr>\n",
       "    <tr>\n",
       "      <td>ABQ</td>\n",
       "      <td>8.635997</td>\n",
       "      <td>5.599697</td>\n",
       "      <td>0.009897</td>\n",
       "      <td>0.001747</td>\n",
       "    </tr>\n",
       "    <tr>\n",
       "      <td>ABR</td>\n",
       "      <td>7.742198</td>\n",
       "      <td>3.716621</td>\n",
       "      <td>0.010738</td>\n",
       "      <td>0.002685</td>\n",
       "    </tr>\n",
       "    <tr>\n",
       "      <td>ABY</td>\n",
       "      <td>15.052261</td>\n",
       "      <td>10.642137</td>\n",
       "      <td>0.010806</td>\n",
       "      <td>0.006876</td>\n",
       "    </tr>\n",
       "    <tr>\n",
       "      <td>...</td>\n",
       "      <td>...</td>\n",
       "      <td>...</td>\n",
       "      <td>...</td>\n",
       "      <td>...</td>\n",
       "    </tr>\n",
       "    <tr>\n",
       "      <td>WYS</td>\n",
       "      <td>-2.485356</td>\n",
       "      <td>3.063291</td>\n",
       "      <td>0.000000</td>\n",
       "      <td>0.008368</td>\n",
       "    </tr>\n",
       "    <tr>\n",
       "      <td>XNA</td>\n",
       "      <td>10.985233</td>\n",
       "      <td>5.628207</td>\n",
       "      <td>0.019728</td>\n",
       "      <td>0.001511</td>\n",
       "    </tr>\n",
       "    <tr>\n",
       "      <td>YAK</td>\n",
       "      <td>-8.720506</td>\n",
       "      <td>-3.577247</td>\n",
       "      <td>0.013850</td>\n",
       "      <td>0.009695</td>\n",
       "    </tr>\n",
       "    <tr>\n",
       "      <td>YNG</td>\n",
       "      <td>63.000000</td>\n",
       "      <td>59.500000</td>\n",
       "      <td>0.000000</td>\n",
       "      <td>0.000000</td>\n",
       "    </tr>\n",
       "    <tr>\n",
       "      <td>YUM</td>\n",
       "      <td>-0.455669</td>\n",
       "      <td>-0.316860</td>\n",
       "      <td>0.000000</td>\n",
       "      <td>0.000000</td>\n",
       "    </tr>\n",
       "  </tbody>\n",
       "</table>\n",
       "<p>358 rows × 4 columns</p>\n",
       "</div>"
      ],
      "text/plain": [
       "              average_departure_delay  average_arrival_delay  \\\n",
       "airport_code                                                   \n",
       "ABE                         11.945071               5.558260   \n",
       "ABI                          8.027259               5.784016   \n",
       "ABQ                          8.635997               5.599697   \n",
       "ABR                          7.742198               3.716621   \n",
       "ABY                         15.052261              10.642137   \n",
       "...                               ...                    ...   \n",
       "WYS                         -2.485356               3.063291   \n",
       "XNA                         10.985233               5.628207   \n",
       "YAK                         -8.720506              -3.577247   \n",
       "YNG                         63.000000              59.500000   \n",
       "YUM                         -0.455669              -0.316860   \n",
       "\n",
       "              average_departure_cancelled  average_arrival_diverted  \n",
       "airport_code                                                         \n",
       "ABE                              0.020873                  0.004562  \n",
       "ABI                              0.020277                  0.000989  \n",
       "ABQ                              0.009897                  0.001747  \n",
       "ABR                              0.010738                  0.002685  \n",
       "ABY                              0.010806                  0.006876  \n",
       "...                                   ...                       ...  \n",
       "WYS                              0.000000                  0.008368  \n",
       "XNA                              0.019728                  0.001511  \n",
       "YAK                              0.013850                  0.009695  \n",
       "YNG                              0.000000                  0.000000  \n",
       "YUM                              0.000000                  0.000000  \n",
       "\n",
       "[358 rows x 4 columns]"
      ]
     },
     "execution_count": 45,
     "metadata": {},
     "output_type": "execute_result"
    }
   ],
   "source": [
    "Y"
   ]
  },
  {
   "cell_type": "code",
   "execution_count": 46,
   "metadata": {},
   "outputs": [
    {
     "data": {
      "text/plain": [
       "0"
      ]
     },
     "execution_count": 46,
     "metadata": {},
     "output_type": "execute_result"
    }
   ],
   "source": [
    "merged_X_df.isna().sum().sum() + Y.isna().sum().sum()"
   ]
  },
  {
   "cell_type": "markdown",
   "metadata": {},
   "source": [
    "# Data Analysis & Results"
   ]
  },
  {
   "cell_type": "markdown",
   "metadata": {},
   "source": [
    "## EDA"
   ]
  },
  {
   "cell_type": "markdown",
   "metadata": {},
   "source": [
    "A function for drawing bubble maps easily"
   ]
  },
  {
   "cell_type": "code",
   "execution_count": 47,
   "metadata": {},
   "outputs": [],
   "source": [
    "def generate_bubble_map(df,column,limits,color,title,scale=1):\n",
    "\n",
    "    if not (column in df.columns):\n",
    "        print(\"column \\\"\"+column+\"\\\"\",\"not found in dataframe\")\n",
    "        return\n",
    "    \n",
    "    if not ('longitude' in df.columns and 'latitude' in df.columns):\n",
    "        print(\"longitude or latitude not present in df\")\n",
    "        return\n",
    "    if not (limits[0][0] <= df[column].min()):\n",
    "        print(\"lower limit is higher then some of the rows\")\n",
    "        print(\"df[\" + column + \"].min()=\",df[column].min())\n",
    "    \n",
    "    if not (limits[len(limits)-1][1] >= df[column].max()):\n",
    "        print(\"upper limit is lower then some of the rows\")\n",
    "        print(\"df[\" + column + \"].max()=\",df[column].max())\n",
    "    \n",
    "    #preprocess color\n",
    "    colorseries={\n",
    "        \"blue\":[\"#f7fbff\", \"#ebf3fb\", \"#d2e3f3\", \"#c6dbef\", \"#b3d2e9\", \"#9ecae1\",\n",
    "                \"#85bcdb\", \"#6baed6\", \"#57a0ce\", \"#3082be\", \"#2171b5\", \"#1361a9\",\n",
    "                \"#08519c\", \"#0b4083\", \"#08306b\"],\n",
    "        \"gray\":[\"#ffffff\",\"#eeeeee\",\"#dddddd\",\"#cccccc\",\"#bbbbbb\",\"#aaaaaa\",\"#999999\",\"#888888\"],\n",
    "        \"thermal\":[\"#00000a\",\"#000014\",\"#00001e\",\"#000025\",\"#00002a\",\"#00002e\",\"#000032\",\"#000036\",\"#00003a\",\"#00003e\",\"#000042\",\"#000046\",\"#00004a\",\"#00004f\",\"#000052\",\"#010055\",\"#010057\",\"#020059\",\"#02005c\",\"#03005e\",\"#040061\",\"#040063\",\"#050065\",\"#060067\",\"#070069\",\"#08006b\",\"#09006e\",\"#0a0070\",\"#0b0073\",\"#0c0074\",\"#0d0075\",\"#0d0076\",\"#0e0077\",\"#100078\",\"#120079\",\"#13007b\",\"#15007c\",\"#17007d\",\"#19007e\",\"#1b0080\",\"#1c0081\",\"#1e0083\",\"#200084\",\"#220085\",\"#240086\",\"#260087\",\"#280089\",\"#2a0089\",\"#2c008a\",\"#2e008b\",\"#30008c\",\"#32008d\",\"#34008e\",\"#36008e\",\"#38008f\",\"#390090\",\"#3b0091\",\"#3c0092\",\"#3e0093\",\"#3f0093\",\"#410094\",\"#420095\",\"#440095\",\"#450096\",\"#470096\",\"#490096\",\"#4a0096\",\"#4c0097\",\"#4e0097\",\"#4f0097\",\"#510097\",\"#520098\",\"#540098\",\"#560098\",\"#580099\",\"#5a0099\",\"#5c0099\",\"#5d009a\",\"#5f009a\",\"#61009b\",\"#63009b\",\"#64009b\",\"#66009b\",\"#68009b\",\"#6a009b\",\"#6c009c\",\"#6d009c\",\"#6f009c\",\"#70009c\",\"#71009d\",\"#73009d\",\"#75009d\",\"#77009d\",\"#78009d\",\"#7a009d\",\"#7c009d\",\"#7e009d\",\"#7f009d\",\"#81009d\",\"#83009d\",\"#84009d\",\"#86009d\",\"#87009d\",\"#89009d\",\"#8a009d\",\"#8b009d\",\"#8d009d\",\"#8f009c\",\"#91009c\",\"#93009c\",\"#95009c\",\"#96009b\",\"#98009b\",\"#99009b\",\"#9b009b\",\"#9c009b\",\"#9d009b\",\"#9f009b\",\"#a0009b\",\"#a2009b\",\"#a3009b\",\"#a4009b\",\"#a6009a\",\"#a7009a\",\"#a8009a\",\"#a90099\",\"#aa0099\",\"#ab0099\",\"#ad0099\",\"#ae0198\",\"#af0198\",\"#b00198\",\"#b00198\",\"#b10197\",\"#b20197\",\"#b30196\",\"#b40296\",\"#b50295\",\"#b60295\",\"#b70395\",\"#b80395\",\"#b90495\",\"#ba0495\",\"#ba0494\",\"#bb0593\",\"#bc0593\",\"#bd0593\",\"#be0692\",\"#bf0692\",\"#bf0692\",\"#c00791\",\"#c00791\",\"#c10890\",\"#c10990\",\"#c20a8f\",\"#c30a8e\",\"#c30b8e\",\"#c40c8d\",\"#c50c8c\",\"#c60d8b\",\"#c60e8a\",\"#c70f89\",\"#c81088\",\"#c91187\",\"#ca1286\",\"#ca1385\",\"#cb1385\",\"#cb1484\",\"#cc1582\",\"#cd1681\",\"#ce1780\",\"#ce187e\",\"#cf187c\",\"#cf197b\",\"#d01a79\",\"#d11b78\",\"#d11c76\",\"#d21c75\",\"#d21d74\",\"#d31e72\",\"#d32071\",\"#d4216f\",\"#d4226e\",\"#d5236b\",\"#d52469\",\"#d62567\",\"#d72665\",\"#d82764\",\"#d82862\",\"#d92a60\",\"#da2b5e\",\"#da2c5c\",\"#db2e5a\",\"#db2f57\",\"#dc2f54\",\"#dd3051\",\"#dd314e\",\"#de324a\",\"#de3347\",\"#df3444\",\"#df3541\",\"#df363d\",\"#e0373a\",\"#e03837\",\"#e03933\",\"#e13a30\",\"#e23b2d\",\"#e23c2a\",\"#e33d26\",\"#e33e23\",\"#e43f20\",\"#e4411d\",\"#e4421c\",\"#e5431b\",\"#e54419\",\"#e54518\",\"#e64616\",\"#e74715\",\"#e74814\",\"#e74913\",\"#e84a12\",\"#e84c10\",\"#e84c0f\",\"#e94d0e\",\"#e94d0d\",\"#ea4e0c\",\"#ea4f0c\",\"#eb500b\",\"#eb510a\",\"#eb520a\",\"#eb5309\",\"#ec5409\",\"#ec5608\",\"#ec5708\",\"#ec5808\",\"#ed5907\",\"#ed5a07\",\"#ed5b06\",\"#ee5c06\",\"#ee5c05\",\"#ee5d05\",\"#ee5e05\",\"#ef5f04\",\"#ef6004\",\"#ef6104\",\"#ef6204\",\"#f06303\",\"#f06403\",\"#f06503\",\"#f16603\",\"#f16603\",\"#f16703\",\"#f16803\",\"#f16902\",\"#f16a02\",\"#f16b02\",\"#f16b02\",\"#f26c01\",\"#f26d01\",\"#f26e01\",\"#f36f01\",\"#f37001\",\"#f37101\",\"#f37201\",\"#f47300\",\"#f47400\",\"#f47500\",\"#f47600\",\"#f47700\",\"#f47800\",\"#f47a00\",\"#f57b00\",\"#f57c00\",\"#f57e00\",\"#f57f00\",\"#f68000\",\"#f68100\",\"#f68200\",\"#f78300\",\"#f78400\",\"#f78500\",\"#f78600\",\"#f88700\",\"#f88800\",\"#f88800\",\"#f88900\",\"#f88a00\",\"#f88b00\",\"#f88c00\",\"#f98d00\",\"#f98d00\",\"#f98e00\",\"#f98f00\",\"#f99000\",\"#f99100\",\"#f99200\",\"#f99300\",\"#fa9400\",\"#fa9500\",\"#fa9600\",\"#fb9800\",\"#fb9900\",\"#fb9a00\",\"#fb9c00\",\"#fc9d00\",\"#fc9f00\",\"#fca000\",\"#fca100\",\"#fda200\",\"#fda300\",\"#fda400\",\"#fda600\",\"#fda700\",\"#fda800\",\"#fdaa00\",\"#fdab00\",\"#fdac00\",\"#fdad00\",\"#fdae00\",\"#feaf00\",\"#feb000\",\"#feb100\",\"#feb200\",\"#feb300\",\"#feb400\",\"#feb500\",\"#feb600\",\"#feb800\",\"#feb900\",\"#feb900\",\"#feba00\",\"#febb00\",\"#febc00\",\"#febd00\",\"#febe00\",\"#fec000\",\"#fec100\",\"#fec200\",\"#fec300\",\"#fec400\",\"#fec500\",\"#fec600\",\"#fec700\",\"#fec800\",\"#fec901\",\"#feca01\",\"#feca01\",\"#fecb01\",\"#fecc02\",\"#fecd02\",\"#fece03\",\"#fecf04\",\"#fecf04\",\"#fed005\",\"#fed106\",\"#fed308\",\"#fed409\",\"#fed50a\",\"#fed60a\",\"#fed70b\",\"#fed80c\",\"#fed90d\",\"#ffda0e\",\"#ffda0e\",\"#ffdb10\",\"#ffdc12\",\"#ffdc14\",\"#ffdd16\",\"#ffde19\",\"#ffde1b\",\"#ffdf1e\",\"#ffe020\",\"#ffe122\",\"#ffe224\",\"#ffe226\",\"#ffe328\",\"#ffe42b\",\"#ffe42e\",\"#ffe531\",\"#ffe635\",\"#ffe638\",\"#ffe73c\",\"#ffe83f\",\"#ffe943\",\"#ffea46\",\"#ffeb49\",\"#ffeb4d\",\"#ffec50\",\"#ffed54\",\"#ffee57\",\"#ffee5b\",\"#ffee5f\",\"#ffef63\",\"#ffef67\",\"#fff06a\",\"#fff06e\",\"#fff172\",\"#fff177\",\"#fff17b\",\"#fff280\",\"#fff285\",\"#fff28a\",\"#fff38e\",\"#fff492\",\"#fff496\",\"#fff49a\",\"#fff59e\",\"#fff5a2\",\"#fff5a6\",\"#fff6aa\",\"#fff6af\",\"#fff7b3\",\"#fff7b6\",\"#fff8ba\",\"#fff8bd\",\"#fff8c1\",\"#fff8c4\",\"#fff9c7\",\"#fff9ca\",\"#fff9cd\",\"#fffad1\",\"#fffad4\",\"#fffbd8\",\"#fffcdb\",\"#fffcdf\",\"#fffde2\",\"#fffde5\",\"#fffde8\",\"#fffeeb\",\"#fffeee\",\"#fffef1\",\"#fffef4\",\"#fffff6\"],\n",
    "        \"black\":[\"#bbbbbb\",\"#aaaaaa\",\"#999999\",\"#888888\",\"#777777\",\"#666666\",\"#555555\",\"#444444\",\"#333333\",\"#222222\",\"#111111\",\"#000000\"]\n",
    "    }\n",
    "    colors = list()\n",
    "    inds = list(np.linspace(0,len(colorseries[color])-1,len(limits)).astype(\"int\"))\n",
    "    for i in inds:\n",
    "        colors.append(colorseries[color][i])\n",
    "        \n",
    "    scale *= 250 / (df[column].max() - df[column].min())\n",
    "    \n",
    "    fig = go.Figure()\n",
    "    for i in range(len(limits)):\n",
    "        lim = limits[i]\n",
    "        df_sub = df[(lim[0]<=df[column]) & (df[column]<lim[1])]\n",
    "        fig.add_trace(go.Scattergeo(\n",
    "            locationmode = 'USA-states',\n",
    "            lon = df_sub['longitude'],\n",
    "            lat = df_sub['latitude'],\n",
    "            text = df_sub.index,\n",
    "            marker = dict(\n",
    "                size = (df_sub[column] - df[column].min())*scale, # ensure size is positive\n",
    "                color = colors[i],\n",
    "                line_color='rgb(40,40,40)',\n",
    "                line_width=0,\n",
    "                sizemode = 'area'\n",
    "            ),\n",
    "            name = '{0} - {1}'.format(lim[0],lim[1])))\n",
    "\n",
    "    fig.update_layout(\n",
    "            title_text = title,\n",
    "            showlegend = True,\n",
    "            geo = dict(\n",
    "                scope = 'usa',\n",
    "                landcolor = 'rgb(217, 217, 217)',\n",
    "            )\n",
    "        )\n",
    "    return fig"
   ]
  },
  {
   "cell_type": "code",
   "execution_count": 49,
   "metadata": {},
   "outputs": [
    {
     "data": {
      "application/vnd.plotly.v1+json": {
       "config": {
        "plotlyServerURL": "https://plot.ly"
       },
       "data": [
        {
         "lat": [
          35.04019927978516,
          41.87400055,
          35.43360138,
          45.807701110839844,
          43.56439972,
          34.200698852539055,
          37.70100021362305,
          38.75500107,
          38.805801391602,
          42.90800095,
          41.15570068,
          39.861698150635,
          40.82490158081055,
          31.80719948,
          35.13850021,
          44.3488998413,
          39.1223983765,
          32.6875,
          41.31209945678711,
          36.08010101,
          33.94250107,
          33.81769943,
          31.9424991607666,
          37.62409973,
          38.5097999573,
          34.05599975585937,
          33.43429946899414,
          34.65449905,
          46.26470184326172,
          33.829700469970696,
          38.289100646972656,
          41.59420013,
          39.49909973144531,
          33.30160140991211,
          35.617099761999995,
          32.7336006165,
          34.42620087,
          35.2368011475,
          37.894199371338,
          37.0363888889,
          34.89889908,
          33.67570114,
          32.116100311279304,
          42.48180008,
          40.4408989
         ],
         "locationmode": "USA-states",
         "lon": [
          -106.60900115966795,
          -103.5960007,
          -119.0569992,
          -108.54299926757812,
          -116.22299960000001,
          -118.35900115966795,
          -113.0989990234375,
          -109.7549973,
          -104.70099639893,
          -106.4639969,
          -104.81199649999999,
          -104.672996521,
          -115.79199981689452,
          -106.37799840000002,
          -111.6709976,
          -105.539001465,
          -108.527000427,
          -103.21700290000001,
          -105.6750030517578,
          -115.15200039999999,
          -118.40799709999999,
          -118.15200039999999,
          -102.2020034790039,
          -118.83799740000002,
          -107.89399719200001,
          -117.60099792480469,
          -112.01200103759766,
          -112.41999820000001,
          -119.11900329589844,
          -116.50700378417969,
          -104.49700164794922,
          -109.0650024,
          -119.76799774169922,
          -104.53099822998048,
          -106.08899688700001,
          -117.190002441,
          -119.8399963,
          -120.64199829100001,
          -121.2379989624,
          -113.510305556,
          -120.4570007,
          -117.86799620000001,
          -110.94100189208984,
          -114.487999,
          -109.5100021
         ],
         "marker": {
          "color": "#f7fbff",
          "line": {
           "color": "rgb(40,40,40)",
           "width": 0
          },
          "size": [
           18.139555092109834,
           32.76706059552773,
           6.906427412814277,
           30.209057467269158,
           20.503852392538544,
           26.544939752056518,
           30.33034990151778,
           19.944458927123137,
           33.608866295910104,
           20.09471671880432,
           34.91411771521261,
           30.94043274244006,
           28.972598771868835,
           12.985531803962465,
           22.612892480593203,
           31.485343529139158,
           37.25125999304832,
           31.260862009037183,
           30.388280616382787,
           2.918259761325459,
           26.544939752056518,
           26.544939752056518,
           31.688101031166735,
           31.548705248522772,
           30.533107403545376,
           0,
           6.9824614760746115,
           30.520435059668603,
           11.931916927354893,
           3.971874637933061,
           24.222280152937095,
           11.023128837909862,
           20.496611053180384,
           25.391756459274703,
           28.634066156876383,
           20.563593442243082,
           38.47323600973233,
           34.0523983315954,
           28.673893523346088,
           31.657325338894687,
           38.47323600973233,
           18.925240412466692,
           17.57292028733635,
           22.710650561927974,
           20.0078206465068
          ],
          "sizemode": "area"
         },
         "name": "0 - 1.4",
         "text": [
          "ABQ",
          "BFF",
          "BFL",
          "BIL",
          "BOI",
          "BUR",
          "CDC",
          "CNY",
          "COS",
          "CPR",
          "CYS",
          "DEN",
          "EKO",
          "ELP",
          "FLG",
          "GCC",
          "GJT",
          "HOB",
          "LAR",
          "LAS",
          "LAX",
          "LGB",
          "MAF",
          "MMH",
          "MTJ",
          "ONT",
          "PHX",
          "PRC",
          "PSC",
          "PSP",
          "PUB",
          "RKS",
          "RNO",
          "ROW",
          "SAF",
          "SAN",
          "SBA",
          "SBP",
          "SCK",
          "SGU",
          "SMX",
          "SNA",
          "TUS",
          "TWF",
          "VEL"
         ],
         "type": "scattergeo"
        },
        {
         "lat": [
          32.4113006592,
          45.44910049438477,
          35.219398498535156,
          45.07809829999999,
          39.22320175,
          46.77270126342773,
          47.50939941,
          46.39830017,
          25.90679931640625,
          45.95479965209961,
          45.77750015,
          47.16839981079102,
          44.520198822,
          27.77039909362793,
          44.7775993347,
          46.8420982361,
          37.1515007019,
          29.3742008209,
          48.11420059,
          39.64260101,
          45.7226982117,
          46.92070007324219,
          36.77619934082031,
          43.5820007324,
          37.9275016785,
          47.61989974975586,
          47.949298999999996,
          40.96749877929688,
          47.48199844,
          38.53390121,
          40.48120117,
          47.38660049,
          46.6068000793457,
          26.228500366210934,
          38.84220123,
          43.51459884643555,
          45.8184013367,
          48.566200256347656,
          46.92969894,
          34.5676994324,
          33.66360092163086,
          41.12620163,
          37.04420089999999,
          40.85100173950195,
          27.543800354003906,
          46.3745002746582,
          43.532901763916016,
          26.17580032,
          39.14099884033203,
          48.2593994140625,
          36.58700180053711,
          46.91630173,
          44.8819999695,
          37.72129821777344,
          41.195899963379,
          41.303199768066406,
          42.9098014831543,
          40.219200134277,
          44.0452995300293,
          44.254100799999996,
          29.533700942993164,
          37.61899948120117,
          37.36259841918945,
          31.35770034790039,
          40.78839874267578,
          38.79100036621094,
          38.69540023803711,
          33.98880005,
          45.54660034179688,
          43.50439835,
          42.40259933,
          44.74140167236328,
          44.68840027
         ],
         "locationmode": "USA-states",
         "lon": [
          -99.68190002440001,
          -98.42179870605469,
          -101.70600128173828,
          -83.56030273,
          -106.8690033,
          -100.74600219726562,
          -94.93370056,
          -94.13809967,
          -97.4259033203125,
          -112.49700164794922,
          -111.15299990000001,
          -88.48909759521484,
          -109.024002075,
          -97.5011978149414,
          -89.6668014526,
          -92.19360351559999,
          -107.75399780299999,
          -100.92700195299999,
          -98.90879822,
          -106.9179993,
          -87.0936965942,
          -96.81580352783205,
          -119.71800231933594,
          -96.741897583,
          -100.72399902299999,
          -117.53399658203124,
          -97.176102,
          -98.30960083007812,
          -111.3710022,
          -106.9329987,
          -107.21800230000001,
          -92.83899689,
          -111.98300170898438,
          -97.65440368652344,
          -99.27320099,
          -112.0709991455078,
          -88.11450195309999,
          -93.4030990600586,
          -98.67819977,
          -98.4166030884,
          -101.822998046875,
          -100.6839981,
          -100.95999909999999,
          -96.75920104980469,
          -99.46160125732422,
          -117.01499938964844,
          -84.07959747314453,
          -98.23860168,
          -96.6707992553711,
          -101.27999877929688,
          -121.84300231933594,
          -114.0910034,
          -93.22180175780001,
          -122.22100067138672,
          -112.0120010376,
          -95.89409637451172,
          -112.59600067138672,
          -111.72299957275,
          -103.05699920654295,
          -121.15000149999999,
          -98.46980285644531,
          -122.375,
          -121.9290008544922,
          -100.49600219726562,
          -111.97799682617188,
          -97.6521987915039,
          -121.59100341796876,
          -98.49189758,
          -94.05989837646484,
          -114.2959976,
          -96.38439941,
          -85.58219909667969,
          -111.11799620000001
         ],
         "marker": {
          "color": "#c6dbef",
          "line": {
           "color": "rgb(40,40,40)",
           "width": 0
          },
          "size": [
           70.62297242497976,
           55.99546692156184,
           44.5867367628316,
           91.78035569458929,
           81.42524041246676,
           44.43104796663188,
           65.0851581508516,
           82.90066330668527,
           68.25505445487195,
           41.02580813347241,
           65.08334781601206,
           89.4450237515931,
           57.40028675703858,
           80.02947225118764,
           98.29394044722514,
           79.89550747306227,
           53.435653458463726,
           48.25990615224194,
           50.287481172517666,
           61.87543448036148,
           95.37568068589974,
           60.29320183061058,
           44.42380662727375,
           80.07835129185494,
           46.50931236241453,
           51.32842370524853,
           57.06175414204609,
           75.90009848221531,
           39.05254315838257,
           58.0085592631213,
           69.45168578380256,
           79.89550747306227,
           57.75511238558683,
           68.25505445487195,
           66.73437318966516,
           54.549009384775836,
           87.64917159077747,
           75.46923879040675,
           51.14014888193722,
           89.38347236704902,
           47.93223554628667,
           57.13597787046699,
           49.31895203336815,
           92.26552543158385,
           54.639526126752415,
           55.939346541536324,
           98.46773259182025,
           59.85148012976484,
           96.29352044954247,
           42.11381937203107,
           49.81317344456028,
           84.0846222917391,
           93.76448267871622,
           44.17398041941833,
           74.97863804889354,
           97.82868439346542,
           45.22035395666784,
           45.53535221874639,
           44.92526937782415,
           57.19752925501106,
           90.83355057351409,
           77.63077858880774,
           60.84716429150733,
           61.13681786583248,
           56.73770420576989,
           84.04117425559033,
           53.64565229984937,
           83.55781485343527,
           85.54194183756232,
           41.89657919128721,
           88.98338836751257,
           96.0780906036381,
           65.08334781601206
          ],
          "sizemode": "area"
         },
         "name": "1.4 - 2.8",
         "text": [
          "ABI",
          "ABR",
          "AMA",
          "APN",
          "ASE",
          "BIS",
          "BJI",
          "BRD",
          "BRO",
          "BTM",
          "BZN",
          "CMX",
          "COD",
          "CRP",
          "CWA",
          "DLH",
          "DRO",
          "DRT",
          "DVL",
          "EGE",
          "ESC",
          "FAR",
          "FAT",
          "FSD",
          "GCK",
          "GEG",
          "GFK",
          "GRI",
          "GTF",
          "GUC",
          "HDN",
          "HIB",
          "HLN",
          "HRL",
          "HYS",
          "IDA",
          "IMT",
          "INL",
          "JMS",
          "LAW",
          "LBB",
          "LBF",
          "LBL",
          "LNK",
          "LRD",
          "LWS",
          "MBS",
          "MFE",
          "MHK",
          "MOT",
          "MRY",
          "MSO",
          "MSP",
          "OAK",
          "OGD",
          "OMA",
          "PIH",
          "PVU",
          "RAP",
          "RDM",
          "SAT",
          "SFO",
          "SJC",
          "SJT",
          "SLC",
          "SLN",
          "SMF",
          "SPS",
          "STC",
          "SUN",
          "SUX",
          "TVC",
          "WYS"
         ],
         "type": "scattergeo"
        },
        {
         "lat": [
          40.652099609375,
          31.535499572753906,
          41.25310135,
          31.61129951477051,
          39.45759963989258,
          33.36989974975586,
          42.74829864501953,
          42.55709838867188,
          43.99190139770508,
          44.258098602299995,
          30.194499969482425,
          35.43619918823242,
          41.338500976599995,
          42.234901428222656,
          41.9388999939,
          42.20869827,
          44.80739974975586,
          38.5452,
          40.47710037,
          42.36429977,
          31.2588005065918,
          44.471900939899996,
          42.94049835,
          39.17539978,
          33.93880081176758,
          40.916099548339844,
          37.22529983520508,
          38.13859939575195,
          32.89860153,
          41.88470077514648,
          46.25080108642578,
          39.2966003418,
          41.411701202399996,
          30.58860016,
          35.2140007019043,
          39.99800109863281,
          40.03919983,
          38.81809997558594,
          38.37310028076172,
          32.516300201416016,
          39.0488014221,
          32.84709930419922,
          39.90240097045898,
          42.40200043,
          38.8521,
          32.896800994873054,
          41.53400039672852,
          42.212398529052734,
          44.86579895019531,
          42.1599006652832,
          42.0831270134,
          38.0369987488,
          40.69250106811523,
          24.556100845336914,
          34.991199493408196,
          34.18539810180664,
          42.96540069580078,
          40.97850037,
          32.38399887084961,
          44.48509979248047,
          31.067199706999997,
          42.88079834,
          36.097801208496094,
          39.707901,
          41.06700134277344,
          38.36669922,
          41.26369858,
          41.66930008,
          38.94449997,
          43.1072998046875,
          37.649898529052734,
          39.7173,
          40.79520035,
          42.49100112915039,
          43.6072998046875,
          30.49410057067871,
          40.63980103,
          37.151798248291016,
          42.77870178222656,
          40.27590179,
          39.813801,
          40.77719879,
          43.879002,
          37.8582992554,
          37.326698303222656,
          39.2976,
          28.429399490356445,
          40.1935005188,
          41.7859992980957,
          42.37419891357422,
          42.93259811401367,
          42.94720077514648,
          43.16949844,
          28.10280036926269,
          41.44850158691406,
          43.13990020751953,
          41.393100738499996,
          33.6796989441,
          44.681900024399994,
          35.39310073852539,
          41.97859955,
          36.89459991455078,
          42.26729965209961,
          37.74010086,
          44.6509017944336,
          37.13190079,
          39.87189865112305,
          40.664199829100006,
          40.49150085,
          45.57089996,
          43.0778999329,
          43.64619827,
          40.50899887,
          35.877601623535156,
          42.19540023803711,
          45.63119888305664,
          37.50519943237305,
          37.3255004883,
          43.118900299072266,
          43.90829849243164,
          32.12760162,
          41.70869827270508,
          28.7775993347168,
          37.24570084,
          38.2638015747,
          39.84410095,
          38.74869918823242,
          38.50899887,
          41.50410079956055,
          43.11119842529297,
          41.58679962,
          36.47520065307617,
          40.27669906616211,
          36.19839859008789,
          32.35409927368164,
          39.94269943,
          30.78249931335449,
          36.281898,
          41.26070023
         ],
         "locationmode": "USA-states",
         "lon": [
          -75.44080352783203,
          -84.19450378417969,
          -70.06020355,
          -97.23049926757812,
          -74.57720184326172,
          -81.9645004272461,
          -73.80169677734375,
          -92.40029907226562,
          -76.02169799804688,
          -88.51909637450001,
          -97.6698989868164,
          -82.54180145263672,
          -75.72339630130001,
          -85.5521011352539,
          -72.68319702149999,
          -75.97979736,
          -68.82810211181639,
          -89.835197,
          -88.91590118,
          -71.00520325,
          -81.46649932861328,
          -73.15329742429998,
          -78.73220062,
          -76.66829681,
          -81.11949920654297,
          -81.44219970703125,
          -89.57080078125,
          -78.4529037475586,
          -80.04049683,
          -91.71080017089844,
          -84.47239685058594,
          -80.2281036377,
          -81.8498001099,
          -96.36380005,
          -80.94309997558594,
          -82.89189910888672,
          -88.27809906,
          -92.21959686279295,
          -81.59320068359375,
          -84.93890380859375,
          -84.6678009033,
          -96.85179901123048,
          -84.21939849853516,
          -90.70950317,
          -77.037697,
          -97.03800201416016,
          -93.66310119628906,
          -83.35340118408203,
          -91.48429870605469,
          -76.8916015625,
          -80.1738667488,
          -87.53240203860001,
          -74.168701171875,
          -81.75959777832031,
          -78.88030242919922,
          -79.7238998413086,
          -83.74359893798828,
          -85.19509888,
          -94.71150207519531,
          -88.12960052490234,
          -97.8289031982,
          -85.52279663,
          -79.93730163574219,
          -77.72949982,
          -73.70760345458984,
          -82.55799866,
          -72.88680267,
          -70.28040314,
          -77.45580292,
          -78.94619750976562,
          -97.43309783935548,
          -86.294403,
          -73.10019684,
          -76.4583969116211,
          -110.73799896240234,
          -81.68789672851562,
          -73.77890015,
          -94.49829864501952,
          -84.58740234375,
          -79.40480042,
          -82.927803,
          -73.87259674,
          -91.256699,
          -80.3994979858,
          -79.20040130615234,
          -94.713898,
          -81.30899810791016,
          -76.7633972168,
          -87.75240325927734,
          -122.8730010986328,
          -71.43569946289062,
          -87.89659881591797,
          -86.23819733,
          -80.64530181884766,
          -90.50749969482422,
          -89.3375015258789,
          -70.6143035889,
          -78.9282989502,
          -75.46549987790002,
          -97.60070037841795,
          -87.90480042,
          -76.20120239257812,
          -71.87570190429688,
          -87.16680145,
          -73.46810150146484,
          -76.49299622,
          -75.24109649658203,
          -89.6932983398,
          -80.23290253,
          -84.79669952,
          -70.8233032227,
          -70.30930328,
          -122.2929993,
          -78.7874984741211,
          -89.09719848632812,
          -89.46749877929688,
          -77.3197021484375,
          -79.975402832,
          -77.67240142822266,
          -92.5,
          -81.20210266,
          -86.31729888916016,
          -81.23750305175781,
          -93.38860321,
          -78.8964004517,
          -89.67790222,
          -90.37000274658205,
          -122.8130035,
          -74.10479736328125,
          -76.1063003540039,
          -83.80780029,
          -82.40740203857422,
          -74.8134994506836,
          -95.88809967041016,
          -95.40239715576172,
          -91.19460297,
          -83.27670288085938,
          -94.30680100000001,
          -80.67910004
         ],
         "marker": {
          "color": "#6baed6",
          "line": {
           "color": "rgb(40,40,40)",
           "width": 0
          },
          "size": [
           159.17369076584413,
           155.1728507704785,
           139.1984561464488,
           114.82048719731212,
           150.44606650446076,
           157.51180338315368,
           134.77399779863288,
           112.46162090140189,
           135.35511528212257,
           101.43306105897354,
           104.62287104622865,
           160.20377128953777,
           148.08720020855068,
           116.6380633762021,
           157.56430309350029,
           143.41834665739776,
           141.7455972656702,
           134.3051210751941,
           118.71994844166372,
           156.32965473293947,
           150.23244699339585,
           137.83889468196048,
           131.51177441779637,
           153.41139497161393,
           141.94292376317932,
           125.21180917622517,
           156.12870756575134,
           140.21586432626586,
           153.79880662727382,
           115.05039972193262,
           102.14271231607002,
           152.25459100915296,
           126.6383530297764,
           131.34160294288034,
           134.6092573282355,
           132.4929759008226,
           121.76312130691699,
           131.44660236357328,
           147.5549617657282,
           157.84852566330673,
           142.7648157803269,
           118.3289161163249,
           133.08133472367066,
           121.90794809407947,
           139.84112501448283,
           118.3289161163249,
           110.37611516626119,
           104.49433727262199,
           103.89873711041594,
           116.91866527632952,
           151.79295562507247,
           156.67361835245052,
           157.77249160004644,
           156.49801587301596,
           147.79573629938602,
           145.35359460085735,
           102.30745278646742,
           122.25734271810913,
           147.5477204263701,
           100.12780963967101,
           105.66200324412004,
           117.09607809060357,
           139.54604043563893,
           126.75059378982742,
           155.677934190708,
           143.32058857606324,
           153.85492700729938,
           154.01423647317816,
           140.11629591009168,
           106.51829162321881,
           104.15942532730865,
           141.33646159193614,
           144.62946066504466,
           126.49714691229295,
           104.63916405978456,
           153.35527459158857,
           146.63350133240638,
           141.91938941026532,
           107.60087185725877,
           150.31934306569346,
           132.4929759008226,
           153.71915189433454,
           112.97394566098943,
           148.21754431699688,
           140.3100017379216,
           118.98063665855632,
           159.4379996524158,
           149.6802948673387,
           120.20985401459862,
           106.76992816591354,
           154.95742092457417,
           105.54433147955055,
           113.08799675587991,
           159.84713532614998,
           116.46789190128611,
           116.7376317923765,
           152.01743714517445,
           155.89698470629136,
           129.29049356969082,
           109.28086258834445,
           120.20985401459862,
           151.98485111806286,
           158.3789537712896,
           159.75661858417342,
           122.6646680570039,
           153.11268972309122,
           151.21002780674317,
           117.3748696558915,
           133.39814332058862,
           100.16944734098023,
           152.98596628432418,
           158.36990209709202,
           129.9711794693547,
           149.5390887498552,
           116.1022042637007,
           99.80194936855527,
           147.13315374811728,
           136.46304020391617,
           105.96976016684053,
           110.28197775460553,
           142.86981520101963,
           125.81103000811044,
           158.8514511644075,
           141.32016857838042,
           134.25986270420583,
           121.30691692735499,
           131.1605694589271,
           125.86715038813577,
           151.43812999652428,
           138.85087185725874,
           107.39268335071256,
           143.3115369018654,
           152.08622986907676,
           125.45801471440156,
           145.21057814853438,
           120.62442069285134,
           158.18524794345967,
           148.12702757502038,
           130.74600278067436
          ],
          "sizemode": "area"
         },
         "name": "2.8 - 4.2",
         "text": [
          "ABE",
          "ABY",
          "ACK",
          "ACT",
          "ACY",
          "AGS",
          "ALB",
          "ALO",
          "ART",
          "ATW",
          "AUS",
          "AVL",
          "AVP",
          "AZO",
          "BDL",
          "BGM",
          "BGR",
          "BLV",
          "BMI",
          "BOS",
          "BQK",
          "BTV",
          "BUF",
          "BWI",
          "CAE",
          "CAK",
          "CGI",
          "CHO",
          "CHS",
          "CID",
          "CIU",
          "CKB",
          "CLE",
          "CLL",
          "CLT",
          "CMH",
          "CMI",
          "COU",
          "CRW",
          "CSG",
          "CVG",
          "DAL",
          "DAY",
          "DBQ",
          "DCA",
          "DFW",
          "DSM",
          "DTW",
          "EAU",
          "ELM",
          "ERI",
          "EVV",
          "EWR",
          "EYW",
          "FAY",
          "FLO",
          "FNT",
          "FWA",
          "GGG",
          "GRB",
          "GRK",
          "GRR",
          "GSO",
          "HGR",
          "HPN",
          "HTS",
          "HVN",
          "HYA",
          "IAD",
          "IAG",
          "ICT",
          "IND",
          "ISP",
          "ITH",
          "JAC",
          "JAX",
          "JFK",
          "JLN",
          "LAN",
          "LBE",
          "LCK",
          "LGA",
          "LSE",
          "LWB",
          "LYH",
          "MCI",
          "MCO",
          "MDT",
          "MDW",
          "MFR",
          "MHT",
          "MKE",
          "MKG",
          "MLB",
          "MLI",
          "MSN",
          "MVY",
          "MYR",
          "OGS",
          "OKC",
          "ORD",
          "ORF",
          "ORH",
          "OWB",
          "PBG",
          "PHF",
          "PHL",
          "PIA",
          "PIT",
          "PLN",
          "PSM",
          "PWM",
          "RDD",
          "RDU",
          "RFD",
          "RHI",
          "RIC",
          "ROA",
          "ROC",
          "RST",
          "SAV",
          "SBN",
          "SFB",
          "SGF",
          "SHD",
          "SPI",
          "STL",
          "STS",
          "SWF",
          "SYR",
          "TOL",
          "TRI",
          "TTN",
          "TUL",
          "TYR",
          "UIN",
          "VLD",
          "XNA",
          "YNG"
         ],
         "type": "scattergeo"
        },
        {
         "lat": [
          40.97809982299805,
          31.32740020751953,
          33.63669967651367,
          33.56290054,
          36.1245002746582,
          29.9507999420166,
          30.53319931,
          35.03530120849609,
          29.179899,
          31.3213005065918,
          44.12459945678711,
          35.0730018616,
          26.072599411010746,
          35.33660125732422,
          29.6900997162,
          30.40730094909668,
          34.895698547399995,
          33.450298309299995,
          29.64539909,
          34.637199401855,
          29.98439979553223,
          34.27059936523437,
          32.3111991882,
          30.12610054016113,
          38.0364990234375,
          30.20529938,
          34.729400634799994,
          32.33259963989258,
          35.04240036010742,
          32.30059814,
          25.79319953918457,
          32.51089859008789,
          30.691200256348,
          29.99340057373047,
          34.8292007446,
          43.41709899902344,
          37.06079864501953,
          26.68320083618164,
          45.58869934,
          26.92020035,
          35.6352005,
          31.467100143432614,
          27.91020012,
          30.473400115967003,
          41.73260116577149,
          26.53619956970215,
          38.1744,
          32.44660186767578,
          27.39539909362793,
          30.396499633789066,
          27.975500106811523,
          33.45370101928711,
          35.81100082,
          30.4832
         ],
         "locationmode": "USA-states",
         "lon": [
          -124.10900115966795,
          -92.54979705810548,
          -84.4281005859375,
          -86.75350189,
          -86.6781997680664,
          -94.02069854736328,
          -91.14959717,
          -85.20379638671875,
          -81.058098,
          -85.44960021972656,
          -123.21199798583984,
          -77.04290008539998,
          -80.15270233154297,
          -94.36740112304688,
          -82.27179718020001,
          -89.07009887695312,
          -82.2189025879,
          -88.59140014649999,
          -95.27890015,
          -86.775100708008,
          -95.34140014648438,
          -77.90260314941406,
          -90.0758972168,
          -93.22329711914062,
          -84.60590362548828,
          -91.98760223,
          -92.22429656979999,
          -88.75189971923828,
          -89.97669982910156,
          -86.39399719,
          -80.29060363769531,
          -92.0376968383789,
          -88.242797851562,
          -90.25800323486328,
          -77.61209869380002,
          -124.24600219726562,
          -88.7738037109375,
          -80.09559631347656,
          -122.59799960000001,
          -81.99050140000001,
          -77.38529968,
          -89.33709716796875,
          -82.68740082,
          -87.18659973144501,
          -71.42040252685547,
          -81.75520324707031,
          -85.736,
          -93.82559967041016,
          -82.55439758300781,
          -84.35030364990234,
          -82.533203125,
          -93.99099731445312,
          -83.99400329999999,
          -86.525398
         ],
         "marker": {
          "color": "#2171b5",
          "line": {
           "color": "rgb(40,40,40)",
           "width": 0
          },
          "size": [
           198.40907774301917,
           190.56489688332775,
           165.15684741049708,
           180.4523664697023,
           167.79812594137428,
           200.89285714285725,
           203.88534063260357,
           182.70442301008,
           163.14918607345615,
           173.71792086664377,
           204.23292492179368,
           177.24626346889121,
           182.64468196037552,
           161.65928050052136,
           165.3487429034876,
           210.62883790985993,
           169.0581189896884,
           180.43969412582553,
           171.2649171590777,
           185.67337214691247,
           171.2649171590777,
           181.27968949136852,
           184.24501795852163,
           202.2542289421852,
           164.23900764685447,
           200.22846425674885,
           175.69118584173333,
           179.559871393813,
           182.82933611400765,
           164.00909512223382,
           177.99393175761801,
           182.1993395898506,
           208.4093673965937,
           205.11636832348526,
           181.5005503417913,
           216.15579017495057,
           166.7083043679758,
           173.24904414320483,
           202.3954350596688,
           164.77305642451643,
           166.17063492063497,
           203.82559958289886,
           170.27285366701432,
           200.61587591240882,
           164.2643523346079,
           165.5895174371453,
           167.73476422199053,
           161.38229927007305,
           168.20907194994794,
           172.12663654269508,
           173.42102595296032,
           161.69186652763295,
           172.6425819719616,
           196.66934596222927
          ],
          "sizemode": "area"
         },
         "name": "4.2 - 5.6",
         "text": [
          "ACV",
          "AEX",
          "ATL",
          "BHM",
          "BNA",
          "BPT",
          "BTR",
          "CHA",
          "DAB",
          "DHN",
          "EUG",
          "EWN",
          "FLL",
          "FSM",
          "GNV",
          "GPT",
          "GSP",
          "GTR",
          "HOU",
          "HSV",
          "IAH",
          "ILM",
          "JAN",
          "LCH",
          "LEX",
          "LFT",
          "LIT",
          "MEI",
          "MEM",
          "MGM",
          "MIA",
          "MLU",
          "MOB",
          "MSY",
          "OAJ",
          "OTH",
          "PAH",
          "PBI",
          "PDX",
          "PGD",
          "PGV",
          "PIB",
          "PIE",
          "PNS",
          "PVD",
          "RSW",
          "SDF",
          "SHV",
          "SRQ",
          "TLH",
          "TPA",
          "TXK",
          "TYS",
          "VPS"
         ],
         "type": "scattergeo"
        },
        {
         "lat": [
          48.79280090332031,
          47.44900131225586
         ],
         "locationmode": "USA-states",
         "lon": [
          -122.53800201416016,
          -122.30899810791016
         ],
         "marker": {
          "color": "#08306b",
          "line": {
           "color": "rgb(40,40,40)",
           "width": 0
          },
          "size": [
           238.36859865600746,
           249.99999999999997
          ],
          "sizemode": "area"
         },
         "name": "5.6 - 7.0",
         "text": [
          "BLI",
          "SEA"
         ],
         "type": "scattergeo"
        }
       ],
       "layout": {
        "geo": {
         "landcolor": "rgb(217, 217, 217)",
         "scope": "usa"
        },
        "showlegend": true,
        "template": {
         "data": {
          "bar": [
           {
            "error_x": {
             "color": "#2a3f5f"
            },
            "error_y": {
             "color": "#2a3f5f"
            },
            "marker": {
             "line": {
              "color": "#E5ECF6",
              "width": 0.5
             }
            },
            "type": "bar"
           }
          ],
          "barpolar": [
           {
            "marker": {
             "line": {
              "color": "#E5ECF6",
              "width": 0.5
             }
            },
            "type": "barpolar"
           }
          ],
          "carpet": [
           {
            "aaxis": {
             "endlinecolor": "#2a3f5f",
             "gridcolor": "white",
             "linecolor": "white",
             "minorgridcolor": "white",
             "startlinecolor": "#2a3f5f"
            },
            "baxis": {
             "endlinecolor": "#2a3f5f",
             "gridcolor": "white",
             "linecolor": "white",
             "minorgridcolor": "white",
             "startlinecolor": "#2a3f5f"
            },
            "type": "carpet"
           }
          ],
          "choropleth": [
           {
            "colorbar": {
             "outlinewidth": 0,
             "ticks": ""
            },
            "type": "choropleth"
           }
          ],
          "contour": [
           {
            "colorbar": {
             "outlinewidth": 0,
             "ticks": ""
            },
            "colorscale": [
             [
              0,
              "#0d0887"
             ],
             [
              0.1111111111111111,
              "#46039f"
             ],
             [
              0.2222222222222222,
              "#7201a8"
             ],
             [
              0.3333333333333333,
              "#9c179e"
             ],
             [
              0.4444444444444444,
              "#bd3786"
             ],
             [
              0.5555555555555556,
              "#d8576b"
             ],
             [
              0.6666666666666666,
              "#ed7953"
             ],
             [
              0.7777777777777778,
              "#fb9f3a"
             ],
             [
              0.8888888888888888,
              "#fdca26"
             ],
             [
              1,
              "#f0f921"
             ]
            ],
            "type": "contour"
           }
          ],
          "contourcarpet": [
           {
            "colorbar": {
             "outlinewidth": 0,
             "ticks": ""
            },
            "type": "contourcarpet"
           }
          ],
          "heatmap": [
           {
            "colorbar": {
             "outlinewidth": 0,
             "ticks": ""
            },
            "colorscale": [
             [
              0,
              "#0d0887"
             ],
             [
              0.1111111111111111,
              "#46039f"
             ],
             [
              0.2222222222222222,
              "#7201a8"
             ],
             [
              0.3333333333333333,
              "#9c179e"
             ],
             [
              0.4444444444444444,
              "#bd3786"
             ],
             [
              0.5555555555555556,
              "#d8576b"
             ],
             [
              0.6666666666666666,
              "#ed7953"
             ],
             [
              0.7777777777777778,
              "#fb9f3a"
             ],
             [
              0.8888888888888888,
              "#fdca26"
             ],
             [
              1,
              "#f0f921"
             ]
            ],
            "type": "heatmap"
           }
          ],
          "heatmapgl": [
           {
            "colorbar": {
             "outlinewidth": 0,
             "ticks": ""
            },
            "colorscale": [
             [
              0,
              "#0d0887"
             ],
             [
              0.1111111111111111,
              "#46039f"
             ],
             [
              0.2222222222222222,
              "#7201a8"
             ],
             [
              0.3333333333333333,
              "#9c179e"
             ],
             [
              0.4444444444444444,
              "#bd3786"
             ],
             [
              0.5555555555555556,
              "#d8576b"
             ],
             [
              0.6666666666666666,
              "#ed7953"
             ],
             [
              0.7777777777777778,
              "#fb9f3a"
             ],
             [
              0.8888888888888888,
              "#fdca26"
             ],
             [
              1,
              "#f0f921"
             ]
            ],
            "type": "heatmapgl"
           }
          ],
          "histogram": [
           {
            "marker": {
             "colorbar": {
              "outlinewidth": 0,
              "ticks": ""
             }
            },
            "type": "histogram"
           }
          ],
          "histogram2d": [
           {
            "colorbar": {
             "outlinewidth": 0,
             "ticks": ""
            },
            "colorscale": [
             [
              0,
              "#0d0887"
             ],
             [
              0.1111111111111111,
              "#46039f"
             ],
             [
              0.2222222222222222,
              "#7201a8"
             ],
             [
              0.3333333333333333,
              "#9c179e"
             ],
             [
              0.4444444444444444,
              "#bd3786"
             ],
             [
              0.5555555555555556,
              "#d8576b"
             ],
             [
              0.6666666666666666,
              "#ed7953"
             ],
             [
              0.7777777777777778,
              "#fb9f3a"
             ],
             [
              0.8888888888888888,
              "#fdca26"
             ],
             [
              1,
              "#f0f921"
             ]
            ],
            "type": "histogram2d"
           }
          ],
          "histogram2dcontour": [
           {
            "colorbar": {
             "outlinewidth": 0,
             "ticks": ""
            },
            "colorscale": [
             [
              0,
              "#0d0887"
             ],
             [
              0.1111111111111111,
              "#46039f"
             ],
             [
              0.2222222222222222,
              "#7201a8"
             ],
             [
              0.3333333333333333,
              "#9c179e"
             ],
             [
              0.4444444444444444,
              "#bd3786"
             ],
             [
              0.5555555555555556,
              "#d8576b"
             ],
             [
              0.6666666666666666,
              "#ed7953"
             ],
             [
              0.7777777777777778,
              "#fb9f3a"
             ],
             [
              0.8888888888888888,
              "#fdca26"
             ],
             [
              1,
              "#f0f921"
             ]
            ],
            "type": "histogram2dcontour"
           }
          ],
          "mesh3d": [
           {
            "colorbar": {
             "outlinewidth": 0,
             "ticks": ""
            },
            "type": "mesh3d"
           }
          ],
          "parcoords": [
           {
            "line": {
             "colorbar": {
              "outlinewidth": 0,
              "ticks": ""
             }
            },
            "type": "parcoords"
           }
          ],
          "pie": [
           {
            "automargin": true,
            "type": "pie"
           }
          ],
          "scatter": [
           {
            "marker": {
             "colorbar": {
              "outlinewidth": 0,
              "ticks": ""
             }
            },
            "type": "scatter"
           }
          ],
          "scatter3d": [
           {
            "line": {
             "colorbar": {
              "outlinewidth": 0,
              "ticks": ""
             }
            },
            "marker": {
             "colorbar": {
              "outlinewidth": 0,
              "ticks": ""
             }
            },
            "type": "scatter3d"
           }
          ],
          "scattercarpet": [
           {
            "marker": {
             "colorbar": {
              "outlinewidth": 0,
              "ticks": ""
             }
            },
            "type": "scattercarpet"
           }
          ],
          "scattergeo": [
           {
            "marker": {
             "colorbar": {
              "outlinewidth": 0,
              "ticks": ""
             }
            },
            "type": "scattergeo"
           }
          ],
          "scattergl": [
           {
            "marker": {
             "colorbar": {
              "outlinewidth": 0,
              "ticks": ""
             }
            },
            "type": "scattergl"
           }
          ],
          "scattermapbox": [
           {
            "marker": {
             "colorbar": {
              "outlinewidth": 0,
              "ticks": ""
             }
            },
            "type": "scattermapbox"
           }
          ],
          "scatterpolar": [
           {
            "marker": {
             "colorbar": {
              "outlinewidth": 0,
              "ticks": ""
             }
            },
            "type": "scatterpolar"
           }
          ],
          "scatterpolargl": [
           {
            "marker": {
             "colorbar": {
              "outlinewidth": 0,
              "ticks": ""
             }
            },
            "type": "scatterpolargl"
           }
          ],
          "scatterternary": [
           {
            "marker": {
             "colorbar": {
              "outlinewidth": 0,
              "ticks": ""
             }
            },
            "type": "scatterternary"
           }
          ],
          "surface": [
           {
            "colorbar": {
             "outlinewidth": 0,
             "ticks": ""
            },
            "colorscale": [
             [
              0,
              "#0d0887"
             ],
             [
              0.1111111111111111,
              "#46039f"
             ],
             [
              0.2222222222222222,
              "#7201a8"
             ],
             [
              0.3333333333333333,
              "#9c179e"
             ],
             [
              0.4444444444444444,
              "#bd3786"
             ],
             [
              0.5555555555555556,
              "#d8576b"
             ],
             [
              0.6666666666666666,
              "#ed7953"
             ],
             [
              0.7777777777777778,
              "#fb9f3a"
             ],
             [
              0.8888888888888888,
              "#fdca26"
             ],
             [
              1,
              "#f0f921"
             ]
            ],
            "type": "surface"
           }
          ],
          "table": [
           {
            "cells": {
             "fill": {
              "color": "#EBF0F8"
             },
             "line": {
              "color": "white"
             }
            },
            "header": {
             "fill": {
              "color": "#C8D4E3"
             },
             "line": {
              "color": "white"
             }
            },
            "type": "table"
           }
          ]
         },
         "layout": {
          "annotationdefaults": {
           "arrowcolor": "#2a3f5f",
           "arrowhead": 0,
           "arrowwidth": 1
          },
          "coloraxis": {
           "colorbar": {
            "outlinewidth": 0,
            "ticks": ""
           }
          },
          "colorscale": {
           "diverging": [
            [
             0,
             "#8e0152"
            ],
            [
             0.1,
             "#c51b7d"
            ],
            [
             0.2,
             "#de77ae"
            ],
            [
             0.3,
             "#f1b6da"
            ],
            [
             0.4,
             "#fde0ef"
            ],
            [
             0.5,
             "#f7f7f7"
            ],
            [
             0.6,
             "#e6f5d0"
            ],
            [
             0.7,
             "#b8e186"
            ],
            [
             0.8,
             "#7fbc41"
            ],
            [
             0.9,
             "#4d9221"
            ],
            [
             1,
             "#276419"
            ]
           ],
           "sequential": [
            [
             0,
             "#0d0887"
            ],
            [
             0.1111111111111111,
             "#46039f"
            ],
            [
             0.2222222222222222,
             "#7201a8"
            ],
            [
             0.3333333333333333,
             "#9c179e"
            ],
            [
             0.4444444444444444,
             "#bd3786"
            ],
            [
             0.5555555555555556,
             "#d8576b"
            ],
            [
             0.6666666666666666,
             "#ed7953"
            ],
            [
             0.7777777777777778,
             "#fb9f3a"
            ],
            [
             0.8888888888888888,
             "#fdca26"
            ],
            [
             1,
             "#f0f921"
            ]
           ],
           "sequentialminus": [
            [
             0,
             "#0d0887"
            ],
            [
             0.1111111111111111,
             "#46039f"
            ],
            [
             0.2222222222222222,
             "#7201a8"
            ],
            [
             0.3333333333333333,
             "#9c179e"
            ],
            [
             0.4444444444444444,
             "#bd3786"
            ],
            [
             0.5555555555555556,
             "#d8576b"
            ],
            [
             0.6666666666666666,
             "#ed7953"
            ],
            [
             0.7777777777777778,
             "#fb9f3a"
            ],
            [
             0.8888888888888888,
             "#fdca26"
            ],
            [
             1,
             "#f0f921"
            ]
           ]
          },
          "colorway": [
           "#636efa",
           "#EF553B",
           "#00cc96",
           "#ab63fa",
           "#FFA15A",
           "#19d3f3",
           "#FF6692",
           "#B6E880",
           "#FF97FF",
           "#FECB52"
          ],
          "font": {
           "color": "#2a3f5f"
          },
          "geo": {
           "bgcolor": "white",
           "lakecolor": "white",
           "landcolor": "#E5ECF6",
           "showlakes": true,
           "showland": true,
           "subunitcolor": "white"
          },
          "hoverlabel": {
           "align": "left"
          },
          "hovermode": "closest",
          "mapbox": {
           "style": "light"
          },
          "paper_bgcolor": "white",
          "plot_bgcolor": "#E5ECF6",
          "polar": {
           "angularaxis": {
            "gridcolor": "white",
            "linecolor": "white",
            "ticks": ""
           },
           "bgcolor": "#E5ECF6",
           "radialaxis": {
            "gridcolor": "white",
            "linecolor": "white",
            "ticks": ""
           }
          },
          "scene": {
           "xaxis": {
            "backgroundcolor": "#E5ECF6",
            "gridcolor": "white",
            "gridwidth": 2,
            "linecolor": "white",
            "showbackground": true,
            "ticks": "",
            "zerolinecolor": "white"
           },
           "yaxis": {
            "backgroundcolor": "#E5ECF6",
            "gridcolor": "white",
            "gridwidth": 2,
            "linecolor": "white",
            "showbackground": true,
            "ticks": "",
            "zerolinecolor": "white"
           },
           "zaxis": {
            "backgroundcolor": "#E5ECF6",
            "gridcolor": "white",
            "gridwidth": 2,
            "linecolor": "white",
            "showbackground": true,
            "ticks": "",
            "zerolinecolor": "white"
           }
          },
          "shapedefaults": {
           "line": {
            "color": "#2a3f5f"
           }
          },
          "ternary": {
           "aaxis": {
            "gridcolor": "white",
            "linecolor": "white",
            "ticks": ""
           },
           "baxis": {
            "gridcolor": "white",
            "linecolor": "white",
            "ticks": ""
           },
           "bgcolor": "#E5ECF6",
           "caxis": {
            "gridcolor": "white",
            "linecolor": "white",
            "ticks": ""
           }
          },
          "title": {
           "x": 0.05
          },
          "xaxis": {
           "automargin": true,
           "gridcolor": "white",
           "linecolor": "white",
           "ticks": "",
           "title": {
            "standoff": 15
           },
           "zerolinecolor": "white",
           "zerolinewidth": 2
          },
          "yaxis": {
           "automargin": true,
           "gridcolor": "white",
           "linecolor": "white",
           "ticks": "",
           "title": {
            "standoff": 15
           },
           "zerolinecolor": "white",
           "zerolinewidth": 2
          }
         }
        },
        "title": {
         "text": "United States precipitation average"
        }
       }
      },
      "text/html": [
       "<div>\n",
       "        \n",
       "        \n",
       "            <div id=\"6018393e-ac06-4bc2-8eb1-2cdc29fa1bf2\" class=\"plotly-graph-div\" style=\"height:525px; width:100%;\"></div>\n",
       "            <script type=\"text/javascript\">\n",
       "                require([\"plotly\"], function(Plotly) {\n",
       "                    window.PLOTLYENV=window.PLOTLYENV || {};\n",
       "                    \n",
       "                if (document.getElementById(\"6018393e-ac06-4bc2-8eb1-2cdc29fa1bf2\")) {\n",
       "                    Plotly.newPlot(\n",
       "                        '6018393e-ac06-4bc2-8eb1-2cdc29fa1bf2',\n",
       "                        [{\"lat\": [35.04019927978516, 41.87400055, 35.43360138, 45.807701110839844, 43.56439972, 34.200698852539055, 37.70100021362305, 38.75500107, 38.805801391602, 42.90800095, 41.15570068, 39.861698150635, 40.82490158081055, 31.80719948, 35.13850021, 44.3488998413, 39.1223983765, 32.6875, 41.31209945678711, 36.08010101, 33.94250107, 33.81769943, 31.9424991607666, 37.62409973, 38.5097999573, 34.05599975585937, 33.43429946899414, 34.65449905, 46.26470184326172, 33.829700469970696, 38.289100646972656, 41.59420013, 39.49909973144531, 33.30160140991211, 35.617099761999995, 32.7336006165, 34.42620087, 35.2368011475, 37.894199371338, 37.0363888889, 34.89889908, 33.67570114, 32.116100311279304, 42.48180008, 40.4408989], \"locationmode\": \"USA-states\", \"lon\": [-106.60900115966795, -103.5960007, -119.0569992, -108.54299926757812, -116.22299960000001, -118.35900115966795, -113.0989990234375, -109.7549973, -104.70099639893, -106.4639969, -104.81199649999999, -104.672996521, -115.79199981689452, -106.37799840000002, -111.6709976, -105.539001465, -108.527000427, -103.21700290000001, -105.6750030517578, -115.15200039999999, -118.40799709999999, -118.15200039999999, -102.2020034790039, -118.83799740000002, -107.89399719200001, -117.60099792480469, -112.01200103759766, -112.41999820000001, -119.11900329589844, -116.50700378417969, -104.49700164794922, -109.0650024, -119.76799774169922, -104.53099822998048, -106.08899688700001, -117.190002441, -119.8399963, -120.64199829100001, -121.2379989624, -113.510305556, -120.4570007, -117.86799620000001, -110.94100189208984, -114.487999, -109.5100021], \"marker\": {\"color\": \"#f7fbff\", \"line\": {\"color\": \"rgb(40,40,40)\", \"width\": 0}, \"size\": [18.139555092109834, 32.76706059552773, 6.906427412814277, 30.209057467269158, 20.503852392538544, 26.544939752056518, 30.33034990151778, 19.944458927123137, 33.608866295910104, 20.09471671880432, 34.91411771521261, 30.94043274244006, 28.972598771868835, 12.985531803962465, 22.612892480593203, 31.485343529139158, 37.25125999304832, 31.260862009037183, 30.388280616382787, 2.918259761325459, 26.544939752056518, 26.544939752056518, 31.688101031166735, 31.548705248522772, 30.533107403545376, 0.0, 6.9824614760746115, 30.520435059668603, 11.931916927354893, 3.971874637933061, 24.222280152937095, 11.023128837909862, 20.496611053180384, 25.391756459274703, 28.634066156876383, 20.563593442243082, 38.47323600973233, 34.0523983315954, 28.673893523346088, 31.657325338894687, 38.47323600973233, 18.925240412466692, 17.57292028733635, 22.710650561927974, 20.0078206465068], \"sizemode\": \"area\"}, \"name\": \"0 - 1.4\", \"text\": [\"ABQ\", \"BFF\", \"BFL\", \"BIL\", \"BOI\", \"BUR\", \"CDC\", \"CNY\", \"COS\", \"CPR\", \"CYS\", \"DEN\", \"EKO\", \"ELP\", \"FLG\", \"GCC\", \"GJT\", \"HOB\", \"LAR\", \"LAS\", \"LAX\", \"LGB\", \"MAF\", \"MMH\", \"MTJ\", \"ONT\", \"PHX\", \"PRC\", \"PSC\", \"PSP\", \"PUB\", \"RKS\", \"RNO\", \"ROW\", \"SAF\", \"SAN\", \"SBA\", \"SBP\", \"SCK\", \"SGU\", \"SMX\", \"SNA\", \"TUS\", \"TWF\", \"VEL\"], \"type\": \"scattergeo\"}, {\"lat\": [32.4113006592, 45.44910049438477, 35.219398498535156, 45.07809829999999, 39.22320175, 46.77270126342773, 47.50939941, 46.39830017, 25.90679931640625, 45.95479965209961, 45.77750015, 47.16839981079102, 44.520198822, 27.77039909362793, 44.7775993347, 46.8420982361, 37.1515007019, 29.3742008209, 48.11420059, 39.64260101, 45.7226982117, 46.92070007324219, 36.77619934082031, 43.5820007324, 37.9275016785, 47.61989974975586, 47.949298999999996, 40.96749877929688, 47.48199844, 38.53390121, 40.48120117, 47.38660049, 46.6068000793457, 26.228500366210934, 38.84220123, 43.51459884643555, 45.8184013367, 48.566200256347656, 46.92969894, 34.5676994324, 33.66360092163086, 41.12620163, 37.04420089999999, 40.85100173950195, 27.543800354003906, 46.3745002746582, 43.532901763916016, 26.17580032, 39.14099884033203, 48.2593994140625, 36.58700180053711, 46.91630173, 44.8819999695, 37.72129821777344, 41.195899963379, 41.303199768066406, 42.9098014831543, 40.219200134277, 44.0452995300293, 44.254100799999996, 29.533700942993164, 37.61899948120117, 37.36259841918945, 31.35770034790039, 40.78839874267578, 38.79100036621094, 38.69540023803711, 33.98880005, 45.54660034179688, 43.50439835, 42.40259933, 44.74140167236328, 44.68840027], \"locationmode\": \"USA-states\", \"lon\": [-99.68190002440001, -98.42179870605469, -101.70600128173828, -83.56030273, -106.8690033, -100.74600219726562, -94.93370056, -94.13809967, -97.4259033203125, -112.49700164794922, -111.15299990000001, -88.48909759521484, -109.024002075, -97.5011978149414, -89.6668014526, -92.19360351559999, -107.75399780299999, -100.92700195299999, -98.90879822, -106.9179993, -87.0936965942, -96.81580352783205, -119.71800231933594, -96.741897583, -100.72399902299999, -117.53399658203124, -97.176102, -98.30960083007812, -111.3710022, -106.9329987, -107.21800230000001, -92.83899689, -111.98300170898438, -97.65440368652344, -99.27320099, -112.0709991455078, -88.11450195309999, -93.4030990600586, -98.67819977, -98.4166030884, -101.822998046875, -100.6839981, -100.95999909999999, -96.75920104980469, -99.46160125732422, -117.01499938964844, -84.07959747314453, -98.23860168, -96.6707992553711, -101.27999877929688, -121.84300231933594, -114.0910034, -93.22180175780001, -122.22100067138672, -112.0120010376, -95.89409637451172, -112.59600067138672, -111.72299957275, -103.05699920654295, -121.15000149999999, -98.46980285644531, -122.375, -121.9290008544922, -100.49600219726562, -111.97799682617188, -97.6521987915039, -121.59100341796876, -98.49189758, -94.05989837646484, -114.2959976, -96.38439941, -85.58219909667969, -111.11799620000001], \"marker\": {\"color\": \"#c6dbef\", \"line\": {\"color\": \"rgb(40,40,40)\", \"width\": 0}, \"size\": [70.62297242497976, 55.99546692156184, 44.5867367628316, 91.78035569458929, 81.42524041246676, 44.43104796663188, 65.0851581508516, 82.90066330668527, 68.25505445487195, 41.02580813347241, 65.08334781601206, 89.4450237515931, 57.40028675703858, 80.02947225118764, 98.29394044722514, 79.89550747306227, 53.435653458463726, 48.25990615224194, 50.287481172517666, 61.87543448036148, 95.37568068589974, 60.29320183061058, 44.42380662727375, 80.07835129185494, 46.50931236241453, 51.32842370524853, 57.06175414204609, 75.90009848221531, 39.05254315838257, 58.0085592631213, 69.45168578380256, 79.89550747306227, 57.75511238558683, 68.25505445487195, 66.73437318966516, 54.549009384775836, 87.64917159077747, 75.46923879040675, 51.14014888193722, 89.38347236704902, 47.93223554628667, 57.13597787046699, 49.31895203336815, 92.26552543158385, 54.639526126752415, 55.939346541536324, 98.46773259182025, 59.85148012976484, 96.29352044954247, 42.11381937203107, 49.81317344456028, 84.0846222917391, 93.76448267871622, 44.17398041941833, 74.97863804889354, 97.82868439346542, 45.22035395666784, 45.53535221874639, 44.92526937782415, 57.19752925501106, 90.83355057351409, 77.63077858880774, 60.84716429150733, 61.13681786583248, 56.73770420576989, 84.04117425559033, 53.64565229984937, 83.55781485343527, 85.54194183756232, 41.89657919128721, 88.98338836751257, 96.0780906036381, 65.08334781601206], \"sizemode\": \"area\"}, \"name\": \"1.4 - 2.8\", \"text\": [\"ABI\", \"ABR\", \"AMA\", \"APN\", \"ASE\", \"BIS\", \"BJI\", \"BRD\", \"BRO\", \"BTM\", \"BZN\", \"CMX\", \"COD\", \"CRP\", \"CWA\", \"DLH\", \"DRO\", \"DRT\", \"DVL\", \"EGE\", \"ESC\", \"FAR\", \"FAT\", \"FSD\", \"GCK\", \"GEG\", \"GFK\", \"GRI\", \"GTF\", \"GUC\", \"HDN\", \"HIB\", \"HLN\", \"HRL\", \"HYS\", \"IDA\", \"IMT\", \"INL\", \"JMS\", \"LAW\", \"LBB\", \"LBF\", \"LBL\", \"LNK\", \"LRD\", \"LWS\", \"MBS\", \"MFE\", \"MHK\", \"MOT\", \"MRY\", \"MSO\", \"MSP\", \"OAK\", \"OGD\", \"OMA\", \"PIH\", \"PVU\", \"RAP\", \"RDM\", \"SAT\", \"SFO\", \"SJC\", \"SJT\", \"SLC\", \"SLN\", \"SMF\", \"SPS\", \"STC\", \"SUN\", \"SUX\", \"TVC\", \"WYS\"], \"type\": \"scattergeo\"}, {\"lat\": [40.652099609375, 31.535499572753906, 41.25310135, 31.61129951477051, 39.45759963989258, 33.36989974975586, 42.74829864501953, 42.55709838867188, 43.99190139770508, 44.258098602299995, 30.194499969482425, 35.43619918823242, 41.338500976599995, 42.234901428222656, 41.9388999939, 42.20869827, 44.80739974975586, 38.5452, 40.47710037, 42.36429977, 31.2588005065918, 44.471900939899996, 42.94049835, 39.17539978, 33.93880081176758, 40.916099548339844, 37.22529983520508, 38.13859939575195, 32.89860153, 41.88470077514648, 46.25080108642578, 39.2966003418, 41.411701202399996, 30.58860016, 35.2140007019043, 39.99800109863281, 40.03919983, 38.81809997558594, 38.37310028076172, 32.516300201416016, 39.0488014221, 32.84709930419922, 39.90240097045898, 42.40200043, 38.8521, 32.896800994873054, 41.53400039672852, 42.212398529052734, 44.86579895019531, 42.1599006652832, 42.0831270134, 38.0369987488, 40.69250106811523, 24.556100845336914, 34.991199493408196, 34.18539810180664, 42.96540069580078, 40.97850037, 32.38399887084961, 44.48509979248047, 31.067199706999997, 42.88079834, 36.097801208496094, 39.707901, 41.06700134277344, 38.36669922, 41.26369858, 41.66930008, 38.94449997, 43.1072998046875, 37.649898529052734, 39.7173, 40.79520035, 42.49100112915039, 43.6072998046875, 30.49410057067871, 40.63980103, 37.151798248291016, 42.77870178222656, 40.27590179, 39.813801, 40.77719879, 43.879002, 37.8582992554, 37.326698303222656, 39.2976, 28.429399490356445, 40.1935005188, 41.7859992980957, 42.37419891357422, 42.93259811401367, 42.94720077514648, 43.16949844, 28.10280036926269, 41.44850158691406, 43.13990020751953, 41.393100738499996, 33.6796989441, 44.681900024399994, 35.39310073852539, 41.97859955, 36.89459991455078, 42.26729965209961, 37.74010086, 44.6509017944336, 37.13190079, 39.87189865112305, 40.664199829100006, 40.49150085, 45.57089996, 43.0778999329, 43.64619827, 40.50899887, 35.877601623535156, 42.19540023803711, 45.63119888305664, 37.50519943237305, 37.3255004883, 43.118900299072266, 43.90829849243164, 32.12760162, 41.70869827270508, 28.7775993347168, 37.24570084, 38.2638015747, 39.84410095, 38.74869918823242, 38.50899887, 41.50410079956055, 43.11119842529297, 41.58679962, 36.47520065307617, 40.27669906616211, 36.19839859008789, 32.35409927368164, 39.94269943, 30.78249931335449, 36.281898, 41.26070023], \"locationmode\": \"USA-states\", \"lon\": [-75.44080352783203, -84.19450378417969, -70.06020355, -97.23049926757812, -74.57720184326172, -81.9645004272461, -73.80169677734375, -92.40029907226562, -76.02169799804688, -88.51909637450001, -97.6698989868164, -82.54180145263672, -75.72339630130001, -85.5521011352539, -72.68319702149999, -75.97979736, -68.82810211181639, -89.835197, -88.91590118, -71.00520325, -81.46649932861328, -73.15329742429998, -78.73220062, -76.66829681, -81.11949920654297, -81.44219970703125, -89.57080078125, -78.4529037475586, -80.04049683, -91.71080017089844, -84.47239685058594, -80.2281036377, -81.8498001099, -96.36380005, -80.94309997558594, -82.89189910888672, -88.27809906, -92.21959686279295, -81.59320068359375, -84.93890380859375, -84.6678009033, -96.85179901123048, -84.21939849853516, -90.70950317, -77.037697, -97.03800201416016, -93.66310119628906, -83.35340118408203, -91.48429870605469, -76.8916015625, -80.1738667488, -87.53240203860001, -74.168701171875, -81.75959777832031, -78.88030242919922, -79.7238998413086, -83.74359893798828, -85.19509888, -94.71150207519531, -88.12960052490234, -97.8289031982, -85.52279663, -79.93730163574219, -77.72949982, -73.70760345458984, -82.55799866, -72.88680267, -70.28040314, -77.45580292, -78.94619750976562, -97.43309783935548, -86.294403, -73.10019684, -76.4583969116211, -110.73799896240234, -81.68789672851562, -73.77890015, -94.49829864501952, -84.58740234375, -79.40480042, -82.927803, -73.87259674, -91.256699, -80.3994979858, -79.20040130615234, -94.713898, -81.30899810791016, -76.7633972168, -87.75240325927734, -122.8730010986328, -71.43569946289062, -87.89659881591797, -86.23819733, -80.64530181884766, -90.50749969482422, -89.3375015258789, -70.6143035889, -78.9282989502, -75.46549987790002, -97.60070037841795, -87.90480042, -76.20120239257812, -71.87570190429688, -87.16680145, -73.46810150146484, -76.49299622, -75.24109649658203, -89.6932983398, -80.23290253, -84.79669952, -70.8233032227, -70.30930328, -122.2929993, -78.7874984741211, -89.09719848632812, -89.46749877929688, -77.3197021484375, -79.975402832, -77.67240142822266, -92.5, -81.20210266, -86.31729888916016, -81.23750305175781, -93.38860321, -78.8964004517, -89.67790222, -90.37000274658205, -122.8130035, -74.10479736328125, -76.1063003540039, -83.80780029, -82.40740203857422, -74.8134994506836, -95.88809967041016, -95.40239715576172, -91.19460297, -83.27670288085938, -94.30680100000001, -80.67910004], \"marker\": {\"color\": \"#6baed6\", \"line\": {\"color\": \"rgb(40,40,40)\", \"width\": 0}, \"size\": [159.17369076584413, 155.1728507704785, 139.1984561464488, 114.82048719731212, 150.44606650446076, 157.51180338315368, 134.77399779863288, 112.46162090140189, 135.35511528212257, 101.43306105897354, 104.62287104622865, 160.20377128953777, 148.08720020855068, 116.6380633762021, 157.56430309350029, 143.41834665739776, 141.7455972656702, 134.3051210751941, 118.71994844166372, 156.32965473293947, 150.23244699339585, 137.83889468196048, 131.51177441779637, 153.41139497161393, 141.94292376317932, 125.21180917622517, 156.12870756575134, 140.21586432626586, 153.79880662727382, 115.05039972193262, 102.14271231607002, 152.25459100915296, 126.6383530297764, 131.34160294288034, 134.6092573282355, 132.4929759008226, 121.76312130691699, 131.44660236357328, 147.5549617657282, 157.84852566330673, 142.7648157803269, 118.3289161163249, 133.08133472367066, 121.90794809407947, 139.84112501448283, 118.3289161163249, 110.37611516626119, 104.49433727262199, 103.89873711041594, 116.91866527632952, 151.79295562507247, 156.67361835245052, 157.77249160004644, 156.49801587301596, 147.79573629938602, 145.35359460085735, 102.30745278646742, 122.25734271810913, 147.5477204263701, 100.12780963967101, 105.66200324412004, 117.09607809060357, 139.54604043563893, 126.75059378982742, 155.677934190708, 143.32058857606324, 153.85492700729938, 154.01423647317816, 140.11629591009168, 106.51829162321881, 104.15942532730865, 141.33646159193614, 144.62946066504466, 126.49714691229295, 104.63916405978456, 153.35527459158857, 146.63350133240638, 141.91938941026532, 107.60087185725877, 150.31934306569346, 132.4929759008226, 153.71915189433454, 112.97394566098943, 148.21754431699688, 140.3100017379216, 118.98063665855632, 159.4379996524158, 149.6802948673387, 120.20985401459862, 106.76992816591354, 154.95742092457417, 105.54433147955055, 113.08799675587991, 159.84713532614998, 116.46789190128611, 116.7376317923765, 152.01743714517445, 155.89698470629136, 129.29049356969082, 109.28086258834445, 120.20985401459862, 151.98485111806286, 158.3789537712896, 159.75661858417342, 122.6646680570039, 153.11268972309122, 151.21002780674317, 117.3748696558915, 133.39814332058862, 100.16944734098023, 152.98596628432418, 158.36990209709202, 129.9711794693547, 149.5390887498552, 116.1022042637007, 99.80194936855527, 147.13315374811728, 136.46304020391617, 105.96976016684053, 110.28197775460553, 142.86981520101963, 125.81103000811044, 158.8514511644075, 141.32016857838042, 134.25986270420583, 121.30691692735499, 131.1605694589271, 125.86715038813577, 151.43812999652428, 138.85087185725874, 107.39268335071256, 143.3115369018654, 152.08622986907676, 125.45801471440156, 145.21057814853438, 120.62442069285134, 158.18524794345967, 148.12702757502038, 130.74600278067436], \"sizemode\": \"area\"}, \"name\": \"2.8 - 4.2\", \"text\": [\"ABE\", \"ABY\", \"ACK\", \"ACT\", \"ACY\", \"AGS\", \"ALB\", \"ALO\", \"ART\", \"ATW\", \"AUS\", \"AVL\", \"AVP\", \"AZO\", \"BDL\", \"BGM\", \"BGR\", \"BLV\", \"BMI\", \"BOS\", \"BQK\", \"BTV\", \"BUF\", \"BWI\", \"CAE\", \"CAK\", \"CGI\", \"CHO\", \"CHS\", \"CID\", \"CIU\", \"CKB\", \"CLE\", \"CLL\", \"CLT\", \"CMH\", \"CMI\", \"COU\", \"CRW\", \"CSG\", \"CVG\", \"DAL\", \"DAY\", \"DBQ\", \"DCA\", \"DFW\", \"DSM\", \"DTW\", \"EAU\", \"ELM\", \"ERI\", \"EVV\", \"EWR\", \"EYW\", \"FAY\", \"FLO\", \"FNT\", \"FWA\", \"GGG\", \"GRB\", \"GRK\", \"GRR\", \"GSO\", \"HGR\", \"HPN\", \"HTS\", \"HVN\", \"HYA\", \"IAD\", \"IAG\", \"ICT\", \"IND\", \"ISP\", \"ITH\", \"JAC\", \"JAX\", \"JFK\", \"JLN\", \"LAN\", \"LBE\", \"LCK\", \"LGA\", \"LSE\", \"LWB\", \"LYH\", \"MCI\", \"MCO\", \"MDT\", \"MDW\", \"MFR\", \"MHT\", \"MKE\", \"MKG\", \"MLB\", \"MLI\", \"MSN\", \"MVY\", \"MYR\", \"OGS\", \"OKC\", \"ORD\", \"ORF\", \"ORH\", \"OWB\", \"PBG\", \"PHF\", \"PHL\", \"PIA\", \"PIT\", \"PLN\", \"PSM\", \"PWM\", \"RDD\", \"RDU\", \"RFD\", \"RHI\", \"RIC\", \"ROA\", \"ROC\", \"RST\", \"SAV\", \"SBN\", \"SFB\", \"SGF\", \"SHD\", \"SPI\", \"STL\", \"STS\", \"SWF\", \"SYR\", \"TOL\", \"TRI\", \"TTN\", \"TUL\", \"TYR\", \"UIN\", \"VLD\", \"XNA\", \"YNG\"], \"type\": \"scattergeo\"}, {\"lat\": [40.97809982299805, 31.32740020751953, 33.63669967651367, 33.56290054, 36.1245002746582, 29.9507999420166, 30.53319931, 35.03530120849609, 29.179899, 31.3213005065918, 44.12459945678711, 35.0730018616, 26.072599411010746, 35.33660125732422, 29.6900997162, 30.40730094909668, 34.895698547399995, 33.450298309299995, 29.64539909, 34.637199401855, 29.98439979553223, 34.27059936523437, 32.3111991882, 30.12610054016113, 38.0364990234375, 30.20529938, 34.729400634799994, 32.33259963989258, 35.04240036010742, 32.30059814, 25.79319953918457, 32.51089859008789, 30.691200256348, 29.99340057373047, 34.8292007446, 43.41709899902344, 37.06079864501953, 26.68320083618164, 45.58869934, 26.92020035, 35.6352005, 31.467100143432614, 27.91020012, 30.473400115967003, 41.73260116577149, 26.53619956970215, 38.1744, 32.44660186767578, 27.39539909362793, 30.396499633789066, 27.975500106811523, 33.45370101928711, 35.81100082, 30.4832], \"locationmode\": \"USA-states\", \"lon\": [-124.10900115966795, -92.54979705810548, -84.4281005859375, -86.75350189, -86.6781997680664, -94.02069854736328, -91.14959717, -85.20379638671875, -81.058098, -85.44960021972656, -123.21199798583984, -77.04290008539998, -80.15270233154297, -94.36740112304688, -82.27179718020001, -89.07009887695312, -82.2189025879, -88.59140014649999, -95.27890015, -86.775100708008, -95.34140014648438, -77.90260314941406, -90.0758972168, -93.22329711914062, -84.60590362548828, -91.98760223, -92.22429656979999, -88.75189971923828, -89.97669982910156, -86.39399719, -80.29060363769531, -92.0376968383789, -88.242797851562, -90.25800323486328, -77.61209869380002, -124.24600219726562, -88.7738037109375, -80.09559631347656, -122.59799960000001, -81.99050140000001, -77.38529968, -89.33709716796875, -82.68740082, -87.18659973144501, -71.42040252685547, -81.75520324707031, -85.736, -93.82559967041016, -82.55439758300781, -84.35030364990234, -82.533203125, -93.99099731445312, -83.99400329999999, -86.525398], \"marker\": {\"color\": \"#2171b5\", \"line\": {\"color\": \"rgb(40,40,40)\", \"width\": 0}, \"size\": [198.40907774301917, 190.56489688332775, 165.15684741049708, 180.4523664697023, 167.79812594137428, 200.89285714285725, 203.88534063260357, 182.70442301008, 163.14918607345615, 173.71792086664377, 204.23292492179368, 177.24626346889121, 182.64468196037552, 161.65928050052136, 165.3487429034876, 210.62883790985993, 169.0581189896884, 180.43969412582553, 171.2649171590777, 185.67337214691247, 171.2649171590777, 181.27968949136852, 184.24501795852163, 202.2542289421852, 164.23900764685447, 200.22846425674885, 175.69118584173333, 179.559871393813, 182.82933611400765, 164.00909512223382, 177.99393175761801, 182.1993395898506, 208.4093673965937, 205.11636832348526, 181.5005503417913, 216.15579017495057, 166.7083043679758, 173.24904414320483, 202.3954350596688, 164.77305642451643, 166.17063492063497, 203.82559958289886, 170.27285366701432, 200.61587591240882, 164.2643523346079, 165.5895174371453, 167.73476422199053, 161.38229927007305, 168.20907194994794, 172.12663654269508, 173.42102595296032, 161.69186652763295, 172.6425819719616, 196.66934596222927], \"sizemode\": \"area\"}, \"name\": \"4.2 - 5.6\", \"text\": [\"ACV\", \"AEX\", \"ATL\", \"BHM\", \"BNA\", \"BPT\", \"BTR\", \"CHA\", \"DAB\", \"DHN\", \"EUG\", \"EWN\", \"FLL\", \"FSM\", \"GNV\", \"GPT\", \"GSP\", \"GTR\", \"HOU\", \"HSV\", \"IAH\", \"ILM\", \"JAN\", \"LCH\", \"LEX\", \"LFT\", \"LIT\", \"MEI\", \"MEM\", \"MGM\", \"MIA\", \"MLU\", \"MOB\", \"MSY\", \"OAJ\", \"OTH\", \"PAH\", \"PBI\", \"PDX\", \"PGD\", \"PGV\", \"PIB\", \"PIE\", \"PNS\", \"PVD\", \"RSW\", \"SDF\", \"SHV\", \"SRQ\", \"TLH\", \"TPA\", \"TXK\", \"TYS\", \"VPS\"], \"type\": \"scattergeo\"}, {\"lat\": [48.79280090332031, 47.44900131225586], \"locationmode\": \"USA-states\", \"lon\": [-122.53800201416016, -122.30899810791016], \"marker\": {\"color\": \"#08306b\", \"line\": {\"color\": \"rgb(40,40,40)\", \"width\": 0}, \"size\": [238.36859865600746, 249.99999999999997], \"sizemode\": \"area\"}, \"name\": \"5.6 - 7.0\", \"text\": [\"BLI\", \"SEA\"], \"type\": \"scattergeo\"}],\n",
       "                        {\"geo\": {\"landcolor\": \"rgb(217, 217, 217)\", \"scope\": \"usa\"}, \"showlegend\": true, \"template\": {\"data\": {\"bar\": [{\"error_x\": {\"color\": \"#2a3f5f\"}, \"error_y\": {\"color\": \"#2a3f5f\"}, \"marker\": {\"line\": {\"color\": \"#E5ECF6\", \"width\": 0.5}}, \"type\": \"bar\"}], \"barpolar\": [{\"marker\": {\"line\": {\"color\": \"#E5ECF6\", \"width\": 0.5}}, \"type\": \"barpolar\"}], \"carpet\": [{\"aaxis\": {\"endlinecolor\": \"#2a3f5f\", \"gridcolor\": \"white\", \"linecolor\": \"white\", \"minorgridcolor\": \"white\", \"startlinecolor\": \"#2a3f5f\"}, \"baxis\": {\"endlinecolor\": \"#2a3f5f\", \"gridcolor\": \"white\", \"linecolor\": \"white\", \"minorgridcolor\": \"white\", \"startlinecolor\": \"#2a3f5f\"}, \"type\": \"carpet\"}], \"choropleth\": [{\"colorbar\": {\"outlinewidth\": 0, \"ticks\": \"\"}, \"type\": \"choropleth\"}], \"contour\": [{\"colorbar\": {\"outlinewidth\": 0, \"ticks\": \"\"}, \"colorscale\": [[0.0, \"#0d0887\"], [0.1111111111111111, \"#46039f\"], [0.2222222222222222, \"#7201a8\"], [0.3333333333333333, \"#9c179e\"], [0.4444444444444444, \"#bd3786\"], [0.5555555555555556, \"#d8576b\"], [0.6666666666666666, \"#ed7953\"], [0.7777777777777778, \"#fb9f3a\"], [0.8888888888888888, \"#fdca26\"], [1.0, \"#f0f921\"]], \"type\": \"contour\"}], \"contourcarpet\": [{\"colorbar\": {\"outlinewidth\": 0, \"ticks\": \"\"}, \"type\": \"contourcarpet\"}], \"heatmap\": [{\"colorbar\": {\"outlinewidth\": 0, \"ticks\": \"\"}, \"colorscale\": [[0.0, \"#0d0887\"], [0.1111111111111111, \"#46039f\"], [0.2222222222222222, \"#7201a8\"], [0.3333333333333333, \"#9c179e\"], [0.4444444444444444, \"#bd3786\"], [0.5555555555555556, \"#d8576b\"], [0.6666666666666666, \"#ed7953\"], [0.7777777777777778, \"#fb9f3a\"], [0.8888888888888888, \"#fdca26\"], [1.0, \"#f0f921\"]], \"type\": \"heatmap\"}], \"heatmapgl\": [{\"colorbar\": {\"outlinewidth\": 0, \"ticks\": \"\"}, \"colorscale\": [[0.0, \"#0d0887\"], [0.1111111111111111, \"#46039f\"], [0.2222222222222222, \"#7201a8\"], [0.3333333333333333, \"#9c179e\"], [0.4444444444444444, \"#bd3786\"], [0.5555555555555556, \"#d8576b\"], [0.6666666666666666, \"#ed7953\"], [0.7777777777777778, \"#fb9f3a\"], [0.8888888888888888, \"#fdca26\"], [1.0, \"#f0f921\"]], \"type\": \"heatmapgl\"}], \"histogram\": [{\"marker\": {\"colorbar\": {\"outlinewidth\": 0, \"ticks\": \"\"}}, \"type\": \"histogram\"}], \"histogram2d\": [{\"colorbar\": {\"outlinewidth\": 0, \"ticks\": \"\"}, \"colorscale\": [[0.0, \"#0d0887\"], [0.1111111111111111, \"#46039f\"], [0.2222222222222222, \"#7201a8\"], [0.3333333333333333, \"#9c179e\"], [0.4444444444444444, \"#bd3786\"], [0.5555555555555556, \"#d8576b\"], [0.6666666666666666, \"#ed7953\"], [0.7777777777777778, \"#fb9f3a\"], [0.8888888888888888, \"#fdca26\"], [1.0, \"#f0f921\"]], \"type\": \"histogram2d\"}], \"histogram2dcontour\": [{\"colorbar\": {\"outlinewidth\": 0, \"ticks\": \"\"}, \"colorscale\": [[0.0, \"#0d0887\"], [0.1111111111111111, \"#46039f\"], [0.2222222222222222, \"#7201a8\"], [0.3333333333333333, \"#9c179e\"], [0.4444444444444444, \"#bd3786\"], [0.5555555555555556, \"#d8576b\"], [0.6666666666666666, \"#ed7953\"], [0.7777777777777778, \"#fb9f3a\"], [0.8888888888888888, \"#fdca26\"], [1.0, \"#f0f921\"]], \"type\": \"histogram2dcontour\"}], \"mesh3d\": [{\"colorbar\": {\"outlinewidth\": 0, \"ticks\": \"\"}, \"type\": \"mesh3d\"}], \"parcoords\": [{\"line\": {\"colorbar\": {\"outlinewidth\": 0, \"ticks\": \"\"}}, \"type\": \"parcoords\"}], \"pie\": [{\"automargin\": true, \"type\": \"pie\"}], \"scatter\": [{\"marker\": {\"colorbar\": {\"outlinewidth\": 0, \"ticks\": \"\"}}, \"type\": \"scatter\"}], \"scatter3d\": [{\"line\": {\"colorbar\": {\"outlinewidth\": 0, \"ticks\": \"\"}}, \"marker\": {\"colorbar\": {\"outlinewidth\": 0, \"ticks\": \"\"}}, \"type\": \"scatter3d\"}], \"scattercarpet\": [{\"marker\": {\"colorbar\": {\"outlinewidth\": 0, \"ticks\": \"\"}}, \"type\": \"scattercarpet\"}], \"scattergeo\": [{\"marker\": {\"colorbar\": {\"outlinewidth\": 0, \"ticks\": \"\"}}, \"type\": \"scattergeo\"}], \"scattergl\": [{\"marker\": {\"colorbar\": {\"outlinewidth\": 0, \"ticks\": \"\"}}, \"type\": \"scattergl\"}], \"scattermapbox\": [{\"marker\": {\"colorbar\": {\"outlinewidth\": 0, \"ticks\": \"\"}}, \"type\": \"scattermapbox\"}], \"scatterpolar\": [{\"marker\": {\"colorbar\": {\"outlinewidth\": 0, \"ticks\": \"\"}}, \"type\": \"scatterpolar\"}], \"scatterpolargl\": [{\"marker\": {\"colorbar\": {\"outlinewidth\": 0, \"ticks\": \"\"}}, \"type\": \"scatterpolargl\"}], \"scatterternary\": [{\"marker\": {\"colorbar\": {\"outlinewidth\": 0, \"ticks\": \"\"}}, \"type\": \"scatterternary\"}], \"surface\": [{\"colorbar\": {\"outlinewidth\": 0, \"ticks\": \"\"}, \"colorscale\": [[0.0, \"#0d0887\"], [0.1111111111111111, \"#46039f\"], [0.2222222222222222, \"#7201a8\"], [0.3333333333333333, \"#9c179e\"], [0.4444444444444444, \"#bd3786\"], [0.5555555555555556, \"#d8576b\"], [0.6666666666666666, \"#ed7953\"], [0.7777777777777778, \"#fb9f3a\"], [0.8888888888888888, \"#fdca26\"], [1.0, \"#f0f921\"]], \"type\": \"surface\"}], \"table\": [{\"cells\": {\"fill\": {\"color\": \"#EBF0F8\"}, \"line\": {\"color\": \"white\"}}, \"header\": {\"fill\": {\"color\": \"#C8D4E3\"}, \"line\": {\"color\": \"white\"}}, \"type\": \"table\"}]}, \"layout\": {\"annotationdefaults\": {\"arrowcolor\": \"#2a3f5f\", \"arrowhead\": 0, \"arrowwidth\": 1}, \"coloraxis\": {\"colorbar\": {\"outlinewidth\": 0, \"ticks\": \"\"}}, \"colorscale\": {\"diverging\": [[0, \"#8e0152\"], [0.1, \"#c51b7d\"], [0.2, \"#de77ae\"], [0.3, \"#f1b6da\"], [0.4, \"#fde0ef\"], [0.5, \"#f7f7f7\"], [0.6, \"#e6f5d0\"], [0.7, \"#b8e186\"], [0.8, \"#7fbc41\"], [0.9, \"#4d9221\"], [1, \"#276419\"]], \"sequential\": [[0.0, \"#0d0887\"], [0.1111111111111111, \"#46039f\"], [0.2222222222222222, \"#7201a8\"], [0.3333333333333333, \"#9c179e\"], [0.4444444444444444, \"#bd3786\"], [0.5555555555555556, \"#d8576b\"], [0.6666666666666666, \"#ed7953\"], [0.7777777777777778, \"#fb9f3a\"], [0.8888888888888888, \"#fdca26\"], [1.0, \"#f0f921\"]], \"sequentialminus\": [[0.0, \"#0d0887\"], [0.1111111111111111, \"#46039f\"], [0.2222222222222222, \"#7201a8\"], [0.3333333333333333, \"#9c179e\"], [0.4444444444444444, \"#bd3786\"], [0.5555555555555556, \"#d8576b\"], [0.6666666666666666, \"#ed7953\"], [0.7777777777777778, \"#fb9f3a\"], [0.8888888888888888, \"#fdca26\"], [1.0, \"#f0f921\"]]}, \"colorway\": [\"#636efa\", \"#EF553B\", \"#00cc96\", \"#ab63fa\", \"#FFA15A\", \"#19d3f3\", \"#FF6692\", \"#B6E880\", \"#FF97FF\", \"#FECB52\"], \"font\": {\"color\": \"#2a3f5f\"}, \"geo\": {\"bgcolor\": \"white\", \"lakecolor\": \"white\", \"landcolor\": \"#E5ECF6\", \"showlakes\": true, \"showland\": true, \"subunitcolor\": \"white\"}, \"hoverlabel\": {\"align\": \"left\"}, \"hovermode\": \"closest\", \"mapbox\": {\"style\": \"light\"}, \"paper_bgcolor\": \"white\", \"plot_bgcolor\": \"#E5ECF6\", \"polar\": {\"angularaxis\": {\"gridcolor\": \"white\", \"linecolor\": \"white\", \"ticks\": \"\"}, \"bgcolor\": \"#E5ECF6\", \"radialaxis\": {\"gridcolor\": \"white\", \"linecolor\": \"white\", \"ticks\": \"\"}}, \"scene\": {\"xaxis\": {\"backgroundcolor\": \"#E5ECF6\", \"gridcolor\": \"white\", \"gridwidth\": 2, \"linecolor\": \"white\", \"showbackground\": true, \"ticks\": \"\", \"zerolinecolor\": \"white\"}, \"yaxis\": {\"backgroundcolor\": \"#E5ECF6\", \"gridcolor\": \"white\", \"gridwidth\": 2, \"linecolor\": \"white\", \"showbackground\": true, \"ticks\": \"\", \"zerolinecolor\": \"white\"}, \"zaxis\": {\"backgroundcolor\": \"#E5ECF6\", \"gridcolor\": \"white\", \"gridwidth\": 2, \"linecolor\": \"white\", \"showbackground\": true, \"ticks\": \"\", \"zerolinecolor\": \"white\"}}, \"shapedefaults\": {\"line\": {\"color\": \"#2a3f5f\"}}, \"ternary\": {\"aaxis\": {\"gridcolor\": \"white\", \"linecolor\": \"white\", \"ticks\": \"\"}, \"baxis\": {\"gridcolor\": \"white\", \"linecolor\": \"white\", \"ticks\": \"\"}, \"bgcolor\": \"#E5ECF6\", \"caxis\": {\"gridcolor\": \"white\", \"linecolor\": \"white\", \"ticks\": \"\"}}, \"title\": {\"x\": 0.05}, \"xaxis\": {\"automargin\": true, \"gridcolor\": \"white\", \"linecolor\": \"white\", \"ticks\": \"\", \"title\": {\"standoff\": 15}, \"zerolinecolor\": \"white\", \"zerolinewidth\": 2}, \"yaxis\": {\"automargin\": true, \"gridcolor\": \"white\", \"linecolor\": \"white\", \"ticks\": \"\", \"title\": {\"standoff\": 15}, \"zerolinecolor\": \"white\", \"zerolinewidth\": 2}}}, \"title\": {\"text\": \"United States precipitation average\"}},\n",
       "                        {\"responsive\": true}\n",
       "                    ).then(function(){\n",
       "                            \n",
       "var gd = document.getElementById('6018393e-ac06-4bc2-8eb1-2cdc29fa1bf2');\n",
       "var x = new MutationObserver(function (mutations, observer) {{\n",
       "        var display = window.getComputedStyle(gd).display;\n",
       "        if (!display || display === 'none') {{\n",
       "            console.log([gd, 'removed!']);\n",
       "            Plotly.purge(gd);\n",
       "            observer.disconnect();\n",
       "        }}\n",
       "}});\n",
       "\n",
       "// Listen for the removal of the full notebook cells\n",
       "var notebookContainer = gd.closest('#notebook-container');\n",
       "if (notebookContainer) {{\n",
       "    x.observe(notebookContainer, {childList: true});\n",
       "}}\n",
       "\n",
       "// Listen for the clearing of the current output cell\n",
       "var outputEl = gd.closest('.output');\n",
       "if (outputEl) {{\n",
       "    x.observe(outputEl, {childList: true});\n",
       "}}\n",
       "\n",
       "                        })\n",
       "                };\n",
       "                });\n",
       "            </script>\n",
       "        </div>"
      ]
     },
     "metadata": {},
     "output_type": "display_data"
    }
   ],
   "source": [
    "fig = generate_bubble_map(merged_X_df,\n",
    "                          column=\"pcp_avg\",\n",
    "                          limits=[(0,1.4),(1.4,2.8),(2.8,4.2),(4.2,5.6),(5.6,7.0)],\n",
    "                          color=\"blue\",\n",
    "                          title='United States precipitation average')\n",
    "fig.show()"
   ]
  },
  {
   "cell_type": "code",
   "execution_count": 50,
   "metadata": {},
   "outputs": [
    {
     "data": {
      "application/vnd.plotly.v1+json": {
       "config": {
        "plotlyServerURL": "https://plot.ly"
       },
       "data": [
        {
         "lat": [
          43.6072998046875
         ],
         "locationmode": "USA-states",
         "lon": [
          -110.73799896240234
         ],
         "marker": {
          "color": "#00000a",
          "line": {
           "color": "rgb(40,40,40)",
           "width": 0
          },
          "size": [
           0
          ],
          "sizemode": "area"
         },
         "name": "32 - 36",
         "text": [
          "JAC"
         ],
         "type": "scattergeo"
        },
        {
         "lat": [
          39.22320175,
          47.50939941,
          44.520198822,
          46.8420982361,
          48.11420059,
          39.64260101,
          38.53390121,
          47.38660049,
          48.566200256347656
         ],
         "locationmode": "USA-states",
         "lon": [
          -106.8690033,
          -94.93370056,
          -109.024002075,
          -92.19360351559999,
          -98.90879822,
          -106.9179993,
          -106.9329987,
          -92.83899689,
          -93.4030990600586
         ],
         "marker": {
          "color": "#1b0080",
          "line": {
           "color": "rgb(40,40,40)",
           "width": 0
          },
          "size": [
           17.59683045345478,
           21.997298223682915,
           22.536645361614706,
           18.18406355223088,
           19.95332378974531,
           26.634675484404273,
           19.92308002500147,
           18.18406355223088,
           17.743008649716714
          ],
          "sizemode": "area"
         },
         "name": "36 - 40",
         "text": [
          "ASE",
          "BJI",
          "COD",
          "DLH",
          "DVL",
          "EGE",
          "GUC",
          "HIB",
          "INL"
         ],
         "type": "scattergeo"
        },
        {
         "lat": [
          45.44910049438477,
          44.80739974975586,
          46.77270126342773,
          46.39830017,
          45.95479965209961,
          45.77750015,
          46.25080108642578,
          47.16839981079102,
          44.7775993347,
          45.7226982117,
          46.92070007324219,
          48.31050109863281,
          47.949298999999996,
          47.48199844,
          40.48120117,
          46.6068000793457,
          43.51459884643555,
          45.8184013367,
          48.177898407,
          46.92969894,
          41.31209945678711,
          48.2593994140625,
          46.3535995483,
          46.91630173,
          44.6509017944336,
          45.57089996,
          45.63119888305664,
          41.59420013,
          45.54660034179688,
          43.50439835,
          44.68840027
         ],
         "locationmode": "USA-states",
         "lon": [
          -98.42179870605469,
          -68.82810211181639,
          -100.74600219726562,
          -94.13809967,
          -112.49700164794922,
          -111.15299990000001,
          -84.47239685058594,
          -88.48909759521484,
          -89.6668014526,
          -87.0936965942,
          -96.81580352783205,
          -114.25599670410156,
          -97.176102,
          -111.3710022,
          -107.21800230000001,
          -111.98300170898438,
          -112.0709991455078,
          -88.11450195309999,
          -103.64199829100001,
          -98.67819977,
          -105.6750030517578,
          -101.27999877929688,
          -87.39540100100001,
          -114.0910034,
          -73.46810150146484,
          -84.79669952,
          -89.46749877929688,
          -109.0650024,
          -94.05989837646484,
          -114.2959976,
          -111.11799620000001
         ],
         "marker": {
          "color": "#5f009a",
          "line": {
           "color": "rgb(40,40,40)",
           "width": 0
          },
          "size": [
           46.92824162751789,
           44.25166844768836,
           36.584874085126025,
           37.151944674073114,
           27.05052724963189,
           27.990604270419574,
           35.45577353468942,
           32.69855031554334,
           44.31215597717586,
           43.32923362300128,
           38.442345303143334,
           29.95644897876904,
           28.759299957658776,
           48.29677198217612,
           28.792064036131187,
           34.89626388692854,
           41.2172107183904,
           34.44512772949989,
           31.771074863398937,
           32.14408129523983,
           35.566667338750406,
           29.81531140996443,
           29.931245841482358,
           37.744218400306416,
           48.08758594269837,
           50.358388612214505,
           30.228642861463513,
           41.98338609190076,
           45.64288162590487,
           43.11248664233728,
           27.990604270419574
          ],
          "sizemode": "area"
         },
         "name": "40 - 44",
         "text": [
          "ABR",
          "BGR",
          "BIS",
          "BRD",
          "BTM",
          "BZN",
          "CIU",
          "CMX",
          "CWA",
          "ESC",
          "FAR",
          "FCA",
          "GFK",
          "GTF",
          "HDN",
          "HLN",
          "IDA",
          "IMT",
          "ISN",
          "JMS",
          "LAR",
          "MOT",
          "MQT",
          "MSO",
          "PBG",
          "PLN",
          "RHI",
          "RKS",
          "STC",
          "SUN",
          "WYS"
         ],
         "type": "scattergeo"
        },
        {
         "lat": [
          42.74829864501953,
          42.55709838867188,
          45.07809829999999,
          43.99190139770508,
          44.258098602299995,
          41.338500976599995,
          42.20869827,
          45.807701110839844,
          48.79280090332031,
          44.471900939899996,
          42.94049835,
          42.90800095,
          41.15570068,
          42.40200043,
          37.1515007019,
          44.86579895019531,
          40.82490158081055,
          42.1599006652832,
          43.5820007324,
          44.3488998413,
          47.61989974975586,
          44.48509979248047,
          42.49100112915039,
          43.879002,
          42.93259811401367,
          42.94720077514648,
          43.16949844,
          37.62409973,
          43.13990020751953,
          44.8819999695,
          41.195899963379,
          44.681900024399994,
          42.9098014831543,
          43.0778999329,
          40.219200134277,
          43.64619827,
          44.0452995300293,
          44.254100799999996,
          43.90829849243164,
          47.44900131225586,
          43.11119842529297,
          44.74140167236328,
          40.4408989
         ],
         "locationmode": "USA-states",
         "lon": [
          -73.80169677734375,
          -92.40029907226562,
          -83.56030273,
          -76.02169799804688,
          -88.51909637450001,
          -75.72339630130001,
          -75.97979736,
          -108.54299926757812,
          -122.53800201416016,
          -73.15329742429998,
          -78.73220062,
          -106.4639969,
          -104.81199649999999,
          -90.70950317,
          -107.75399780299999,
          -91.48429870605469,
          -115.79199981689452,
          -76.8916015625,
          -96.741897583,
          -105.539001465,
          -117.53399658203124,
          -88.12960052490234,
          -76.4583969116211,
          -91.256699,
          -71.43569946289062,
          -87.89659881591797,
          -86.23819733,
          -118.83799740000002,
          -89.3375015258789,
          -93.22180175780001,
          -112.0120010376,
          -75.46549987790002,
          -112.59600067138672,
          -70.8233032227,
          -111.72299957275,
          -70.30930328,
          -103.05699920654295,
          -121.15000149999999,
          -92.5,
          -122.30899810791016,
          -76.1063003540039,
          -85.58219909667969,
          -109.5100021
         ],
         "marker": {
          "color": "#9f009b",
          "line": {
           "color": "rgb(40,40,40)",
           "width": 0
          },
          "size": [
           74.32909248543257,
           71.96251789422764,
           54.209427989596364,
           59.95322297719592,
           58.66030203439717,
           72.068371070831,
           68.68863036070732,
           67.44863600621008,
           55.61072242272722,
           55.08397685343875,
           74.03421577918034,
           53.01731959594343,
           64.95352541484382,
           72.6404822872349,
           60.064116781257034,
           52.334314575478444,
           60.696715527148655,
           69.9739903623203,
           62.89190878480544,
           58.31753936730067,
           69.84545436215909,
           57.604290582091856,
           67.59733451620055,
           63.27499647156064,
           69.75724338165634,
           73.86535475936064,
           75.37502268282383,
           56.76502611045003,
           69.00114926306041,
           58.87452870133268,
           67.16888118232961,
           51.23293747605676,
           59.23493356453004,
           75.29941327096383,
           71.17365969715888,
           61.29150956711088,
           65.24588180736747,
           54.07333104824908,
           54.950400225819955,
           74.74242393693179,
           69.70935742081177,
           59.035828779966465,
           66.72782627981509
          ],
          "sizemode": "area"
         },
         "name": "44 - 48",
         "text": [
          "ALB",
          "ALO",
          "APN",
          "ART",
          "ATW",
          "AVP",
          "BGM",
          "BIL",
          "BLI",
          "BTV",
          "BUF",
          "CPR",
          "CYS",
          "DBQ",
          "DRO",
          "EAU",
          "EKO",
          "ELM",
          "FSD",
          "GCC",
          "GEG",
          "GRB",
          "ITH",
          "LSE",
          "MHT",
          "MKE",
          "MKG",
          "MMH",
          "MSN",
          "MSP",
          "OGD",
          "OGS",
          "PIH",
          "PSM",
          "PVU",
          "PWM",
          "RAP",
          "RDM",
          "RST",
          "SEA",
          "SYR",
          "TVC",
          "VEL"
         ],
         "type": "scattergeo"
        },
        {
         "lat": [
          40.652099609375,
          41.25310135,
          42.234901428222656,
          41.9388999939,
          41.87400055,
          40.47710037,
          42.36429977,
          40.916099548339844,
          37.70100021362305,
          41.88470077514648,
          41.411701202399996,
          38.75500107,
          38.805801391602,
          39.861698150635,
          41.53400039672852,
          42.212398529052734,
          40.727,
          42.0831270134,
          44.12459945678711,
          42.96540069580078,
          40.97850037,
          39.1223983765,
          40.96749877929688,
          42.88079834,
          41.26369858,
          41.66930008,
          43.1072998046875,
          42.77870178222656,
          40.27590179,
          41.12620163,
          40.85100173950195,
          37.8582992554,
          46.3745002746582,
          43.532901763916016,
          40.1935005188,
          41.7859992980957,
          42.37419891357422,
          41.44850158691406,
          38.5097999573,
          41.393100738499996,
          41.303199768066406,
          41.97859955,
          42.26729965209961,
          45.58869934,
          40.664199829100006,
          40.49150085,
          46.26470184326172,
          41.73260116577149,
          42.19540023803711,
          39.49909973144531,
          43.118900299072266,
          35.617099761999995,
          41.70869827270508,
          40.8493003845,
          40.78839874267578,
          42.40259933,
          41.50410079956055,
          41.58679962,
          42.48180008,
          41.26070023
         ],
         "locationmode": "USA-states",
         "lon": [
          -75.44080352783203,
          -70.06020355,
          -85.5521011352539,
          -72.68319702149999,
          -103.5960007,
          -88.91590118,
          -71.00520325,
          -81.44219970703125,
          -113.0989990234375,
          -91.71080017089844,
          -81.8498001099,
          -109.7549973,
          -104.70099639893,
          -104.672996521,
          -93.66310119628906,
          -83.35340118408203,
          -99.0068,
          -80.1738667488,
          -123.21199798583984,
          -83.74359893798828,
          -85.19509888,
          -108.527000427,
          -98.30960083007812,
          -85.52279663,
          -72.88680267,
          -70.28040314,
          -78.94619750976562,
          -84.58740234375,
          -79.40480042,
          -100.6839981,
          -96.75920104980469,
          -80.3994979858,
          -117.01499938964844,
          -84.07959747314453,
          -76.7633972168,
          -87.75240325927734,
          -122.8730010986328,
          -90.50749969482422,
          -107.89399719200001,
          -70.6143035889,
          -95.89409637451172,
          -87.90480042,
          -71.87570190429688,
          -122.59799960000001,
          -89.6932983398,
          -80.23290253,
          -119.11900329589844,
          -71.42040252685547,
          -89.09719848632812,
          -119.76799774169922,
          -77.67240142822266,
          -106.08899688700001,
          -86.31729888916016,
          -77.84870147710002,
          -111.97799682617188,
          -96.38439941,
          -74.10479736328125,
          -83.80780029,
          -114.487999,
          -80.67910004
         ],
         "marker": {
          "color": "#c40c8d",
          "line": {
           "color": "rgb(40,40,40)",
           "width": 0
          },
          "size": [
           99.15418271266422,
           92.41738411597505,
           81.21710990584127,
           89.09056999415309,
           81.11125672923765,
           96.61874710163936,
           92.11746678226527,
           92.51315603766366,
           84.83376010645823,
           76.90485311611585,
           93.15331572474145,
           98.7584934572657,
           78.46492731415205,
           94.89989313869786,
           87.03399399157207,
           89.61731556344148,
           90.13397987781534,
           76.5116841744456,
           88.56382442486456,
           76.62005766477832,
           90.83714740810959,
           76.47892009597358,
           91.96120733108852,
           75.52120087908533,
           92.4425872532613,
           93.76323164707557,
           79.90150613948424,
           75.87908542855402,
           92.34933564530117,
           87.32635038409578,
           98.30987761356533,
           91.24543823215133,
           82.17482912272916,
           76.36046535072686,
           99.51710788959033,
           88.7755307780712,
           92.22584027259721,
           89.94999697562349,
           77.58281750912359,
           96.84557533721826,
           94.04550678468465,
           88.7755307780712,
           76.11347460531888,
           98.21662600560516,
           98.0578462407003,
           98.8945903986129,
           99.26255620299634,
           88.77049015061418,
           78.81273060870592,
           85.17904308728369,
           79.31679335443681,
           88.48569469927638,
           85.13115712643891,
           80.90207068975951,
           85.72343085267255,
           78.12468496078391,
           87.41456136459857,
           94.68062584430501,
           76.47892009597349,
           87.76236465915308
          ],
          "sizemode": "area"
         },
         "name": "48 - 52",
         "text": [
          "ABE",
          "ACK",
          "AZO",
          "BDL",
          "BFF",
          "BMI",
          "BOS",
          "CAK",
          "CDC",
          "CID",
          "CLE",
          "CNY",
          "COS",
          "DEN",
          "DSM",
          "DTW",
          "EAR",
          "ERI",
          "EUG",
          "FNT",
          "FWA",
          "GJT",
          "GRI",
          "GRR",
          "HVN",
          "HYA",
          "IAG",
          "LAN",
          "LBE",
          "LBF",
          "LNK",
          "LWB",
          "LWS",
          "MBS",
          "MDT",
          "MDW",
          "MFR",
          "MLI",
          "MTJ",
          "MVY",
          "OMA",
          "ORD",
          "ORH",
          "PDX",
          "PIA",
          "PIT",
          "PSC",
          "PVD",
          "RFD",
          "RNO",
          "ROC",
          "SAF",
          "SBN",
          "SCE",
          "SLC",
          "SUX",
          "SWF",
          "TOL",
          "TWF",
          "YNG"
         ],
         "type": "scattergeo"
        },
        {
         "lat": [
          35.04019927978516,
          40.97809982299805,
          39.45759963989258,
          35.43619918823242,
          43.56439972,
          39.17539978,
          39.2966003418,
          39.99800109863281,
          40.03919983,
          38.81809997558594,
          38.37310028076172,
          39.0488014221,
          39.90240097045898,
          40.69250106811523,
          35.13850021,
          37.9275016785,
          39.707901,
          41.06700134277344,
          38.36669922,
          38.84220123,
          38.94449997,
          39.7173,
          40.79520035,
          40.63980103,
          39.813801,
          38.0364990234375,
          40.77719879,
          39.2976,
          39.14099884033203,
          43.41709899902344,
          39.87189865112305,
          38.289100646972656,
          40.50899887,
          38.2638015747,
          39.84410095,
          40.27669906616211,
          39.94269943
         ],
         "locationmode": "USA-states",
         "lon": [
          -106.60900115966795,
          -124.10900115966795,
          -74.57720184326172,
          -82.54180145263672,
          -116.22299960000001,
          -76.66829681,
          -80.2281036377,
          -82.89189910888672,
          -88.27809906,
          -92.21959686279295,
          -81.59320068359375,
          -84.6678009033,
          -84.21939849853516,
          -74.168701171875,
          -111.6709976,
          -100.72399902299999,
          -77.72949982,
          -73.70760345458984,
          -82.55799866,
          -99.27320099,
          -77.45580292,
          -86.294403,
          -73.10019684,
          -73.77890015,
          -82.927803,
          -84.60590362548828,
          -73.87259674,
          -94.713898,
          -96.6707992553711,
          -124.24600219726562,
          -75.24109649658203,
          -104.49700164794922,
          -122.2929993,
          -78.8964004517,
          -89.67790222,
          -74.8134994506836,
          -91.19460297
         ],
         "marker": {
          "color": "#dd314e",
          "line": {
           "color": "rgb(40,40,40)",
           "width": 0
          },
          "size": [
           113.8173679859669,
           114.95150916386079,
           118.40181865838689,
           114.16517128052098,
           100.29084420428683,
           117.33068532370916,
           106.79577393794001,
           104.97862773958111,
           100.5353146359659,
           117.20971026473373,
           120.46595560215358,
           114.68183559489493,
           106.0800048390025,
           109.79242696130832,
           109.68657378470479,
           118.10190132467685,
           110.58128515837653,
           101.38718067625067,
           122.81488799725787,
           116.57459120511324,
           119.51579732645125,
           102.7380688348086,
           103.65042240458085,
           113.50232876988537,
           104.97862773958111,
           120.59953222977194,
           119.27888783595785,
           120.05766477811179,
           115.04728108554954,
           105.38187793616558,
           120.98766054398456,
           105.35667479887894,
           121.94285944714385,
           106.35219872169688,
           107.32756013468543,
           112.98818476924033,
           106.41016593745589
          ],
          "sizemode": "area"
         },
         "name": "52 - 56",
         "text": [
          "ABQ",
          "ACV",
          "ACY",
          "AVL",
          "BOI",
          "BWI",
          "CKB",
          "CMH",
          "CMI",
          "COU",
          "CRW",
          "CVG",
          "DAY",
          "EWR",
          "FLG",
          "GCK",
          "HGR",
          "HPN",
          "HTS",
          "HYS",
          "IAD",
          "IND",
          "ISP",
          "JFK",
          "LCK",
          "LEX",
          "LGA",
          "MCI",
          "MHK",
          "OTH",
          "PHL",
          "PUB",
          "RDD",
          "SHD",
          "SPI",
          "TTN",
          "UIN"
         ],
         "type": "scattergeo"
        },
        {
         "lat": [
          33.36989974975586,
          35.219398498535156,
          36.531994,
          38.5452,
          36.1245002746582,
          37.22529983520508,
          35.03530120849609,
          38.13859939575195,
          38.8521,
          38.0369987488,
          36.77619934082031,
          36.097801208496094,
          37.649898529052734,
          37.151798248291016,
          37.04420089999999,
          37.326698303222656,
          36.58700180053711,
          37.72129821777344,
          37.74010086,
          37.06079864501953,
          37.50519943237305,
          37.3255004883,
          33.30160140991211,
          34.42620087,
          35.2368011475,
          38.1744,
          37.61899948120117,
          37.24570084,
          37.0363888889,
          37.36259841918945,
          38.79100036621094,
          34.89889908,
          38.74869918823242,
          38.50899887,
          36.47520065307617,
          35.81100082,
          36.281898
         ],
         "locationmode": "USA-states",
         "lon": [
          -81.9645004272461,
          -101.70600128173828,
          -93.200556,
          -89.835197,
          -86.6781997680664,
          -89.57080078125,
          -85.20379638671875,
          -78.4529037475586,
          -77.037697,
          -87.53240203860001,
          -119.71800231933594,
          -79.93730163574219,
          -97.43309783935548,
          -94.49829864501952,
          -100.95999909999999,
          -79.20040130615234,
          -121.84300231933594,
          -122.22100067138672,
          -87.16680145,
          -88.7738037109375,
          -77.3197021484375,
          -79.975402832,
          -104.53099822998048,
          -119.8399963,
          -120.64199829100001,
          -85.736,
          -122.375,
          -93.38860321,
          -113.510305556,
          -121.9290008544922,
          -97.6521987915039,
          -120.4570007,
          -90.37000274658205,
          -122.8130035,
          -82.40740203857422,
          -83.99400329999999,
          -94.30680100000001
         ],
         "marker": {
          "color": "#ed5907",
          "line": {
           "color": "rgb(40,40,40)",
           "width": 0
          },
          "size": [
           126.7490977276849,
           140.90317962780048,
           131.73931891041826,
           127.26576204205905,
           144.64332520112148,
           130.9025747525051,
           146.65453555658615,
           129.24672863278033,
           129.5416053390324,
           129.55420690767588,
           125.53178619674584,
           143.11853539528627,
           132.8608585196687,
           134.14621852128147,
           127.55307780712539,
           127.04397443393742,
           142.53634292396723,
           145.1851926527819,
           131.1117607919834,
           138.4332721737204,
           139.18684597858777,
           129.52144282920355,
           147.64753916567543,
           142.2389459039863,
           148.08607375446115,
           127.99665302336808,
           131.41419843942185,
           125.32260015726749,
           127.88323890557908,
           140.77968425509613,
           124.64967639171734,
           142.2389459039863,
           128.27640784724863,
           132.88102102949816,
           127.55307780712548,
           141.28374700082693,
           136.94124644635784
          ],
          "sizemode": "area"
         },
         "name": "56 - 60",
         "text": [
          "AGS",
          "AMA",
          "BKG",
          "BLV",
          "BNA",
          "CGI",
          "CHA",
          "CHO",
          "DCA",
          "EVV",
          "FAT",
          "GSO",
          "ICT",
          "JLN",
          "LBL",
          "LYH",
          "MRY",
          "OAK",
          "OWB",
          "PAH",
          "RIC",
          "ROA",
          "ROW",
          "SBA",
          "SBP",
          "SDF",
          "SFO",
          "SGF",
          "SGU",
          "SJC",
          "SLN",
          "SMX",
          "STL",
          "STS",
          "TRI",
          "TYS",
          "XNA"
         ],
         "type": "scattergeo"
        },
        {
         "lat": [
          33.63669967651367,
          35.43360138,
          33.56290054,
          34.200698852539055,
          33.93880081176758,
          35.2140007019043,
          35.0730018616,
          34.991199493408196,
          35.33660125732422,
          34.895698547399995,
          33.450298309299995,
          32.6875,
          34.637199401855,
          35.1574,
          34.27059936523437,
          34.5676994324,
          33.94250107,
          33.66360092163086,
          33.81769943,
          34.729400634799994,
          35.04240036010742,
          33.6796989441,
          34.8292007446,
          35.39310073852539,
          36.89459991455078,
          35.6352005,
          37.13190079,
          34.65449905,
          35.877601623535156,
          32.7336006165,
          37.894199371338,
          38.69540023803711,
          36.19839859008789
         ],
         "locationmode": "USA-states",
         "lon": [
          -84.4281005859375,
          -119.0569992,
          -86.75350189,
          -118.35900115966795,
          -81.11949920654297,
          -80.94309997558594,
          -77.04290008539998,
          -78.88030242919922,
          -94.36740112304688,
          -82.2189025879,
          -88.59140014649999,
          -103.21700290000001,
          -86.775100708008,
          -114.56,
          -77.90260314941406,
          -98.4166030884,
          -118.40799709999999,
          -101.822998046875,
          -118.15200039999999,
          -92.22429656979999,
          -89.97669982910156,
          -78.9282989502,
          -77.61209869380002,
          -97.60070037841795,
          -76.20120239257812,
          -77.38529968,
          -76.49299622,
          -112.41999820000001,
          -78.7874984741211,
          -117.190002441,
          -121.2379989624,
          -121.59100341796876,
          -95.88809967041016
         ],
         "marker": {
          "color": "#f57f00",
          "line": {
           "color": "rgb(40,40,40)",
           "width": 0
          },
          "size": [
           158.10936145331397,
           163.75738451922498,
           165.0402242071093,
           162.50982922354186,
           170.58995503760315,
           152.6251587797651,
           163.94892836260271,
           161.95788051696704,
           155.9872572937879,
           151.6649192491482,
           169.31971691836196,
           156.06538701937603,
           152.92507611347466,
           168.12508821098075,
           169.75825150714766,
           161.6604834969857,
           162.50982922354186,
           155.07994435147296,
           162.50982922354186,
           160.91195031957577,
           160.2516281226685,
           172.05425731395084,
           164.48071455934868,
           154.67165352743132,
           154.27092364457542,
           158.25805996330436,
           150.7752485029338,
           150.41988426719348,
           150.34931548279133,
           169.41800915377948,
           162.4644635764262,
           162.19479000746034,
           150.7576063068335
          ],
          "sizemode": "area"
         },
         "name": "60 - 64",
         "text": [
          "ATL",
          "BFL",
          "BHM",
          "BUR",
          "CAE",
          "CLT",
          "EWN",
          "FAY",
          "FSM",
          "GSP",
          "GTR",
          "HOB",
          "HSV",
          "IFP",
          "ILM",
          "LAW",
          "LAX",
          "LBB",
          "LGB",
          "LIT",
          "MEM",
          "MYR",
          "OAJ",
          "OKC",
          "ORF",
          "PGV",
          "PHF",
          "PRC",
          "RDU",
          "SAN",
          "SCK",
          "SMF",
          "TUL"
         ],
         "type": "scattergeo"
        },
        {
         "lat": [
          32.4113006592,
          31.535499572753906,
          31.61129951477051,
          31.32740020751953,
          30.53319931,
          32.89860153,
          32.516300201416016,
          32.84709930419922,
          32.896800994873054,
          31.3213005065918,
          31.80719948,
          34.18539810180664,
          32.38399887084961,
          30.40730094909668,
          31.067199706999997,
          32.2243995667,
          32.3111991882,
          36.08010101,
          31.9424991607666,
          32.33259963989258,
          32.30059814,
          32.51089859008789,
          30.691200256348,
          34.05599975585937,
          31.467100143432614,
          30.473400115967003,
          32.12760162,
          32.44660186767578,
          31.35770034790039,
          33.67570114,
          33.98880005,
          30.396499633789066,
          33.45370101928711,
          32.35409927368164,
          30.78249931335449,
          30.4832
         ],
         "locationmode": "USA-states",
         "lon": [
          -99.68190002440001,
          -84.19450378417969,
          -97.23049926757812,
          -92.54979705810548,
          -91.14959717,
          -80.04049683,
          -84.93890380859375,
          -96.85179901123048,
          -97.03800201416016,
          -85.44960021972656,
          -106.37799840000002,
          -79.7238998413086,
          -94.71150207519531,
          -89.07009887695312,
          -97.8289031982,
          -80.6975021362,
          -90.0758972168,
          -115.15200039999999,
          -102.2020034790039,
          -88.75189971923828,
          -86.39399719,
          -92.0376968383789,
          -88.242797851562,
          -117.60099792480469,
          -89.33709716796875,
          -87.18659973144501,
          -81.20210266,
          -93.82559967041016,
          -100.49600219726562,
          -117.86799620000001,
          -98.49189758,
          -84.35030364990234,
          -93.99099731445312,
          -95.40239715576172,
          -83.27670288085938,
          -86.525398
         ],
         "marker": {
          "color": "#fdaa00",
          "line": {
           "color": "rgb(40,40,40)",
           "width": 0
          },
          "size": [
           175.60285904389374,
           188.29263866766144,
           190.01905357178856,
           190.92888682783232,
           196.00479867733966,
           185.35143254632362,
           176.1195233582678,
           186.82833639131417,
           186.82833639131417,
           190.73986329818362,
           174.95765872935885,
           173.07246406032658,
           183.01006109240498,
           191.67742000524228,
           192.5192047906126,
           190.1702723955081,
           180.66868963848617,
           179.78910014718664,
           179.09601387180683,
           174.23936931669286,
           179.6454422646531,
           179.13129826400785,
           192.39822973163692,
           191.56400588745325,
           185.46736697784146,
           194.6715527148821,
           192.54692824162777,
           183.10331270036525,
           181.29876807064952,
           176.60846422162666,
           172.66165292255627,
           196.84154283525245,
           174.4233522188843,
           182.14055285601958,
           190.75750549428395,
           191.87652478980598
          ],
          "sizemode": "area"
         },
         "name": "64 - 68",
         "text": [
          "ABI",
          "ABY",
          "ACT",
          "AEX",
          "BTR",
          "CHS",
          "CSG",
          "DAL",
          "DFW",
          "DHN",
          "ELP",
          "FLO",
          "GGG",
          "GPT",
          "GRK",
          "HHH",
          "JAN",
          "LAS",
          "MAF",
          "MEI",
          "MGM",
          "MLU",
          "MOB",
          "ONT",
          "PIB",
          "PNS",
          "SAV",
          "SHV",
          "SJT",
          "SNA",
          "SPS",
          "TLH",
          "TXK",
          "TYR",
          "VLD",
          "VPS"
         ],
         "type": "scattergeo"
        },
        {
         "lat": [
          30.194499969482425,
          33.30780029,
          29.9507999420166,
          31.2588005065918,
          30.58860016,
          29.179899,
          29.3742008209,
          30.357105999999998,
          29.6900997162,
          29.64539909,
          29.98439979553223,
          30.49410057067871,
          30.12610054016113,
          30.20529938,
          29.99340057373047,
          33.43429946899414,
          33.829700469970696,
          29.533700942993164,
          32.116100311279304
         ],
         "locationmode": "USA-states",
         "lon": [
          -97.6698989868164,
          -111.65499879999999,
          -94.02069854736328,
          -81.46649932861328,
          -96.36380005,
          -81.058098,
          -100.92700195299999,
          -85.79541400000001,
          -82.27179718020001,
          -95.27890015,
          -95.34140014648438,
          -81.68789672851562,
          -93.22329711914062,
          -91.98760223,
          -90.25800323486328,
          -112.01200103759766,
          -116.50700378417969,
          -98.46980285644531,
          -110.94100189208984
         ],
         "marker": {
          "color": "#fed005",
          "line": {
           "color": "rgb(40,40,40)",
           "width": 0
          },
          "size": [
           198.82250942597352,
           218.2717704699884,
           204.50581688408576,
           197.45649938504374,
           197.6908885618082,
           220.84249047321418,
           200.04738189809882,
           199.263564328488,
           207.467185515253,
           208.62148920297648,
           208.62148920297648,
           205.94239570941812,
           200.21624291791875,
           200.71274472246347,
           205.66516119926624,
           218.2717704699884,
           202.4920862148922,
           206.69092888682792,
           200.08266629030012
          ],
          "sizemode": "area"
         },
         "name": "68 - 72",
         "text": [
          "AUS",
          "AZA",
          "BPT",
          "BQK",
          "CLL",
          "DAB",
          "DRT",
          "ECP",
          "GNV",
          "HOU",
          "IAH",
          "JAX",
          "LCH",
          "LFT",
          "MSY",
          "PHX",
          "PSP",
          "SAT",
          "TUS"
         ],
         "type": "scattergeo"
        },
        {
         "lat": [
          25.90679931640625,
          27.77039909362793,
          26.072599411010746,
          26.228500366210934,
          27.543800354003906,
          28.429399490356445,
          26.17580032,
          28.10280036926269,
          26.68320083618164,
          26.92020035,
          27.91020012,
          26.53619956970215,
          28.7775993347168,
          27.39539909362793,
          27.975500106811523,
          32.65660095
         ],
         "locationmode": "USA-states",
         "lon": [
          -97.4259033203125,
          -97.5011978149414,
          -80.15270233154297,
          -97.65440368652344,
          -99.46160125732422,
          -81.30899810791016,
          -98.23860168,
          -80.64530181884766,
          -80.09559631347656,
          -81.99050140000001,
          -82.68740082,
          -81.75520324707031,
          -81.23750305175781,
          -82.55439758300781,
          -82.533203125,
          -114.6060028
         ],
         "marker": {
          "color": "#ffef63",
          "line": {
           "color": "rgb(40,40,40)",
           "width": 0
          },
          "size": [
           239.81793253624247,
           228.04050648224717,
           245.00473818981015,
           239.81793253624247,
           227.4129483638127,
           226.18303526423014,
           240.41272657620434,
           227.61709377583347,
           240.342157791802,
           234.28332358812048,
           229.81228703348987,
           239.2004556727223,
           225.3261285964876,
           231.12032985866094,
           226.8458777748653,
           228.49416295340464
          ],
          "sizemode": "area"
         },
         "name": "72 - 76",
         "text": [
          "BRO",
          "CRP",
          "FLL",
          "HRL",
          "LRD",
          "MCO",
          "MFE",
          "MLB",
          "PBI",
          "PGD",
          "PIE",
          "RSW",
          "SFB",
          "SRQ",
          "TPA",
          "YUM"
         ],
         "type": "scattergeo"
        },
        {
         "lat": [
          24.556100845336914,
          25.79319953918457
         ],
         "locationmode": "USA-states",
         "lon": [
          -81.75959777832031,
          -80.29060363769531
         ],
         "marker": {
          "color": "#fffff6",
          "line": {
           "color": "rgb(40,40,40)",
           "width": 0
          },
          "size": [
           249.99999999999997,
           247.53009254592016
          ],
          "sizemode": "area"
         },
         "name": "76 - 80",
         "text": [
          "EYW",
          "MIA"
         ],
         "type": "scattergeo"
        }
       ],
       "layout": {
        "geo": {
         "landcolor": "rgb(217, 217, 217)",
         "scope": "usa"
        },
        "showlegend": true,
        "template": {
         "data": {
          "bar": [
           {
            "error_x": {
             "color": "#2a3f5f"
            },
            "error_y": {
             "color": "#2a3f5f"
            },
            "marker": {
             "line": {
              "color": "#E5ECF6",
              "width": 0.5
             }
            },
            "type": "bar"
           }
          ],
          "barpolar": [
           {
            "marker": {
             "line": {
              "color": "#E5ECF6",
              "width": 0.5
             }
            },
            "type": "barpolar"
           }
          ],
          "carpet": [
           {
            "aaxis": {
             "endlinecolor": "#2a3f5f",
             "gridcolor": "white",
             "linecolor": "white",
             "minorgridcolor": "white",
             "startlinecolor": "#2a3f5f"
            },
            "baxis": {
             "endlinecolor": "#2a3f5f",
             "gridcolor": "white",
             "linecolor": "white",
             "minorgridcolor": "white",
             "startlinecolor": "#2a3f5f"
            },
            "type": "carpet"
           }
          ],
          "choropleth": [
           {
            "colorbar": {
             "outlinewidth": 0,
             "ticks": ""
            },
            "type": "choropleth"
           }
          ],
          "contour": [
           {
            "colorbar": {
             "outlinewidth": 0,
             "ticks": ""
            },
            "colorscale": [
             [
              0,
              "#0d0887"
             ],
             [
              0.1111111111111111,
              "#46039f"
             ],
             [
              0.2222222222222222,
              "#7201a8"
             ],
             [
              0.3333333333333333,
              "#9c179e"
             ],
             [
              0.4444444444444444,
              "#bd3786"
             ],
             [
              0.5555555555555556,
              "#d8576b"
             ],
             [
              0.6666666666666666,
              "#ed7953"
             ],
             [
              0.7777777777777778,
              "#fb9f3a"
             ],
             [
              0.8888888888888888,
              "#fdca26"
             ],
             [
              1,
              "#f0f921"
             ]
            ],
            "type": "contour"
           }
          ],
          "contourcarpet": [
           {
            "colorbar": {
             "outlinewidth": 0,
             "ticks": ""
            },
            "type": "contourcarpet"
           }
          ],
          "heatmap": [
           {
            "colorbar": {
             "outlinewidth": 0,
             "ticks": ""
            },
            "colorscale": [
             [
              0,
              "#0d0887"
             ],
             [
              0.1111111111111111,
              "#46039f"
             ],
             [
              0.2222222222222222,
              "#7201a8"
             ],
             [
              0.3333333333333333,
              "#9c179e"
             ],
             [
              0.4444444444444444,
              "#bd3786"
             ],
             [
              0.5555555555555556,
              "#d8576b"
             ],
             [
              0.6666666666666666,
              "#ed7953"
             ],
             [
              0.7777777777777778,
              "#fb9f3a"
             ],
             [
              0.8888888888888888,
              "#fdca26"
             ],
             [
              1,
              "#f0f921"
             ]
            ],
            "type": "heatmap"
           }
          ],
          "heatmapgl": [
           {
            "colorbar": {
             "outlinewidth": 0,
             "ticks": ""
            },
            "colorscale": [
             [
              0,
              "#0d0887"
             ],
             [
              0.1111111111111111,
              "#46039f"
             ],
             [
              0.2222222222222222,
              "#7201a8"
             ],
             [
              0.3333333333333333,
              "#9c179e"
             ],
             [
              0.4444444444444444,
              "#bd3786"
             ],
             [
              0.5555555555555556,
              "#d8576b"
             ],
             [
              0.6666666666666666,
              "#ed7953"
             ],
             [
              0.7777777777777778,
              "#fb9f3a"
             ],
             [
              0.8888888888888888,
              "#fdca26"
             ],
             [
              1,
              "#f0f921"
             ]
            ],
            "type": "heatmapgl"
           }
          ],
          "histogram": [
           {
            "marker": {
             "colorbar": {
              "outlinewidth": 0,
              "ticks": ""
             }
            },
            "type": "histogram"
           }
          ],
          "histogram2d": [
           {
            "colorbar": {
             "outlinewidth": 0,
             "ticks": ""
            },
            "colorscale": [
             [
              0,
              "#0d0887"
             ],
             [
              0.1111111111111111,
              "#46039f"
             ],
             [
              0.2222222222222222,
              "#7201a8"
             ],
             [
              0.3333333333333333,
              "#9c179e"
             ],
             [
              0.4444444444444444,
              "#bd3786"
             ],
             [
              0.5555555555555556,
              "#d8576b"
             ],
             [
              0.6666666666666666,
              "#ed7953"
             ],
             [
              0.7777777777777778,
              "#fb9f3a"
             ],
             [
              0.8888888888888888,
              "#fdca26"
             ],
             [
              1,
              "#f0f921"
             ]
            ],
            "type": "histogram2d"
           }
          ],
          "histogram2dcontour": [
           {
            "colorbar": {
             "outlinewidth": 0,
             "ticks": ""
            },
            "colorscale": [
             [
              0,
              "#0d0887"
             ],
             [
              0.1111111111111111,
              "#46039f"
             ],
             [
              0.2222222222222222,
              "#7201a8"
             ],
             [
              0.3333333333333333,
              "#9c179e"
             ],
             [
              0.4444444444444444,
              "#bd3786"
             ],
             [
              0.5555555555555556,
              "#d8576b"
             ],
             [
              0.6666666666666666,
              "#ed7953"
             ],
             [
              0.7777777777777778,
              "#fb9f3a"
             ],
             [
              0.8888888888888888,
              "#fdca26"
             ],
             [
              1,
              "#f0f921"
             ]
            ],
            "type": "histogram2dcontour"
           }
          ],
          "mesh3d": [
           {
            "colorbar": {
             "outlinewidth": 0,
             "ticks": ""
            },
            "type": "mesh3d"
           }
          ],
          "parcoords": [
           {
            "line": {
             "colorbar": {
              "outlinewidth": 0,
              "ticks": ""
             }
            },
            "type": "parcoords"
           }
          ],
          "pie": [
           {
            "automargin": true,
            "type": "pie"
           }
          ],
          "scatter": [
           {
            "marker": {
             "colorbar": {
              "outlinewidth": 0,
              "ticks": ""
             }
            },
            "type": "scatter"
           }
          ],
          "scatter3d": [
           {
            "line": {
             "colorbar": {
              "outlinewidth": 0,
              "ticks": ""
             }
            },
            "marker": {
             "colorbar": {
              "outlinewidth": 0,
              "ticks": ""
             }
            },
            "type": "scatter3d"
           }
          ],
          "scattercarpet": [
           {
            "marker": {
             "colorbar": {
              "outlinewidth": 0,
              "ticks": ""
             }
            },
            "type": "scattercarpet"
           }
          ],
          "scattergeo": [
           {
            "marker": {
             "colorbar": {
              "outlinewidth": 0,
              "ticks": ""
             }
            },
            "type": "scattergeo"
           }
          ],
          "scattergl": [
           {
            "marker": {
             "colorbar": {
              "outlinewidth": 0,
              "ticks": ""
             }
            },
            "type": "scattergl"
           }
          ],
          "scattermapbox": [
           {
            "marker": {
             "colorbar": {
              "outlinewidth": 0,
              "ticks": ""
             }
            },
            "type": "scattermapbox"
           }
          ],
          "scatterpolar": [
           {
            "marker": {
             "colorbar": {
              "outlinewidth": 0,
              "ticks": ""
             }
            },
            "type": "scatterpolar"
           }
          ],
          "scatterpolargl": [
           {
            "marker": {
             "colorbar": {
              "outlinewidth": 0,
              "ticks": ""
             }
            },
            "type": "scatterpolargl"
           }
          ],
          "scatterternary": [
           {
            "marker": {
             "colorbar": {
              "outlinewidth": 0,
              "ticks": ""
             }
            },
            "type": "scatterternary"
           }
          ],
          "surface": [
           {
            "colorbar": {
             "outlinewidth": 0,
             "ticks": ""
            },
            "colorscale": [
             [
              0,
              "#0d0887"
             ],
             [
              0.1111111111111111,
              "#46039f"
             ],
             [
              0.2222222222222222,
              "#7201a8"
             ],
             [
              0.3333333333333333,
              "#9c179e"
             ],
             [
              0.4444444444444444,
              "#bd3786"
             ],
             [
              0.5555555555555556,
              "#d8576b"
             ],
             [
              0.6666666666666666,
              "#ed7953"
             ],
             [
              0.7777777777777778,
              "#fb9f3a"
             ],
             [
              0.8888888888888888,
              "#fdca26"
             ],
             [
              1,
              "#f0f921"
             ]
            ],
            "type": "surface"
           }
          ],
          "table": [
           {
            "cells": {
             "fill": {
              "color": "#EBF0F8"
             },
             "line": {
              "color": "white"
             }
            },
            "header": {
             "fill": {
              "color": "#C8D4E3"
             },
             "line": {
              "color": "white"
             }
            },
            "type": "table"
           }
          ]
         },
         "layout": {
          "annotationdefaults": {
           "arrowcolor": "#2a3f5f",
           "arrowhead": 0,
           "arrowwidth": 1
          },
          "coloraxis": {
           "colorbar": {
            "outlinewidth": 0,
            "ticks": ""
           }
          },
          "colorscale": {
           "diverging": [
            [
             0,
             "#8e0152"
            ],
            [
             0.1,
             "#c51b7d"
            ],
            [
             0.2,
             "#de77ae"
            ],
            [
             0.3,
             "#f1b6da"
            ],
            [
             0.4,
             "#fde0ef"
            ],
            [
             0.5,
             "#f7f7f7"
            ],
            [
             0.6,
             "#e6f5d0"
            ],
            [
             0.7,
             "#b8e186"
            ],
            [
             0.8,
             "#7fbc41"
            ],
            [
             0.9,
             "#4d9221"
            ],
            [
             1,
             "#276419"
            ]
           ],
           "sequential": [
            [
             0,
             "#0d0887"
            ],
            [
             0.1111111111111111,
             "#46039f"
            ],
            [
             0.2222222222222222,
             "#7201a8"
            ],
            [
             0.3333333333333333,
             "#9c179e"
            ],
            [
             0.4444444444444444,
             "#bd3786"
            ],
            [
             0.5555555555555556,
             "#d8576b"
            ],
            [
             0.6666666666666666,
             "#ed7953"
            ],
            [
             0.7777777777777778,
             "#fb9f3a"
            ],
            [
             0.8888888888888888,
             "#fdca26"
            ],
            [
             1,
             "#f0f921"
            ]
           ],
           "sequentialminus": [
            [
             0,
             "#0d0887"
            ],
            [
             0.1111111111111111,
             "#46039f"
            ],
            [
             0.2222222222222222,
             "#7201a8"
            ],
            [
             0.3333333333333333,
             "#9c179e"
            ],
            [
             0.4444444444444444,
             "#bd3786"
            ],
            [
             0.5555555555555556,
             "#d8576b"
            ],
            [
             0.6666666666666666,
             "#ed7953"
            ],
            [
             0.7777777777777778,
             "#fb9f3a"
            ],
            [
             0.8888888888888888,
             "#fdca26"
            ],
            [
             1,
             "#f0f921"
            ]
           ]
          },
          "colorway": [
           "#636efa",
           "#EF553B",
           "#00cc96",
           "#ab63fa",
           "#FFA15A",
           "#19d3f3",
           "#FF6692",
           "#B6E880",
           "#FF97FF",
           "#FECB52"
          ],
          "font": {
           "color": "#2a3f5f"
          },
          "geo": {
           "bgcolor": "white",
           "lakecolor": "white",
           "landcolor": "#E5ECF6",
           "showlakes": true,
           "showland": true,
           "subunitcolor": "white"
          },
          "hoverlabel": {
           "align": "left"
          },
          "hovermode": "closest",
          "mapbox": {
           "style": "light"
          },
          "paper_bgcolor": "white",
          "plot_bgcolor": "#E5ECF6",
          "polar": {
           "angularaxis": {
            "gridcolor": "white",
            "linecolor": "white",
            "ticks": ""
           },
           "bgcolor": "#E5ECF6",
           "radialaxis": {
            "gridcolor": "white",
            "linecolor": "white",
            "ticks": ""
           }
          },
          "scene": {
           "xaxis": {
            "backgroundcolor": "#E5ECF6",
            "gridcolor": "white",
            "gridwidth": 2,
            "linecolor": "white",
            "showbackground": true,
            "ticks": "",
            "zerolinecolor": "white"
           },
           "yaxis": {
            "backgroundcolor": "#E5ECF6",
            "gridcolor": "white",
            "gridwidth": 2,
            "linecolor": "white",
            "showbackground": true,
            "ticks": "",
            "zerolinecolor": "white"
           },
           "zaxis": {
            "backgroundcolor": "#E5ECF6",
            "gridcolor": "white",
            "gridwidth": 2,
            "linecolor": "white",
            "showbackground": true,
            "ticks": "",
            "zerolinecolor": "white"
           }
          },
          "shapedefaults": {
           "line": {
            "color": "#2a3f5f"
           }
          },
          "ternary": {
           "aaxis": {
            "gridcolor": "white",
            "linecolor": "white",
            "ticks": ""
           },
           "baxis": {
            "gridcolor": "white",
            "linecolor": "white",
            "ticks": ""
           },
           "bgcolor": "#E5ECF6",
           "caxis": {
            "gridcolor": "white",
            "linecolor": "white",
            "ticks": ""
           }
          },
          "title": {
           "x": 0.05
          },
          "xaxis": {
           "automargin": true,
           "gridcolor": "white",
           "linecolor": "white",
           "ticks": "",
           "title": {
            "standoff": 15
           },
           "zerolinecolor": "white",
           "zerolinewidth": 2
          },
          "yaxis": {
           "automargin": true,
           "gridcolor": "white",
           "linecolor": "white",
           "ticks": "",
           "title": {
            "standoff": 15
           },
           "zerolinecolor": "white",
           "zerolinewidth": 2
          }
         }
        },
        "title": {
         "text": "United States temperature average"
        }
       }
      },
      "text/html": [
       "<div>\n",
       "        \n",
       "        \n",
       "            <div id=\"2b267a84-a1e1-42e8-a5c2-29bf5c72b627\" class=\"plotly-graph-div\" style=\"height:525px; width:100%;\"></div>\n",
       "            <script type=\"text/javascript\">\n",
       "                require([\"plotly\"], function(Plotly) {\n",
       "                    window.PLOTLYENV=window.PLOTLYENV || {};\n",
       "                    \n",
       "                if (document.getElementById(\"2b267a84-a1e1-42e8-a5c2-29bf5c72b627\")) {\n",
       "                    Plotly.newPlot(\n",
       "                        '2b267a84-a1e1-42e8-a5c2-29bf5c72b627',\n",
       "                        [{\"lat\": [43.6072998046875], \"locationmode\": \"USA-states\", \"lon\": [-110.73799896240234], \"marker\": {\"color\": \"#00000a\", \"line\": {\"color\": \"rgb(40,40,40)\", \"width\": 0}, \"size\": [0.0], \"sizemode\": \"area\"}, \"name\": \"32 - 36\", \"text\": [\"JAC\"], \"type\": \"scattergeo\"}, {\"lat\": [39.22320175, 47.50939941, 44.520198822, 46.8420982361, 48.11420059, 39.64260101, 38.53390121, 47.38660049, 48.566200256347656], \"locationmode\": \"USA-states\", \"lon\": [-106.8690033, -94.93370056, -109.024002075, -92.19360351559999, -98.90879822, -106.9179993, -106.9329987, -92.83899689, -93.4030990600586], \"marker\": {\"color\": \"#1b0080\", \"line\": {\"color\": \"rgb(40,40,40)\", \"width\": 0}, \"size\": [17.59683045345478, 21.997298223682915, 22.536645361614706, 18.18406355223088, 19.95332378974531, 26.634675484404273, 19.92308002500147, 18.18406355223088, 17.743008649716714], \"sizemode\": \"area\"}, \"name\": \"36 - 40\", \"text\": [\"ASE\", \"BJI\", \"COD\", \"DLH\", \"DVL\", \"EGE\", \"GUC\", \"HIB\", \"INL\"], \"type\": \"scattergeo\"}, {\"lat\": [45.44910049438477, 44.80739974975586, 46.77270126342773, 46.39830017, 45.95479965209961, 45.77750015, 46.25080108642578, 47.16839981079102, 44.7775993347, 45.7226982117, 46.92070007324219, 48.31050109863281, 47.949298999999996, 47.48199844, 40.48120117, 46.6068000793457, 43.51459884643555, 45.8184013367, 48.177898407, 46.92969894, 41.31209945678711, 48.2593994140625, 46.3535995483, 46.91630173, 44.6509017944336, 45.57089996, 45.63119888305664, 41.59420013, 45.54660034179688, 43.50439835, 44.68840027], \"locationmode\": \"USA-states\", \"lon\": [-98.42179870605469, -68.82810211181639, -100.74600219726562, -94.13809967, -112.49700164794922, -111.15299990000001, -84.47239685058594, -88.48909759521484, -89.6668014526, -87.0936965942, -96.81580352783205, -114.25599670410156, -97.176102, -111.3710022, -107.21800230000001, -111.98300170898438, -112.0709991455078, -88.11450195309999, -103.64199829100001, -98.67819977, -105.6750030517578, -101.27999877929688, -87.39540100100001, -114.0910034, -73.46810150146484, -84.79669952, -89.46749877929688, -109.0650024, -94.05989837646484, -114.2959976, -111.11799620000001], \"marker\": {\"color\": \"#5f009a\", \"line\": {\"color\": \"rgb(40,40,40)\", \"width\": 0}, \"size\": [46.92824162751789, 44.25166844768836, 36.584874085126025, 37.151944674073114, 27.05052724963189, 27.990604270419574, 35.45577353468942, 32.69855031554334, 44.31215597717586, 43.32923362300128, 38.442345303143334, 29.95644897876904, 28.759299957658776, 48.29677198217612, 28.792064036131187, 34.89626388692854, 41.2172107183904, 34.44512772949989, 31.771074863398937, 32.14408129523983, 35.566667338750406, 29.81531140996443, 29.931245841482358, 37.744218400306416, 48.08758594269837, 50.358388612214505, 30.228642861463513, 41.98338609190076, 45.64288162590487, 43.11248664233728, 27.990604270419574], \"sizemode\": \"area\"}, \"name\": \"40 - 44\", \"text\": [\"ABR\", \"BGR\", \"BIS\", \"BRD\", \"BTM\", \"BZN\", \"CIU\", \"CMX\", \"CWA\", \"ESC\", \"FAR\", \"FCA\", \"GFK\", \"GTF\", \"HDN\", \"HLN\", \"IDA\", \"IMT\", \"ISN\", \"JMS\", \"LAR\", \"MOT\", \"MQT\", \"MSO\", \"PBG\", \"PLN\", \"RHI\", \"RKS\", \"STC\", \"SUN\", \"WYS\"], \"type\": \"scattergeo\"}, {\"lat\": [42.74829864501953, 42.55709838867188, 45.07809829999999, 43.99190139770508, 44.258098602299995, 41.338500976599995, 42.20869827, 45.807701110839844, 48.79280090332031, 44.471900939899996, 42.94049835, 42.90800095, 41.15570068, 42.40200043, 37.1515007019, 44.86579895019531, 40.82490158081055, 42.1599006652832, 43.5820007324, 44.3488998413, 47.61989974975586, 44.48509979248047, 42.49100112915039, 43.879002, 42.93259811401367, 42.94720077514648, 43.16949844, 37.62409973, 43.13990020751953, 44.8819999695, 41.195899963379, 44.681900024399994, 42.9098014831543, 43.0778999329, 40.219200134277, 43.64619827, 44.0452995300293, 44.254100799999996, 43.90829849243164, 47.44900131225586, 43.11119842529297, 44.74140167236328, 40.4408989], \"locationmode\": \"USA-states\", \"lon\": [-73.80169677734375, -92.40029907226562, -83.56030273, -76.02169799804688, -88.51909637450001, -75.72339630130001, -75.97979736, -108.54299926757812, -122.53800201416016, -73.15329742429998, -78.73220062, -106.4639969, -104.81199649999999, -90.70950317, -107.75399780299999, -91.48429870605469, -115.79199981689452, -76.8916015625, -96.741897583, -105.539001465, -117.53399658203124, -88.12960052490234, -76.4583969116211, -91.256699, -71.43569946289062, -87.89659881591797, -86.23819733, -118.83799740000002, -89.3375015258789, -93.22180175780001, -112.0120010376, -75.46549987790002, -112.59600067138672, -70.8233032227, -111.72299957275, -70.30930328, -103.05699920654295, -121.15000149999999, -92.5, -122.30899810791016, -76.1063003540039, -85.58219909667969, -109.5100021], \"marker\": {\"color\": \"#9f009b\", \"line\": {\"color\": \"rgb(40,40,40)\", \"width\": 0}, \"size\": [74.32909248543257, 71.96251789422764, 54.209427989596364, 59.95322297719592, 58.66030203439717, 72.068371070831, 68.68863036070732, 67.44863600621008, 55.61072242272722, 55.08397685343875, 74.03421577918034, 53.01731959594343, 64.95352541484382, 72.6404822872349, 60.064116781257034, 52.334314575478444, 60.696715527148655, 69.9739903623203, 62.89190878480544, 58.31753936730067, 69.84545436215909, 57.604290582091856, 67.59733451620055, 63.27499647156064, 69.75724338165634, 73.86535475936064, 75.37502268282383, 56.76502611045003, 69.00114926306041, 58.87452870133268, 67.16888118232961, 51.23293747605676, 59.23493356453004, 75.29941327096383, 71.17365969715888, 61.29150956711088, 65.24588180736747, 54.07333104824908, 54.950400225819955, 74.74242393693179, 69.70935742081177, 59.035828779966465, 66.72782627981509], \"sizemode\": \"area\"}, \"name\": \"44 - 48\", \"text\": [\"ALB\", \"ALO\", \"APN\", \"ART\", \"ATW\", \"AVP\", \"BGM\", \"BIL\", \"BLI\", \"BTV\", \"BUF\", \"CPR\", \"CYS\", \"DBQ\", \"DRO\", \"EAU\", \"EKO\", \"ELM\", \"FSD\", \"GCC\", \"GEG\", \"GRB\", \"ITH\", \"LSE\", \"MHT\", \"MKE\", \"MKG\", \"MMH\", \"MSN\", \"MSP\", \"OGD\", \"OGS\", \"PIH\", \"PSM\", \"PVU\", \"PWM\", \"RAP\", \"RDM\", \"RST\", \"SEA\", \"SYR\", \"TVC\", \"VEL\"], \"type\": \"scattergeo\"}, {\"lat\": [40.652099609375, 41.25310135, 42.234901428222656, 41.9388999939, 41.87400055, 40.47710037, 42.36429977, 40.916099548339844, 37.70100021362305, 41.88470077514648, 41.411701202399996, 38.75500107, 38.805801391602, 39.861698150635, 41.53400039672852, 42.212398529052734, 40.727, 42.0831270134, 44.12459945678711, 42.96540069580078, 40.97850037, 39.1223983765, 40.96749877929688, 42.88079834, 41.26369858, 41.66930008, 43.1072998046875, 42.77870178222656, 40.27590179, 41.12620163, 40.85100173950195, 37.8582992554, 46.3745002746582, 43.532901763916016, 40.1935005188, 41.7859992980957, 42.37419891357422, 41.44850158691406, 38.5097999573, 41.393100738499996, 41.303199768066406, 41.97859955, 42.26729965209961, 45.58869934, 40.664199829100006, 40.49150085, 46.26470184326172, 41.73260116577149, 42.19540023803711, 39.49909973144531, 43.118900299072266, 35.617099761999995, 41.70869827270508, 40.8493003845, 40.78839874267578, 42.40259933, 41.50410079956055, 41.58679962, 42.48180008, 41.26070023], \"locationmode\": \"USA-states\", \"lon\": [-75.44080352783203, -70.06020355, -85.5521011352539, -72.68319702149999, -103.5960007, -88.91590118, -71.00520325, -81.44219970703125, -113.0989990234375, -91.71080017089844, -81.8498001099, -109.7549973, -104.70099639893, -104.672996521, -93.66310119628906, -83.35340118408203, -99.0068, -80.1738667488, -123.21199798583984, -83.74359893798828, -85.19509888, -108.527000427, -98.30960083007812, -85.52279663, -72.88680267, -70.28040314, -78.94619750976562, -84.58740234375, -79.40480042, -100.6839981, -96.75920104980469, -80.3994979858, -117.01499938964844, -84.07959747314453, -76.7633972168, -87.75240325927734, -122.8730010986328, -90.50749969482422, -107.89399719200001, -70.6143035889, -95.89409637451172, -87.90480042, -71.87570190429688, -122.59799960000001, -89.6932983398, -80.23290253, -119.11900329589844, -71.42040252685547, -89.09719848632812, -119.76799774169922, -77.67240142822266, -106.08899688700001, -86.31729888916016, -77.84870147710002, -111.97799682617188, -96.38439941, -74.10479736328125, -83.80780029, -114.487999, -80.67910004], \"marker\": {\"color\": \"#c40c8d\", \"line\": {\"color\": \"rgb(40,40,40)\", \"width\": 0}, \"size\": [99.15418271266422, 92.41738411597505, 81.21710990584127, 89.09056999415309, 81.11125672923765, 96.61874710163936, 92.11746678226527, 92.51315603766366, 84.83376010645823, 76.90485311611585, 93.15331572474145, 98.7584934572657, 78.46492731415205, 94.89989313869786, 87.03399399157207, 89.61731556344148, 90.13397987781534, 76.5116841744456, 88.56382442486456, 76.62005766477832, 90.83714740810959, 76.47892009597358, 91.96120733108852, 75.52120087908533, 92.4425872532613, 93.76323164707557, 79.90150613948424, 75.87908542855402, 92.34933564530117, 87.32635038409578, 98.30987761356533, 91.24543823215133, 82.17482912272916, 76.36046535072686, 99.51710788959033, 88.7755307780712, 92.22584027259721, 89.94999697562349, 77.58281750912359, 96.84557533721826, 94.04550678468465, 88.7755307780712, 76.11347460531888, 98.21662600560516, 98.0578462407003, 98.8945903986129, 99.26255620299634, 88.77049015061418, 78.81273060870592, 85.17904308728369, 79.31679335443681, 88.48569469927638, 85.13115712643891, 80.90207068975951, 85.72343085267255, 78.12468496078391, 87.41456136459857, 94.68062584430501, 76.47892009597349, 87.76236465915308], \"sizemode\": \"area\"}, \"name\": \"48 - 52\", \"text\": [\"ABE\", \"ACK\", \"AZO\", \"BDL\", \"BFF\", \"BMI\", \"BOS\", \"CAK\", \"CDC\", \"CID\", \"CLE\", \"CNY\", \"COS\", \"DEN\", \"DSM\", \"DTW\", \"EAR\", \"ERI\", \"EUG\", \"FNT\", \"FWA\", \"GJT\", \"GRI\", \"GRR\", \"HVN\", \"HYA\", \"IAG\", \"LAN\", \"LBE\", \"LBF\", \"LNK\", \"LWB\", \"LWS\", \"MBS\", \"MDT\", \"MDW\", \"MFR\", \"MLI\", \"MTJ\", \"MVY\", \"OMA\", \"ORD\", \"ORH\", \"PDX\", \"PIA\", \"PIT\", \"PSC\", \"PVD\", \"RFD\", \"RNO\", \"ROC\", \"SAF\", \"SBN\", \"SCE\", \"SLC\", \"SUX\", \"SWF\", \"TOL\", \"TWF\", \"YNG\"], \"type\": \"scattergeo\"}, {\"lat\": [35.04019927978516, 40.97809982299805, 39.45759963989258, 35.43619918823242, 43.56439972, 39.17539978, 39.2966003418, 39.99800109863281, 40.03919983, 38.81809997558594, 38.37310028076172, 39.0488014221, 39.90240097045898, 40.69250106811523, 35.13850021, 37.9275016785, 39.707901, 41.06700134277344, 38.36669922, 38.84220123, 38.94449997, 39.7173, 40.79520035, 40.63980103, 39.813801, 38.0364990234375, 40.77719879, 39.2976, 39.14099884033203, 43.41709899902344, 39.87189865112305, 38.289100646972656, 40.50899887, 38.2638015747, 39.84410095, 40.27669906616211, 39.94269943], \"locationmode\": \"USA-states\", \"lon\": [-106.60900115966795, -124.10900115966795, -74.57720184326172, -82.54180145263672, -116.22299960000001, -76.66829681, -80.2281036377, -82.89189910888672, -88.27809906, -92.21959686279295, -81.59320068359375, -84.6678009033, -84.21939849853516, -74.168701171875, -111.6709976, -100.72399902299999, -77.72949982, -73.70760345458984, -82.55799866, -99.27320099, -77.45580292, -86.294403, -73.10019684, -73.77890015, -82.927803, -84.60590362548828, -73.87259674, -94.713898, -96.6707992553711, -124.24600219726562, -75.24109649658203, -104.49700164794922, -122.2929993, -78.8964004517, -89.67790222, -74.8134994506836, -91.19460297], \"marker\": {\"color\": \"#dd314e\", \"line\": {\"color\": \"rgb(40,40,40)\", \"width\": 0}, \"size\": [113.8173679859669, 114.95150916386079, 118.40181865838689, 114.16517128052098, 100.29084420428683, 117.33068532370916, 106.79577393794001, 104.97862773958111, 100.5353146359659, 117.20971026473373, 120.46595560215358, 114.68183559489493, 106.0800048390025, 109.79242696130832, 109.68657378470479, 118.10190132467685, 110.58128515837653, 101.38718067625067, 122.81488799725787, 116.57459120511324, 119.51579732645125, 102.7380688348086, 103.65042240458085, 113.50232876988537, 104.97862773958111, 120.59953222977194, 119.27888783595785, 120.05766477811179, 115.04728108554954, 105.38187793616558, 120.98766054398456, 105.35667479887894, 121.94285944714385, 106.35219872169688, 107.32756013468543, 112.98818476924033, 106.41016593745589], \"sizemode\": \"area\"}, \"name\": \"52 - 56\", \"text\": [\"ABQ\", \"ACV\", \"ACY\", \"AVL\", \"BOI\", \"BWI\", \"CKB\", \"CMH\", \"CMI\", \"COU\", \"CRW\", \"CVG\", \"DAY\", \"EWR\", \"FLG\", \"GCK\", \"HGR\", \"HPN\", \"HTS\", \"HYS\", \"IAD\", \"IND\", \"ISP\", \"JFK\", \"LCK\", \"LEX\", \"LGA\", \"MCI\", \"MHK\", \"OTH\", \"PHL\", \"PUB\", \"RDD\", \"SHD\", \"SPI\", \"TTN\", \"UIN\"], \"type\": \"scattergeo\"}, {\"lat\": [33.36989974975586, 35.219398498535156, 36.531994, 38.5452, 36.1245002746582, 37.22529983520508, 35.03530120849609, 38.13859939575195, 38.8521, 38.0369987488, 36.77619934082031, 36.097801208496094, 37.649898529052734, 37.151798248291016, 37.04420089999999, 37.326698303222656, 36.58700180053711, 37.72129821777344, 37.74010086, 37.06079864501953, 37.50519943237305, 37.3255004883, 33.30160140991211, 34.42620087, 35.2368011475, 38.1744, 37.61899948120117, 37.24570084, 37.0363888889, 37.36259841918945, 38.79100036621094, 34.89889908, 38.74869918823242, 38.50899887, 36.47520065307617, 35.81100082, 36.281898], \"locationmode\": \"USA-states\", \"lon\": [-81.9645004272461, -101.70600128173828, -93.200556, -89.835197, -86.6781997680664, -89.57080078125, -85.20379638671875, -78.4529037475586, -77.037697, -87.53240203860001, -119.71800231933594, -79.93730163574219, -97.43309783935548, -94.49829864501952, -100.95999909999999, -79.20040130615234, -121.84300231933594, -122.22100067138672, -87.16680145, -88.7738037109375, -77.3197021484375, -79.975402832, -104.53099822998048, -119.8399963, -120.64199829100001, -85.736, -122.375, -93.38860321, -113.510305556, -121.9290008544922, -97.6521987915039, -120.4570007, -90.37000274658205, -122.8130035, -82.40740203857422, -83.99400329999999, -94.30680100000001], \"marker\": {\"color\": \"#ed5907\", \"line\": {\"color\": \"rgb(40,40,40)\", \"width\": 0}, \"size\": [126.7490977276849, 140.90317962780048, 131.73931891041826, 127.26576204205905, 144.64332520112148, 130.9025747525051, 146.65453555658615, 129.24672863278033, 129.5416053390324, 129.55420690767588, 125.53178619674584, 143.11853539528627, 132.8608585196687, 134.14621852128147, 127.55307780712539, 127.04397443393742, 142.53634292396723, 145.1851926527819, 131.1117607919834, 138.4332721737204, 139.18684597858777, 129.52144282920355, 147.64753916567543, 142.2389459039863, 148.08607375446115, 127.99665302336808, 131.41419843942185, 125.32260015726749, 127.88323890557908, 140.77968425509613, 124.64967639171734, 142.2389459039863, 128.27640784724863, 132.88102102949816, 127.55307780712548, 141.28374700082693, 136.94124644635784], \"sizemode\": \"area\"}, \"name\": \"56 - 60\", \"text\": [\"AGS\", \"AMA\", \"BKG\", \"BLV\", \"BNA\", \"CGI\", \"CHA\", \"CHO\", \"DCA\", \"EVV\", \"FAT\", \"GSO\", \"ICT\", \"JLN\", \"LBL\", \"LYH\", \"MRY\", \"OAK\", \"OWB\", \"PAH\", \"RIC\", \"ROA\", \"ROW\", \"SBA\", \"SBP\", \"SDF\", \"SFO\", \"SGF\", \"SGU\", \"SJC\", \"SLN\", \"SMX\", \"STL\", \"STS\", \"TRI\", \"TYS\", \"XNA\"], \"type\": \"scattergeo\"}, {\"lat\": [33.63669967651367, 35.43360138, 33.56290054, 34.200698852539055, 33.93880081176758, 35.2140007019043, 35.0730018616, 34.991199493408196, 35.33660125732422, 34.895698547399995, 33.450298309299995, 32.6875, 34.637199401855, 35.1574, 34.27059936523437, 34.5676994324, 33.94250107, 33.66360092163086, 33.81769943, 34.729400634799994, 35.04240036010742, 33.6796989441, 34.8292007446, 35.39310073852539, 36.89459991455078, 35.6352005, 37.13190079, 34.65449905, 35.877601623535156, 32.7336006165, 37.894199371338, 38.69540023803711, 36.19839859008789], \"locationmode\": \"USA-states\", \"lon\": [-84.4281005859375, -119.0569992, -86.75350189, -118.35900115966795, -81.11949920654297, -80.94309997558594, -77.04290008539998, -78.88030242919922, -94.36740112304688, -82.2189025879, -88.59140014649999, -103.21700290000001, -86.775100708008, -114.56, -77.90260314941406, -98.4166030884, -118.40799709999999, -101.822998046875, -118.15200039999999, -92.22429656979999, -89.97669982910156, -78.9282989502, -77.61209869380002, -97.60070037841795, -76.20120239257812, -77.38529968, -76.49299622, -112.41999820000001, -78.7874984741211, -117.190002441, -121.2379989624, -121.59100341796876, -95.88809967041016], \"marker\": {\"color\": \"#f57f00\", \"line\": {\"color\": \"rgb(40,40,40)\", \"width\": 0}, \"size\": [158.10936145331397, 163.75738451922498, 165.0402242071093, 162.50982922354186, 170.58995503760315, 152.6251587797651, 163.94892836260271, 161.95788051696704, 155.9872572937879, 151.6649192491482, 169.31971691836196, 156.06538701937603, 152.92507611347466, 168.12508821098075, 169.75825150714766, 161.6604834969857, 162.50982922354186, 155.07994435147296, 162.50982922354186, 160.91195031957577, 160.2516281226685, 172.05425731395084, 164.48071455934868, 154.67165352743132, 154.27092364457542, 158.25805996330436, 150.7752485029338, 150.41988426719348, 150.34931548279133, 169.41800915377948, 162.4644635764262, 162.19479000746034, 150.7576063068335], \"sizemode\": \"area\"}, \"name\": \"60 - 64\", \"text\": [\"ATL\", \"BFL\", \"BHM\", \"BUR\", \"CAE\", \"CLT\", \"EWN\", \"FAY\", \"FSM\", \"GSP\", \"GTR\", \"HOB\", \"HSV\", \"IFP\", \"ILM\", \"LAW\", \"LAX\", \"LBB\", \"LGB\", \"LIT\", \"MEM\", \"MYR\", \"OAJ\", \"OKC\", \"ORF\", \"PGV\", \"PHF\", \"PRC\", \"RDU\", \"SAN\", \"SCK\", \"SMF\", \"TUL\"], \"type\": \"scattergeo\"}, {\"lat\": [32.4113006592, 31.535499572753906, 31.61129951477051, 31.32740020751953, 30.53319931, 32.89860153, 32.516300201416016, 32.84709930419922, 32.896800994873054, 31.3213005065918, 31.80719948, 34.18539810180664, 32.38399887084961, 30.40730094909668, 31.067199706999997, 32.2243995667, 32.3111991882, 36.08010101, 31.9424991607666, 32.33259963989258, 32.30059814, 32.51089859008789, 30.691200256348, 34.05599975585937, 31.467100143432614, 30.473400115967003, 32.12760162, 32.44660186767578, 31.35770034790039, 33.67570114, 33.98880005, 30.396499633789066, 33.45370101928711, 32.35409927368164, 30.78249931335449, 30.4832], \"locationmode\": \"USA-states\", \"lon\": [-99.68190002440001, -84.19450378417969, -97.23049926757812, -92.54979705810548, -91.14959717, -80.04049683, -84.93890380859375, -96.85179901123048, -97.03800201416016, -85.44960021972656, -106.37799840000002, -79.7238998413086, -94.71150207519531, -89.07009887695312, -97.8289031982, -80.6975021362, -90.0758972168, -115.15200039999999, -102.2020034790039, -88.75189971923828, -86.39399719, -92.0376968383789, -88.242797851562, -117.60099792480469, -89.33709716796875, -87.18659973144501, -81.20210266, -93.82559967041016, -100.49600219726562, -117.86799620000001, -98.49189758, -84.35030364990234, -93.99099731445312, -95.40239715576172, -83.27670288085938, -86.525398], \"marker\": {\"color\": \"#fdaa00\", \"line\": {\"color\": \"rgb(40,40,40)\", \"width\": 0}, \"size\": [175.60285904389374, 188.29263866766144, 190.01905357178856, 190.92888682783232, 196.00479867733966, 185.35143254632362, 176.1195233582678, 186.82833639131417, 186.82833639131417, 190.73986329818362, 174.95765872935885, 173.07246406032658, 183.01006109240498, 191.67742000524228, 192.5192047906126, 190.1702723955081, 180.66868963848617, 179.78910014718664, 179.09601387180683, 174.23936931669286, 179.6454422646531, 179.13129826400785, 192.39822973163692, 191.56400588745325, 185.46736697784146, 194.6715527148821, 192.54692824162777, 183.10331270036525, 181.29876807064952, 176.60846422162666, 172.66165292255627, 196.84154283525245, 174.4233522188843, 182.14055285601958, 190.75750549428395, 191.87652478980598], \"sizemode\": \"area\"}, \"name\": \"64 - 68\", \"text\": [\"ABI\", \"ABY\", \"ACT\", \"AEX\", \"BTR\", \"CHS\", \"CSG\", \"DAL\", \"DFW\", \"DHN\", \"ELP\", \"FLO\", \"GGG\", \"GPT\", \"GRK\", \"HHH\", \"JAN\", \"LAS\", \"MAF\", \"MEI\", \"MGM\", \"MLU\", \"MOB\", \"ONT\", \"PIB\", \"PNS\", \"SAV\", \"SHV\", \"SJT\", \"SNA\", \"SPS\", \"TLH\", \"TXK\", \"TYR\", \"VLD\", \"VPS\"], \"type\": \"scattergeo\"}, {\"lat\": [30.194499969482425, 33.30780029, 29.9507999420166, 31.2588005065918, 30.58860016, 29.179899, 29.3742008209, 30.357105999999998, 29.6900997162, 29.64539909, 29.98439979553223, 30.49410057067871, 30.12610054016113, 30.20529938, 29.99340057373047, 33.43429946899414, 33.829700469970696, 29.533700942993164, 32.116100311279304], \"locationmode\": \"USA-states\", \"lon\": [-97.6698989868164, -111.65499879999999, -94.02069854736328, -81.46649932861328, -96.36380005, -81.058098, -100.92700195299999, -85.79541400000001, -82.27179718020001, -95.27890015, -95.34140014648438, -81.68789672851562, -93.22329711914062, -91.98760223, -90.25800323486328, -112.01200103759766, -116.50700378417969, -98.46980285644531, -110.94100189208984], \"marker\": {\"color\": \"#fed005\", \"line\": {\"color\": \"rgb(40,40,40)\", \"width\": 0}, \"size\": [198.82250942597352, 218.2717704699884, 204.50581688408576, 197.45649938504374, 197.6908885618082, 220.84249047321418, 200.04738189809882, 199.263564328488, 207.467185515253, 208.62148920297648, 208.62148920297648, 205.94239570941812, 200.21624291791875, 200.71274472246347, 205.66516119926624, 218.2717704699884, 202.4920862148922, 206.69092888682792, 200.08266629030012], \"sizemode\": \"area\"}, \"name\": \"68 - 72\", \"text\": [\"AUS\", \"AZA\", \"BPT\", \"BQK\", \"CLL\", \"DAB\", \"DRT\", \"ECP\", \"GNV\", \"HOU\", \"IAH\", \"JAX\", \"LCH\", \"LFT\", \"MSY\", \"PHX\", \"PSP\", \"SAT\", \"TUS\"], \"type\": \"scattergeo\"}, {\"lat\": [25.90679931640625, 27.77039909362793, 26.072599411010746, 26.228500366210934, 27.543800354003906, 28.429399490356445, 26.17580032, 28.10280036926269, 26.68320083618164, 26.92020035, 27.91020012, 26.53619956970215, 28.7775993347168, 27.39539909362793, 27.975500106811523, 32.65660095], \"locationmode\": \"USA-states\", \"lon\": [-97.4259033203125, -97.5011978149414, -80.15270233154297, -97.65440368652344, -99.46160125732422, -81.30899810791016, -98.23860168, -80.64530181884766, -80.09559631347656, -81.99050140000001, -82.68740082, -81.75520324707031, -81.23750305175781, -82.55439758300781, -82.533203125, -114.6060028], \"marker\": {\"color\": \"#ffef63\", \"line\": {\"color\": \"rgb(40,40,40)\", \"width\": 0}, \"size\": [239.81793253624247, 228.04050648224717, 245.00473818981015, 239.81793253624247, 227.4129483638127, 226.18303526423014, 240.41272657620434, 227.61709377583347, 240.342157791802, 234.28332358812048, 229.81228703348987, 239.2004556727223, 225.3261285964876, 231.12032985866094, 226.8458777748653, 228.49416295340464], \"sizemode\": \"area\"}, \"name\": \"72 - 76\", \"text\": [\"BRO\", \"CRP\", \"FLL\", \"HRL\", \"LRD\", \"MCO\", \"MFE\", \"MLB\", \"PBI\", \"PGD\", \"PIE\", \"RSW\", \"SFB\", \"SRQ\", \"TPA\", \"YUM\"], \"type\": \"scattergeo\"}, {\"lat\": [24.556100845336914, 25.79319953918457], \"locationmode\": \"USA-states\", \"lon\": [-81.75959777832031, -80.29060363769531], \"marker\": {\"color\": \"#fffff6\", \"line\": {\"color\": \"rgb(40,40,40)\", \"width\": 0}, \"size\": [249.99999999999997, 247.53009254592016], \"sizemode\": \"area\"}, \"name\": \"76 - 80\", \"text\": [\"EYW\", \"MIA\"], \"type\": \"scattergeo\"}],\n",
       "                        {\"geo\": {\"landcolor\": \"rgb(217, 217, 217)\", \"scope\": \"usa\"}, \"showlegend\": true, \"template\": {\"data\": {\"bar\": [{\"error_x\": {\"color\": \"#2a3f5f\"}, \"error_y\": {\"color\": \"#2a3f5f\"}, \"marker\": {\"line\": {\"color\": \"#E5ECF6\", \"width\": 0.5}}, \"type\": \"bar\"}], \"barpolar\": [{\"marker\": {\"line\": {\"color\": \"#E5ECF6\", \"width\": 0.5}}, \"type\": \"barpolar\"}], \"carpet\": [{\"aaxis\": {\"endlinecolor\": \"#2a3f5f\", \"gridcolor\": \"white\", \"linecolor\": \"white\", \"minorgridcolor\": \"white\", \"startlinecolor\": \"#2a3f5f\"}, \"baxis\": {\"endlinecolor\": \"#2a3f5f\", \"gridcolor\": \"white\", \"linecolor\": \"white\", \"minorgridcolor\": \"white\", \"startlinecolor\": \"#2a3f5f\"}, \"type\": \"carpet\"}], \"choropleth\": [{\"colorbar\": {\"outlinewidth\": 0, \"ticks\": \"\"}, \"type\": \"choropleth\"}], \"contour\": [{\"colorbar\": {\"outlinewidth\": 0, \"ticks\": \"\"}, \"colorscale\": [[0.0, \"#0d0887\"], [0.1111111111111111, \"#46039f\"], [0.2222222222222222, \"#7201a8\"], [0.3333333333333333, \"#9c179e\"], [0.4444444444444444, \"#bd3786\"], [0.5555555555555556, \"#d8576b\"], [0.6666666666666666, \"#ed7953\"], [0.7777777777777778, \"#fb9f3a\"], [0.8888888888888888, \"#fdca26\"], [1.0, \"#f0f921\"]], \"type\": \"contour\"}], \"contourcarpet\": [{\"colorbar\": {\"outlinewidth\": 0, \"ticks\": \"\"}, \"type\": \"contourcarpet\"}], \"heatmap\": [{\"colorbar\": {\"outlinewidth\": 0, \"ticks\": \"\"}, \"colorscale\": [[0.0, \"#0d0887\"], [0.1111111111111111, \"#46039f\"], [0.2222222222222222, \"#7201a8\"], [0.3333333333333333, \"#9c179e\"], [0.4444444444444444, \"#bd3786\"], [0.5555555555555556, \"#d8576b\"], [0.6666666666666666, \"#ed7953\"], [0.7777777777777778, \"#fb9f3a\"], [0.8888888888888888, \"#fdca26\"], [1.0, \"#f0f921\"]], \"type\": \"heatmap\"}], \"heatmapgl\": [{\"colorbar\": {\"outlinewidth\": 0, \"ticks\": \"\"}, \"colorscale\": [[0.0, \"#0d0887\"], [0.1111111111111111, \"#46039f\"], [0.2222222222222222, \"#7201a8\"], [0.3333333333333333, \"#9c179e\"], [0.4444444444444444, \"#bd3786\"], [0.5555555555555556, \"#d8576b\"], [0.6666666666666666, \"#ed7953\"], [0.7777777777777778, \"#fb9f3a\"], [0.8888888888888888, \"#fdca26\"], [1.0, \"#f0f921\"]], \"type\": \"heatmapgl\"}], \"histogram\": [{\"marker\": {\"colorbar\": {\"outlinewidth\": 0, \"ticks\": \"\"}}, \"type\": \"histogram\"}], \"histogram2d\": [{\"colorbar\": {\"outlinewidth\": 0, \"ticks\": \"\"}, \"colorscale\": [[0.0, \"#0d0887\"], [0.1111111111111111, \"#46039f\"], [0.2222222222222222, \"#7201a8\"], [0.3333333333333333, \"#9c179e\"], [0.4444444444444444, \"#bd3786\"], [0.5555555555555556, \"#d8576b\"], [0.6666666666666666, \"#ed7953\"], [0.7777777777777778, \"#fb9f3a\"], [0.8888888888888888, \"#fdca26\"], [1.0, \"#f0f921\"]], \"type\": \"histogram2d\"}], \"histogram2dcontour\": [{\"colorbar\": {\"outlinewidth\": 0, \"ticks\": \"\"}, \"colorscale\": [[0.0, \"#0d0887\"], [0.1111111111111111, \"#46039f\"], [0.2222222222222222, \"#7201a8\"], [0.3333333333333333, \"#9c179e\"], [0.4444444444444444, \"#bd3786\"], [0.5555555555555556, \"#d8576b\"], [0.6666666666666666, \"#ed7953\"], [0.7777777777777778, \"#fb9f3a\"], [0.8888888888888888, \"#fdca26\"], [1.0, \"#f0f921\"]], \"type\": \"histogram2dcontour\"}], \"mesh3d\": [{\"colorbar\": {\"outlinewidth\": 0, \"ticks\": \"\"}, \"type\": \"mesh3d\"}], \"parcoords\": [{\"line\": {\"colorbar\": {\"outlinewidth\": 0, \"ticks\": \"\"}}, \"type\": \"parcoords\"}], \"pie\": [{\"automargin\": true, \"type\": \"pie\"}], \"scatter\": [{\"marker\": {\"colorbar\": {\"outlinewidth\": 0, \"ticks\": \"\"}}, \"type\": \"scatter\"}], \"scatter3d\": [{\"line\": {\"colorbar\": {\"outlinewidth\": 0, \"ticks\": \"\"}}, \"marker\": {\"colorbar\": {\"outlinewidth\": 0, \"ticks\": \"\"}}, \"type\": \"scatter3d\"}], \"scattercarpet\": [{\"marker\": {\"colorbar\": {\"outlinewidth\": 0, \"ticks\": \"\"}}, \"type\": \"scattercarpet\"}], \"scattergeo\": [{\"marker\": {\"colorbar\": {\"outlinewidth\": 0, \"ticks\": \"\"}}, \"type\": \"scattergeo\"}], \"scattergl\": [{\"marker\": {\"colorbar\": {\"outlinewidth\": 0, \"ticks\": \"\"}}, \"type\": \"scattergl\"}], \"scattermapbox\": [{\"marker\": {\"colorbar\": {\"outlinewidth\": 0, \"ticks\": \"\"}}, \"type\": \"scattermapbox\"}], \"scatterpolar\": [{\"marker\": {\"colorbar\": {\"outlinewidth\": 0, \"ticks\": \"\"}}, \"type\": \"scatterpolar\"}], \"scatterpolargl\": [{\"marker\": {\"colorbar\": {\"outlinewidth\": 0, \"ticks\": \"\"}}, \"type\": \"scatterpolargl\"}], \"scatterternary\": [{\"marker\": {\"colorbar\": {\"outlinewidth\": 0, \"ticks\": \"\"}}, \"type\": \"scatterternary\"}], \"surface\": [{\"colorbar\": {\"outlinewidth\": 0, \"ticks\": \"\"}, \"colorscale\": [[0.0, \"#0d0887\"], [0.1111111111111111, \"#46039f\"], [0.2222222222222222, \"#7201a8\"], [0.3333333333333333, \"#9c179e\"], [0.4444444444444444, \"#bd3786\"], [0.5555555555555556, \"#d8576b\"], [0.6666666666666666, \"#ed7953\"], [0.7777777777777778, \"#fb9f3a\"], [0.8888888888888888, \"#fdca26\"], [1.0, \"#f0f921\"]], \"type\": \"surface\"}], \"table\": [{\"cells\": {\"fill\": {\"color\": \"#EBF0F8\"}, \"line\": {\"color\": \"white\"}}, \"header\": {\"fill\": {\"color\": \"#C8D4E3\"}, \"line\": {\"color\": \"white\"}}, \"type\": \"table\"}]}, \"layout\": {\"annotationdefaults\": {\"arrowcolor\": \"#2a3f5f\", \"arrowhead\": 0, \"arrowwidth\": 1}, \"coloraxis\": {\"colorbar\": {\"outlinewidth\": 0, \"ticks\": \"\"}}, \"colorscale\": {\"diverging\": [[0, \"#8e0152\"], [0.1, \"#c51b7d\"], [0.2, \"#de77ae\"], [0.3, \"#f1b6da\"], [0.4, \"#fde0ef\"], [0.5, \"#f7f7f7\"], [0.6, \"#e6f5d0\"], [0.7, \"#b8e186\"], [0.8, \"#7fbc41\"], [0.9, \"#4d9221\"], [1, \"#276419\"]], \"sequential\": [[0.0, \"#0d0887\"], [0.1111111111111111, \"#46039f\"], [0.2222222222222222, \"#7201a8\"], [0.3333333333333333, \"#9c179e\"], [0.4444444444444444, \"#bd3786\"], [0.5555555555555556, \"#d8576b\"], [0.6666666666666666, \"#ed7953\"], [0.7777777777777778, \"#fb9f3a\"], [0.8888888888888888, \"#fdca26\"], [1.0, \"#f0f921\"]], \"sequentialminus\": [[0.0, \"#0d0887\"], [0.1111111111111111, \"#46039f\"], [0.2222222222222222, \"#7201a8\"], [0.3333333333333333, \"#9c179e\"], [0.4444444444444444, \"#bd3786\"], [0.5555555555555556, \"#d8576b\"], [0.6666666666666666, \"#ed7953\"], [0.7777777777777778, \"#fb9f3a\"], [0.8888888888888888, \"#fdca26\"], [1.0, \"#f0f921\"]]}, \"colorway\": [\"#636efa\", \"#EF553B\", \"#00cc96\", \"#ab63fa\", \"#FFA15A\", \"#19d3f3\", \"#FF6692\", \"#B6E880\", \"#FF97FF\", \"#FECB52\"], \"font\": {\"color\": \"#2a3f5f\"}, \"geo\": {\"bgcolor\": \"white\", \"lakecolor\": \"white\", \"landcolor\": \"#E5ECF6\", \"showlakes\": true, \"showland\": true, \"subunitcolor\": \"white\"}, \"hoverlabel\": {\"align\": \"left\"}, \"hovermode\": \"closest\", \"mapbox\": {\"style\": \"light\"}, \"paper_bgcolor\": \"white\", \"plot_bgcolor\": \"#E5ECF6\", \"polar\": {\"angularaxis\": {\"gridcolor\": \"white\", \"linecolor\": \"white\", \"ticks\": \"\"}, \"bgcolor\": \"#E5ECF6\", \"radialaxis\": {\"gridcolor\": \"white\", \"linecolor\": \"white\", \"ticks\": \"\"}}, \"scene\": {\"xaxis\": {\"backgroundcolor\": \"#E5ECF6\", \"gridcolor\": \"white\", \"gridwidth\": 2, \"linecolor\": \"white\", \"showbackground\": true, \"ticks\": \"\", \"zerolinecolor\": \"white\"}, \"yaxis\": {\"backgroundcolor\": \"#E5ECF6\", \"gridcolor\": \"white\", \"gridwidth\": 2, \"linecolor\": \"white\", \"showbackground\": true, \"ticks\": \"\", \"zerolinecolor\": \"white\"}, \"zaxis\": {\"backgroundcolor\": \"#E5ECF6\", \"gridcolor\": \"white\", \"gridwidth\": 2, \"linecolor\": \"white\", \"showbackground\": true, \"ticks\": \"\", \"zerolinecolor\": \"white\"}}, \"shapedefaults\": {\"line\": {\"color\": \"#2a3f5f\"}}, \"ternary\": {\"aaxis\": {\"gridcolor\": \"white\", \"linecolor\": \"white\", \"ticks\": \"\"}, \"baxis\": {\"gridcolor\": \"white\", \"linecolor\": \"white\", \"ticks\": \"\"}, \"bgcolor\": \"#E5ECF6\", \"caxis\": {\"gridcolor\": \"white\", \"linecolor\": \"white\", \"ticks\": \"\"}}, \"title\": {\"x\": 0.05}, \"xaxis\": {\"automargin\": true, \"gridcolor\": \"white\", \"linecolor\": \"white\", \"ticks\": \"\", \"title\": {\"standoff\": 15}, \"zerolinecolor\": \"white\", \"zerolinewidth\": 2}, \"yaxis\": {\"automargin\": true, \"gridcolor\": \"white\", \"linecolor\": \"white\", \"ticks\": \"\", \"title\": {\"standoff\": 15}, \"zerolinecolor\": \"white\", \"zerolinewidth\": 2}}}, \"title\": {\"text\": \"United States temperature average\"}},\n",
       "                        {\"responsive\": true}\n",
       "                    ).then(function(){\n",
       "                            \n",
       "var gd = document.getElementById('2b267a84-a1e1-42e8-a5c2-29bf5c72b627');\n",
       "var x = new MutationObserver(function (mutations, observer) {{\n",
       "        var display = window.getComputedStyle(gd).display;\n",
       "        if (!display || display === 'none') {{\n",
       "            console.log([gd, 'removed!']);\n",
       "            Plotly.purge(gd);\n",
       "            observer.disconnect();\n",
       "        }}\n",
       "}});\n",
       "\n",
       "// Listen for the removal of the full notebook cells\n",
       "var notebookContainer = gd.closest('#notebook-container');\n",
       "if (notebookContainer) {{\n",
       "    x.observe(notebookContainer, {childList: true});\n",
       "}}\n",
       "\n",
       "// Listen for the clearing of the current output cell\n",
       "var outputEl = gd.closest('.output');\n",
       "if (outputEl) {{\n",
       "    x.observe(outputEl, {childList: true});\n",
       "}}\n",
       "\n",
       "                        })\n",
       "                };\n",
       "                });\n",
       "            </script>\n",
       "        </div>"
      ]
     },
     "metadata": {},
     "output_type": "display_data"
    }
   ],
   "source": [
    "fig = generate_bubble_map(airport_prop_df,\n",
    "                          column=\"temp_avg\",\n",
    "                          limits=[(32,36),(36,40),(40,44),(44,48),(48,52),(52,56),(56,60),(60,64),(64,68),(68,72),(72,76),(76,80)],\n",
    "                          color=\"thermal\",\n",
    "                          title='United States temperature average')\n",
    "fig.show()"
   ]
  },
  {
   "cell_type": "markdown",
   "metadata": {},
   "source": [
    "## Analysis"
   ]
  },
  {
   "cell_type": "code",
   "execution_count": null,
   "metadata": {},
   "outputs": [],
   "source": []
  },
  {
   "cell_type": "markdown",
   "metadata": {},
   "source": [
    "# Ethics & Privacy"
   ]
  },
  {
   "cell_type": "markdown",
   "metadata": {},
   "source": [
    "Ethics here"
   ]
  },
  {
   "cell_type": "markdown",
   "metadata": {},
   "source": [
    "# Conclusion"
   ]
  },
  {
   "cell_type": "markdown",
   "metadata": {},
   "source": [
    "Conclusion here"
   ]
  }
 ],
 "metadata": {
  "kernelspec": {
   "display_name": "Python 3",
   "language": "python",
   "name": "python3"
  },
  "language_info": {
   "codemirror_mode": {
    "name": "ipython",
    "version": 3
   },
   "file_extension": ".py",
   "mimetype": "text/x-python",
   "name": "python",
   "nbconvert_exporter": "python",
   "pygments_lexer": "ipython3",
   "version": "3.7.4"
  }
 },
 "nbformat": 4,
 "nbformat_minor": 4
}
