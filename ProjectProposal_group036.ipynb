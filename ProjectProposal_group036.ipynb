{
 "cells": [
  {
   "cell_type": "markdown",
   "metadata": {},
   "source": [
    "# COGS 108 - Final Project Proposal"
   ]
  },
  {
   "cell_type": "markdown",
   "metadata": {},
   "source": [
    "# Names\n",
    "\n",
    "- Ivan Jin\n",
    "- Hongsheng Xie\n",
    "- Tong Wang\n",
    "- Yinxuan Du\n",
    "- Yuchen Zhang"
   ]
  },
  {
   "cell_type": "markdown",
   "metadata": {},
   "source": [
    "# Group Members IDs\n",
    "\n",
    "- A14880280\n",
    "- A14794772\n",
    "- A13713688\n",
    "- A15873678\n",
    "- A16151373"
   ]
  },
  {
   "cell_type": "markdown",
   "metadata": {},
   "source": [
    "# Research Question"
   ]
  },
  {
   "cell_type": "markdown",
   "metadata": {},
   "source": [
    "We are interested to see how cities can attract more tourists to profit local citizens. Specifically, we want to find which are the top feature(s) of cities that correlates with its tourism, base on which we can give advice to increase tourists. To achieve this goal, we plan to investigate the correlation of features such as life quality, economy and tourism across multiple cities and reinforcing with correlation of tourists and feature changes of a single city across multiple years.  \n",
    " \n"
   ]
  },
  {
   "cell_type": "markdown",
   "metadata": {},
   "source": [
    "## Background and Prior Work"
   ]
  },
  {
   "cell_type": "markdown",
   "metadata": {},
   "source": [
    "\n",
    "Nowadays, tourism, especially urban tourism is flourishing around the world. A thriving tourism industry can benefit a city and its citizens. Our team hopes that we can help facilitate urban tourism with data science knowledge. Therefore, we have raised the research question stated in the previous section. By analyzing authentic data, we aim to evaluate the correlations between the multidimensional features of a city and its tourism and to eventually find those features that are most correlated to the tourism of a city. Our hypothesis is proposed on the basis of the observation and the experience in daily life which needs to be tested later in this academic quarter.\n",
    "\n",
    "There are other researchers who have already made some progress on the topic. In Factors That Influence Tourist Attraction, a research report done by Armindo Frias, Joao Cabral and Alvaro Costa, the authors point out that tourist attraction is influenced by factors including socioeconomic environment (eg. Politics), support facilities (eg. Tourism services), leisure (eg. Recreation), nature (eg. Natural environment) and culture (eg. History and art).\n",
    "\n",
    "In the research paper Factors Influencing Visitor’s Choices to Visit Urban Destinations completed by Global Insight, Inc, it is shown that tourism infrastructure (such as hotels, restaurants and attractions) and environment (such as climate and cleanliness) are both positively correlated with the overall development of urban tourism.\n",
    "\n",
    "\n",
    "References (include links):\n",
    "- 1) Factors That Influence Tourist Attraction, Armindo Frias, Joao Cabral and Alvaro Costa //\n",
    "https://www.researchgate.net/figure/Factors-that-influence-tourist-attraction_fig1_283504617\n",
    "- 2) Factors Influencing Visitor’s Choices to Visit Urban Destinations, Global Insight, Inc. // https://www.creativecity.ca/database/files/library/factors_influencing_visitors_report.pdf"
   ]
  },
  {
   "cell_type": "markdown",
   "metadata": {},
   "source": [
    "# Hypothesis\n"
   ]
  },
  {
   "cell_type": "markdown",
   "metadata": {},
   "source": [
    "We hypothesis that for a given city, the number of tourists annually correlates with the following: positively with local life quality of cities that includes food quality (rating), scenic spot quality (rating); negatively with expenses that includes traffic cost, living(hotel) cost, and food price; positive with popularity on the internet that includes number of YouTube vlogs about that destination. "
   ]
  },
  {
   "cell_type": "markdown",
   "metadata": {},
   "source": [
    "# Data"
   ]
  },
  {
   "cell_type": "markdown",
   "metadata": {},
   "source": [
    "An ideal dataset for our research needs to cover enough amounts of cities. The dataset needs to have comprehensive data to show the relationship between tourism and plenty of features, which might affect tourism. The dataset should have variables including country GDP, developing or developed, population, city GDP, and conditions of weather, traffic, catering, sport, art, residence, etc. It is also essential for the dataset to contain similar features of different cities. Otherwise, we cannot effectively compare the data of different objects. \n",
    "\n",
    "The dataset should be easily accessed online, and it should be strictly authorized. It is better if the dataset is digital, and the dataset will be input into excel, and then be used in Python.\n",
    "\n",
    "The number of observations is partially depending on the completeness and coverage range of the dataset. We need the dataset to cover most of the variables of each observation. Under that situation, the number of observations should be over 20 if possible. \n",
    "\n",
    "The observations are the cities in America. It is proper to choose not only the large prosperous cities, but with high diversity."
   ]
  },
  {
   "cell_type": "markdown",
   "metadata": {},
   "source": [
    "# Ethics & Privacy"
   ]
  },
  {
   "cell_type": "markdown",
   "metadata": {},
   "source": [
    "When utilizing data to explore ways to attract tourists, we, with considerations of human rights, should permit the privacy of information from individuals and social groups. Thus, we ensure that we only analyze official statistical data available to the public. We also maintain the confidentiality of private data, including personal income, private consumption and transportation records, infernal information within companies, etc.\n",
    " \n",
    "Besides, when doing research, we conceive the principal of justice, ensuring the fairness in distribution of data sources. We guarantee that social groups, either divided by age, position or competence are treated equally. We will not exclude data from some classes of individuals simply because of their lack of availability rather than reasons directly related to the research question."
   ]
  },
  {
   "cell_type": "markdown",
   "metadata": {},
   "source": [
    "# Team Expectations "
   ]
  },
  {
   "cell_type": "markdown",
   "metadata": {},
   "source": [
    "* Commit to the project\n",
    "* Respect teammates’ ideas\n",
    "* Comply with deadline and meeting times\n",
    "* Actively seek feedback for improvement\n",
    "* Trust and support each other"
   ]
  },
  {
   "cell_type": "markdown",
   "metadata": {},
   "source": [
    "# Project Timeline Proposal"
   ]
  },
  {
   "cell_type": "markdown",
   "metadata": {},
   "source": [
    "| Meeting Date  | Meeting Time| Completed Before Meeting  | Discuss at Meeting |\n",
    "|---|---|---|---|\n",
    "| 1/28  |  8 PM | Read & Think about COGS 108 expectations; Brainstorm topics/questions; Do background research on topic  | Determine best form of communication; Discuss and decide on final project topic; Discuss hypothesis; Draft project proposal | \n",
    "| 2/1  | 10 AM  | Edit, finalize, and submit proposal; Search for datasets  | Discuss Wrangling and possible analytical approaches; Assign group members to lead each specific part   |\n",
    "| 2/15  | 5 PM  | Import & Wrangle Data (Hongsheng); EDA (Tong) | Review/Edit wrangling/EDA; Discuss Analysis Plan   |\n",
    "| 2/21  | 1 PM  | Finalize wrangling/EDA; Begin Analysis (Yinxuan; Yuchen) | Discuss/edit Analysis; Complete project check-in |\n",
    "| 3/14  | 1 PM  | Complete analysis; Draft results/conclusion/discussion (Ivan)| Discuss/edit full project |\n",
    "| 3/19  | 10 AM  | Review final project | Turn in Final Project & Group Project Surveys |"
   ]
  }
 ],
 "metadata": {
  "kernelspec": {
   "display_name": "Python 3",
   "language": "python",
   "name": "python3"
  },
  "language_info": {
   "codemirror_mode": {
    "name": "ipython",
    "version": 3
   },
   "file_extension": ".py",
   "mimetype": "text/x-python",
   "name": "python",
   "nbconvert_exporter": "python",
   "pygments_lexer": "ipython3",
   "version": "3.6.7"
  }
 },
 "nbformat": 4,
 "nbformat_minor": 2
}
